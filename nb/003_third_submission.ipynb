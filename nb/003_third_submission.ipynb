{
 "cells": [
  {
   "cell_type": "code",
   "execution_count": 40,
   "id": "21beb498-f353-4003-8eb7-c59e06787203",
   "metadata": {},
   "outputs": [],
   "source": [
    "import numpy as np\n",
    "import pandas as pd\n",
    "import matplotlib.pyplot as plt\n",
    "import seaborn as sns\n",
    "%matplotlib inline \n",
    "\n",
    "from scipy import stats\n",
    "from scipy.stats import rankdata, norm\n",
    "\n",
    "from sklearn.preprocessing import LabelEncoder, OneHotEncoder, StandardScaler, MinMaxScaler, RobustScaler\n",
    "from sklearn.model_selection import train_test_split, KFold\n",
    "from sklearn.ensemble import RandomForestRegressor, ExtraTreesRegressor\n",
    "\n",
    "from sklearn.linear_model import Ridge, Lasso, ElasticNet\n",
    "from sklearn.svm import SVR, NuSVR, LinearSVR\n",
    "from sklearn.neighbors import KNeighborsRegressor\n",
    "from sklearn.metrics import *\n",
    "\n",
    "from sklearn.experimental import enable_iterative_imputer\n",
    "from sklearn.impute import SimpleImputer, IterativeImputer\n",
    "import time, os, warnings, random, string, re, gc, sys\n",
    "\n",
    "import category_encoders as ce\n",
    "\n",
    "import lightgbm as lgb\n",
    "import catboost as cb\n",
    "\n",
    "import optuna.integration.lightgbm as lgbo\n",
    "from lightgbm import LGBMRegressor\n",
    "import warnings\n",
    "\n",
    "pd.set_option('display.max_rows', None)\n",
    "pd.set_option('display.max_columns', None)\n",
    "warnings.filterwarnings('ignore')"
   ]
  },
  {
   "cell_type": "code",
   "execution_count": 3,
   "id": "5c5bd3b9-710f-43a4-b10a-779a2e6246d3",
   "metadata": {},
   "outputs": [],
   "source": [
    "train_df = pd.read_csv('../data/original/train.csv')\n",
    "test_df = pd.read_csv('../data/original/test.csv')"
   ]
  },
  {
   "cell_type": "code",
   "execution_count": 4,
   "id": "3142dcc4-e904-4543-9b34-37827b9654d0",
   "metadata": {},
   "outputs": [],
   "source": [
    "# カテゴリ変数と数値変数を抜き出せるようにする\n",
    "cat_features = [\"cat\" + str(i) for i in range(10)]\n",
    "num_features = [\"cont\" + str(i) for i in range(14)]"
   ]
  },
  {
   "cell_type": "code",
   "execution_count": 6,
   "id": "554cae2e-c47e-4999-a0d7-7000c43bfe56",
   "metadata": {},
   "outputs": [],
   "source": [
    "train = train_df.copy()\n",
    "test = test_df.copy()"
   ]
  },
  {
   "cell_type": "code",
   "execution_count": 7,
   "id": "9e272208-c702-4e0a-8135-faaee66008c8",
   "metadata": {},
   "outputs": [],
   "source": [
    "# Encoding categorical features with OrdinalEncoder\n",
    "for col in cat_features:\n",
    "    encoder = OrdinalEncoder()\n",
    "    train[col] = encoder.fit_transform(np.array(train[col]).reshape(-1, 1))\n",
    "    test[col] = encoder.transform(np.array(test[col]).reshape(-1, 1))"
   ]
  },
  {
   "cell_type": "code",
   "execution_count": 8,
   "id": "6fdb3cdd-de83-4782-b79b-89dcce627f33",
   "metadata": {},
   "outputs": [
    {
     "data": {
      "text/html": [
       "<div>\n",
       "<style scoped>\n",
       "    .dataframe tbody tr th:only-of-type {\n",
       "        vertical-align: middle;\n",
       "    }\n",
       "\n",
       "    .dataframe tbody tr th {\n",
       "        vertical-align: top;\n",
       "    }\n",
       "\n",
       "    .dataframe thead th {\n",
       "        text-align: right;\n",
       "    }\n",
       "</style>\n",
       "<table border=\"1\" class=\"dataframe\">\n",
       "  <thead>\n",
       "    <tr style=\"text-align: right;\">\n",
       "      <th></th>\n",
       "      <th>cat0</th>\n",
       "      <th>cat1</th>\n",
       "      <th>cat2</th>\n",
       "      <th>cat3</th>\n",
       "      <th>cat4</th>\n",
       "      <th>cat5</th>\n",
       "      <th>cat6</th>\n",
       "      <th>cat7</th>\n",
       "      <th>cat8</th>\n",
       "      <th>cat9</th>\n",
       "    </tr>\n",
       "  </thead>\n",
       "  <tbody>\n",
       "    <tr>\n",
       "      <th>0</th>\n",
       "      <td>1.0</td>\n",
       "      <td>1.0</td>\n",
       "      <td>1.0</td>\n",
       "      <td>2.0</td>\n",
       "      <td>1.0</td>\n",
       "      <td>1.0</td>\n",
       "      <td>0.0</td>\n",
       "      <td>4.0</td>\n",
       "      <td>2.0</td>\n",
       "      <td>13.0</td>\n",
       "    </tr>\n",
       "    <tr>\n",
       "      <th>1</th>\n",
       "      <td>1.0</td>\n",
       "      <td>1.0</td>\n",
       "      <td>0.0</td>\n",
       "      <td>0.0</td>\n",
       "      <td>1.0</td>\n",
       "      <td>3.0</td>\n",
       "      <td>0.0</td>\n",
       "      <td>5.0</td>\n",
       "      <td>0.0</td>\n",
       "      <td>14.0</td>\n",
       "    </tr>\n",
       "    <tr>\n",
       "      <th>2</th>\n",
       "      <td>0.0</td>\n",
       "      <td>0.0</td>\n",
       "      <td>0.0</td>\n",
       "      <td>2.0</td>\n",
       "      <td>1.0</td>\n",
       "      <td>3.0</td>\n",
       "      <td>0.0</td>\n",
       "      <td>3.0</td>\n",
       "      <td>0.0</td>\n",
       "      <td>5.0</td>\n",
       "    </tr>\n",
       "    <tr>\n",
       "      <th>3</th>\n",
       "      <td>1.0</td>\n",
       "      <td>1.0</td>\n",
       "      <td>0.0</td>\n",
       "      <td>2.0</td>\n",
       "      <td>1.0</td>\n",
       "      <td>3.0</td>\n",
       "      <td>0.0</td>\n",
       "      <td>4.0</td>\n",
       "      <td>2.0</td>\n",
       "      <td>10.0</td>\n",
       "    </tr>\n",
       "    <tr>\n",
       "      <th>4</th>\n",
       "      <td>0.0</td>\n",
       "      <td>0.0</td>\n",
       "      <td>0.0</td>\n",
       "      <td>2.0</td>\n",
       "      <td>1.0</td>\n",
       "      <td>3.0</td>\n",
       "      <td>0.0</td>\n",
       "      <td>4.0</td>\n",
       "      <td>0.0</td>\n",
       "      <td>13.0</td>\n",
       "    </tr>\n",
       "  </tbody>\n",
       "</table>\n",
       "</div>"
      ],
      "text/plain": [
       "   cat0  cat1  cat2  cat3  cat4  cat5  cat6  cat7  cat8  cat9\n",
       "0   1.0   1.0   1.0   2.0   1.0   1.0   0.0   4.0   2.0  13.0\n",
       "1   1.0   1.0   0.0   0.0   1.0   3.0   0.0   5.0   0.0  14.0\n",
       "2   0.0   0.0   0.0   2.0   1.0   3.0   0.0   3.0   0.0   5.0\n",
       "3   1.0   1.0   0.0   2.0   1.0   3.0   0.0   4.0   2.0  10.0\n",
       "4   0.0   0.0   0.0   2.0   1.0   3.0   0.0   4.0   0.0  13.0"
      ]
     },
     "execution_count": 8,
     "metadata": {},
     "output_type": "execute_result"
    }
   ],
   "source": [
    "train[cat_features].head()"
   ]
  },
  {
   "cell_type": "code",
   "execution_count": 9,
   "id": "b5a53329-ccbd-43cc-932c-fcaf3b202b27",
   "metadata": {},
   "outputs": [
    {
     "data": {
      "text/html": [
       "<div>\n",
       "<style scoped>\n",
       "    .dataframe tbody tr th:only-of-type {\n",
       "        vertical-align: middle;\n",
       "    }\n",
       "\n",
       "    .dataframe tbody tr th {\n",
       "        vertical-align: top;\n",
       "    }\n",
       "\n",
       "    .dataframe thead th {\n",
       "        text-align: right;\n",
       "    }\n",
       "</style>\n",
       "<table border=\"1\" class=\"dataframe\">\n",
       "  <thead>\n",
       "    <tr style=\"text-align: right;\">\n",
       "      <th></th>\n",
       "      <th>cat0</th>\n",
       "      <th>cat1</th>\n",
       "      <th>cat2</th>\n",
       "      <th>cat3</th>\n",
       "      <th>cat4</th>\n",
       "      <th>cat5</th>\n",
       "      <th>cat6</th>\n",
       "      <th>cat7</th>\n",
       "      <th>cat8</th>\n",
       "      <th>cat9</th>\n",
       "    </tr>\n",
       "  </thead>\n",
       "  <tbody>\n",
       "    <tr>\n",
       "      <th>0</th>\n",
       "      <td>1.0</td>\n",
       "      <td>1.0</td>\n",
       "      <td>1.0</td>\n",
       "      <td>2.0</td>\n",
       "      <td>1.0</td>\n",
       "      <td>1.0</td>\n",
       "      <td>0.0</td>\n",
       "      <td>4.0</td>\n",
       "      <td>4.0</td>\n",
       "      <td>8.0</td>\n",
       "    </tr>\n",
       "    <tr>\n",
       "      <th>1</th>\n",
       "      <td>0.0</td>\n",
       "      <td>1.0</td>\n",
       "      <td>0.0</td>\n",
       "      <td>2.0</td>\n",
       "      <td>1.0</td>\n",
       "      <td>2.0</td>\n",
       "      <td>0.0</td>\n",
       "      <td>4.0</td>\n",
       "      <td>2.0</td>\n",
       "      <td>7.0</td>\n",
       "    </tr>\n",
       "    <tr>\n",
       "      <th>2</th>\n",
       "      <td>1.0</td>\n",
       "      <td>0.0</td>\n",
       "      <td>0.0</td>\n",
       "      <td>0.0</td>\n",
       "      <td>1.0</td>\n",
       "      <td>1.0</td>\n",
       "      <td>0.0</td>\n",
       "      <td>4.0</td>\n",
       "      <td>3.0</td>\n",
       "      <td>10.0</td>\n",
       "    </tr>\n",
       "    <tr>\n",
       "      <th>3</th>\n",
       "      <td>1.0</td>\n",
       "      <td>1.0</td>\n",
       "      <td>0.0</td>\n",
       "      <td>2.0</td>\n",
       "      <td>1.0</td>\n",
       "      <td>3.0</td>\n",
       "      <td>0.0</td>\n",
       "      <td>4.0</td>\n",
       "      <td>0.0</td>\n",
       "      <td>13.0</td>\n",
       "    </tr>\n",
       "    <tr>\n",
       "      <th>4</th>\n",
       "      <td>1.0</td>\n",
       "      <td>1.0</td>\n",
       "      <td>0.0</td>\n",
       "      <td>2.0</td>\n",
       "      <td>1.0</td>\n",
       "      <td>2.0</td>\n",
       "      <td>0.0</td>\n",
       "      <td>4.0</td>\n",
       "      <td>2.0</td>\n",
       "      <td>5.0</td>\n",
       "    </tr>\n",
       "  </tbody>\n",
       "</table>\n",
       "</div>"
      ],
      "text/plain": [
       "   cat0  cat1  cat2  cat3  cat4  cat5  cat6  cat7  cat8  cat9\n",
       "0   1.0   1.0   1.0   2.0   1.0   1.0   0.0   4.0   4.0   8.0\n",
       "1   0.0   1.0   0.0   2.0   1.0   2.0   0.0   4.0   2.0   7.0\n",
       "2   1.0   0.0   0.0   0.0   1.0   1.0   0.0   4.0   3.0  10.0\n",
       "3   1.0   1.0   0.0   2.0   1.0   3.0   0.0   4.0   0.0  13.0\n",
       "4   1.0   1.0   0.0   2.0   1.0   2.0   0.0   4.0   2.0   5.0"
      ]
     },
     "execution_count": 9,
     "metadata": {},
     "output_type": "execute_result"
    }
   ],
   "source": [
    "test[cat_features].head()"
   ]
  },
  {
   "cell_type": "code",
   "execution_count": 10,
   "id": "8dd4a57a-d880-4c7f-bb6a-0519cba132eb",
   "metadata": {},
   "outputs": [],
   "source": [
    "X = train.drop([\"id\", \"target\"], axis=1)\n",
    "X_test = test.drop([\"id\"], axis=1)\n",
    "y = train[\"target\"]"
   ]
  },
  {
   "cell_type": "code",
   "execution_count": 22,
   "id": "94150d92-4d19-45db-90a7-4c2dc927a28a",
   "metadata": {},
   "outputs": [],
   "source": [
    "train_X,valid_X,train_y,valid_y = train_test_split(X,y,test_size=0.25)"
   ]
  },
  {
   "cell_type": "code",
   "execution_count": 13,
   "id": "17f20ea6-e080-4918-8c71-f503e1170e4b",
   "metadata": {},
   "outputs": [],
   "source": [
    "dtrain = lgbo.Dataset(train_X,label=train_y)"
   ]
  },
  {
   "cell_type": "code",
   "execution_count": 23,
   "id": "9c7f3a1a-1cb4-462b-af47-035330deee9d",
   "metadata": {},
   "outputs": [],
   "source": [
    "dval = lgbo.Dataset(valid_X,label=valid_y)"
   ]
  },
  {
   "cell_type": "code",
   "execution_count": 19,
   "id": "7c48ec43-20d4-4a77-b380-fb5fa9ba4c9a",
   "metadata": {},
   "outputs": [],
   "source": [
    "params = {\n",
    " 'objective': 'regression',\n",
    " 'metric': 'rmse',\n",
    " 'feature_pre_filter': False,\n",
    " 'lambda_l1': 2.1324554005212664e-05,\n",
    " 'lambda_l2': 7.486212839933644,\n",
    " 'num_leaves': 251,\n",
    " 'feature_fraction': 1.0,\n",
    " 'bagging_fraction': 0.5337542240432858,\n",
    " 'bagging_freq': 3,\n",
    " 'min_child_samples': 20,\n",
    " 'num_iterations': 5,\n",
    "}"
   ]
  },
  {
   "cell_type": "code",
   "execution_count": 32,
   "id": "d01d6ec1-8124-4650-9bc4-2c139a13cea7",
   "metadata": {
    "collapsed": true,
    "jupyter": {
     "outputs_hidden": true
    },
    "tags": []
   },
   "outputs": [
    {
     "name": "stderr",
     "output_type": "stream",
     "text": [
      "\u001b[32m[I 2021-08-24 11:57:23,542]\u001b[0m A new study created in memory with name: no-name-cc2c89c9-be36-4059-bbf4-bd39b3f8e950\u001b[0m\n",
      "feature_fraction, val_score: inf:   0%|          | 0/7 [00:00<?, ?it/s]"
     ]
    },
    {
     "name": "stdout",
     "output_type": "stream",
     "text": [
      "[LightGBM] [Warning] Auto-choosing row-wise multi-threading, the overhead of testing was 0.008672 seconds.\n",
      "You can set `force_row_wise=true` to remove the overhead.\n",
      "And if memory is not enough, you can set `force_col_wise=true`.\n",
      "[LightGBM] [Info] Total Bins 3626\n",
      "[LightGBM] [Info] Number of data points in the train set: 225000, number of used features: 24\n",
      "[LightGBM] [Info] Start training from score 8.241327\n",
      "[100]\tvalid_0's rmse: 0.719994\n",
      "[200]\tvalid_0's rmse: 0.712431\n",
      "[300]\tvalid_0's rmse: 0.706753\n",
      "[400]\tvalid_0's rmse: 0.701333\n",
      "[500]\tvalid_0's rmse: 0.696277\n",
      "[600]\tvalid_0's rmse: 0.69151\n",
      "[700]\tvalid_0's rmse: 0.686841\n",
      "[800]\tvalid_0's rmse: 0.682207\n",
      "[900]\tvalid_0's rmse: 0.677873\n"
     ]
    },
    {
     "name": "stderr",
     "output_type": "stream",
     "text": [
      "feature_fraction, val_score: 0.673735:  14%|#4        | 1/7 [00:05<00:34,  5.73s/it]\u001b[32m[I 2021-08-24 11:57:29,279]\u001b[0m Trial 0 finished with value: 0.6737347561841951 and parameters: {'feature_fraction': 0.8999999999999999}. Best is trial 0 with value: 0.6737347561841951.\u001b[0m\n",
      "feature_fraction, val_score: 0.673735:  14%|#4        | 1/7 [00:05<00:34,  5.73s/it]"
     ]
    },
    {
     "name": "stdout",
     "output_type": "stream",
     "text": [
      "[1000]\tvalid_0's rmse: 0.673735\n",
      "[LightGBM] [Warning] Auto-choosing row-wise multi-threading, the overhead of testing was 0.007491 seconds.\n",
      "You can set `force_row_wise=true` to remove the overhead.\n",
      "And if memory is not enough, you can set `force_col_wise=true`.\n",
      "[LightGBM] [Info] Total Bins 3626\n",
      "[LightGBM] [Info] Number of data points in the train set: 225000, number of used features: 24\n",
      "[LightGBM] [Info] Start training from score 8.241327\n",
      "[100]\tvalid_0's rmse: 0.720046\n",
      "[200]\tvalid_0's rmse: 0.712673\n",
      "[300]\tvalid_0's rmse: 0.706923\n",
      "[400]\tvalid_0's rmse: 0.701547\n",
      "[500]\tvalid_0's rmse: 0.696566\n",
      "[600]\tvalid_0's rmse: 0.691676\n",
      "[700]\tvalid_0's rmse: 0.687085\n",
      "[800]\tvalid_0's rmse: 0.682699\n",
      "[900]\tvalid_0's rmse: 0.678418\n"
     ]
    },
    {
     "name": "stderr",
     "output_type": "stream",
     "text": [
      "feature_fraction, val_score: 0.673735:  29%|##8       | 2/7 [00:11<00:27,  5.48s/it]\u001b[32m[I 2021-08-24 11:57:34,587]\u001b[0m Trial 1 finished with value: 0.6743351241109874 and parameters: {'feature_fraction': 0.8}. Best is trial 0 with value: 0.6737347561841951.\u001b[0m\n",
      "feature_fraction, val_score: 0.673735:  29%|##8       | 2/7 [00:11<00:27,  5.48s/it]"
     ]
    },
    {
     "name": "stdout",
     "output_type": "stream",
     "text": [
      "[1000]\tvalid_0's rmse: 0.674335\n",
      "[LightGBM] [Warning] Auto-choosing row-wise multi-threading, the overhead of testing was 0.008946 seconds.\n",
      "You can set `force_row_wise=true` to remove the overhead.\n",
      "And if memory is not enough, you can set `force_col_wise=true`.\n",
      "[LightGBM] [Info] Total Bins 3626\n",
      "[LightGBM] [Info] Number of data points in the train set: 225000, number of used features: 24\n",
      "[LightGBM] [Info] Start training from score 8.241327\n",
      "[100]\tvalid_0's rmse: 0.720084\n",
      "[200]\tvalid_0's rmse: 0.712504\n",
      "[300]\tvalid_0's rmse: 0.706559\n",
      "[400]\tvalid_0's rmse: 0.701107\n",
      "[500]\tvalid_0's rmse: 0.695886\n",
      "[600]\tvalid_0's rmse: 0.691098\n",
      "[700]\tvalid_0's rmse: 0.686248\n",
      "[800]\tvalid_0's rmse: 0.681683\n",
      "[900]\tvalid_0's rmse: 0.677047\n"
     ]
    },
    {
     "name": "stderr",
     "output_type": "stream",
     "text": [
      "feature_fraction, val_score: 0.672849:  43%|####2     | 3/7 [00:16<00:22,  5.54s/it]\u001b[32m[I 2021-08-24 11:57:40,198]\u001b[0m Trial 2 finished with value: 0.6728494831241871 and parameters: {'feature_fraction': 1.0}. Best is trial 2 with value: 0.6728494831241871.\u001b[0m\n",
      "feature_fraction, val_score: 0.672849:  43%|####2     | 3/7 [00:16<00:22,  5.54s/it]"
     ]
    },
    {
     "name": "stdout",
     "output_type": "stream",
     "text": [
      "[1000]\tvalid_0's rmse: 0.672849\n",
      "[LightGBM] [Warning] Auto-choosing row-wise multi-threading, the overhead of testing was 0.007796 seconds.\n",
      "You can set `force_row_wise=true` to remove the overhead.\n",
      "And if memory is not enough, you can set `force_col_wise=true`.\n",
      "[LightGBM] [Info] Total Bins 3626\n",
      "[LightGBM] [Info] Number of data points in the train set: 225000, number of used features: 24\n",
      "[LightGBM] [Info] Start training from score 8.241327\n",
      "[100]\tvalid_0's rmse: 0.720294\n",
      "[200]\tvalid_0's rmse: 0.712798\n",
      "[300]\tvalid_0's rmse: 0.70699\n",
      "[400]\tvalid_0's rmse: 0.701787\n",
      "[500]\tvalid_0's rmse: 0.696783\n",
      "[600]\tvalid_0's rmse: 0.692042\n",
      "[700]\tvalid_0's rmse: 0.687512\n",
      "[800]\tvalid_0's rmse: 0.683346\n",
      "[900]\tvalid_0's rmse: 0.679158\n"
     ]
    },
    {
     "name": "stderr",
     "output_type": "stream",
     "text": [
      "feature_fraction, val_score: 0.672849:  57%|#####7    | 4/7 [00:21<00:16,  5.42s/it]\u001b[32m[I 2021-08-24 11:57:45,446]\u001b[0m Trial 3 finished with value: 0.6752602934124281 and parameters: {'feature_fraction': 0.7}. Best is trial 2 with value: 0.6728494831241871.\u001b[0m\n",
      "feature_fraction, val_score: 0.672849:  57%|#####7    | 4/7 [00:21<00:16,  5.42s/it]"
     ]
    },
    {
     "name": "stdout",
     "output_type": "stream",
     "text": [
      "[1000]\tvalid_0's rmse: 0.67526\n",
      "[LightGBM] [Warning] Auto-choosing row-wise multi-threading, the overhead of testing was 0.007649 seconds.\n",
      "You can set `force_row_wise=true` to remove the overhead.\n",
      "And if memory is not enough, you can set `force_col_wise=true`.\n",
      "[LightGBM] [Info] Total Bins 3626\n",
      "[LightGBM] [Info] Number of data points in the train set: 225000, number of used features: 24\n",
      "[LightGBM] [Info] Start training from score 8.241327\n",
      "[100]\tvalid_0's rmse: 0.720611\n",
      "[200]\tvalid_0's rmse: 0.713268\n",
      "[300]\tvalid_0's rmse: 0.708224\n",
      "[400]\tvalid_0's rmse: 0.703489\n",
      "[500]\tvalid_0's rmse: 0.698956\n",
      "[600]\tvalid_0's rmse: 0.694686\n",
      "[700]\tvalid_0's rmse: 0.690603\n",
      "[800]\tvalid_0's rmse: 0.686691\n",
      "[900]\tvalid_0's rmse: 0.682786\n"
     ]
    },
    {
     "name": "stderr",
     "output_type": "stream",
     "text": [
      "feature_fraction, val_score: 0.672849:  71%|#######1  | 5/7 [00:29<00:12,  6.35s/it]\u001b[32m[I 2021-08-24 11:57:53,443]\u001b[0m Trial 4 finished with value: 0.6790557738858507 and parameters: {'feature_fraction': 0.4}. Best is trial 2 with value: 0.6728494831241871.\u001b[0m\n",
      "feature_fraction, val_score: 0.672849:  71%|#######1  | 5/7 [00:29<00:12,  6.35s/it]"
     ]
    },
    {
     "name": "stdout",
     "output_type": "stream",
     "text": [
      "[1000]\tvalid_0's rmse: 0.679056\n",
      "[LightGBM] [Warning] Auto-choosing row-wise multi-threading, the overhead of testing was 0.010936 seconds.\n",
      "You can set `force_row_wise=true` to remove the overhead.\n",
      "And if memory is not enough, you can set `force_col_wise=true`.\n",
      "[LightGBM] [Info] Total Bins 3626\n",
      "[LightGBM] [Info] Number of data points in the train set: 225000, number of used features: 24\n",
      "[LightGBM] [Info] Start training from score 8.241327\n",
      "[100]\tvalid_0's rmse: 0.720147\n",
      "[200]\tvalid_0's rmse: 0.712901\n",
      "[300]\tvalid_0's rmse: 0.707536\n",
      "[400]\tvalid_0's rmse: 0.702749\n",
      "[500]\tvalid_0's rmse: 0.69806\n",
      "[600]\tvalid_0's rmse: 0.693404\n",
      "[700]\tvalid_0's rmse: 0.689161\n",
      "[800]\tvalid_0's rmse: 0.68486\n",
      "[900]\tvalid_0's rmse: 0.68083\n"
     ]
    },
    {
     "name": "stderr",
     "output_type": "stream",
     "text": [
      "feature_fraction, val_score: 0.672849:  86%|########5 | 6/7 [00:37<00:06,  6.69s/it]\u001b[32m[I 2021-08-24 11:58:00,790]\u001b[0m Trial 5 finished with value: 0.6769390156945851 and parameters: {'feature_fraction': 0.6}. Best is trial 2 with value: 0.6728494831241871.\u001b[0m\n",
      "feature_fraction, val_score: 0.672849:  86%|########5 | 6/7 [00:37<00:06,  6.69s/it]"
     ]
    },
    {
     "name": "stdout",
     "output_type": "stream",
     "text": [
      "[1000]\tvalid_0's rmse: 0.676939\n",
      "[LightGBM] [Warning] Auto-choosing row-wise multi-threading, the overhead of testing was 0.008032 seconds.\n",
      "You can set `force_row_wise=true` to remove the overhead.\n",
      "And if memory is not enough, you can set `force_col_wise=true`.\n",
      "[LightGBM] [Info] Total Bins 3626\n",
      "[LightGBM] [Info] Number of data points in the train set: 225000, number of used features: 24\n",
      "[LightGBM] [Info] Start training from score 8.241327\n",
      "[100]\tvalid_0's rmse: 0.720326\n",
      "[200]\tvalid_0's rmse: 0.713119\n",
      "[300]\tvalid_0's rmse: 0.707888\n",
      "[400]\tvalid_0's rmse: 0.702888\n",
      "[500]\tvalid_0's rmse: 0.698433\n",
      "[600]\tvalid_0's rmse: 0.694107\n",
      "[700]\tvalid_0's rmse: 0.690139\n",
      "[800]\tvalid_0's rmse: 0.685918\n",
      "[900]\tvalid_0's rmse: 0.681872\n"
     ]
    },
    {
     "name": "stderr",
     "output_type": "stream",
     "text": [
      "feature_fraction, val_score: 0.672849: 100%|##########| 7/7 [00:45<00:00,  7.13s/it]\u001b[32m[I 2021-08-24 11:58:08,816]\u001b[0m Trial 6 finished with value: 0.6778978422119893 and parameters: {'feature_fraction': 0.5}. Best is trial 2 with value: 0.6728494831241871.\u001b[0m\n",
      "feature_fraction, val_score: 0.672849: 100%|##########| 7/7 [00:45<00:00,  6.47s/it]\n",
      "num_leaves, val_score: 0.672849:   0%|          | 0/20 [00:00<?, ?it/s]"
     ]
    },
    {
     "name": "stdout",
     "output_type": "stream",
     "text": [
      "[1000]\tvalid_0's rmse: 0.677898\n",
      "[LightGBM] [Warning] Auto-choosing row-wise multi-threading, the overhead of testing was 0.009013 seconds.\n",
      "You can set `force_row_wise=true` to remove the overhead.\n",
      "And if memory is not enough, you can set `force_col_wise=true`.\n",
      "[LightGBM] [Info] Total Bins 3626\n",
      "[LightGBM] [Info] Number of data points in the train set: 225000, number of used features: 24\n",
      "[LightGBM] [Info] Start training from score 8.241327\n",
      "[100]\tvalid_0's rmse: 0.709549\n",
      "[200]\tvalid_0's rmse: 0.694889\n",
      "[300]\tvalid_0's rmse: 0.682646\n",
      "[400]\tvalid_0's rmse: 0.671474\n",
      "[500]\tvalid_0's rmse: 0.661229\n",
      "[600]\tvalid_0's rmse: 0.65144\n",
      "[700]\tvalid_0's rmse: 0.642084\n",
      "[800]\tvalid_0's rmse: 0.633177\n",
      "[900]\tvalid_0's rmse: 0.624332\n"
     ]
    },
    {
     "name": "stderr",
     "output_type": "stream",
     "text": [
      "num_leaves, val_score: 0.615988:   5%|5         | 1/20 [00:07<02:25,  7.64s/it]\u001b[32m[I 2021-08-24 11:58:16,457]\u001b[0m Trial 7 finished with value: 0.6159877635931701 and parameters: {'num_leaves': 74}. Best is trial 7 with value: 0.6159877635931701.\u001b[0m\n",
      "num_leaves, val_score: 0.615988:   5%|5         | 1/20 [00:07<02:25,  7.64s/it]"
     ]
    },
    {
     "name": "stdout",
     "output_type": "stream",
     "text": [
      "[1000]\tvalid_0's rmse: 0.615988\n",
      "[LightGBM] [Warning] Auto-choosing row-wise multi-threading, the overhead of testing was 0.008806 seconds.\n",
      "You can set `force_row_wise=true` to remove the overhead.\n",
      "And if memory is not enough, you can set `force_col_wise=true`.\n",
      "[LightGBM] [Info] Total Bins 3626\n",
      "[LightGBM] [Info] Number of data points in the train set: 225000, number of used features: 24\n",
      "[LightGBM] [Info] Start training from score 8.241327\n",
      "[100]\tvalid_0's rmse: 0.707661\n",
      "[200]\tvalid_0's rmse: 0.691696\n",
      "[300]\tvalid_0's rmse: 0.678245\n",
      "[400]\tvalid_0's rmse: 0.665617\n",
      "[500]\tvalid_0's rmse: 0.654041\n",
      "[600]\tvalid_0's rmse: 0.643167\n",
      "[700]\tvalid_0's rmse: 0.633023\n",
      "[800]\tvalid_0's rmse: 0.623313\n",
      "[900]\tvalid_0's rmse: 0.613963\n"
     ]
    },
    {
     "name": "stderr",
     "output_type": "stream",
     "text": [
      "num_leaves, val_score: 0.604749:  10%|#         | 2/20 [00:16<02:29,  8.33s/it]\u001b[32m[I 2021-08-24 11:58:25,276]\u001b[0m Trial 8 finished with value: 0.6047494293672825 and parameters: {'num_leaves': 84}. Best is trial 8 with value: 0.6047494293672825.\u001b[0m\n",
      "num_leaves, val_score: 0.604749:  10%|#         | 2/20 [00:16<02:29,  8.33s/it]"
     ]
    },
    {
     "name": "stdout",
     "output_type": "stream",
     "text": [
      "[1000]\tvalid_0's rmse: 0.604749\n",
      "[LightGBM] [Warning] Auto-choosing row-wise multi-threading, the overhead of testing was 0.008035 seconds.\n",
      "You can set `force_row_wise=true` to remove the overhead.\n",
      "And if memory is not enough, you can set `force_col_wise=true`.\n",
      "[LightGBM] [Info] Total Bins 3626\n",
      "[LightGBM] [Info] Number of data points in the train set: 225000, number of used features: 24\n",
      "[LightGBM] [Info] Start training from score 8.241327\n",
      "[100]\tvalid_0's rmse: 0.719692\n",
      "[200]\tvalid_0's rmse: 0.711958\n",
      "[300]\tvalid_0's rmse: 0.705983\n",
      "[400]\tvalid_0's rmse: 0.700449\n",
      "[500]\tvalid_0's rmse: 0.695095\n",
      "[600]\tvalid_0's rmse: 0.690093\n",
      "[700]\tvalid_0's rmse: 0.685353\n",
      "[800]\tvalid_0's rmse: 0.680617\n",
      "[900]\tvalid_0's rmse: 0.676068\n"
     ]
    },
    {
     "name": "stderr",
     "output_type": "stream",
     "text": [
      "num_leaves, val_score: 0.604749:  15%|#5        | 3/20 [00:21<01:58,  6.99s/it]\u001b[32m[I 2021-08-24 11:58:30,662]\u001b[0m Trial 9 finished with value: 0.671862883804114 and parameters: {'num_leaves': 32}. Best is trial 8 with value: 0.6047494293672825.\u001b[0m\n",
      "num_leaves, val_score: 0.604749:  15%|#5        | 3/20 [00:21<01:58,  6.99s/it]"
     ]
    },
    {
     "name": "stdout",
     "output_type": "stream",
     "text": [
      "[1000]\tvalid_0's rmse: 0.671863\n",
      "[LightGBM] [Warning] Auto-choosing row-wise multi-threading, the overhead of testing was 0.007632 seconds.\n",
      "You can set `force_row_wise=true` to remove the overhead.\n",
      "And if memory is not enough, you can set `force_col_wise=true`.\n",
      "[LightGBM] [Info] Total Bins 3626\n",
      "[LightGBM] [Info] Number of data points in the train set: 225000, number of used features: 24\n",
      "[LightGBM] [Info] Start training from score 8.241327\n",
      "[100]\tvalid_0's rmse: 0.688218\n",
      "[200]\tvalid_0's rmse: 0.658668\n",
      "[300]\tvalid_0's rmse: 0.634442\n",
      "[400]\tvalid_0's rmse: 0.612706\n",
      "[500]\tvalid_0's rmse: 0.593247\n",
      "[600]\tvalid_0's rmse: 0.57557\n",
      "[700]\tvalid_0's rmse: 0.560312\n",
      "[800]\tvalid_0's rmse: 0.545789\n",
      "[900]\tvalid_0's rmse: 0.532303\n",
      "[1000]\tvalid_0's rmse: 0.520584\n"
     ]
    },
    {
     "name": "stderr",
     "output_type": "stream",
     "text": [
      "num_leaves, val_score: 0.520584:  20%|##        | 4/20 [00:33<02:19,  8.74s/it]\u001b[32m[I 2021-08-24 11:58:42,080]\u001b[0m Trial 10 finished with value: 0.5205839003735553 and parameters: {'num_leaves': 184}. Best is trial 10 with value: 0.5205839003735553.\u001b[0m\n",
      "num_leaves, val_score: 0.520584:  20%|##        | 4/20 [00:33<02:19,  8.74s/it]"
     ]
    },
    {
     "name": "stdout",
     "output_type": "stream",
     "text": [
      "[LightGBM] [Warning] Auto-choosing row-wise multi-threading, the overhead of testing was 0.009042 seconds.\n",
      "You can set `force_row_wise=true` to remove the overhead.\n",
      "And if memory is not enough, you can set `force_col_wise=true`.\n",
      "[LightGBM] [Info] Total Bins 3626\n",
      "[LightGBM] [Info] Number of data points in the train set: 225000, number of used features: 24\n",
      "[LightGBM] [Info] Start training from score 8.241327\n",
      "[100]\tvalid_0's rmse: 0.675851\n",
      "[200]\tvalid_0's rmse: 0.638923\n",
      "[300]\tvalid_0's rmse: 0.608855\n",
      "[400]\tvalid_0's rmse: 0.583512\n",
      "[500]\tvalid_0's rmse: 0.561863\n",
      "[600]\tvalid_0's rmse: 0.542058\n",
      "[700]\tvalid_0's rmse: 0.523682\n",
      "[800]\tvalid_0's rmse: 0.50756\n",
      "[900]\tvalid_0's rmse: 0.493898\n",
      "[1000]\tvalid_0's rmse: 0.48147\n"
     ]
    },
    {
     "name": "stderr",
     "output_type": "stream",
     "text": [
      "num_leaves, val_score: 0.481470:  25%|##5       | 5/20 [00:47<02:39, 10.64s/it]\u001b[32m[I 2021-08-24 11:58:56,086]\u001b[0m Trial 11 finished with value: 0.4814695597881561 and parameters: {'num_leaves': 251}. Best is trial 11 with value: 0.4814695597881561.\u001b[0m\n",
      "num_leaves, val_score: 0.481470:  25%|##5       | 5/20 [00:47<02:39, 10.64s/it]"
     ]
    },
    {
     "name": "stdout",
     "output_type": "stream",
     "text": [
      "[LightGBM] [Warning] Auto-choosing row-wise multi-threading, the overhead of testing was 0.008050 seconds.\n",
      "You can set `force_row_wise=true` to remove the overhead.\n",
      "And if memory is not enough, you can set `force_col_wise=true`.\n",
      "[LightGBM] [Info] Total Bins 3626\n",
      "[LightGBM] [Info] Number of data points in the train set: 225000, number of used features: 24\n",
      "[LightGBM] [Info] Start training from score 8.241327\n",
      "[100]\tvalid_0's rmse: 0.701454\n",
      "[200]\tvalid_0's rmse: 0.681331\n",
      "[300]\tvalid_0's rmse: 0.664245\n",
      "[400]\tvalid_0's rmse: 0.648873\n",
      "[500]\tvalid_0's rmse: 0.634519\n",
      "[600]\tvalid_0's rmse: 0.621453\n",
      "[700]\tvalid_0's rmse: 0.608933\n",
      "[800]\tvalid_0's rmse: 0.596952\n",
      "[900]\tvalid_0's rmse: 0.586327\n"
     ]
    },
    {
     "name": "stderr",
     "output_type": "stream",
     "text": [
      "num_leaves, val_score: 0.481470:  30%|###       | 6/20 [00:56<02:23, 10.25s/it]\u001b[32m[I 2021-08-24 11:59:05,595]\u001b[0m Trial 12 finished with value: 0.5761809457196589 and parameters: {'num_leaves': 113}. Best is trial 11 with value: 0.4814695597881561.\u001b[0m\n",
      "num_leaves, val_score: 0.481470:  30%|###       | 6/20 [00:56<02:23, 10.25s/it]"
     ]
    },
    {
     "name": "stdout",
     "output_type": "stream",
     "text": [
      "[1000]\tvalid_0's rmse: 0.576181\n",
      "[LightGBM] [Warning] Auto-choosing row-wise multi-threading, the overhead of testing was 0.009988 seconds.\n",
      "You can set `force_row_wise=true` to remove the overhead.\n",
      "And if memory is not enough, you can set `force_col_wise=true`.\n",
      "[LightGBM] [Info] Total Bins 3626\n",
      "[LightGBM] [Info] Number of data points in the train set: 225000, number of used features: 24\n",
      "[LightGBM] [Info] Start training from score 8.241327\n",
      "[100]\tvalid_0's rmse: 0.684164\n",
      "[200]\tvalid_0's rmse: 0.65218\n",
      "[300]\tvalid_0's rmse: 0.626125\n",
      "[400]\tvalid_0's rmse: 0.603346\n",
      "[500]\tvalid_0's rmse: 0.582792\n",
      "[600]\tvalid_0's rmse: 0.564266\n",
      "[700]\tvalid_0's rmse: 0.547772\n",
      "[800]\tvalid_0's rmse: 0.532143\n",
      "[900]\tvalid_0's rmse: 0.518109\n",
      "[1000]\tvalid_0's rmse: 0.50595\n"
     ]
    },
    {
     "name": "stderr",
     "output_type": "stream",
     "text": [
      "num_leaves, val_score: 0.481470:  35%|###5      | 7/20 [01:09<02:24, 11.14s/it]\u001b[32m[I 2021-08-24 11:59:18,577]\u001b[0m Trial 13 finished with value: 0.5059504982680268 and parameters: {'num_leaves': 203}. Best is trial 11 with value: 0.4814695597881561.\u001b[0m\n",
      "num_leaves, val_score: 0.481470:  35%|###5      | 7/20 [01:09<02:24, 11.14s/it]"
     ]
    },
    {
     "name": "stdout",
     "output_type": "stream",
     "text": [
      "[LightGBM] [Warning] Auto-choosing row-wise multi-threading, the overhead of testing was 0.009180 seconds.\n",
      "You can set `force_row_wise=true` to remove the overhead.\n",
      "And if memory is not enough, you can set `force_col_wise=true`.\n",
      "[LightGBM] [Info] Total Bins 3626\n",
      "[LightGBM] [Info] Number of data points in the train set: 225000, number of used features: 24\n",
      "[LightGBM] [Info] Start training from score 8.241327\n",
      "[100]\tvalid_0's rmse: 0.675851\n",
      "[200]\tvalid_0's rmse: 0.638923\n",
      "[300]\tvalid_0's rmse: 0.608855\n",
      "[400]\tvalid_0's rmse: 0.583512\n",
      "[500]\tvalid_0's rmse: 0.561863\n",
      "[600]\tvalid_0's rmse: 0.542058\n",
      "[700]\tvalid_0's rmse: 0.523682\n",
      "[800]\tvalid_0's rmse: 0.50756\n",
      "[900]\tvalid_0's rmse: 0.493898\n",
      "[1000]\tvalid_0's rmse: 0.48147\n"
     ]
    },
    {
     "name": "stderr",
     "output_type": "stream",
     "text": [
      "num_leaves, val_score: 0.481470:  40%|####      | 8/20 [01:25<02:33, 12.77s/it]\u001b[32m[I 2021-08-24 11:59:34,821]\u001b[0m Trial 14 finished with value: 0.4814695597881561 and parameters: {'num_leaves': 251}. Best is trial 11 with value: 0.4814695597881561.\u001b[0m\n",
      "num_leaves, val_score: 0.481470:  40%|####      | 8/20 [01:26<02:33, 12.77s/it]"
     ]
    },
    {
     "name": "stdout",
     "output_type": "stream",
     "text": [
      "[LightGBM] [Warning] Auto-choosing row-wise multi-threading, the overhead of testing was 0.009924 seconds.\n",
      "You can set `force_row_wise=true` to remove the overhead.\n",
      "And if memory is not enough, you can set `force_col_wise=true`.\n",
      "[LightGBM] [Info] Total Bins 3626\n",
      "[LightGBM] [Info] Number of data points in the train set: 225000, number of used features: 24\n",
      "[LightGBM] [Info] Start training from score 8.241327\n",
      "[100]\tvalid_0's rmse: 0.690856\n",
      "[200]\tvalid_0's rmse: 0.66367\n",
      "[300]\tvalid_0's rmse: 0.640684\n",
      "[400]\tvalid_0's rmse: 0.620236\n",
      "[500]\tvalid_0's rmse: 0.601696\n",
      "[600]\tvalid_0's rmse: 0.584936\n",
      "[700]\tvalid_0's rmse: 0.569743\n",
      "[800]\tvalid_0's rmse: 0.555721\n",
      "[900]\tvalid_0's rmse: 0.542774\n",
      "[1000]\tvalid_0's rmse: 0.530638\n"
     ]
    },
    {
     "name": "stderr",
     "output_type": "stream",
     "text": [
      "num_leaves, val_score: 0.481470:  45%|####5     | 9/20 [01:36<02:13, 12.09s/it]\u001b[32m[I 2021-08-24 11:59:45,435]\u001b[0m Trial 15 finished with value: 0.5306378695979134 and parameters: {'num_leaves': 167}. Best is trial 11 with value: 0.4814695597881561.\u001b[0m\n",
      "num_leaves, val_score: 0.481470:  45%|####5     | 9/20 [01:36<02:13, 12.09s/it]"
     ]
    },
    {
     "name": "stdout",
     "output_type": "stream",
     "text": [
      "[LightGBM] [Warning] Auto-choosing row-wise multi-threading, the overhead of testing was 0.009419 seconds.\n",
      "You can set `force_row_wise=true` to remove the overhead.\n",
      "And if memory is not enough, you can set `force_col_wise=true`.\n",
      "[LightGBM] [Info] Total Bins 3626\n",
      "[LightGBM] [Info] Number of data points in the train set: 225000, number of used features: 24\n",
      "[LightGBM] [Info] Start training from score 8.241327\n",
      "[100]\tvalid_0's rmse: 0.711615\n",
      "[200]\tvalid_0's rmse: 0.698373\n",
      "[300]\tvalid_0's rmse: 0.68717\n",
      "[400]\tvalid_0's rmse: 0.67702\n",
      "[500]\tvalid_0's rmse: 0.66724\n",
      "[600]\tvalid_0's rmse: 0.65815\n",
      "[700]\tvalid_0's rmse: 0.64935\n",
      "[800]\tvalid_0's rmse: 0.64129\n",
      "[900]\tvalid_0's rmse: 0.633508\n"
     ]
    },
    {
     "name": "stderr",
     "output_type": "stream",
     "text": [
      "num_leaves, val_score: 0.481470:  50%|#####     | 10/20 [01:42<01:42, 10.30s/it]\u001b[32m[I 2021-08-24 11:59:51,712]\u001b[0m Trial 16 finished with value: 0.6259153016341504 and parameters: {'num_leaves': 66}. Best is trial 11 with value: 0.4814695597881561.\u001b[0m\n",
      "num_leaves, val_score: 0.481470:  50%|#####     | 10/20 [01:42<01:42, 10.30s/it]"
     ]
    },
    {
     "name": "stdout",
     "output_type": "stream",
     "text": [
      "[1000]\tvalid_0's rmse: 0.625915\n",
      "[LightGBM] [Warning] Auto-choosing row-wise multi-threading, the overhead of testing was 0.009443 seconds.\n",
      "You can set `force_row_wise=true` to remove the overhead.\n",
      "And if memory is not enough, you can set `force_col_wise=true`.\n",
      "[LightGBM] [Info] Total Bins 3626\n",
      "[LightGBM] [Info] Number of data points in the train set: 225000, number of used features: 24\n",
      "[LightGBM] [Info] Start training from score 8.241327\n",
      "[100]\tvalid_0's rmse: 0.675277\n",
      "[200]\tvalid_0's rmse: 0.638639\n",
      "[300]\tvalid_0's rmse: 0.608116\n",
      "[400]\tvalid_0's rmse: 0.582235\n",
      "[500]\tvalid_0's rmse: 0.559579\n",
      "[600]\tvalid_0's rmse: 0.538937\n",
      "[700]\tvalid_0's rmse: 0.521248\n",
      "[800]\tvalid_0's rmse: 0.505538\n",
      "[900]\tvalid_0's rmse: 0.49121\n",
      "[1000]\tvalid_0's rmse: 0.478338\n"
     ]
    },
    {
     "name": "stderr",
     "output_type": "stream",
     "text": [
      "num_leaves, val_score: 0.478338:  55%|#####5    | 11/20 [01:55<01:40, 11.16s/it]\u001b[32m[I 2021-08-24 12:00:04,815]\u001b[0m Trial 17 finished with value: 0.4783379978994174 and parameters: {'num_leaves': 255}. Best is trial 17 with value: 0.4783379978994174.\u001b[0m\n",
      "num_leaves, val_score: 0.478338:  55%|#####5    | 11/20 [01:55<01:40, 11.16s/it]"
     ]
    },
    {
     "name": "stdout",
     "output_type": "stream",
     "text": [
      "[LightGBM] [Warning] Auto-choosing row-wise multi-threading, the overhead of testing was 0.008922 seconds.\n",
      "You can set `force_row_wise=true` to remove the overhead.\n",
      "And if memory is not enough, you can set `force_col_wise=true`.\n",
      "[LightGBM] [Info] Total Bins 3626\n",
      "[LightGBM] [Info] Number of data points in the train set: 225000, number of used features: 24\n",
      "[LightGBM] [Info] Start training from score 8.241327\n",
      "[100]\tvalid_0's rmse: 0.675273\n",
      "[200]\tvalid_0's rmse: 0.638408\n",
      "[300]\tvalid_0's rmse: 0.608241\n",
      "[400]\tvalid_0's rmse: 0.582545\n",
      "[500]\tvalid_0's rmse: 0.560518\n",
      "[600]\tvalid_0's rmse: 0.540224\n",
      "[700]\tvalid_0's rmse: 0.522707\n",
      "[800]\tvalid_0's rmse: 0.506922\n",
      "[900]\tvalid_0's rmse: 0.493214\n",
      "[1000]\tvalid_0's rmse: 0.481097\n"
     ]
    },
    {
     "name": "stderr",
     "output_type": "stream",
     "text": [
      "num_leaves, val_score: 0.478338:  60%|######    | 12/20 [02:08<01:33, 11.66s/it]\u001b[32m[I 2021-08-24 12:00:17,621]\u001b[0m Trial 18 finished with value: 0.4810970317730907 and parameters: {'num_leaves': 252}. Best is trial 17 with value: 0.4783379978994174.\u001b[0m\n",
      "num_leaves, val_score: 0.478338:  60%|######    | 12/20 [02:08<01:33, 11.66s/it]"
     ]
    },
    {
     "name": "stdout",
     "output_type": "stream",
     "text": [
      "[LightGBM] [Warning] Auto-choosing row-wise multi-threading, the overhead of testing was 0.011521 seconds.\n",
      "You can set `force_row_wise=true` to remove the overhead.\n",
      "And if memory is not enough, you can set `force_col_wise=true`.\n",
      "[LightGBM] [Info] Total Bins 3626\n",
      "[LightGBM] [Info] Number of data points in the train set: 225000, number of used features: 24\n",
      "[LightGBM] [Info] Start training from score 8.241327\n",
      "[100]\tvalid_0's rmse: 0.68095\n",
      "[200]\tvalid_0's rmse: 0.647003\n",
      "[300]\tvalid_0's rmse: 0.61963\n",
      "[400]\tvalid_0's rmse: 0.595661\n",
      "[500]\tvalid_0's rmse: 0.57423\n",
      "[600]\tvalid_0's rmse: 0.555636\n",
      "[700]\tvalid_0's rmse: 0.538484\n",
      "[800]\tvalid_0's rmse: 0.52256\n",
      "[900]\tvalid_0's rmse: 0.508366\n",
      "[1000]\tvalid_0's rmse: 0.495594\n"
     ]
    },
    {
     "name": "stderr",
     "output_type": "stream",
     "text": [
      "num_leaves, val_score: 0.478338:  65%|######5   | 13/20 [02:20<01:21, 11.65s/it]\u001b[32m[I 2021-08-24 12:00:29,246]\u001b[0m Trial 19 finished with value: 0.4955942009059767 and parameters: {'num_leaves': 221}. Best is trial 17 with value: 0.4783379978994174.\u001b[0m\n",
      "num_leaves, val_score: 0.478338:  65%|######5   | 13/20 [02:20<01:21, 11.65s/it]"
     ]
    },
    {
     "name": "stdout",
     "output_type": "stream",
     "text": [
      "[LightGBM] [Warning] Auto-choosing row-wise multi-threading, the overhead of testing was 0.012519 seconds.\n",
      "You can set `force_row_wise=true` to remove the overhead.\n",
      "And if memory is not enough, you can set `force_col_wise=true`.\n",
      "[LightGBM] [Info] Total Bins 3626\n",
      "[LightGBM] [Info] Number of data points in the train set: 225000, number of used features: 24\n",
      "[LightGBM] [Info] Start training from score 8.241327\n",
      "[100]\tvalid_0's rmse: 0.677244\n",
      "[200]\tvalid_0's rmse: 0.641259\n",
      "[300]\tvalid_0's rmse: 0.611991\n",
      "[400]\tvalid_0's rmse: 0.587406\n",
      "[500]\tvalid_0's rmse: 0.565349\n",
      "[600]\tvalid_0's rmse: 0.544799\n",
      "[700]\tvalid_0's rmse: 0.527667\n",
      "[800]\tvalid_0's rmse: 0.511844\n",
      "[900]\tvalid_0's rmse: 0.497707\n",
      "[1000]\tvalid_0's rmse: 0.485473\n"
     ]
    },
    {
     "name": "stderr",
     "output_type": "stream",
     "text": [
      "num_leaves, val_score: 0.478338:  70%|#######   | 14/20 [02:33<01:11, 11.94s/it]\u001b[32m[I 2021-08-24 12:00:41,853]\u001b[0m Trial 20 finished with value: 0.4854725989866838 and parameters: {'num_leaves': 243}. Best is trial 17 with value: 0.4783379978994174.\u001b[0m\n",
      "num_leaves, val_score: 0.478338:  70%|#######   | 14/20 [02:33<01:11, 11.94s/it]"
     ]
    },
    {
     "name": "stdout",
     "output_type": "stream",
     "text": [
      "[LightGBM] [Warning] Auto-choosing row-wise multi-threading, the overhead of testing was 0.009849 seconds.\n",
      "You can set `force_row_wise=true` to remove the overhead.\n",
      "And if memory is not enough, you can set `force_col_wise=true`.\n",
      "[LightGBM] [Info] Total Bins 3626\n",
      "[LightGBM] [Info] Number of data points in the train set: 225000, number of used features: 24\n",
      "[LightGBM] [Info] Start training from score 8.241327\n",
      "[100]\tvalid_0's rmse: 0.69487\n",
      "[200]\tvalid_0's rmse: 0.670737\n",
      "[300]\tvalid_0's rmse: 0.650133\n",
      "[400]\tvalid_0's rmse: 0.631725\n",
      "[500]\tvalid_0's rmse: 0.614441\n",
      "[600]\tvalid_0's rmse: 0.598782\n",
      "[700]\tvalid_0's rmse: 0.584419\n",
      "[800]\tvalid_0's rmse: 0.570524\n",
      "[900]\tvalid_0's rmse: 0.558128\n"
     ]
    },
    {
     "name": "stderr",
     "output_type": "stream",
     "text": [
      "num_leaves, val_score: 0.478338:  70%|#######   | 14/20 [02:42<01:11, 11.94s/it]"
     ]
    },
    {
     "name": "stdout",
     "output_type": "stream",
     "text": [
      "[1000]\tvalid_0's rmse: 0.546531\n"
     ]
    },
    {
     "name": "stderr",
     "output_type": "stream",
     "text": [
      "num_leaves, val_score: 0.478338:  75%|#######5  | 15/20 [02:42<00:55, 11.19s/it]\u001b[32m[I 2021-08-24 12:00:51,307]\u001b[0m Trial 21 finished with value: 0.5465313656765542 and parameters: {'num_leaves': 147}. Best is trial 17 with value: 0.4783379978994174.\u001b[0m\n",
      "num_leaves, val_score: 0.478338:  75%|#######5  | 15/20 [02:42<00:55, 11.19s/it]"
     ]
    },
    {
     "name": "stdout",
     "output_type": "stream",
     "text": [
      "[LightGBM] [Warning] Auto-choosing row-wise multi-threading, the overhead of testing was 0.009998 seconds.\n",
      "You can set `force_row_wise=true` to remove the overhead.\n",
      "And if memory is not enough, you can set `force_col_wise=true`.\n",
      "[LightGBM] [Info] Total Bins 3626\n",
      "[LightGBM] [Info] Number of data points in the train set: 225000, number of used features: 24\n",
      "[LightGBM] [Info] Start training from score 8.241327\n",
      "[100]\tvalid_0's rmse: 0.681484\n",
      "[200]\tvalid_0's rmse: 0.648514\n",
      "[300]\tvalid_0's rmse: 0.620835\n",
      "[400]\tvalid_0's rmse: 0.597059\n",
      "[500]\tvalid_0's rmse: 0.576039\n",
      "[600]\tvalid_0's rmse: 0.557071\n",
      "[700]\tvalid_0's rmse: 0.540059\n",
      "[800]\tvalid_0's rmse: 0.524907\n",
      "[900]\tvalid_0's rmse: 0.510744\n",
      "[1000]\tvalid_0's rmse: 0.498188\n"
     ]
    },
    {
     "name": "stderr",
     "output_type": "stream",
     "text": [
      "num_leaves, val_score: 0.478338:  80%|########  | 16/20 [02:53<00:45, 11.26s/it]\u001b[32m[I 2021-08-24 12:01:02,719]\u001b[0m Trial 22 finished with value: 0.4981879229257209 and parameters: {'num_leaves': 218}. Best is trial 17 with value: 0.4783379978994174.\u001b[0m\n",
      "num_leaves, val_score: 0.478338:  80%|########  | 16/20 [02:53<00:45, 11.26s/it]"
     ]
    },
    {
     "name": "stdout",
     "output_type": "stream",
     "text": [
      "[LightGBM] [Warning] Auto-choosing row-wise multi-threading, the overhead of testing was 0.009601 seconds.\n",
      "You can set `force_row_wise=true` to remove the overhead.\n",
      "And if memory is not enough, you can set `force_col_wise=true`.\n",
      "[LightGBM] [Info] Total Bins 3626\n",
      "[LightGBM] [Info] Number of data points in the train set: 225000, number of used features: 24\n",
      "[LightGBM] [Info] Start training from score 8.241327\n",
      "[100]\tvalid_0's rmse: 0.675851\n",
      "[200]\tvalid_0's rmse: 0.638923\n",
      "[300]\tvalid_0's rmse: 0.608855\n",
      "[400]\tvalid_0's rmse: 0.583512\n",
      "[500]\tvalid_0's rmse: 0.561863\n",
      "[600]\tvalid_0's rmse: 0.542058\n",
      "[700]\tvalid_0's rmse: 0.523682\n",
      "[800]\tvalid_0's rmse: 0.50756\n",
      "[900]\tvalid_0's rmse: 0.493898\n",
      "[1000]\tvalid_0's rmse: 0.48147\n"
     ]
    },
    {
     "name": "stderr",
     "output_type": "stream",
     "text": [
      "num_leaves, val_score: 0.478338:  85%|########5 | 17/20 [03:07<00:35, 11.95s/it]\u001b[32m[I 2021-08-24 12:01:16,298]\u001b[0m Trial 23 finished with value: 0.4814695597881561 and parameters: {'num_leaves': 251}. Best is trial 17 with value: 0.4783379978994174.\u001b[0m\n",
      "num_leaves, val_score: 0.478338:  85%|########5 | 17/20 [03:07<00:35, 11.95s/it]"
     ]
    },
    {
     "name": "stdout",
     "output_type": "stream",
     "text": [
      "[LightGBM] [Warning] Auto-choosing row-wise multi-threading, the overhead of testing was 0.009971 seconds.\n",
      "You can set `force_row_wise=true` to remove the overhead.\n",
      "And if memory is not enough, you can set `force_col_wise=true`.\n",
      "[LightGBM] [Info] Total Bins 3626\n",
      "[LightGBM] [Info] Number of data points in the train set: 225000, number of used features: 24\n",
      "[LightGBM] [Info] Start training from score 8.241327\n",
      "[100]\tvalid_0's rmse: 0.685967\n",
      "[200]\tvalid_0's rmse: 0.655309\n",
      "[300]\tvalid_0's rmse: 0.630124\n",
      "[400]\tvalid_0's rmse: 0.607859\n",
      "[500]\tvalid_0's rmse: 0.587856\n",
      "[600]\tvalid_0's rmse: 0.569762\n",
      "[700]\tvalid_0's rmse: 0.55354\n",
      "[800]\tvalid_0's rmse: 0.539086\n",
      "[900]\tvalid_0's rmse: 0.525366\n",
      "[1000]\tvalid_0's rmse: 0.512906\n"
     ]
    },
    {
     "name": "stderr",
     "output_type": "stream",
     "text": [
      "num_leaves, val_score: 0.478338:  90%|######### | 18/20 [03:20<00:24, 12.31s/it]\u001b[32m[I 2021-08-24 12:01:29,437]\u001b[0m Trial 24 finished with value: 0.5129058230941166 and parameters: {'num_leaves': 193}. Best is trial 17 with value: 0.4783379978994174.\u001b[0m\n",
      "num_leaves, val_score: 0.478338:  90%|######### | 18/20 [03:20<00:24, 12.31s/it]"
     ]
    },
    {
     "name": "stdout",
     "output_type": "stream",
     "text": [
      "[LightGBM] [Warning] Auto-choosing row-wise multi-threading, the overhead of testing was 0.012951 seconds.\n",
      "You can set `force_row_wise=true` to remove the overhead.\n",
      "And if memory is not enough, you can set `force_col_wise=true`.\n",
      "[LightGBM] [Info] Total Bins 3626\n",
      "[LightGBM] [Info] Number of data points in the train set: 225000, number of used features: 24\n",
      "[LightGBM] [Info] Start training from score 8.241327\n",
      "[100]\tvalid_0's rmse: 0.697703\n",
      "[200]\tvalid_0's rmse: 0.674409\n",
      "[300]\tvalid_0's rmse: 0.655286\n",
      "[400]\tvalid_0's rmse: 0.638117\n",
      "[500]\tvalid_0's rmse: 0.622475\n",
      "[600]\tvalid_0's rmse: 0.607787\n",
      "[700]\tvalid_0's rmse: 0.594199\n",
      "[800]\tvalid_0's rmse: 0.581372\n",
      "[900]\tvalid_0's rmse: 0.569259\n",
      "[1000]\tvalid_0's rmse: 0.558035\n"
     ]
    },
    {
     "name": "stderr",
     "output_type": "stream",
     "text": [
      "num_leaves, val_score: 0.478338:  95%|#########5| 19/20 [03:32<00:12, 12.31s/it]\u001b[32m[I 2021-08-24 12:01:41,761]\u001b[0m Trial 25 finished with value: 0.5580348741182127 and parameters: {'num_leaves': 132}. Best is trial 17 with value: 0.4783379978994174.\u001b[0m\n",
      "num_leaves, val_score: 0.478338:  95%|#########5| 19/20 [03:32<00:12, 12.31s/it]"
     ]
    },
    {
     "name": "stdout",
     "output_type": "stream",
     "text": [
      "[LightGBM] [Warning] Auto-choosing row-wise multi-threading, the overhead of testing was 0.008602 seconds.\n",
      "You can set `force_row_wise=true` to remove the overhead.\n",
      "And if memory is not enough, you can set `force_col_wise=true`.\n",
      "[LightGBM] [Info] Total Bins 3626\n",
      "[LightGBM] [Info] Number of data points in the train set: 225000, number of used features: 24\n",
      "[LightGBM] [Info] Start training from score 8.241327\n",
      "[100]\tvalid_0's rmse: 0.735917\n",
      "[200]\tvalid_0's rmse: 0.732316\n",
      "[300]\tvalid_0's rmse: 0.73006\n",
      "[400]\tvalid_0's rmse: 0.728672\n",
      "[500]\tvalid_0's rmse: 0.727535\n",
      "[600]\tvalid_0's rmse: 0.726437\n",
      "[700]\tvalid_0's rmse: 0.72549\n",
      "[800]\tvalid_0's rmse: 0.72477\n",
      "[900]\tvalid_0's rmse: 0.723997\n"
     ]
    },
    {
     "name": "stderr",
     "output_type": "stream",
     "text": [
      "num_leaves, val_score: 0.478338: 100%|##########| 20/20 [03:36<00:00,  9.54s/it]\u001b[32m[I 2021-08-24 12:01:44,825]\u001b[0m Trial 26 finished with value: 0.7232167928099584 and parameters: {'num_leaves': 3}. Best is trial 17 with value: 0.4783379978994174.\u001b[0m\n",
      "num_leaves, val_score: 0.478338: 100%|##########| 20/20 [03:36<00:00, 10.80s/it]\n",
      "bagging, val_score: 0.478338:   0%|          | 0/10 [00:00<?, ?it/s]"
     ]
    },
    {
     "name": "stdout",
     "output_type": "stream",
     "text": [
      "[1000]\tvalid_0's rmse: 0.723217\n",
      "[LightGBM] [Warning] Auto-choosing row-wise multi-threading, the overhead of testing was 0.009843 seconds.\n",
      "You can set `force_row_wise=true` to remove the overhead.\n",
      "And if memory is not enough, you can set `force_col_wise=true`.\n",
      "[LightGBM] [Info] Total Bins 3626\n",
      "[LightGBM] [Info] Number of data points in the train set: 225000, number of used features: 24\n",
      "[LightGBM] [Info] Start training from score 8.241327\n",
      "[100]\tvalid_0's rmse: 0.676549\n",
      "[200]\tvalid_0's rmse: 0.639848\n",
      "[300]\tvalid_0's rmse: 0.609556\n",
      "[400]\tvalid_0's rmse: 0.583465\n",
      "[500]\tvalid_0's rmse: 0.560057\n",
      "[600]\tvalid_0's rmse: 0.539452\n",
      "[700]\tvalid_0's rmse: 0.521424\n",
      "[800]\tvalid_0's rmse: 0.505658\n",
      "[900]\tvalid_0's rmse: 0.491786\n",
      "[1000]\tvalid_0's rmse: 0.479146\n"
     ]
    },
    {
     "name": "stderr",
     "output_type": "stream",
     "text": [
      "bagging, val_score: 0.478338:  10%|#         | 1/10 [00:19<02:54, 19.42s/it]\u001b[32m[I 2021-08-24 12:02:04,252]\u001b[0m Trial 27 finished with value: 0.4791462025251755 and parameters: {'bagging_fraction': 0.6807000463445416, 'bagging_freq': 4}. Best is trial 27 with value: 0.4791462025251755.\u001b[0m\n",
      "bagging, val_score: 0.478338:  10%|#         | 1/10 [00:19<02:54, 19.42s/it]"
     ]
    },
    {
     "name": "stdout",
     "output_type": "stream",
     "text": [
      "[LightGBM] [Warning] Auto-choosing row-wise multi-threading, the overhead of testing was 0.008704 seconds.\n",
      "You can set `force_row_wise=true` to remove the overhead.\n",
      "And if memory is not enough, you can set `force_col_wise=true`.\n",
      "[LightGBM] [Info] Total Bins 3626\n",
      "[LightGBM] [Info] Number of data points in the train set: 225000, number of used features: 24\n",
      "[LightGBM] [Info] Start training from score 8.241327\n",
      "[100]\tvalid_0's rmse: 0.677257\n",
      "[200]\tvalid_0's rmse: 0.640632\n",
      "[300]\tvalid_0's rmse: 0.610525\n",
      "[400]\tvalid_0's rmse: 0.584525\n",
      "[500]\tvalid_0's rmse: 0.562148\n",
      "[600]\tvalid_0's rmse: 0.541648\n",
      "[700]\tvalid_0's rmse: 0.524047\n",
      "[800]\tvalid_0's rmse: 0.508186\n",
      "[900]\tvalid_0's rmse: 0.49425\n",
      "[1000]\tvalid_0's rmse: 0.481175\n"
     ]
    },
    {
     "name": "stderr",
     "output_type": "stream",
     "text": [
      "bagging, val_score: 0.478338:  20%|##        | 2/10 [00:37<02:29, 18.66s/it]\u001b[32m[I 2021-08-24 12:02:22,383]\u001b[0m Trial 28 finished with value: 0.481175328619956 and parameters: {'bagging_fraction': 0.6904575261384628, 'bagging_freq': 7}. Best is trial 27 with value: 0.4791462025251755.\u001b[0m\n",
      "bagging, val_score: 0.478338:  20%|##        | 2/10 [00:37<02:29, 18.66s/it]"
     ]
    },
    {
     "name": "stdout",
     "output_type": "stream",
     "text": [
      "[LightGBM] [Warning] Auto-choosing row-wise multi-threading, the overhead of testing was 0.010361 seconds.\n",
      "You can set `force_row_wise=true` to remove the overhead.\n",
      "And if memory is not enough, you can set `force_col_wise=true`.\n",
      "[LightGBM] [Info] Total Bins 3626\n",
      "[LightGBM] [Info] Number of data points in the train set: 225000, number of used features: 24\n",
      "[LightGBM] [Info] Start training from score 8.241327\n",
      "[100]\tvalid_0's rmse: 0.676107\n",
      "[200]\tvalid_0's rmse: 0.638952\n",
      "[300]\tvalid_0's rmse: 0.608632\n",
      "[400]\tvalid_0's rmse: 0.582162\n",
      "[500]\tvalid_0's rmse: 0.559355\n",
      "[600]\tvalid_0's rmse: 0.538529\n",
      "[700]\tvalid_0's rmse: 0.520738\n",
      "[800]\tvalid_0's rmse: 0.504786\n",
      "[900]\tvalid_0's rmse: 0.490456\n",
      "[1000]\tvalid_0's rmse: 0.477393\n"
     ]
    },
    {
     "name": "stderr",
     "output_type": "stream",
     "text": [
      "bagging, val_score: 0.477393:  30%|###       | 3/10 [00:55<02:06, 18.14s/it]\u001b[32m[I 2021-08-24 12:02:39,895]\u001b[0m Trial 29 finished with value: 0.4773928871842615 and parameters: {'bagging_fraction': 0.806920876467952, 'bagging_freq': 6}. Best is trial 29 with value: 0.4773928871842615.\u001b[0m\n",
      "bagging, val_score: 0.477393:  30%|###       | 3/10 [00:55<02:06, 18.14s/it]"
     ]
    },
    {
     "name": "stdout",
     "output_type": "stream",
     "text": [
      "[LightGBM] [Warning] Auto-choosing row-wise multi-threading, the overhead of testing was 0.009332 seconds.\n",
      "You can set `force_row_wise=true` to remove the overhead.\n",
      "And if memory is not enough, you can set `force_col_wise=true`.\n",
      "[LightGBM] [Info] Total Bins 3626\n",
      "[LightGBM] [Info] Number of data points in the train set: 225000, number of used features: 24\n",
      "[LightGBM] [Info] Start training from score 8.241327\n",
      "[100]\tvalid_0's rmse: 0.678176\n",
      "[200]\tvalid_0's rmse: 0.641176\n",
      "[300]\tvalid_0's rmse: 0.611818\n",
      "[400]\tvalid_0's rmse: 0.585208\n",
      "[500]\tvalid_0's rmse: 0.562651\n",
      "[600]\tvalid_0's rmse: 0.543271\n",
      "[700]\tvalid_0's rmse: 0.52488\n",
      "[800]\tvalid_0's rmse: 0.508936\n",
      "[900]\tvalid_0's rmse: 0.494234\n",
      "[1000]\tvalid_0's rmse: 0.481412\n"
     ]
    },
    {
     "name": "stderr",
     "output_type": "stream",
     "text": [
      "bagging, val_score: 0.477393:  40%|####      | 4/10 [01:15<01:53, 18.92s/it]\u001b[32m[I 2021-08-24 12:03:00,023]\u001b[0m Trial 30 finished with value: 0.4814123298405602 and parameters: {'bagging_fraction': 0.605010590243102, 'bagging_freq': 6}. Best is trial 29 with value: 0.4773928871842615.\u001b[0m\n",
      "bagging, val_score: 0.477393:  40%|####      | 4/10 [01:15<01:53, 18.92s/it]"
     ]
    },
    {
     "name": "stdout",
     "output_type": "stream",
     "text": [
      "[LightGBM] [Warning] Auto-choosing row-wise multi-threading, the overhead of testing was 0.009911 seconds.\n",
      "You can set `force_row_wise=true` to remove the overhead.\n",
      "And if memory is not enough, you can set `force_col_wise=true`.\n",
      "[LightGBM] [Info] Total Bins 3626\n",
      "[LightGBM] [Info] Number of data points in the train set: 225000, number of used features: 24\n",
      "[LightGBM] [Info] Start training from score 8.241327\n",
      "[100]\tvalid_0's rmse: 0.679895\n",
      "[200]\tvalid_0's rmse: 0.642827\n",
      "[300]\tvalid_0's rmse: 0.612798\n",
      "[400]\tvalid_0's rmse: 0.586665\n",
      "[500]\tvalid_0's rmse: 0.564532\n",
      "[600]\tvalid_0's rmse: 0.545441\n",
      "[700]\tvalid_0's rmse: 0.527454\n",
      "[800]\tvalid_0's rmse: 0.511154\n",
      "[900]\tvalid_0's rmse: 0.496829\n",
      "[1000]\tvalid_0's rmse: 0.484053\n"
     ]
    },
    {
     "name": "stderr",
     "output_type": "stream",
     "text": [
      "bagging, val_score: 0.477393:  50%|#####     | 5/10 [01:33<01:33, 18.75s/it]\u001b[32m[I 2021-08-24 12:03:18,478]\u001b[0m Trial 31 finished with value: 0.4840528426062945 and parameters: {'bagging_fraction': 0.5605361133914, 'bagging_freq': 6}. Best is trial 29 with value: 0.4773928871842615.\u001b[0m\n",
      "bagging, val_score: 0.477393:  50%|#####     | 5/10 [01:33<01:33, 18.75s/it]"
     ]
    },
    {
     "name": "stdout",
     "output_type": "stream",
     "text": [
      "[LightGBM] [Warning] Auto-choosing row-wise multi-threading, the overhead of testing was 0.010994 seconds.\n",
      "You can set `force_row_wise=true` to remove the overhead.\n",
      "And if memory is not enough, you can set `force_col_wise=true`.\n",
      "[LightGBM] [Info] Total Bins 3626\n",
      "[LightGBM] [Info] Number of data points in the train set: 225000, number of used features: 24\n",
      "[LightGBM] [Info] Start training from score 8.241327\n",
      "[100]\tvalid_0's rmse: 0.678648\n",
      "[200]\tvalid_0's rmse: 0.641746\n",
      "[300]\tvalid_0's rmse: 0.612079\n",
      "[400]\tvalid_0's rmse: 0.585973\n",
      "[500]\tvalid_0's rmse: 0.562927\n",
      "[600]\tvalid_0's rmse: 0.542949\n",
      "[700]\tvalid_0's rmse: 0.5249\n",
      "[800]\tvalid_0's rmse: 0.509014\n",
      "[900]\tvalid_0's rmse: 0.49438\n",
      "[1000]\tvalid_0's rmse: 0.481633\n"
     ]
    },
    {
     "name": "stderr",
     "output_type": "stream",
     "text": [
      "bagging, val_score: 0.477393:  60%|######    | 6/10 [01:53<01:16, 19.14s/it]\u001b[32m[I 2021-08-24 12:03:38,373]\u001b[0m Trial 32 finished with value: 0.48163259947090126 and parameters: {'bagging_fraction': 0.5790197023451742, 'bagging_freq': 3}. Best is trial 29 with value: 0.4773928871842615.\u001b[0m\n",
      "bagging, val_score: 0.477393:  60%|######    | 6/10 [01:53<01:16, 19.14s/it]"
     ]
    },
    {
     "name": "stdout",
     "output_type": "stream",
     "text": [
      "[LightGBM] [Warning] Auto-choosing row-wise multi-threading, the overhead of testing was 0.009951 seconds.\n",
      "You can set `force_row_wise=true` to remove the overhead.\n",
      "And if memory is not enough, you can set `force_col_wise=true`.\n",
      "[LightGBM] [Info] Total Bins 3626\n",
      "[LightGBM] [Info] Number of data points in the train set: 225000, number of used features: 24\n",
      "[LightGBM] [Info] Start training from score 8.241327\n",
      "[100]\tvalid_0's rmse: 0.678495\n",
      "[200]\tvalid_0's rmse: 0.64235\n",
      "[300]\tvalid_0's rmse: 0.612209\n",
      "[400]\tvalid_0's rmse: 0.586487\n",
      "[500]\tvalid_0's rmse: 0.563381\n",
      "[600]\tvalid_0's rmse: 0.543087\n",
      "[700]\tvalid_0's rmse: 0.525185\n",
      "[800]\tvalid_0's rmse: 0.509235\n",
      "[900]\tvalid_0's rmse: 0.495371\n",
      "[1000]\tvalid_0's rmse: 0.482546\n"
     ]
    },
    {
     "name": "stderr",
     "output_type": "stream",
     "text": [
      "bagging, val_score: 0.477393:  70%|#######   | 7/10 [02:13<00:57, 19.29s/it]\u001b[32m[I 2021-08-24 12:03:57,983]\u001b[0m Trial 33 finished with value: 0.48254615709850096 and parameters: {'bagging_fraction': 0.5856698663860807, 'bagging_freq': 4}. Best is trial 29 with value: 0.4773928871842615.\u001b[0m\n",
      "bagging, val_score: 0.477393:  70%|#######   | 7/10 [02:13<00:57, 19.29s/it]"
     ]
    },
    {
     "name": "stdout",
     "output_type": "stream",
     "text": [
      "[LightGBM] [Warning] Auto-choosing row-wise multi-threading, the overhead of testing was 0.011137 seconds.\n",
      "You can set `force_row_wise=true` to remove the overhead.\n",
      "And if memory is not enough, you can set `force_col_wise=true`.\n",
      "[LightGBM] [Info] Total Bins 3626\n",
      "[LightGBM] [Info] Number of data points in the train set: 225000, number of used features: 24\n",
      "[LightGBM] [Info] Start training from score 8.241327\n",
      "[100]\tvalid_0's rmse: 0.679132\n",
      "[200]\tvalid_0's rmse: 0.643928\n",
      "[300]\tvalid_0's rmse: 0.613694\n",
      "[400]\tvalid_0's rmse: 0.587868\n",
      "[500]\tvalid_0's rmse: 0.564948\n",
      "[600]\tvalid_0's rmse: 0.544848\n",
      "[700]\tvalid_0's rmse: 0.527529\n",
      "[800]\tvalid_0's rmse: 0.511377\n",
      "[900]\tvalid_0's rmse: 0.496803\n",
      "[1000]\tvalid_0's rmse: 0.484657\n"
     ]
    },
    {
     "name": "stderr",
     "output_type": "stream",
     "text": [
      "bagging, val_score: 0.477393:  80%|########  | 8/10 [02:33<00:39, 19.72s/it]\u001b[32m[I 2021-08-24 12:04:18,611]\u001b[0m Trial 34 finished with value: 0.48465713997558885 and parameters: {'bagging_fraction': 0.5247732621890342, 'bagging_freq': 4}. Best is trial 29 with value: 0.4773928871842615.\u001b[0m\n",
      "bagging, val_score: 0.477393:  80%|########  | 8/10 [02:33<00:39, 19.72s/it]"
     ]
    },
    {
     "name": "stdout",
     "output_type": "stream",
     "text": [
      "[LightGBM] [Warning] Auto-choosing row-wise multi-threading, the overhead of testing was 0.009907 seconds.\n",
      "You can set `force_row_wise=true` to remove the overhead.\n",
      "And if memory is not enough, you can set `force_col_wise=true`.\n",
      "[LightGBM] [Info] Total Bins 3626\n",
      "[LightGBM] [Info] Number of data points in the train set: 225000, number of used features: 24\n",
      "[LightGBM] [Info] Start training from score 8.241327\n",
      "[100]\tvalid_0's rmse: 0.677034\n",
      "[200]\tvalid_0's rmse: 0.639665\n",
      "[300]\tvalid_0's rmse: 0.610026\n",
      "[400]\tvalid_0's rmse: 0.583715\n",
      "[500]\tvalid_0's rmse: 0.561024\n",
      "[600]\tvalid_0's rmse: 0.540241\n",
      "[700]\tvalid_0's rmse: 0.522519\n",
      "[800]\tvalid_0's rmse: 0.506709\n",
      "[900]\tvalid_0's rmse: 0.49242\n",
      "[1000]\tvalid_0's rmse: 0.479783\n"
     ]
    },
    {
     "name": "stderr",
     "output_type": "stream",
     "text": [
      "bagging, val_score: 0.477393:  90%|######### | 9/10 [02:53<00:19, 19.65s/it]\u001b[32m[I 2021-08-24 12:04:38,097]\u001b[0m Trial 35 finished with value: 0.4797830239427608 and parameters: {'bagging_fraction': 0.6931553600315976, 'bagging_freq': 5}. Best is trial 29 with value: 0.4773928871842615.\u001b[0m\n",
      "bagging, val_score: 0.477393:  90%|######### | 9/10 [02:53<00:19, 19.65s/it]"
     ]
    },
    {
     "name": "stdout",
     "output_type": "stream",
     "text": [
      "[LightGBM] [Warning] Auto-choosing row-wise multi-threading, the overhead of testing was 0.012262 seconds.\n",
      "You can set `force_row_wise=true` to remove the overhead.\n",
      "And if memory is not enough, you can set `force_col_wise=true`.\n",
      "[LightGBM] [Info] Total Bins 3626\n",
      "[LightGBM] [Info] Number of data points in the train set: 225000, number of used features: 24\n",
      "[LightGBM] [Info] Start training from score 8.241327\n",
      "[100]\tvalid_0's rmse: 0.679931\n",
      "[200]\tvalid_0's rmse: 0.644649\n",
      "[300]\tvalid_0's rmse: 0.6155\n",
      "[400]\tvalid_0's rmse: 0.590845\n",
      "[500]\tvalid_0's rmse: 0.568357\n",
      "[600]\tvalid_0's rmse: 0.549488\n",
      "[700]\tvalid_0's rmse: 0.532105\n",
      "[800]\tvalid_0's rmse: 0.516237\n",
      "[900]\tvalid_0's rmse: 0.501749\n",
      "[1000]\tvalid_0's rmse: 0.489179\n"
     ]
    },
    {
     "name": "stderr",
     "output_type": "stream",
     "text": [
      "bagging, val_score: 0.477393: 100%|##########| 10/10 [03:11<00:00, 19.22s/it]\u001b[32m[I 2021-08-24 12:04:56,366]\u001b[0m Trial 36 finished with value: 0.48917913969047044 and parameters: {'bagging_fraction': 0.5005639999598571, 'bagging_freq': 7}. Best is trial 29 with value: 0.4773928871842615.\u001b[0m\n",
      "bagging, val_score: 0.477393: 100%|##########| 10/10 [03:11<00:00, 19.15s/it]\n",
      "feature_fraction_stage2, val_score: 0.477393:   0%|          | 0/3 [00:00<?, ?it/s]"
     ]
    },
    {
     "name": "stdout",
     "output_type": "stream",
     "text": [
      "[LightGBM] [Warning] Auto-choosing row-wise multi-threading, the overhead of testing was 0.009847 seconds.\n",
      "You can set `force_row_wise=true` to remove the overhead.\n",
      "And if memory is not enough, you can set `force_col_wise=true`.\n",
      "[LightGBM] [Info] Total Bins 3626\n",
      "[LightGBM] [Info] Number of data points in the train set: 225000, number of used features: 24\n",
      "[LightGBM] [Info] Start training from score 8.241327\n",
      "[100]\tvalid_0's rmse: 0.676636\n",
      "[200]\tvalid_0's rmse: 0.639858\n",
      "[300]\tvalid_0's rmse: 0.61064\n",
      "[400]\tvalid_0's rmse: 0.585101\n",
      "[500]\tvalid_0's rmse: 0.56269\n",
      "[600]\tvalid_0's rmse: 0.542298\n",
      "[700]\tvalid_0's rmse: 0.524236\n",
      "[800]\tvalid_0's rmse: 0.508548\n",
      "[900]\tvalid_0's rmse: 0.494184\n",
      "[1000]\tvalid_0's rmse: 0.481299\n"
     ]
    },
    {
     "name": "stderr",
     "output_type": "stream",
     "text": [
      "feature_fraction_stage2, val_score: 0.477393:  33%|###3      | 1/3 [00:17<00:35, 17.97s/it]\u001b[32m[I 2021-08-24 12:05:14,347]\u001b[0m Trial 37 finished with value: 0.48129934193591517 and parameters: {'feature_fraction': 0.92}. Best is trial 37 with value: 0.48129934193591517.\u001b[0m\n",
      "feature_fraction_stage2, val_score: 0.477393:  33%|###3      | 1/3 [00:17<00:35, 17.97s/it]"
     ]
    },
    {
     "name": "stdout",
     "output_type": "stream",
     "text": [
      "[LightGBM] [Warning] Auto-choosing row-wise multi-threading, the overhead of testing was 0.011689 seconds.\n",
      "You can set `force_row_wise=true` to remove the overhead.\n",
      "And if memory is not enough, you can set `force_col_wise=true`.\n",
      "[LightGBM] [Info] Total Bins 3626\n",
      "[LightGBM] [Info] Number of data points in the train set: 225000, number of used features: 24\n",
      "[LightGBM] [Info] Start training from score 8.241327\n",
      "[100]\tvalid_0's rmse: 0.676107\n",
      "[200]\tvalid_0's rmse: 0.638952\n",
      "[300]\tvalid_0's rmse: 0.608632\n",
      "[400]\tvalid_0's rmse: 0.582162\n",
      "[500]\tvalid_0's rmse: 0.559355\n",
      "[600]\tvalid_0's rmse: 0.538529\n",
      "[700]\tvalid_0's rmse: 0.520738\n",
      "[800]\tvalid_0's rmse: 0.504786\n",
      "[900]\tvalid_0's rmse: 0.490456\n",
      "[1000]\tvalid_0's rmse: 0.477393\n"
     ]
    },
    {
     "name": "stderr",
     "output_type": "stream",
     "text": [
      "feature_fraction_stage2, val_score: 0.477393:  67%|######6   | 2/3 [00:36<00:18, 18.19s/it]\u001b[32m[I 2021-08-24 12:05:32,694]\u001b[0m Trial 38 finished with value: 0.4773928871842615 and parameters: {'feature_fraction': 0.9840000000000001}. Best is trial 38 with value: 0.4773928871842615.\u001b[0m\n",
      "feature_fraction_stage2, val_score: 0.477393:  67%|######6   | 2/3 [00:36<00:18, 18.19s/it]"
     ]
    },
    {
     "name": "stdout",
     "output_type": "stream",
     "text": [
      "[LightGBM] [Warning] Auto-choosing row-wise multi-threading, the overhead of testing was 0.013355 seconds.\n",
      "You can set `force_row_wise=true` to remove the overhead.\n",
      "And if memory is not enough, you can set `force_col_wise=true`.\n",
      "[LightGBM] [Info] Total Bins 3626\n",
      "[LightGBM] [Info] Number of data points in the train set: 225000, number of used features: 24\n",
      "[LightGBM] [Info] Start training from score 8.241327\n",
      "[100]\tvalid_0's rmse: 0.676555\n",
      "[200]\tvalid_0's rmse: 0.638985\n",
      "[300]\tvalid_0's rmse: 0.609466\n",
      "[400]\tvalid_0's rmse: 0.583565\n",
      "[500]\tvalid_0's rmse: 0.5609\n",
      "[600]\tvalid_0's rmse: 0.540728\n",
      "[700]\tvalid_0's rmse: 0.523108\n",
      "[800]\tvalid_0's rmse: 0.50703\n",
      "[900]\tvalid_0's rmse: 0.492453\n",
      "[1000]\tvalid_0's rmse: 0.479784\n"
     ]
    },
    {
     "name": "stderr",
     "output_type": "stream",
     "text": [
      "feature_fraction_stage2, val_score: 0.477393: 100%|##########| 3/3 [00:54<00:00, 18.21s/it]\u001b[32m[I 2021-08-24 12:05:50,920]\u001b[0m Trial 39 finished with value: 0.4797843541637209 and parameters: {'feature_fraction': 0.9520000000000001}. Best is trial 38 with value: 0.4773928871842615.\u001b[0m\n",
      "feature_fraction_stage2, val_score: 0.477393: 100%|##########| 3/3 [00:54<00:00, 18.18s/it]\n",
      "regularization_factors, val_score: 0.477393:   0%|          | 0/20 [00:00<?, ?it/s]"
     ]
    },
    {
     "name": "stdout",
     "output_type": "stream",
     "text": [
      "[LightGBM] [Warning] Auto-choosing row-wise multi-threading, the overhead of testing was 0.013732 seconds.\n",
      "You can set `force_row_wise=true` to remove the overhead.\n",
      "And if memory is not enough, you can set `force_col_wise=true`.\n",
      "[LightGBM] [Info] Total Bins 3626\n",
      "[LightGBM] [Info] Number of data points in the train set: 225000, number of used features: 24\n",
      "[LightGBM] [Info] Start training from score 8.241327\n",
      "[100]\tvalid_0's rmse: 0.677121\n",
      "[200]\tvalid_0's rmse: 0.639971\n",
      "[300]\tvalid_0's rmse: 0.610265\n",
      "[400]\tvalid_0's rmse: 0.584365\n",
      "[500]\tvalid_0's rmse: 0.561347\n",
      "[600]\tvalid_0's rmse: 0.541475\n",
      "[700]\tvalid_0's rmse: 0.523156\n",
      "[800]\tvalid_0's rmse: 0.507479\n",
      "[900]\tvalid_0's rmse: 0.493308\n",
      "[1000]\tvalid_0's rmse: 0.480657\n"
     ]
    },
    {
     "name": "stderr",
     "output_type": "stream",
     "text": [
      "regularization_factors, val_score: 0.477393:   5%|5         | 1/20 [00:22<07:08, 22.56s/it]\u001b[32m[I 2021-08-24 12:06:13,491]\u001b[0m Trial 40 finished with value: 0.4806565503645763 and parameters: {'lambda_l1': 0.7947186647888971, 'lambda_l2': 1.0392489952504564e-05}. Best is trial 40 with value: 0.4806565503645763.\u001b[0m\n",
      "regularization_factors, val_score: 0.477393:   5%|5         | 1/20 [00:22<07:08, 22.56s/it]"
     ]
    },
    {
     "name": "stdout",
     "output_type": "stream",
     "text": [
      "[LightGBM] [Warning] Auto-choosing row-wise multi-threading, the overhead of testing was 0.007966 seconds.\n",
      "You can set `force_row_wise=true` to remove the overhead.\n",
      "And if memory is not enough, you can set `force_col_wise=true`.\n",
      "[LightGBM] [Info] Total Bins 3626\n",
      "[LightGBM] [Info] Number of data points in the train set: 225000, number of used features: 24\n",
      "[LightGBM] [Info] Start training from score 8.241327\n",
      "[100]\tvalid_0's rmse: 0.67627\n",
      "[200]\tvalid_0's rmse: 0.638928\n",
      "[300]\tvalid_0's rmse: 0.608692\n",
      "[400]\tvalid_0's rmse: 0.582719\n",
      "[500]\tvalid_0's rmse: 0.55933\n",
      "[600]\tvalid_0's rmse: 0.538943\n",
      "[700]\tvalid_0's rmse: 0.521363\n",
      "[800]\tvalid_0's rmse: 0.505438\n",
      "[900]\tvalid_0's rmse: 0.491381\n",
      "[1000]\tvalid_0's rmse: 0.478623\n"
     ]
    },
    {
     "name": "stderr",
     "output_type": "stream",
     "text": [
      "regularization_factors, val_score: 0.477393:  10%|#         | 2/20 [00:43<06:29, 21.63s/it]\u001b[32m[I 2021-08-24 12:06:34,459]\u001b[0m Trial 41 finished with value: 0.47862338956786654 and parameters: {'lambda_l1': 0.005105624667615468, 'lambda_l2': 2.892122895057885e-06}. Best is trial 41 with value: 0.47862338956786654.\u001b[0m\n",
      "regularization_factors, val_score: 0.477393:  10%|#         | 2/20 [00:43<06:29, 21.63s/it]"
     ]
    },
    {
     "name": "stdout",
     "output_type": "stream",
     "text": [
      "[LightGBM] [Warning] Auto-choosing row-wise multi-threading, the overhead of testing was 0.010686 seconds.\n",
      "You can set `force_row_wise=true` to remove the overhead.\n",
      "And if memory is not enough, you can set `force_col_wise=true`.\n",
      "[LightGBM] [Info] Total Bins 3626\n",
      "[LightGBM] [Info] Number of data points in the train set: 225000, number of used features: 24\n",
      "[LightGBM] [Info] Start training from score 8.241327\n",
      "[100]\tvalid_0's rmse: 0.679782\n",
      "[200]\tvalid_0's rmse: 0.64486\n",
      "[300]\tvalid_0's rmse: 0.616697\n",
      "[400]\tvalid_0's rmse: 0.592489\n",
      "[500]\tvalid_0's rmse: 0.571075\n",
      "[600]\tvalid_0's rmse: 0.552197\n",
      "[700]\tvalid_0's rmse: 0.535078\n",
      "[800]\tvalid_0's rmse: 0.519737\n",
      "[900]\tvalid_0's rmse: 0.505798\n",
      "[1000]\tvalid_0's rmse: 0.493181\n"
     ]
    },
    {
     "name": "stderr",
     "output_type": "stream",
     "text": [
      "regularization_factors, val_score: 0.477393:  15%|#5        | 3/20 [01:06<06:14, 22.03s/it]\u001b[32m[I 2021-08-24 12:06:56,970]\u001b[0m Trial 42 finished with value: 0.4931806695552483 and parameters: {'lambda_l1': 0.048565865965053044, 'lambda_l2': 9.91145814841399}. Best is trial 41 with value: 0.47862338956786654.\u001b[0m\n",
      "regularization_factors, val_score: 0.477393:  15%|#5        | 3/20 [01:06<06:14, 22.03s/it]"
     ]
    },
    {
     "name": "stdout",
     "output_type": "stream",
     "text": [
      "[LightGBM] [Warning] Auto-choosing row-wise multi-threading, the overhead of testing was 0.011892 seconds.\n",
      "You can set `force_row_wise=true` to remove the overhead.\n",
      "And if memory is not enough, you can set `force_col_wise=true`.\n",
      "[LightGBM] [Info] Total Bins 3626\n",
      "[LightGBM] [Info] Number of data points in the train set: 225000, number of used features: 24\n",
      "[LightGBM] [Info] Start training from score 8.241327\n",
      "[100]\tvalid_0's rmse: 0.676107\n",
      "[200]\tvalid_0's rmse: 0.638952\n",
      "[300]\tvalid_0's rmse: 0.608632\n",
      "[400]\tvalid_0's rmse: 0.582162\n",
      "[500]\tvalid_0's rmse: 0.559355\n",
      "[600]\tvalid_0's rmse: 0.538529\n",
      "[700]\tvalid_0's rmse: 0.520738\n",
      "[800]\tvalid_0's rmse: 0.504765\n",
      "[900]\tvalid_0's rmse: 0.490265\n",
      "[1000]\tvalid_0's rmse: 0.47736\n"
     ]
    },
    {
     "name": "stderr",
     "output_type": "stream",
     "text": [
      "regularization_factors, val_score: 0.477360:  20%|##        | 4/20 [01:25<05:39, 21.20s/it]\u001b[32m[I 2021-08-24 12:07:16,906]\u001b[0m Trial 43 finished with value: 0.47735968248816923 and parameters: {'lambda_l1': 1.8813403583442569e-07, 'lambda_l2': 1.7517015026012234e-06}. Best is trial 43 with value: 0.47735968248816923.\u001b[0m\n",
      "regularization_factors, val_score: 0.477360:  20%|##        | 4/20 [01:25<05:39, 21.20s/it]"
     ]
    },
    {
     "name": "stdout",
     "output_type": "stream",
     "text": [
      "[LightGBM] [Warning] Auto-choosing row-wise multi-threading, the overhead of testing was 0.012907 seconds.\n",
      "You can set `force_row_wise=true` to remove the overhead.\n",
      "And if memory is not enough, you can set `force_col_wise=true`.\n",
      "[LightGBM] [Info] Total Bins 3626\n",
      "[LightGBM] [Info] Number of data points in the train set: 225000, number of used features: 24\n",
      "[LightGBM] [Info] Start training from score 8.241327\n",
      "[100]\tvalid_0's rmse: 0.676541\n",
      "[200]\tvalid_0's rmse: 0.639301\n",
      "[300]\tvalid_0's rmse: 0.609272\n",
      "[400]\tvalid_0's rmse: 0.582851\n",
      "[500]\tvalid_0's rmse: 0.559655\n",
      "[600]\tvalid_0's rmse: 0.53968\n",
      "[700]\tvalid_0's rmse: 0.522672\n",
      "[800]\tvalid_0's rmse: 0.506725\n",
      "[900]\tvalid_0's rmse: 0.492211\n",
      "[1000]\tvalid_0's rmse: 0.479524\n"
     ]
    },
    {
     "name": "stderr",
     "output_type": "stream",
     "text": [
      "regularization_factors, val_score: 0.477360:  25%|##5       | 5/20 [01:46<05:13, 20.87s/it]\u001b[32m[I 2021-08-24 12:07:37,179]\u001b[0m Trial 44 finished with value: 0.4795240936143834 and parameters: {'lambda_l1': 0.01998682610677897, 'lambda_l2': 0.0906578949924497}. Best is trial 43 with value: 0.47735968248816923.\u001b[0m\n",
      "regularization_factors, val_score: 0.477360:  25%|##5       | 5/20 [01:46<05:13, 20.87s/it]"
     ]
    },
    {
     "name": "stdout",
     "output_type": "stream",
     "text": [
      "[LightGBM] [Warning] Auto-choosing row-wise multi-threading, the overhead of testing was 0.009374 seconds.\n",
      "You can set `force_row_wise=true` to remove the overhead.\n",
      "And if memory is not enough, you can set `force_col_wise=true`.\n",
      "[LightGBM] [Info] Total Bins 3626\n",
      "[LightGBM] [Info] Number of data points in the train set: 225000, number of used features: 24\n",
      "[LightGBM] [Info] Start training from score 8.241327\n",
      "[100]\tvalid_0's rmse: 0.676152\n",
      "[200]\tvalid_0's rmse: 0.638883\n",
      "[300]\tvalid_0's rmse: 0.608849\n",
      "[400]\tvalid_0's rmse: 0.582193\n",
      "[500]\tvalid_0's rmse: 0.559673\n",
      "[600]\tvalid_0's rmse: 0.539191\n",
      "[700]\tvalid_0's rmse: 0.521305\n",
      "[800]\tvalid_0's rmse: 0.505239\n",
      "[900]\tvalid_0's rmse: 0.491003\n",
      "[1000]\tvalid_0's rmse: 0.477857\n"
     ]
    },
    {
     "name": "stderr",
     "output_type": "stream",
     "text": [
      "regularization_factors, val_score: 0.477360:  30%|###       | 6/20 [02:05<04:44, 20.31s/it]\u001b[32m[I 2021-08-24 12:07:56,399]\u001b[0m Trial 45 finished with value: 0.47785665357008755 and parameters: {'lambda_l1': 1.2601040363214194e-06, 'lambda_l2': 0.025073291235840026}. Best is trial 43 with value: 0.47735968248816923.\u001b[0m\n",
      "regularization_factors, val_score: 0.477360:  30%|###       | 6/20 [02:05<04:44, 20.31s/it]"
     ]
    },
    {
     "name": "stdout",
     "output_type": "stream",
     "text": [
      "[LightGBM] [Warning] Auto-choosing row-wise multi-threading, the overhead of testing was 0.010137 seconds.\n",
      "You can set `force_row_wise=true` to remove the overhead.\n",
      "And if memory is not enough, you can set `force_col_wise=true`.\n",
      "[LightGBM] [Info] Total Bins 3626\n",
      "[LightGBM] [Info] Number of data points in the train set: 225000, number of used features: 24\n",
      "[LightGBM] [Info] Start training from score 8.241327\n",
      "[100]\tvalid_0's rmse: 0.676137\n",
      "[200]\tvalid_0's rmse: 0.63893\n",
      "[300]\tvalid_0's rmse: 0.608429\n",
      "[400]\tvalid_0's rmse: 0.582332\n",
      "[500]\tvalid_0's rmse: 0.559526\n",
      "[600]\tvalid_0's rmse: 0.538831\n",
      "[700]\tvalid_0's rmse: 0.521057\n",
      "[800]\tvalid_0's rmse: 0.505026\n",
      "[900]\tvalid_0's rmse: 0.490686\n",
      "[1000]\tvalid_0's rmse: 0.478128\n"
     ]
    },
    {
     "name": "stderr",
     "output_type": "stream",
     "text": [
      "regularization_factors, val_score: 0.477360:  35%|###5      | 7/20 [02:25<04:22, 20.19s/it]\u001b[32m[I 2021-08-24 12:08:16,360]\u001b[0m Trial 46 finished with value: 0.4781281659673435 and parameters: {'lambda_l1': 0.044851807573498444, 'lambda_l2': 0.0012478876801477648}. Best is trial 43 with value: 0.47735968248816923.\u001b[0m\n",
      "regularization_factors, val_score: 0.477360:  35%|###5      | 7/20 [02:25<04:22, 20.19s/it]"
     ]
    },
    {
     "name": "stdout",
     "output_type": "stream",
     "text": [
      "[LightGBM] [Warning] Auto-choosing row-wise multi-threading, the overhead of testing was 0.009173 seconds.\n",
      "You can set `force_row_wise=true` to remove the overhead.\n",
      "And if memory is not enough, you can set `force_col_wise=true`.\n",
      "[LightGBM] [Info] Total Bins 3626\n",
      "[LightGBM] [Info] Number of data points in the train set: 225000, number of used features: 24\n",
      "[LightGBM] [Info] Start training from score 8.241327\n",
      "[100]\tvalid_0's rmse: 0.676079\n",
      "[200]\tvalid_0's rmse: 0.638313\n",
      "[300]\tvalid_0's rmse: 0.608416\n",
      "[400]\tvalid_0's rmse: 0.582004\n",
      "[500]\tvalid_0's rmse: 0.559623\n",
      "[600]\tvalid_0's rmse: 0.539052\n",
      "[700]\tvalid_0's rmse: 0.521437\n",
      "[800]\tvalid_0's rmse: 0.504938\n",
      "[900]\tvalid_0's rmse: 0.490387\n",
      "[1000]\tvalid_0's rmse: 0.477914\n"
     ]
    },
    {
     "name": "stderr",
     "output_type": "stream",
     "text": [
      "regularization_factors, val_score: 0.477360:  40%|####      | 8/20 [02:44<03:59, 19.94s/it]\u001b[32m[I 2021-08-24 12:08:35,769]\u001b[0m Trial 47 finished with value: 0.4779140510798873 and parameters: {'lambda_l1': 5.5130617569198926e-06, 'lambda_l2': 0.0001073862887271493}. Best is trial 43 with value: 0.47735968248816923.\u001b[0m\n",
      "regularization_factors, val_score: 0.477360:  40%|####      | 8/20 [02:44<03:59, 19.94s/it]"
     ]
    },
    {
     "name": "stdout",
     "output_type": "stream",
     "text": [
      "[LightGBM] [Warning] Auto-choosing row-wise multi-threading, the overhead of testing was 0.010589 seconds.\n",
      "You can set `force_row_wise=true` to remove the overhead.\n",
      "And if memory is not enough, you can set `force_col_wise=true`.\n",
      "[LightGBM] [Info] Total Bins 3626\n",
      "[LightGBM] [Info] Number of data points in the train set: 225000, number of used features: 24\n",
      "[LightGBM] [Info] Start training from score 8.241327\n",
      "[100]\tvalid_0's rmse: 0.675976\n",
      "[200]\tvalid_0's rmse: 0.638855\n",
      "[300]\tvalid_0's rmse: 0.60865\n",
      "[400]\tvalid_0's rmse: 0.582428\n",
      "[500]\tvalid_0's rmse: 0.559796\n",
      "[600]\tvalid_0's rmse: 0.539511\n",
      "[700]\tvalid_0's rmse: 0.52172\n",
      "[800]\tvalid_0's rmse: 0.505922\n",
      "[900]\tvalid_0's rmse: 0.491562\n",
      "[1000]\tvalid_0's rmse: 0.478553\n"
     ]
    },
    {
     "name": "stderr",
     "output_type": "stream",
     "text": [
      "regularization_factors, val_score: 0.477360:  45%|####5     | 9/20 [03:04<03:39, 19.98s/it]\u001b[32m[I 2021-08-24 12:08:55,826]\u001b[0m Trial 48 finished with value: 0.47855308209624725 and parameters: {'lambda_l1': 4.391865991194566e-07, 'lambda_l2': 0.00042128143244297284}. Best is trial 43 with value: 0.47735968248816923.\u001b[0m\n",
      "regularization_factors, val_score: 0.477360:  45%|####5     | 9/20 [03:04<03:39, 19.98s/it]"
     ]
    },
    {
     "name": "stdout",
     "output_type": "stream",
     "text": [
      "[LightGBM] [Warning] Auto-choosing row-wise multi-threading, the overhead of testing was 0.013567 seconds.\n",
      "You can set `force_row_wise=true` to remove the overhead.\n",
      "And if memory is not enough, you can set `force_col_wise=true`.\n",
      "[LightGBM] [Info] Total Bins 3626\n",
      "[LightGBM] [Info] Number of data points in the train set: 225000, number of used features: 24\n",
      "[LightGBM] [Info] Start training from score 8.241327\n",
      "[100]\tvalid_0's rmse: 0.677833\n",
      "[200]\tvalid_0's rmse: 0.640971\n",
      "[300]\tvalid_0's rmse: 0.61174\n",
      "[400]\tvalid_0's rmse: 0.586617\n",
      "[500]\tvalid_0's rmse: 0.563808\n",
      "[600]\tvalid_0's rmse: 0.544216\n",
      "[700]\tvalid_0's rmse: 0.526892\n",
      "[800]\tvalid_0's rmse: 0.511374\n",
      "[900]\tvalid_0's rmse: 0.496943\n",
      "[1000]\tvalid_0's rmse: 0.484573\n"
     ]
    },
    {
     "name": "stderr",
     "output_type": "stream",
     "text": [
      "regularization_factors, val_score: 0.477360:  50%|#####     | 10/20 [03:24<03:19, 19.97s/it]\u001b[32m[I 2021-08-24 12:09:15,768]\u001b[0m Trial 49 finished with value: 0.4845725535828002 and parameters: {'lambda_l1': 1.3966004953682603, 'lambda_l2': 3.568649526045772e-07}. Best is trial 43 with value: 0.47735968248816923.\u001b[0m\n",
      "regularization_factors, val_score: 0.477360:  50%|#####     | 10/20 [03:24<03:19, 19.97s/it]"
     ]
    },
    {
     "name": "stdout",
     "output_type": "stream",
     "text": [
      "[LightGBM] [Warning] Auto-choosing row-wise multi-threading, the overhead of testing was 0.012073 seconds.\n",
      "You can set `force_row_wise=true` to remove the overhead.\n",
      "And if memory is not enough, you can set `force_col_wise=true`.\n",
      "[LightGBM] [Info] Total Bins 3626\n",
      "[LightGBM] [Info] Number of data points in the train set: 225000, number of used features: 24\n",
      "[LightGBM] [Info] Start training from score 8.241327\n",
      "[100]\tvalid_0's rmse: 0.676107\n",
      "[200]\tvalid_0's rmse: 0.638952\n",
      "[300]\tvalid_0's rmse: 0.608632\n",
      "[400]\tvalid_0's rmse: 0.582162\n",
      "[500]\tvalid_0's rmse: 0.559355\n",
      "[600]\tvalid_0's rmse: 0.538529\n",
      "[700]\tvalid_0's rmse: 0.520738\n",
      "[800]\tvalid_0's rmse: 0.504786\n",
      "[900]\tvalid_0's rmse: 0.490554\n",
      "[1000]\tvalid_0's rmse: 0.477709\n"
     ]
    },
    {
     "name": "stderr",
     "output_type": "stream",
     "text": [
      "regularization_factors, val_score: 0.477360:  55%|#####5    | 11/20 [03:42<02:52, 19.15s/it]\u001b[32m[I 2021-08-24 12:09:33,059]\u001b[0m Trial 50 finished with value: 0.47770867177462734 and parameters: {'lambda_l1': 1.2035302246228018e-08, 'lambda_l2': 1.1161304376845927e-08}. Best is trial 43 with value: 0.47735968248816923.\u001b[0m\n",
      "regularization_factors, val_score: 0.477360:  55%|#####5    | 11/20 [03:42<02:52, 19.15s/it]"
     ]
    },
    {
     "name": "stdout",
     "output_type": "stream",
     "text": [
      "[LightGBM] [Warning] Auto-choosing row-wise multi-threading, the overhead of testing was 0.013529 seconds.\n",
      "You can set `force_row_wise=true` to remove the overhead.\n",
      "And if memory is not enough, you can set `force_col_wise=true`.\n",
      "[LightGBM] [Info] Total Bins 3626\n",
      "[LightGBM] [Info] Number of data points in the train set: 225000, number of used features: 24\n",
      "[LightGBM] [Info] Start training from score 8.241327\n",
      "[100]\tvalid_0's rmse: 0.676107\n",
      "[200]\tvalid_0's rmse: 0.638952\n",
      "[300]\tvalid_0's rmse: 0.608632\n",
      "[400]\tvalid_0's rmse: 0.582162\n",
      "[500]\tvalid_0's rmse: 0.559355\n",
      "[600]\tvalid_0's rmse: 0.538529\n",
      "[700]\tvalid_0's rmse: 0.520738\n",
      "[800]\tvalid_0's rmse: 0.504786\n",
      "[900]\tvalid_0's rmse: 0.490554\n",
      "[1000]\tvalid_0's rmse: 0.477709\n"
     ]
    },
    {
     "name": "stderr",
     "output_type": "stream",
     "text": [
      "regularization_factors, val_score: 0.477360:  60%|######    | 12/20 [03:59<02:28, 18.52s/it]\u001b[32m[I 2021-08-24 12:09:50,141]\u001b[0m Trial 51 finished with value: 0.4777086717813429 and parameters: {'lambda_l1': 1.0090047188735027e-08, 'lambda_l2': 2.097659292782149e-08}. Best is trial 43 with value: 0.47735968248816923.\u001b[0m\n",
      "regularization_factors, val_score: 0.477360:  60%|######    | 12/20 [03:59<02:28, 18.52s/it]"
     ]
    },
    {
     "name": "stdout",
     "output_type": "stream",
     "text": [
      "[LightGBM] [Warning] Auto-choosing row-wise multi-threading, the overhead of testing was 0.012223 seconds.\n",
      "You can set `force_row_wise=true` to remove the overhead.\n",
      "And if memory is not enough, you can set `force_col_wise=true`.\n",
      "[LightGBM] [Info] Total Bins 3626\n",
      "[LightGBM] [Info] Number of data points in the train set: 225000, number of used features: 24\n",
      "[LightGBM] [Info] Start training from score 8.241327\n",
      "[100]\tvalid_0's rmse: 0.676107\n",
      "[200]\tvalid_0's rmse: 0.638952\n",
      "[300]\tvalid_0's rmse: 0.608632\n",
      "[400]\tvalid_0's rmse: 0.582162\n",
      "[500]\tvalid_0's rmse: 0.559355\n",
      "[600]\tvalid_0's rmse: 0.538529\n",
      "[700]\tvalid_0's rmse: 0.520738\n",
      "[800]\tvalid_0's rmse: 0.504785\n",
      "[900]\tvalid_0's rmse: 0.490364\n",
      "[1000]\tvalid_0's rmse: 0.4775\n"
     ]
    },
    {
     "name": "stderr",
     "output_type": "stream",
     "text": [
      "regularization_factors, val_score: 0.477360:  65%|######5   | 13/20 [04:16<02:07, 18.21s/it]\u001b[32m[I 2021-08-24 12:10:07,645]\u001b[0m Trial 52 finished with value: 0.4775002955601717 and parameters: {'lambda_l1': 2.1615784204897148e-08, 'lambda_l2': 2.2529933803286385e-08}. Best is trial 43 with value: 0.47735968248816923.\u001b[0m\n",
      "regularization_factors, val_score: 0.477360:  65%|######5   | 13/20 [04:16<02:07, 18.21s/it]"
     ]
    },
    {
     "name": "stdout",
     "output_type": "stream",
     "text": [
      "[LightGBM] [Warning] Auto-choosing row-wise multi-threading, the overhead of testing was 0.008903 seconds.\n",
      "You can set `force_row_wise=true` to remove the overhead.\n",
      "And if memory is not enough, you can set `force_col_wise=true`.\n",
      "[LightGBM] [Info] Total Bins 3626\n",
      "[LightGBM] [Info] Number of data points in the train set: 225000, number of used features: 24\n",
      "[LightGBM] [Info] Start training from score 8.241327\n",
      "[100]\tvalid_0's rmse: 0.676426\n",
      "[200]\tvalid_0's rmse: 0.63919\n",
      "[300]\tvalid_0's rmse: 0.609105\n",
      "[400]\tvalid_0's rmse: 0.58242\n",
      "[500]\tvalid_0's rmse: 0.559811\n",
      "[600]\tvalid_0's rmse: 0.539571\n",
      "[700]\tvalid_0's rmse: 0.522301\n",
      "[800]\tvalid_0's rmse: 0.506055\n",
      "[900]\tvalid_0's rmse: 0.491976\n",
      "[1000]\tvalid_0's rmse: 0.479349\n"
     ]
    },
    {
     "name": "stderr",
     "output_type": "stream",
     "text": [
      "regularization_factors, val_score: 0.477360:  70%|#######   | 14/20 [04:34<01:48, 18.00s/it]\u001b[32m[I 2021-08-24 12:10:25,164]\u001b[0m Trial 53 finished with value: 0.47934853041240955 and parameters: {'lambda_l1': 5.260660796332254e-05, 'lambda_l2': 1.3815807692555676e-07}. Best is trial 43 with value: 0.47735968248816923.\u001b[0m\n",
      "regularization_factors, val_score: 0.477360:  70%|#######   | 14/20 [04:34<01:48, 18.00s/it]"
     ]
    },
    {
     "name": "stdout",
     "output_type": "stream",
     "text": [
      "[LightGBM] [Warning] Auto-choosing row-wise multi-threading, the overhead of testing was 0.011682 seconds.\n",
      "You can set `force_row_wise=true` to remove the overhead.\n",
      "And if memory is not enough, you can set `force_col_wise=true`.\n",
      "[LightGBM] [Info] Total Bins 3626\n",
      "[LightGBM] [Info] Number of data points in the train set: 225000, number of used features: 24\n",
      "[LightGBM] [Info] Start training from score 8.241327\n",
      "[100]\tvalid_0's rmse: 0.676107\n",
      "[200]\tvalid_0's rmse: 0.638952\n",
      "[300]\tvalid_0's rmse: 0.608632\n",
      "[400]\tvalid_0's rmse: 0.582162\n",
      "[500]\tvalid_0's rmse: 0.559355\n",
      "[600]\tvalid_0's rmse: 0.538529\n",
      "[700]\tvalid_0's rmse: 0.520738\n",
      "[800]\tvalid_0's rmse: 0.504785\n",
      "[900]\tvalid_0's rmse: 0.490364\n",
      "[1000]\tvalid_0's rmse: 0.4775\n"
     ]
    },
    {
     "name": "stderr",
     "output_type": "stream",
     "text": [
      "regularization_factors, val_score: 0.477360:  75%|#######5  | 15/20 [04:51<01:29, 17.82s/it]\u001b[32m[I 2021-08-24 12:10:42,555]\u001b[0m Trial 54 finished with value: 0.4775002997446693 and parameters: {'lambda_l1': 3.121499905112848e-08, 'lambda_l2': 1.2889757334848334e-06}. Best is trial 43 with value: 0.47735968248816923.\u001b[0m\n",
      "regularization_factors, val_score: 0.477360:  75%|#######5  | 15/20 [04:51<01:29, 17.82s/it]"
     ]
    },
    {
     "name": "stdout",
     "output_type": "stream",
     "text": [
      "[LightGBM] [Warning] Auto-choosing row-wise multi-threading, the overhead of testing was 0.014491 seconds.\n",
      "You can set `force_row_wise=true` to remove the overhead.\n",
      "And if memory is not enough, you can set `force_col_wise=true`.\n",
      "[LightGBM] [Info] Total Bins 3626\n",
      "[LightGBM] [Info] Number of data points in the train set: 225000, number of used features: 24\n",
      "[LightGBM] [Info] Start training from score 8.241327\n",
      "[100]\tvalid_0's rmse: 0.676107\n",
      "[200]\tvalid_0's rmse: 0.638952\n",
      "[300]\tvalid_0's rmse: 0.608632\n",
      "[400]\tvalid_0's rmse: 0.582162\n",
      "[500]\tvalid_0's rmse: 0.559355\n",
      "[600]\tvalid_0's rmse: 0.538529\n",
      "[700]\tvalid_0's rmse: 0.520738\n",
      "[800]\tvalid_0's rmse: 0.504785\n",
      "[900]\tvalid_0's rmse: 0.490355\n",
      "[1000]\tvalid_0's rmse: 0.477423\n"
     ]
    },
    {
     "name": "stderr",
     "output_type": "stream",
     "text": [
      "regularization_factors, val_score: 0.477360:  80%|########  | 16/20 [05:09<01:10, 17.74s/it]\u001b[32m[I 2021-08-24 12:11:00,104]\u001b[0m Trial 55 finished with value: 0.4774233278596612 and parameters: {'lambda_l1': 1.3451326635236655e-07, 'lambda_l2': 1.0560031050640483e-08}. Best is trial 43 with value: 0.47735968248816923.\u001b[0m\n",
      "regularization_factors, val_score: 0.477360:  80%|########  | 16/20 [05:09<01:10, 17.74s/it]"
     ]
    },
    {
     "name": "stdout",
     "output_type": "stream",
     "text": [
      "[LightGBM] [Warning] Auto-choosing row-wise multi-threading, the overhead of testing was 0.009265 seconds.\n",
      "You can set `force_row_wise=true` to remove the overhead.\n",
      "And if memory is not enough, you can set `force_col_wise=true`.\n",
      "[LightGBM] [Info] Total Bins 3626\n",
      "[LightGBM] [Info] Number of data points in the train set: 225000, number of used features: 24\n",
      "[LightGBM] [Info] Start training from score 8.241327\n",
      "[100]\tvalid_0's rmse: 0.676742\n",
      "[200]\tvalid_0's rmse: 0.639039\n",
      "[300]\tvalid_0's rmse: 0.608775\n",
      "[400]\tvalid_0's rmse: 0.582014\n",
      "[500]\tvalid_0's rmse: 0.559499\n",
      "[600]\tvalid_0's rmse: 0.53913\n",
      "[700]\tvalid_0's rmse: 0.521428\n",
      "[800]\tvalid_0's rmse: 0.50533\n",
      "[900]\tvalid_0's rmse: 0.491225\n",
      "[1000]\tvalid_0's rmse: 0.478586\n"
     ]
    },
    {
     "name": "stderr",
     "output_type": "stream",
     "text": [
      "regularization_factors, val_score: 0.477360:  85%|########5 | 17/20 [05:26<00:52, 17.65s/it]\u001b[32m[I 2021-08-24 12:11:17,548]\u001b[0m Trial 56 finished with value: 0.478586011754708 and parameters: {'lambda_l1': 0.00017028170851008778, 'lambda_l2': 1.3966640119263212e-05}. Best is trial 43 with value: 0.47735968248816923.\u001b[0m\n",
      "regularization_factors, val_score: 0.477360:  85%|########5 | 17/20 [05:26<00:52, 17.65s/it]"
     ]
    },
    {
     "name": "stdout",
     "output_type": "stream",
     "text": [
      "[LightGBM] [Warning] Auto-choosing row-wise multi-threading, the overhead of testing was 0.009592 seconds.\n",
      "You can set `force_row_wise=true` to remove the overhead.\n",
      "And if memory is not enough, you can set `force_col_wise=true`.\n",
      "[LightGBM] [Info] Total Bins 3626\n",
      "[LightGBM] [Info] Number of data points in the train set: 225000, number of used features: 24\n",
      "[LightGBM] [Info] Start training from score 8.241327\n",
      "[100]\tvalid_0's rmse: 0.676107\n",
      "[200]\tvalid_0's rmse: 0.638952\n",
      "[300]\tvalid_0's rmse: 0.608838\n",
      "[400]\tvalid_0's rmse: 0.582548\n",
      "[500]\tvalid_0's rmse: 0.559151\n",
      "[600]\tvalid_0's rmse: 0.539312\n",
      "[700]\tvalid_0's rmse: 0.521435\n",
      "[800]\tvalid_0's rmse: 0.505348\n",
      "[900]\tvalid_0's rmse: 0.491026\n",
      "[1000]\tvalid_0's rmse: 0.478151\n"
     ]
    },
    {
     "name": "stderr",
     "output_type": "stream",
     "text": [
      "regularization_factors, val_score: 0.477360:  90%|######### | 18/20 [05:43<00:35, 17.53s/it]\u001b[32m[I 2021-08-24 12:11:34,790]\u001b[0m Trial 57 finished with value: 0.47815099477968687 and parameters: {'lambda_l1': 2.9126399184907033e-07, 'lambda_l2': 1.461666803238327e-07}. Best is trial 43 with value: 0.47735968248816923.\u001b[0m\n",
      "regularization_factors, val_score: 0.477360:  90%|######### | 18/20 [05:43<00:35, 17.53s/it]"
     ]
    },
    {
     "name": "stdout",
     "output_type": "stream",
     "text": [
      "[LightGBM] [Warning] Auto-choosing row-wise multi-threading, the overhead of testing was 0.014005 seconds.\n",
      "You can set `force_row_wise=true` to remove the overhead.\n",
      "And if memory is not enough, you can set `force_col_wise=true`.\n",
      "[LightGBM] [Info] Total Bins 3626\n",
      "[LightGBM] [Info] Number of data points in the train set: 225000, number of used features: 24\n",
      "[LightGBM] [Info] Start training from score 8.241327\n",
      "[100]\tvalid_0's rmse: 0.676079\n",
      "[200]\tvalid_0's rmse: 0.638313\n",
      "[300]\tvalid_0's rmse: 0.608188\n",
      "[400]\tvalid_0's rmse: 0.582146\n",
      "[500]\tvalid_0's rmse: 0.559261\n",
      "[600]\tvalid_0's rmse: 0.539139\n",
      "[700]\tvalid_0's rmse: 0.521511\n",
      "[800]\tvalid_0's rmse: 0.505315\n",
      "[900]\tvalid_0's rmse: 0.491026\n",
      "[1000]\tvalid_0's rmse: 0.47812\n"
     ]
    },
    {
     "name": "stderr",
     "output_type": "stream",
     "text": [
      "regularization_factors, val_score: 0.477360:  95%|#########5| 19/20 [06:01<00:17, 17.50s/it]\u001b[32m[I 2021-08-24 12:11:52,231]\u001b[0m Trial 58 finished with value: 0.47812018328358025 and parameters: {'lambda_l1': 1.1478733461035506e-05, 'lambda_l2': 3.83329090814148e-05}. Best is trial 43 with value: 0.47735968248816923.\u001b[0m\n",
      "regularization_factors, val_score: 0.477360:  95%|#########5| 19/20 [06:01<00:17, 17.50s/it]"
     ]
    },
    {
     "name": "stdout",
     "output_type": "stream",
     "text": [
      "[LightGBM] [Warning] Auto-choosing row-wise multi-threading, the overhead of testing was 0.012066 seconds.\n",
      "You can set `force_row_wise=true` to remove the overhead.\n",
      "And if memory is not enough, you can set `force_col_wise=true`.\n",
      "[LightGBM] [Info] Total Bins 3626\n",
      "[LightGBM] [Info] Number of data points in the train set: 225000, number of used features: 24\n",
      "[LightGBM] [Info] Start training from score 8.241327\n",
      "[100]\tvalid_0's rmse: 0.676392\n",
      "[200]\tvalid_0's rmse: 0.63891\n",
      "[300]\tvalid_0's rmse: 0.608675\n",
      "[400]\tvalid_0's rmse: 0.582508\n",
      "[500]\tvalid_0's rmse: 0.559903\n",
      "[600]\tvalid_0's rmse: 0.540106\n",
      "[700]\tvalid_0's rmse: 0.522598\n",
      "[800]\tvalid_0's rmse: 0.506418\n",
      "[900]\tvalid_0's rmse: 0.491571\n",
      "[1000]\tvalid_0's rmse: 0.479053\n"
     ]
    },
    {
     "name": "stderr",
     "output_type": "stream",
     "text": [
      "regularization_factors, val_score: 0.477360: 100%|##########| 20/20 [06:18<00:00, 17.41s/it]\u001b[32m[I 2021-08-24 12:12:09,414]\u001b[0m Trial 59 finished with value: 0.4790525275797384 and parameters: {'lambda_l1': 0.001371888166066223, 'lambda_l2': 9.897876472065289e-07}. Best is trial 43 with value: 0.47735968248816923.\u001b[0m\n",
      "regularization_factors, val_score: 0.477360: 100%|##########| 20/20 [06:18<00:00, 18.92s/it]\n",
      "min_data_in_leaf, val_score: 0.477360:   0%|          | 0/5 [00:00<?, ?it/s]"
     ]
    },
    {
     "name": "stdout",
     "output_type": "stream",
     "text": [
      "[LightGBM] [Warning] Auto-choosing row-wise multi-threading, the overhead of testing was 0.008080 seconds.\n",
      "You can set `force_row_wise=true` to remove the overhead.\n",
      "And if memory is not enough, you can set `force_col_wise=true`.\n",
      "[LightGBM] [Info] Total Bins 3626\n",
      "[LightGBM] [Info] Number of data points in the train set: 225000, number of used features: 24\n",
      "[LightGBM] [Info] Start training from score 8.241327\n",
      "[100]\tvalid_0's rmse: 0.680407\n",
      "[200]\tvalid_0's rmse: 0.646241\n",
      "[300]\tvalid_0's rmse: 0.61831\n",
      "[400]\tvalid_0's rmse: 0.593765\n",
      "[500]\tvalid_0's rmse: 0.572248\n",
      "[600]\tvalid_0's rmse: 0.553036\n",
      "[700]\tvalid_0's rmse: 0.535849\n",
      "[800]\tvalid_0's rmse: 0.520368\n",
      "[900]\tvalid_0's rmse: 0.506579\n",
      "[1000]\tvalid_0's rmse: 0.494064\n"
     ]
    },
    {
     "name": "stderr",
     "output_type": "stream",
     "text": [
      "min_data_in_leaf, val_score: 0.477360:  20%|##        | 1/5 [00:22<01:29, 22.29s/it]\u001b[32m[I 2021-08-24 12:12:31,722]\u001b[0m Trial 60 finished with value: 0.49406420712655913 and parameters: {'min_child_samples': 100}. Best is trial 60 with value: 0.49406420712655913.\u001b[0m\n",
      "min_data_in_leaf, val_score: 0.477360:  20%|##        | 1/5 [00:22<01:29, 22.29s/it]"
     ]
    },
    {
     "name": "stdout",
     "output_type": "stream",
     "text": [
      "[LightGBM] [Warning] Auto-choosing row-wise multi-threading, the overhead of testing was 0.011435 seconds.\n",
      "You can set `force_row_wise=true` to remove the overhead.\n",
      "And if memory is not enough, you can set `force_col_wise=true`.\n",
      "[LightGBM] [Info] Total Bins 3626\n",
      "[LightGBM] [Info] Number of data points in the train set: 225000, number of used features: 24\n",
      "[LightGBM] [Info] Start training from score 8.241327\n",
      "[100]\tvalid_0's rmse: 0.678349\n",
      "[200]\tvalid_0's rmse: 0.642282\n",
      "[300]\tvalid_0's rmse: 0.61321\n",
      "[400]\tvalid_0's rmse: 0.587918\n",
      "[500]\tvalid_0's rmse: 0.565586\n",
      "[600]\tvalid_0's rmse: 0.546129\n",
      "[700]\tvalid_0's rmse: 0.528452\n",
      "[800]\tvalid_0's rmse: 0.512538\n",
      "[900]\tvalid_0's rmse: 0.498258\n",
      "[1000]\tvalid_0's rmse: 0.485506\n"
     ]
    },
    {
     "name": "stderr",
     "output_type": "stream",
     "text": [
      "min_data_in_leaf, val_score: 0.477360:  40%|####      | 2/5 [00:44<01:06, 22.03s/it]\u001b[32m[I 2021-08-24 12:12:53,573]\u001b[0m Trial 61 finished with value: 0.48550608407050705 and parameters: {'min_child_samples': 50}. Best is trial 61 with value: 0.48550608407050705.\u001b[0m\n",
      "min_data_in_leaf, val_score: 0.477360:  40%|####      | 2/5 [00:44<01:06, 22.03s/it]"
     ]
    },
    {
     "name": "stdout",
     "output_type": "stream",
     "text": [
      "[LightGBM] [Warning] Auto-choosing row-wise multi-threading, the overhead of testing was 0.013374 seconds.\n",
      "You can set `force_row_wise=true` to remove the overhead.\n",
      "And if memory is not enough, you can set `force_col_wise=true`.\n",
      "[LightGBM] [Info] Total Bins 3626\n",
      "[LightGBM] [Info] Number of data points in the train set: 225000, number of used features: 24\n",
      "[LightGBM] [Info] Start training from score 8.241327\n",
      "[100]\tvalid_0's rmse: 0.675009\n",
      "[200]\tvalid_0's rmse: 0.63666\n",
      "[300]\tvalid_0's rmse: 0.605383\n",
      "[400]\tvalid_0's rmse: 0.579021\n",
      "[500]\tvalid_0's rmse: 0.555516\n",
      "[600]\tvalid_0's rmse: 0.535049\n",
      "[700]\tvalid_0's rmse: 0.516938\n",
      "[800]\tvalid_0's rmse: 0.501198\n",
      "[900]\tvalid_0's rmse: 0.486739\n",
      "[1000]\tvalid_0's rmse: 0.474171\n"
     ]
    },
    {
     "name": "stderr",
     "output_type": "stream",
     "text": [
      "min_data_in_leaf, val_score: 0.474171:  60%|######    | 3/5 [01:05<00:43, 21.84s/it]\u001b[32m[I 2021-08-24 12:13:15,175]\u001b[0m Trial 62 finished with value: 0.47417135228425955 and parameters: {'min_child_samples': 5}. Best is trial 62 with value: 0.47417135228425955.\u001b[0m\n",
      "min_data_in_leaf, val_score: 0.474171:  60%|######    | 3/5 [01:05<00:43, 21.84s/it]"
     ]
    },
    {
     "name": "stdout",
     "output_type": "stream",
     "text": [
      "[LightGBM] [Warning] Auto-choosing row-wise multi-threading, the overhead of testing was 0.011128 seconds.\n",
      "You can set `force_row_wise=true` to remove the overhead.\n",
      "And if memory is not enough, you can set `force_col_wise=true`.\n",
      "[LightGBM] [Info] Total Bins 3626\n",
      "[LightGBM] [Info] Number of data points in the train set: 225000, number of used features: 24\n",
      "[LightGBM] [Info] Start training from score 8.241327\n",
      "[100]\tvalid_0's rmse: 0.677207\n",
      "[200]\tvalid_0's rmse: 0.639977\n",
      "[300]\tvalid_0's rmse: 0.609436\n",
      "[400]\tvalid_0's rmse: 0.583282\n",
      "[500]\tvalid_0's rmse: 0.560692\n",
      "[600]\tvalid_0's rmse: 0.540881\n",
      "[700]\tvalid_0's rmse: 0.523046\n",
      "[800]\tvalid_0's rmse: 0.507068\n",
      "[900]\tvalid_0's rmse: 0.492667\n",
      "[1000]\tvalid_0's rmse: 0.480033\n"
     ]
    },
    {
     "name": "stderr",
     "output_type": "stream",
     "text": [
      "min_data_in_leaf, val_score: 0.474171:  80%|########  | 4/5 [01:24<00:20, 20.72s/it]\u001b[32m[I 2021-08-24 12:13:34,176]\u001b[0m Trial 63 finished with value: 0.48003338311344695 and parameters: {'min_child_samples': 25}. Best is trial 62 with value: 0.47417135228425955.\u001b[0m\n",
      "min_data_in_leaf, val_score: 0.474171:  80%|########  | 4/5 [01:24<00:20, 20.72s/it]"
     ]
    },
    {
     "name": "stdout",
     "output_type": "stream",
     "text": [
      "[LightGBM] [Warning] Auto-choosing row-wise multi-threading, the overhead of testing was 0.009119 seconds.\n",
      "You can set `force_row_wise=true` to remove the overhead.\n",
      "And if memory is not enough, you can set `force_col_wise=true`.\n",
      "[LightGBM] [Info] Total Bins 3626\n",
      "[LightGBM] [Info] Number of data points in the train set: 225000, number of used features: 24\n",
      "[LightGBM] [Info] Start training from score 8.241327\n",
      "[100]\tvalid_0's rmse: 0.675045\n",
      "[200]\tvalid_0's rmse: 0.637974\n",
      "[300]\tvalid_0's rmse: 0.607104\n",
      "[400]\tvalid_0's rmse: 0.580516\n",
      "[500]\tvalid_0's rmse: 0.556883\n",
      "[600]\tvalid_0's rmse: 0.536221\n",
      "[700]\tvalid_0's rmse: 0.517918\n",
      "[800]\tvalid_0's rmse: 0.501879\n",
      "[900]\tvalid_0's rmse: 0.487755\n",
      "[1000]\tvalid_0's rmse: 0.474735\n"
     ]
    },
    {
     "name": "stderr",
     "output_type": "stream",
     "text": [
      "min_data_in_leaf, val_score: 0.474171: 100%|##########| 5/5 [01:44<00:00, 20.23s/it]\u001b[32m[I 2021-08-24 12:13:53,543]\u001b[0m Trial 64 finished with value: 0.47473470603549167 and parameters: {'min_child_samples': 10}. Best is trial 62 with value: 0.47417135228425955.\u001b[0m\n",
      "min_data_in_leaf, val_score: 0.474171: 100%|##########| 5/5 [01:44<00:00, 20.82s/it]\n"
     ]
    }
   ],
   "source": [
    "best_params,tuning_history = dict(),list()\n",
    "booster = lgbo.train(opt_params,dtrain,valid_sets=dval,verbose_eval=100)\n",
    "\n"
   ]
  },
  {
   "cell_type": "code",
   "execution_count": 30,
   "id": "e1e4b1a8-a324-4b6a-a4bd-1bc15b2d110e",
   "metadata": {},
   "outputs": [
    {
     "data": {
      "text/plain": [
       "{}"
      ]
     },
     "execution_count": 30,
     "metadata": {},
     "output_type": "execute_result"
    }
   ],
   "source": [
    "best_params"
   ]
  },
  {
   "cell_type": "code",
   "execution_count": 31,
   "id": "2a5c87e1-b728-4de5-891f-abbfdbfdd4c5",
   "metadata": {},
   "outputs": [],
   "source": [
    "opt_params = {\n",
    "    \"objective\":\"regression\",\n",
    "    \"metric\":\"rmse\"\n",
    "}"
   ]
  },
  {
   "cell_type": "code",
   "execution_count": 34,
   "id": "dc8bdfd9-9dd7-47e1-ba39-0294cf371dbc",
   "metadata": {},
   "outputs": [
    {
     "data": {
      "text/plain": [
       "{'objective': 'regression',\n",
       " 'metric': 'rmse',\n",
       " 'feature_pre_filter': False,\n",
       " 'lambda_l1': 1.8813403583442569e-07,\n",
       " 'lambda_l2': 1.7517015026012234e-06,\n",
       " 'num_leaves': 255,\n",
       " 'feature_fraction': 1.0,\n",
       " 'bagging_fraction': 0.806920876467952,\n",
       " 'bagging_freq': 6,\n",
       " 'min_child_samples': 5,\n",
       " 'num_iterations': 1000,\n",
       " 'early_stopping_round': None}"
      ]
     },
     "execution_count": 34,
     "metadata": {},
     "output_type": "execute_result"
    }
   ],
   "source": [
    "booster.params"
   ]
  },
  {
   "cell_type": "code",
   "execution_count": 35,
   "id": "d7b568c3-cf65-4fed-a562-aacfbd162311",
   "metadata": {},
   "outputs": [],
   "source": [
    "params = {'objective': 'regression',\n",
    " 'metric': 'rmse',\n",
    " 'feature_pre_filter': False,\n",
    " 'lambda_l1': 1.8813403583442569e-07,\n",
    " 'lambda_l2': 1.7517015026012234e-06,\n",
    " 'num_leaves': 255,\n",
    " 'feature_fraction': 1.0,\n",
    " 'bagging_fraction': 0.806920876467952,\n",
    " 'bagging_freq': 6,\n",
    " 'min_child_samples': 5,\n",
    " 'num_iterations': 1000}"
   ]
  },
  {
   "cell_type": "code",
   "execution_count": 36,
   "id": "bc717232-6e66-4449-82c8-f11f3c5d6712",
   "metadata": {
    "collapsed": true,
    "jupyter": {
     "outputs_hidden": true
    },
    "tags": []
   },
   "outputs": [
    {
     "name": "stdout",
     "output_type": "stream",
     "text": [
      "[LightGBM] [Warning] bagging_freq is set=6, subsample_freq=0 will be ignored. Current value: bagging_freq=6\n",
      "[LightGBM] [Warning] lambda_l2 is set=1.7517015026012234e-06, reg_lambda=0.0 will be ignored. Current value: lambda_l2=1.7517015026012234e-06\n",
      "[LightGBM] [Warning] feature_fraction is set=1.0, colsample_bytree=1.0 will be ignored. Current value: feature_fraction=1.0\n",
      "[LightGBM] [Warning] bagging_fraction is set=0.806920876467952, subsample=1.0 will be ignored. Current value: bagging_fraction=0.806920876467952\n",
      "[LightGBM] [Warning] lambda_l1 is set=1.8813403583442569e-07, reg_alpha=0.0 will be ignored. Current value: lambda_l1=1.8813403583442569e-07\n",
      "Fold 0 RMSE: 0.7260660629345246\n",
      "[LightGBM] [Warning] bagging_freq is set=6, subsample_freq=0 will be ignored. Current value: bagging_freq=6\n",
      "[LightGBM] [Warning] lambda_l2 is set=1.7517015026012234e-06, reg_lambda=0.0 will be ignored. Current value: lambda_l2=1.7517015026012234e-06\n",
      "[LightGBM] [Warning] feature_fraction is set=1.0, colsample_bytree=1.0 will be ignored. Current value: feature_fraction=1.0\n",
      "[LightGBM] [Warning] bagging_fraction is set=0.806920876467952, subsample=1.0 will be ignored. Current value: bagging_fraction=0.806920876467952\n",
      "[LightGBM] [Warning] lambda_l1 is set=1.8813403583442569e-07, reg_alpha=0.0 will be ignored. Current value: lambda_l1=1.8813403583442569e-07\n"
     ]
    },
    {
     "name": "stderr",
     "output_type": "stream",
     "text": [
      "/Users/naokitakahashi/opt/anaconda3/lib/python3.8/site-packages/lightgbm/engine.py:151: UserWarning: Found `num_iterations` in params. Will use it instead of argument\n",
      "  warnings.warn(\"Found `{}` in params. Will use it instead of argument\".format(alias))\n"
     ]
    },
    {
     "name": "stdout",
     "output_type": "stream",
     "text": [
      "Fold 1 RMSE: 0.7251454891954209\n",
      "[LightGBM] [Warning] bagging_freq is set=6, subsample_freq=0 will be ignored. Current value: bagging_freq=6\n",
      "[LightGBM] [Warning] lambda_l2 is set=1.7517015026012234e-06, reg_lambda=0.0 will be ignored. Current value: lambda_l2=1.7517015026012234e-06\n",
      "[LightGBM] [Warning] feature_fraction is set=1.0, colsample_bytree=1.0 will be ignored. Current value: feature_fraction=1.0\n",
      "[LightGBM] [Warning] bagging_fraction is set=0.806920876467952, subsample=1.0 will be ignored. Current value: bagging_fraction=0.806920876467952\n",
      "[LightGBM] [Warning] lambda_l1 is set=1.8813403583442569e-07, reg_alpha=0.0 will be ignored. Current value: lambda_l1=1.8813403583442569e-07\n"
     ]
    },
    {
     "name": "stderr",
     "output_type": "stream",
     "text": [
      "/Users/naokitakahashi/opt/anaconda3/lib/python3.8/site-packages/lightgbm/engine.py:151: UserWarning: Found `num_iterations` in params. Will use it instead of argument\n",
      "  warnings.warn(\"Found `{}` in params. Will use it instead of argument\".format(alias))\n"
     ]
    },
    {
     "name": "stdout",
     "output_type": "stream",
     "text": [
      "Fold 2 RMSE: 0.7239058443025096\n",
      "[LightGBM] [Warning] bagging_freq is set=6, subsample_freq=0 will be ignored. Current value: bagging_freq=6\n",
      "[LightGBM] [Warning] lambda_l2 is set=1.7517015026012234e-06, reg_lambda=0.0 will be ignored. Current value: lambda_l2=1.7517015026012234e-06\n",
      "[LightGBM] [Warning] feature_fraction is set=1.0, colsample_bytree=1.0 will be ignored. Current value: feature_fraction=1.0\n",
      "[LightGBM] [Warning] bagging_fraction is set=0.806920876467952, subsample=1.0 will be ignored. Current value: bagging_fraction=0.806920876467952\n",
      "[LightGBM] [Warning] lambda_l1 is set=1.8813403583442569e-07, reg_alpha=0.0 will be ignored. Current value: lambda_l1=1.8813403583442569e-07\n"
     ]
    },
    {
     "name": "stderr",
     "output_type": "stream",
     "text": [
      "/Users/naokitakahashi/opt/anaconda3/lib/python3.8/site-packages/lightgbm/engine.py:151: UserWarning: Found `num_iterations` in params. Will use it instead of argument\n",
      "  warnings.warn(\"Found `{}` in params. Will use it instead of argument\".format(alias))\n"
     ]
    },
    {
     "name": "stdout",
     "output_type": "stream",
     "text": [
      "Fold 3 RMSE: 0.7276312538944828\n",
      "[LightGBM] [Warning] bagging_freq is set=6, subsample_freq=0 will be ignored. Current value: bagging_freq=6\n",
      "[LightGBM] [Warning] lambda_l2 is set=1.7517015026012234e-06, reg_lambda=0.0 will be ignored. Current value: lambda_l2=1.7517015026012234e-06\n",
      "[LightGBM] [Warning] feature_fraction is set=1.0, colsample_bytree=1.0 will be ignored. Current value: feature_fraction=1.0\n",
      "[LightGBM] [Warning] bagging_fraction is set=0.806920876467952, subsample=1.0 will be ignored. Current value: bagging_fraction=0.806920876467952\n",
      "[LightGBM] [Warning] lambda_l1 is set=1.8813403583442569e-07, reg_alpha=0.0 will be ignored. Current value: lambda_l1=1.8813403583442569e-07\n"
     ]
    },
    {
     "name": "stderr",
     "output_type": "stream",
     "text": [
      "/Users/naokitakahashi/opt/anaconda3/lib/python3.8/site-packages/lightgbm/engine.py:151: UserWarning: Found `num_iterations` in params. Will use it instead of argument\n",
      "  warnings.warn(\"Found `{}` in params. Will use it instead of argument\".format(alias))\n"
     ]
    },
    {
     "name": "stdout",
     "output_type": "stream",
     "text": [
      "Fold 4 RMSE: 0.7307472278825224\n",
      "[LightGBM] [Warning] bagging_freq is set=6, subsample_freq=0 will be ignored. Current value: bagging_freq=6\n",
      "[LightGBM] [Warning] lambda_l2 is set=1.7517015026012234e-06, reg_lambda=0.0 will be ignored. Current value: lambda_l2=1.7517015026012234e-06\n",
      "[LightGBM] [Warning] feature_fraction is set=1.0, colsample_bytree=1.0 will be ignored. Current value: feature_fraction=1.0\n",
      "[LightGBM] [Warning] bagging_fraction is set=0.806920876467952, subsample=1.0 will be ignored. Current value: bagging_fraction=0.806920876467952\n",
      "[LightGBM] [Warning] lambda_l1 is set=1.8813403583442569e-07, reg_alpha=0.0 will be ignored. Current value: lambda_l1=1.8813403583442569e-07\n"
     ]
    },
    {
     "name": "stderr",
     "output_type": "stream",
     "text": [
      "/Users/naokitakahashi/opt/anaconda3/lib/python3.8/site-packages/lightgbm/engine.py:151: UserWarning: Found `num_iterations` in params. Will use it instead of argument\n",
      "  warnings.warn(\"Found `{}` in params. Will use it instead of argument\".format(alias))\n"
     ]
    },
    {
     "name": "stdout",
     "output_type": "stream",
     "text": [
      "Fold 5 RMSE: 0.7227935383050221\n",
      "[LightGBM] [Warning] bagging_freq is set=6, subsample_freq=0 will be ignored. Current value: bagging_freq=6\n",
      "[LightGBM] [Warning] lambda_l2 is set=1.7517015026012234e-06, reg_lambda=0.0 will be ignored. Current value: lambda_l2=1.7517015026012234e-06\n",
      "[LightGBM] [Warning] feature_fraction is set=1.0, colsample_bytree=1.0 will be ignored. Current value: feature_fraction=1.0\n",
      "[LightGBM] [Warning] bagging_fraction is set=0.806920876467952, subsample=1.0 will be ignored. Current value: bagging_fraction=0.806920876467952\n",
      "[LightGBM] [Warning] lambda_l1 is set=1.8813403583442569e-07, reg_alpha=0.0 will be ignored. Current value: lambda_l1=1.8813403583442569e-07\n"
     ]
    },
    {
     "name": "stderr",
     "output_type": "stream",
     "text": [
      "/Users/naokitakahashi/opt/anaconda3/lib/python3.8/site-packages/lightgbm/engine.py:151: UserWarning: Found `num_iterations` in params. Will use it instead of argument\n",
      "  warnings.warn(\"Found `{}` in params. Will use it instead of argument\".format(alias))\n"
     ]
    },
    {
     "name": "stdout",
     "output_type": "stream",
     "text": [
      "Fold 6 RMSE: 0.725853513040325\n",
      "[LightGBM] [Warning] bagging_freq is set=6, subsample_freq=0 will be ignored. Current value: bagging_freq=6\n",
      "[LightGBM] [Warning] lambda_l2 is set=1.7517015026012234e-06, reg_lambda=0.0 will be ignored. Current value: lambda_l2=1.7517015026012234e-06\n",
      "[LightGBM] [Warning] feature_fraction is set=1.0, colsample_bytree=1.0 will be ignored. Current value: feature_fraction=1.0\n",
      "[LightGBM] [Warning] bagging_fraction is set=0.806920876467952, subsample=1.0 will be ignored. Current value: bagging_fraction=0.806920876467952\n",
      "[LightGBM] [Warning] lambda_l1 is set=1.8813403583442569e-07, reg_alpha=0.0 will be ignored. Current value: lambda_l1=1.8813403583442569e-07\n"
     ]
    },
    {
     "name": "stderr",
     "output_type": "stream",
     "text": [
      "/Users/naokitakahashi/opt/anaconda3/lib/python3.8/site-packages/lightgbm/engine.py:151: UserWarning: Found `num_iterations` in params. Will use it instead of argument\n",
      "  warnings.warn(\"Found `{}` in params. Will use it instead of argument\".format(alias))\n"
     ]
    },
    {
     "name": "stdout",
     "output_type": "stream",
     "text": [
      "Fold 7 RMSE: 0.7276087020813911\n",
      "[LightGBM] [Warning] bagging_freq is set=6, subsample_freq=0 will be ignored. Current value: bagging_freq=6\n",
      "[LightGBM] [Warning] lambda_l2 is set=1.7517015026012234e-06, reg_lambda=0.0 will be ignored. Current value: lambda_l2=1.7517015026012234e-06\n",
      "[LightGBM] [Warning] feature_fraction is set=1.0, colsample_bytree=1.0 will be ignored. Current value: feature_fraction=1.0\n",
      "[LightGBM] [Warning] bagging_fraction is set=0.806920876467952, subsample=1.0 will be ignored. Current value: bagging_fraction=0.806920876467952\n",
      "[LightGBM] [Warning] lambda_l1 is set=1.8813403583442569e-07, reg_alpha=0.0 will be ignored. Current value: lambda_l1=1.8813403583442569e-07\n"
     ]
    },
    {
     "name": "stderr",
     "output_type": "stream",
     "text": [
      "/Users/naokitakahashi/opt/anaconda3/lib/python3.8/site-packages/lightgbm/engine.py:151: UserWarning: Found `num_iterations` in params. Will use it instead of argument\n",
      "  warnings.warn(\"Found `{}` in params. Will use it instead of argument\".format(alias))\n"
     ]
    },
    {
     "name": "stdout",
     "output_type": "stream",
     "text": [
      "Fold 8 RMSE: 0.7290857984455787\n",
      "[LightGBM] [Warning] bagging_freq is set=6, subsample_freq=0 will be ignored. Current value: bagging_freq=6\n",
      "[LightGBM] [Warning] lambda_l2 is set=1.7517015026012234e-06, reg_lambda=0.0 will be ignored. Current value: lambda_l2=1.7517015026012234e-06\n",
      "[LightGBM] [Warning] feature_fraction is set=1.0, colsample_bytree=1.0 will be ignored. Current value: feature_fraction=1.0\n",
      "[LightGBM] [Warning] bagging_fraction is set=0.806920876467952, subsample=1.0 will be ignored. Current value: bagging_fraction=0.806920876467952\n",
      "[LightGBM] [Warning] lambda_l1 is set=1.8813403583442569e-07, reg_alpha=0.0 will be ignored. Current value: lambda_l1=1.8813403583442569e-07\n"
     ]
    },
    {
     "name": "stderr",
     "output_type": "stream",
     "text": [
      "/Users/naokitakahashi/opt/anaconda3/lib/python3.8/site-packages/lightgbm/engine.py:151: UserWarning: Found `num_iterations` in params. Will use it instead of argument\n",
      "  warnings.warn(\"Found `{}` in params. Will use it instead of argument\".format(alias))\n"
     ]
    },
    {
     "name": "stdout",
     "output_type": "stream",
     "text": [
      "Fold 9 RMSE: 0.7224080184783386\n",
      "\n",
      "Overall RMSE: 0.7261245448560117\n",
      "CPU times: user 7min 10s, sys: 30.4 s, total: 7min 40s\n",
      "Wall time: 1min 4s\n"
     ]
    }
   ],
   "source": [
    "#セルの実行時間を測定するマジックコマンド\n",
    "%%time\n",
    "# 交差検証（10は多い気がする）\n",
    "splits = 10\n",
    "skf = KFold(n_splits=splits, shuffle=True, random_state=42)\n",
    "\n",
    "# Creating an array of zeros for storing \"out of fold\" predictions\n",
    "oof_preds = np.zeros((X.shape[0],))\n",
    "preds = 0\n",
    "model_fi = 0\n",
    "total_mean_rmse = 0\n",
    "\n",
    "# Generating folds and making training and prediction for each of 10 folds\n",
    "for num, (train_idx, valid_idx) in enumerate(skf.split(X)):\n",
    "    X_train, X_valid = X.loc[train_idx], X.loc[valid_idx]\n",
    "    y_train, y_valid = y.loc[train_idx], y.loc[valid_idx]\n",
    "    \n",
    "    model = LGBMRegressor(**params)\n",
    "    model.fit(X_train, y_train,\n",
    "              verbose=False,\n",
    "              # These three parameters will stop training before a model starts overfitting \n",
    "              eval_set=[(X_train, y_train), (X_valid, y_valid)],\n",
    "              eval_metric=\"rmse\",\n",
    "              early_stopping_rounds=100,\n",
    "              )\n",
    "    \n",
    "    # Getting mean test data predictions (i.e. devided by number of splits)\n",
    "    preds += model.predict(X_test) / splits\n",
    "    \n",
    "    # Getting mean feature importances (i.e. devided by number of splits)\n",
    "    model_fi += model.feature_importances_ / splits\n",
    "    \n",
    "    # Getting validation data predictions. Each fold model makes predictions on an unseen data.\n",
    "    # So in the end it will be completely filled with unseen data predictions.\n",
    "    # It will be used to evaluate hyperparameters performance only.\n",
    "    oof_preds[valid_idx] = model.predict(X_valid)\n",
    "    \n",
    "    # Getting score for a fold model\n",
    "    fold_rmse = np.sqrt(mean_squared_error(y_valid, oof_preds[valid_idx]))\n",
    "    print(f\"Fold {num} RMSE: {fold_rmse}\")\n",
    "\n",
    "    # Getting mean score of all fold models (i.e. devided by number of splits)\n",
    "    total_mean_rmse += fold_rmse / splits\n",
    "    \n",
    "print(f\"\\nOverall RMSE: {total_mean_rmse}\")"
   ]
  },
  {
   "cell_type": "markdown",
   "id": "5560ff75-b6c4-4238-a61d-8557ac6c0f88",
   "metadata": {},
   "source": [
    "評価スコアは0.726。これまでの値より低いが果たして。"
   ]
  },
  {
   "cell_type": "code",
   "execution_count": 37,
   "id": "a5795400-bccb-4e6b-86ac-c47805b44ea5",
   "metadata": {},
   "outputs": [],
   "source": [
    "# Creating a dataframe to be used for plotting\n",
    "df = pd.DataFrame()\n",
    "df[\"Feature\"] = X.columns\n",
    "# Extracting feature importances from the trained model\n",
    "df[\"Importance\"] = model_fi / model_fi.sum()\n",
    "# Sorting the dataframe by feature importance\n",
    "df.sort_values(\"Importance\", axis=0, ascending=False, inplace=True)"
   ]
  },
  {
   "cell_type": "code",
   "execution_count": 38,
   "id": "0269630e-c2e9-4d48-a9d4-55cc21d32a47",
   "metadata": {},
   "outputs": [
    {
     "data": {
      "image/png": "[encoded data removed]",
      "text/plain": [
       "<Figure size 936x720 with 1 Axes>"
      ]
     },
     "metadata": {
      "needs_background": "light"
     },
     "output_type": "display_data"
    }
   ],
   "source": [
    "fig, ax = plt.subplots(figsize=(13, 10))\n",
    "bars = ax.barh(df[\"Feature\"], df[\"Importance\"], height=0.4,\n",
    "               color=\"mediumorchid\", edgecolor=\"black\")\n",
    "ax.set_title(\"Feature importances\", fontsize=30, pad=15)\n",
    "ax.set_ylabel(\"Feature name\", fontsize=20, labelpad=15)\n",
    "ax.set_xlabel(\"Feature importance\", fontsize=20, labelpad=15)\n",
    "ax.set_yticks(df[\"Feature\"])\n",
    "ax.set_yticklabels(df[\"Feature\"], fontsize=15)\n",
    "ax.tick_params(axis=\"x\", labelsize=15)\n",
    "ax.grid(axis=\"x\")\n",
    "# Adding labels on top\n",
    "ax2 = ax.secondary_xaxis('top')\n",
    "ax2.set_xlabel(\"Feature importance\", fontsize=20, labelpad=15)\n",
    "ax2.tick_params(axis=\"x\", labelsize=15)\n",
    "\n",
    "# Inverting y axis direction so the values are decreasing\n",
    "plt.gca().invert_yaxis()"
   ]
  },
  {
   "cell_type": "markdown",
   "id": "0e955645-dc89-4bb7-ad25-2a71b40d5245",
   "metadata": {},
   "source": [
    "catの値が軒並み低い。\n",
    "これはおかしい。"
   ]
  },
  {
   "cell_type": "code",
   "execution_count": 39,
   "id": "a44f6d77-504f-4d51-9ab3-d49263c3da86",
   "metadata": {},
   "outputs": [
    {
     "data": {
      "text/html": [
       "<div>\n",
       "<style scoped>\n",
       "    .dataframe tbody tr th:only-of-type {\n",
       "        vertical-align: middle;\n",
       "    }\n",
       "\n",
       "    .dataframe tbody tr th {\n",
       "        vertical-align: top;\n",
       "    }\n",
       "\n",
       "    .dataframe thead th {\n",
       "        text-align: right;\n",
       "    }\n",
       "</style>\n",
       "<table border=\"1\" class=\"dataframe\">\n",
       "  <thead>\n",
       "    <tr style=\"text-align: right;\">\n",
       "      <th></th>\n",
       "      <th>id</th>\n",
       "      <th>target</th>\n",
       "    </tr>\n",
       "  </thead>\n",
       "  <tbody>\n",
       "    <tr>\n",
       "      <th>0</th>\n",
       "      <td>0</td>\n",
       "      <td>7.949243</td>\n",
       "    </tr>\n",
       "    <tr>\n",
       "      <th>1</th>\n",
       "      <td>5</td>\n",
       "      <td>8.284233</td>\n",
       "    </tr>\n",
       "    <tr>\n",
       "      <th>2</th>\n",
       "      <td>15</td>\n",
       "      <td>8.432804</td>\n",
       "    </tr>\n",
       "    <tr>\n",
       "      <th>3</th>\n",
       "      <td>16</td>\n",
       "      <td>8.429843</td>\n",
       "    </tr>\n",
       "    <tr>\n",
       "      <th>4</th>\n",
       "      <td>17</td>\n",
       "      <td>8.135039</td>\n",
       "    </tr>\n",
       "  </tbody>\n",
       "</table>\n",
       "</div>"
      ],
      "text/plain": [
       "   id    target\n",
       "0   0  7.949243\n",
       "1   5  8.284233\n",
       "2  15  8.432804\n",
       "3  16  8.429843\n",
       "4  17  8.135039"
      ]
     },
     "execution_count": 39,
     "metadata": {},
     "output_type": "execute_result"
    }
   ],
   "source": [
    "predictions = pd.DataFrame()\n",
    "predictions[\"id\"] = test[\"id\"]\n",
    "predictions[\"target\"] = preds\n",
    "\n",
    "predictions.to_csv('../data/submit/006_submission.csv', index=False, header=predictions.columns)\n",
    "predictions.head()"
   ]
  },
  {
   "attachments": {
    "7ebfdc88-5d6c-4c5f-ada4-2f40055d04c6.png": {
     "image/png": "[encoded data removed]"
    }
   },
   "cell_type": "markdown",
   "id": "aac32456-27f7-48e3-996e-da3560b079b8",
   "metadata": {},
   "source": [
    "![スクリーンショット 2021-08-24 12.43.27.png](attachment:7ebfdc88-5d6c-4c5f-ada4-2f40055d04c6.png)"
   ]
  },
  {
   "cell_type": "markdown",
   "id": "d8b06b70-e9e5-4244-a066-09c294b937ff",
   "metadata": {},
   "source": [
    "結構上昇した。<br>\n",
    "まだ3000番台だが。"
   ]
  },
  {
   "cell_type": "markdown",
   "id": "59c981df-71e5-44ce-a371-a6186c762278",
   "metadata": {},
   "source": [
    "## 標準化\n",
    "忘れていた"
   ]
  },
  {
   "cell_type": "code",
   "execution_count": 56,
   "id": "3224f591-d53a-4117-a08b-abd835f83be7",
   "metadata": {},
   "outputs": [],
   "source": [
    "ss = StandardScaler()\n",
    "train[num_features] = ss.fit_transform(train[num_features])\n",
    "test[num_features]  = ss.transform(test[num_features])"
   ]
  },
  {
   "cell_type": "code",
   "execution_count": 57,
   "id": "0e3ec4e9-d87e-412f-b868-38b3612d3bd1",
   "metadata": {},
   "outputs": [],
   "source": [
    "X = train.drop([\"id\", \"target\"], axis=1)\n",
    "X_test = test.drop([\"id\"], axis=1)\n",
    "y = train[\"target\"]"
   ]
  },
  {
   "cell_type": "code",
   "execution_count": 58,
   "id": "1e3459f0-d669-40dd-8188-fd4c96db6756",
   "metadata": {},
   "outputs": [],
   "source": [
    "train_X,valid_X,train_y,valid_y = train_test_split(X,y,test_size=0.25)"
   ]
  },
  {
   "cell_type": "code",
   "execution_count": 59,
   "id": "4eb781c5-9fc8-4384-8aa8-182f1c239474",
   "metadata": {},
   "outputs": [],
   "source": [
    "opt_params = {\n",
    "    \"objective\":\"regression\",\n",
    "    \"metric\":\"rmse\"\n",
    "}"
   ]
  },
  {
   "cell_type": "code",
   "execution_count": 60,
   "id": "ee80caf5-7513-4b44-860e-a4eb23dc6906",
   "metadata": {},
   "outputs": [],
   "source": [
    "dtrain = lgbo.Dataset(train_X,label=train_y)\n",
    "dval = lgbo.Dataset(valid_X,label=valid_y)"
   ]
  },
  {
   "cell_type": "code",
   "execution_count": 46,
   "id": "7ee1e089-5584-4bd7-b52f-6ed86b02db9c",
   "metadata": {
    "collapsed": true,
    "jupyter": {
     "outputs_hidden": true
    },
    "tags": []
   },
   "outputs": [
    {
     "name": "stderr",
     "output_type": "stream",
     "text": [
      "\u001b[32m[I 2021-08-24 12:59:14,759]\u001b[0m A new study created in memory with name: no-name-9a0089dd-741d-4b3b-b1af-b0520e258bf8\u001b[0m\n",
      "feature_fraction, val_score: inf:   0%|          | 0/7 [00:00<?, ?it/s]"
     ]
    },
    {
     "name": "stdout",
     "output_type": "stream",
     "text": [
      "[LightGBM] [Warning] Auto-choosing row-wise multi-threading, the overhead of testing was 0.008928 seconds.\n",
      "You can set `force_row_wise=true` to remove the overhead.\n",
      "And if memory is not enough, you can set `force_col_wise=true`.\n",
      "[LightGBM] [Info] Total Bins 3626\n",
      "[LightGBM] [Info] Number of data points in the train set: 225000, number of used features: 24\n",
      "[LightGBM] [Info] Start training from score 8.243805\n",
      "[100]\tvalid_0's rmse: 0.72242\n",
      "[200]\tvalid_0's rmse: 0.72033\n",
      "[300]\tvalid_0's rmse: 0.719962\n",
      "[400]\tvalid_0's rmse: 0.719977\n",
      "[500]\tvalid_0's rmse: 0.71989\n",
      "[600]\tvalid_0's rmse: 0.720085\n",
      "[700]\tvalid_0's rmse: 0.72015\n",
      "[800]\tvalid_0's rmse: 0.720199\n",
      "[900]\tvalid_0's rmse: 0.720356\n"
     ]
    },
    {
     "name": "stderr",
     "output_type": "stream",
     "text": [
      "feature_fraction, val_score: 0.720770:  14%|#4        | 1/7 [00:05<00:30,  5.08s/it]\u001b[32m[I 2021-08-24 12:59:19,853]\u001b[0m Trial 0 finished with value: 0.7207697376264011 and parameters: {'feature_fraction': 0.8}. Best is trial 0 with value: 0.7207697376264011.\u001b[0m\n",
      "feature_fraction, val_score: 0.720770:  14%|#4        | 1/7 [00:05<00:30,  5.08s/it]"
     ]
    },
    {
     "name": "stdout",
     "output_type": "stream",
     "text": [
      "[1000]\tvalid_0's rmse: 0.72077\n",
      "[LightGBM] [Warning] Auto-choosing row-wise multi-threading, the overhead of testing was 0.008311 seconds.\n",
      "You can set `force_row_wise=true` to remove the overhead.\n",
      "And if memory is not enough, you can set `force_col_wise=true`.\n",
      "[LightGBM] [Info] Total Bins 3626\n",
      "[LightGBM] [Info] Number of data points in the train set: 225000, number of used features: 24\n",
      "[LightGBM] [Info] Start training from score 8.243805\n",
      "[100]\tvalid_0's rmse: 0.722206\n",
      "[200]\tvalid_0's rmse: 0.719906\n",
      "[300]\tvalid_0's rmse: 0.719322\n",
      "[400]\tvalid_0's rmse: 0.719409\n",
      "[500]\tvalid_0's rmse: 0.719574\n",
      "[600]\tvalid_0's rmse: 0.719719\n",
      "[700]\tvalid_0's rmse: 0.71979\n",
      "[800]\tvalid_0's rmse: 0.719951\n",
      "[900]\tvalid_0's rmse: 0.72016\n"
     ]
    },
    {
     "name": "stderr",
     "output_type": "stream",
     "text": [
      "feature_fraction, val_score: 0.720308:  29%|##8       | 2/7 [00:12<00:33,  6.65s/it]\u001b[32m[I 2021-08-24 12:59:27,604]\u001b[0m Trial 1 finished with value: 0.7203083685726687 and parameters: {'feature_fraction': 0.5}. Best is trial 1 with value: 0.7203083685726687.\u001b[0m\n",
      "feature_fraction, val_score: 0.720308:  29%|##8       | 2/7 [00:12<00:33,  6.65s/it]"
     ]
    },
    {
     "name": "stdout",
     "output_type": "stream",
     "text": [
      "[1000]\tvalid_0's rmse: 0.720308\n",
      "[LightGBM] [Warning] Auto-choosing row-wise multi-threading, the overhead of testing was 0.011010 seconds.\n",
      "You can set `force_row_wise=true` to remove the overhead.\n",
      "And if memory is not enough, you can set `force_col_wise=true`.\n",
      "[LightGBM] [Info] Total Bins 3626\n",
      "[LightGBM] [Info] Number of data points in the train set: 225000, number of used features: 24\n",
      "[LightGBM] [Info] Start training from score 8.243805\n",
      "[100]\tvalid_0's rmse: 0.722413\n",
      "[200]\tvalid_0's rmse: 0.720481\n",
      "[300]\tvalid_0's rmse: 0.719951\n",
      "[400]\tvalid_0's rmse: 0.719754\n",
      "[500]\tvalid_0's rmse: 0.719955\n",
      "[600]\tvalid_0's rmse: 0.720115\n",
      "[700]\tvalid_0's rmse: 0.720283\n",
      "[800]\tvalid_0's rmse: 0.720481\n",
      "[900]\tvalid_0's rmse: 0.720552\n"
     ]
    },
    {
     "name": "stderr",
     "output_type": "stream",
     "text": [
      "feature_fraction, val_score: 0.720308:  43%|####2     | 3/7 [00:18<00:24,  6.23s/it]\u001b[32m[I 2021-08-24 12:59:33,332]\u001b[0m Trial 2 finished with value: 0.7208472779751317 and parameters: {'feature_fraction': 0.7}. Best is trial 1 with value: 0.7203083685726687.\u001b[0m\n",
      "feature_fraction, val_score: 0.720308:  43%|####2     | 3/7 [00:18<00:24,  6.23s/it]"
     ]
    },
    {
     "name": "stdout",
     "output_type": "stream",
     "text": [
      "[1000]\tvalid_0's rmse: 0.720847\n",
      "[LightGBM] [Warning] Auto-choosing row-wise multi-threading, the overhead of testing was 0.009016 seconds.\n",
      "You can set `force_row_wise=true` to remove the overhead.\n",
      "And if memory is not enough, you can set `force_col_wise=true`.\n",
      "[LightGBM] [Info] Total Bins 3626\n",
      "[LightGBM] [Info] Number of data points in the train set: 225000, number of used features: 24\n",
      "[LightGBM] [Info] Start training from score 8.243805\n",
      "[100]\tvalid_0's rmse: 0.72258\n",
      "[200]\tvalid_0's rmse: 0.72057\n",
      "[300]\tvalid_0's rmse: 0.719886\n",
      "[400]\tvalid_0's rmse: 0.719636\n",
      "[500]\tvalid_0's rmse: 0.719743\n",
      "[600]\tvalid_0's rmse: 0.719925\n",
      "[700]\tvalid_0's rmse: 0.720161\n",
      "[800]\tvalid_0's rmse: 0.720365\n",
      "[900]\tvalid_0's rmse: 0.720616\n"
     ]
    },
    {
     "name": "stderr",
     "output_type": "stream",
     "text": [
      "feature_fraction, val_score: 0.720308:  57%|#####7    | 4/7 [00:25<00:19,  6.36s/it]\u001b[32m[I 2021-08-24 12:59:39,900]\u001b[0m Trial 3 finished with value: 0.7208201156902001 and parameters: {'feature_fraction': 0.6}. Best is trial 1 with value: 0.7203083685726687.\u001b[0m\n",
      "feature_fraction, val_score: 0.720308:  57%|#####7    | 4/7 [00:25<00:19,  6.36s/it]"
     ]
    },
    {
     "name": "stdout",
     "output_type": "stream",
     "text": [
      "[1000]\tvalid_0's rmse: 0.72082\n",
      "[LightGBM] [Warning] Auto-choosing row-wise multi-threading, the overhead of testing was 0.011023 seconds.\n",
      "You can set `force_row_wise=true` to remove the overhead.\n",
      "And if memory is not enough, you can set `force_col_wise=true`.\n",
      "[LightGBM] [Info] Total Bins 3626\n",
      "[LightGBM] [Info] Number of data points in the train set: 225000, number of used features: 24\n",
      "[LightGBM] [Info] Start training from score 8.243805\n",
      "[100]\tvalid_0's rmse: 0.72228\n",
      "[200]\tvalid_0's rmse: 0.720505\n",
      "[300]\tvalid_0's rmse: 0.719991\n",
      "[400]\tvalid_0's rmse: 0.719957\n",
      "[500]\tvalid_0's rmse: 0.720031\n",
      "[600]\tvalid_0's rmse: 0.720239\n",
      "[700]\tvalid_0's rmse: 0.720295\n",
      "[800]\tvalid_0's rmse: 0.720433\n",
      "[900]\tvalid_0's rmse: 0.720819\n"
     ]
    },
    {
     "name": "stderr",
     "output_type": "stream",
     "text": [
      "feature_fraction, val_score: 0.720308:  71%|#######1  | 5/7 [00:30<00:11,  5.97s/it]\u001b[32m[I 2021-08-24 12:59:45,164]\u001b[0m Trial 4 finished with value: 0.7212732839549889 and parameters: {'feature_fraction': 0.8999999999999999}. Best is trial 1 with value: 0.7203083685726687.\u001b[0m\n",
      "feature_fraction, val_score: 0.720308:  71%|#######1  | 5/7 [00:30<00:11,  5.97s/it]"
     ]
    },
    {
     "name": "stdout",
     "output_type": "stream",
     "text": [
      "[1000]\tvalid_0's rmse: 0.721273\n",
      "[LightGBM] [Warning] Auto-choosing row-wise multi-threading, the overhead of testing was 0.007937 seconds.\n",
      "You can set `force_row_wise=true` to remove the overhead.\n",
      "And if memory is not enough, you can set `force_col_wise=true`.\n",
      "[LightGBM] [Info] Total Bins 3626\n",
      "[LightGBM] [Info] Number of data points in the train set: 225000, number of used features: 24\n",
      "[LightGBM] [Info] Start training from score 8.243805\n",
      "[100]\tvalid_0's rmse: 0.722675\n",
      "[200]\tvalid_0's rmse: 0.720923\n",
      "[300]\tvalid_0's rmse: 0.720427\n",
      "[400]\tvalid_0's rmse: 0.72045\n",
      "[500]\tvalid_0's rmse: 0.720651\n",
      "[600]\tvalid_0's rmse: 0.720752\n",
      "[700]\tvalid_0's rmse: 0.720943\n",
      "[800]\tvalid_0's rmse: 0.721183\n",
      "[900]\tvalid_0's rmse: 0.721294\n"
     ]
    },
    {
     "name": "stderr",
     "output_type": "stream",
     "text": [
      "feature_fraction, val_score: 0.720308:  86%|########5 | 6/7 [00:35<00:05,  5.61s/it]\u001b[32m[I 2021-08-24 12:59:50,069]\u001b[0m Trial 5 finished with value: 0.721463570397871 and parameters: {'feature_fraction': 1.0}. Best is trial 1 with value: 0.7203083685726687.\u001b[0m\n",
      "feature_fraction, val_score: 0.720308:  86%|########5 | 6/7 [00:35<00:05,  5.61s/it]"
     ]
    },
    {
     "name": "stdout",
     "output_type": "stream",
     "text": [
      "[1000]\tvalid_0's rmse: 0.721464\n",
      "[LightGBM] [Warning] Auto-choosing row-wise multi-threading, the overhead of testing was 0.008740 seconds.\n",
      "You can set `force_row_wise=true` to remove the overhead.\n",
      "And if memory is not enough, you can set `force_col_wise=true`.\n",
      "[LightGBM] [Info] Total Bins 3626\n",
      "[LightGBM] [Info] Number of data points in the train set: 225000, number of used features: 24\n",
      "[LightGBM] [Info] Start training from score 8.243805\n",
      "[100]\tvalid_0's rmse: 0.722177\n",
      "[200]\tvalid_0's rmse: 0.719799\n",
      "[300]\tvalid_0's rmse: 0.719263\n",
      "[400]\tvalid_0's rmse: 0.719075\n",
      "[500]\tvalid_0's rmse: 0.719091\n",
      "[600]\tvalid_0's rmse: 0.719255\n",
      "[700]\tvalid_0's rmse: 0.719452\n",
      "[800]\tvalid_0's rmse: 0.719727\n",
      "[900]\tvalid_0's rmse: 0.719873\n"
     ]
    },
    {
     "name": "stderr",
     "output_type": "stream",
     "text": [
      "feature_fraction, val_score: 0.720032: 100%|##########| 7/7 [00:41<00:00,  5.91s/it]\u001b[32m[I 2021-08-24 12:59:56,607]\u001b[0m Trial 6 finished with value: 0.7200320490642116 and parameters: {'feature_fraction': 0.4}. Best is trial 6 with value: 0.7200320490642116.\u001b[0m\n",
      "feature_fraction, val_score: 0.720032: 100%|##########| 7/7 [00:41<00:00,  5.98s/it]\n",
      "num_leaves, val_score: 0.720032:   0%|          | 0/20 [00:00<?, ?it/s]"
     ]
    },
    {
     "name": "stdout",
     "output_type": "stream",
     "text": [
      "[1000]\tvalid_0's rmse: 0.720032\n",
      "[LightGBM] [Warning] Auto-choosing row-wise multi-threading, the overhead of testing was 0.007843 seconds.\n",
      "You can set `force_row_wise=true` to remove the overhead.\n",
      "And if memory is not enough, you can set `force_col_wise=true`.\n",
      "[LightGBM] [Info] Total Bins 3626\n",
      "[LightGBM] [Info] Number of data points in the train set: 225000, number of used features: 24\n",
      "[LightGBM] [Info] Start training from score 8.243805\n",
      "[100]\tvalid_0's rmse: 0.72186\n",
      "[200]\tvalid_0's rmse: 0.722627\n",
      "[300]\tvalid_0's rmse: 0.723916\n",
      "[400]\tvalid_0's rmse: 0.725326\n",
      "[500]\tvalid_0's rmse: 0.72678\n",
      "[600]\tvalid_0's rmse: 0.727948\n",
      "[700]\tvalid_0's rmse: 0.728852\n",
      "[800]\tvalid_0's rmse: 0.729748\n",
      "[900]\tvalid_0's rmse: 0.730641\n",
      "[1000]\tvalid_0's rmse: 0.731552\n"
     ]
    },
    {
     "name": "stderr",
     "output_type": "stream",
     "text": [
      "num_leaves, val_score: 0.720032:   5%|5         | 1/20 [00:13<04:13, 13.35s/it]\u001b[32m[I 2021-08-24 13:00:09,965]\u001b[0m Trial 7 finished with value: 0.731552247284299 and parameters: {'num_leaves': 239}. Best is trial 7 with value: 0.731552247284299.\u001b[0m\n",
      "num_leaves, val_score: 0.720032:   5%|5         | 1/20 [00:13<04:13, 13.35s/it]"
     ]
    },
    {
     "name": "stdout",
     "output_type": "stream",
     "text": [
      "[LightGBM] [Warning] Auto-choosing row-wise multi-threading, the overhead of testing was 0.007887 seconds.\n",
      "You can set `force_row_wise=true` to remove the overhead.\n",
      "And if memory is not enough, you can set `force_col_wise=true`.\n",
      "[LightGBM] [Info] Total Bins 3626\n",
      "[LightGBM] [Info] Number of data points in the train set: 225000, number of used features: 24\n",
      "[LightGBM] [Info] Start training from score 8.243805\n",
      "[100]\tvalid_0's rmse: 0.721063\n",
      "[200]\tvalid_0's rmse: 0.720736\n",
      "[300]\tvalid_0's rmse: 0.721325\n",
      "[400]\tvalid_0's rmse: 0.722183\n",
      "[500]\tvalid_0's rmse: 0.72297\n",
      "[600]\tvalid_0's rmse: 0.723797\n",
      "[700]\tvalid_0's rmse: 0.724413\n",
      "[800]\tvalid_0's rmse: 0.72534\n",
      "[900]\tvalid_0's rmse: 0.726248\n"
     ]
    },
    {
     "name": "stderr",
     "output_type": "stream",
     "text": [
      "num_leaves, val_score: 0.720032:  10%|#         | 2/20 [00:23<03:31, 11.75s/it]\u001b[32m[I 2021-08-24 13:00:20,589]\u001b[0m Trial 8 finished with value: 0.7269837351037086 and parameters: {'num_leaves': 135}. Best is trial 8 with value: 0.7269837351037086.\u001b[0m\n",
      "num_leaves, val_score: 0.720032:  10%|#         | 2/20 [00:23<03:31, 11.75s/it]"
     ]
    },
    {
     "name": "stdout",
     "output_type": "stream",
     "text": [
      "[1000]\tvalid_0's rmse: 0.726984\n",
      "[LightGBM] [Warning] Auto-choosing row-wise multi-threading, the overhead of testing was 0.007494 seconds.\n",
      "You can set `force_row_wise=true` to remove the overhead.\n",
      "And if memory is not enough, you can set `force_col_wise=true`.\n",
      "[LightGBM] [Info] Total Bins 3626\n",
      "[LightGBM] [Info] Number of data points in the train set: 225000, number of used features: 24\n",
      "[LightGBM] [Info] Start training from score 8.243805\n",
      "[100]\tvalid_0's rmse: 0.722111\n",
      "[200]\tvalid_0's rmse: 0.723103\n",
      "[300]\tvalid_0's rmse: 0.72451\n",
      "[400]\tvalid_0's rmse: 0.725645\n",
      "[500]\tvalid_0's rmse: 0.727031\n",
      "[600]\tvalid_0's rmse: 0.728161\n",
      "[700]\tvalid_0's rmse: 0.729366\n",
      "[800]\tvalid_0's rmse: 0.730329\n",
      "[900]\tvalid_0's rmse: 0.731379\n",
      "[1000]\tvalid_0's rmse: 0.732152\n"
     ]
    },
    {
     "name": "stderr",
     "output_type": "stream",
     "text": [
      "num_leaves, val_score: 0.720032:  15%|#5        | 3/20 [00:40<03:58, 14.03s/it]\u001b[32m[I 2021-08-24 13:00:37,332]\u001b[0m Trial 9 finished with value: 0.7321520258011185 and parameters: {'num_leaves': 253}. Best is trial 8 with value: 0.7269837351037086.\u001b[0m\n",
      "num_leaves, val_score: 0.720032:  15%|#5        | 3/20 [00:40<03:58, 14.03s/it]"
     ]
    },
    {
     "name": "stdout",
     "output_type": "stream",
     "text": [
      "[LightGBM] [Warning] Auto-choosing row-wise multi-threading, the overhead of testing was 0.007406 seconds.\n",
      "You can set `force_row_wise=true` to remove the overhead.\n",
      "And if memory is not enough, you can set `force_col_wise=true`.\n",
      "[LightGBM] [Info] Total Bins 3626\n",
      "[LightGBM] [Info] Number of data points in the train set: 225000, number of used features: 24\n",
      "[LightGBM] [Info] Start training from score 8.243805\n",
      "[100]\tvalid_0's rmse: 0.720947\n",
      "[200]\tvalid_0's rmse: 0.720793\n",
      "[300]\tvalid_0's rmse: 0.721679\n",
      "[400]\tvalid_0's rmse: 0.72239\n",
      "[500]\tvalid_0's rmse: 0.723259\n",
      "[600]\tvalid_0's rmse: 0.723914\n",
      "[700]\tvalid_0's rmse: 0.724883\n",
      "[800]\tvalid_0's rmse: 0.725587\n",
      "[900]\tvalid_0's rmse: 0.726044\n",
      "[1000]\tvalid_0's rmse: 0.726903\n"
     ]
    },
    {
     "name": "stderr",
     "output_type": "stream",
     "text": [
      "num_leaves, val_score: 0.720032:  20%|##        | 4/20 [00:53<03:35, 13.45s/it]\u001b[32m[I 2021-08-24 13:00:49,886]\u001b[0m Trial 10 finished with value: 0.7269029496722441 and parameters: {'num_leaves': 142}. Best is trial 10 with value: 0.7269029496722441.\u001b[0m\n",
      "num_leaves, val_score: 0.720032:  20%|##        | 4/20 [00:53<03:35, 13.45s/it]"
     ]
    },
    {
     "name": "stdout",
     "output_type": "stream",
     "text": [
      "[LightGBM] [Warning] Auto-choosing row-wise multi-threading, the overhead of testing was 0.007850 seconds.\n",
      "You can set `force_row_wise=true` to remove the overhead.\n",
      "And if memory is not enough, you can set `force_col_wise=true`.\n",
      "[LightGBM] [Info] Total Bins 3626\n",
      "[LightGBM] [Info] Number of data points in the train set: 225000, number of used features: 24\n",
      "[LightGBM] [Info] Start training from score 8.243805\n",
      "[100]\tvalid_0's rmse: 0.7216\n",
      "[200]\tvalid_0's rmse: 0.721977\n",
      "[300]\tvalid_0's rmse: 0.722689\n",
      "[400]\tvalid_0's rmse: 0.72394\n",
      "[500]\tvalid_0's rmse: 0.724767\n",
      "[600]\tvalid_0's rmse: 0.725635\n",
      "[700]\tvalid_0's rmse: 0.726557\n",
      "[800]\tvalid_0's rmse: 0.727479\n",
      "[900]\tvalid_0's rmse: 0.728305\n",
      "[1000]\tvalid_0's rmse: 0.728854\n"
     ]
    },
    {
     "name": "stderr",
     "output_type": "stream",
     "text": [
      "num_leaves, val_score: 0.720032:  25%|##5       | 5/20 [01:06<03:18, 13.21s/it]\u001b[32m[I 2021-08-24 13:01:02,681]\u001b[0m Trial 11 finished with value: 0.7288535690360162 and parameters: {'num_leaves': 182}. Best is trial 10 with value: 0.7269029496722441.\u001b[0m\n",
      "num_leaves, val_score: 0.720032:  25%|##5       | 5/20 [01:06<03:18, 13.21s/it]"
     ]
    },
    {
     "name": "stdout",
     "output_type": "stream",
     "text": [
      "[LightGBM] [Warning] Auto-choosing row-wise multi-threading, the overhead of testing was 0.009116 seconds.\n",
      "You can set `force_row_wise=true` to remove the overhead.\n",
      "And if memory is not enough, you can set `force_col_wise=true`.\n",
      "[LightGBM] [Info] Total Bins 3626\n",
      "[LightGBM] [Info] Number of data points in the train set: 225000, number of used features: 24\n",
      "[LightGBM] [Info] Start training from score 8.243805\n",
      "[100]\tvalid_0's rmse: 0.721687\n",
      "[200]\tvalid_0's rmse: 0.7215\n",
      "[300]\tvalid_0's rmse: 0.722631\n",
      "[400]\tvalid_0's rmse: 0.723531\n",
      "[500]\tvalid_0's rmse: 0.724623\n",
      "[600]\tvalid_0's rmse: 0.72557\n",
      "[700]\tvalid_0's rmse: 0.726576\n",
      "[800]\tvalid_0's rmse: 0.727414\n",
      "[900]\tvalid_0's rmse: 0.728332\n",
      "[1000]\tvalid_0's rmse: 0.729302\n"
     ]
    },
    {
     "name": "stderr",
     "output_type": "stream",
     "text": [
      "num_leaves, val_score: 0.720032:  30%|###       | 6/20 [01:17<02:58, 12.77s/it]\u001b[32m[I 2021-08-24 13:01:14,592]\u001b[0m Trial 12 finished with value: 0.7293022938131277 and parameters: {'num_leaves': 191}. Best is trial 10 with value: 0.7269029496722441.\u001b[0m\n",
      "num_leaves, val_score: 0.720032:  30%|###       | 6/20 [01:17<02:58, 12.77s/it]"
     ]
    },
    {
     "name": "stdout",
     "output_type": "stream",
     "text": [
      "[LightGBM] [Warning] Auto-choosing row-wise multi-threading, the overhead of testing was 0.009456 seconds.\n",
      "You can set `force_row_wise=true` to remove the overhead.\n",
      "And if memory is not enough, you can set `force_col_wise=true`.\n",
      "[LightGBM] [Info] Total Bins 3626\n",
      "[LightGBM] [Info] Number of data points in the train set: 225000, number of used features: 24\n",
      "[LightGBM] [Info] Start training from score 8.243805\n",
      "[100]\tvalid_0's rmse: 0.721272\n",
      "[200]\tvalid_0's rmse: 0.721812\n",
      "[300]\tvalid_0's rmse: 0.722995\n",
      "[400]\tvalid_0's rmse: 0.724317\n",
      "[500]\tvalid_0's rmse: 0.725598\n",
      "[600]\tvalid_0's rmse: 0.726546\n",
      "[700]\tvalid_0's rmse: 0.727659\n",
      "[800]\tvalid_0's rmse: 0.728553\n",
      "[900]\tvalid_0's rmse: 0.729408\n",
      "[1000]\tvalid_0's rmse: 0.730356\n"
     ]
    },
    {
     "name": "stderr",
     "output_type": "stream",
     "text": [
      "num_leaves, val_score: 0.720032:  35%|###5      | 7/20 [01:29<02:42, 12.48s/it]\u001b[32m[I 2021-08-24 13:01:26,489]\u001b[0m Trial 13 finished with value: 0.7303557316237624 and parameters: {'num_leaves': 205}. Best is trial 10 with value: 0.7269029496722441.\u001b[0m\n",
      "num_leaves, val_score: 0.720032:  35%|###5      | 7/20 [01:29<02:42, 12.48s/it]"
     ]
    },
    {
     "name": "stdout",
     "output_type": "stream",
     "text": [
      "[LightGBM] [Warning] Auto-choosing row-wise multi-threading, the overhead of testing was 0.008252 seconds.\n",
      "You can set `force_row_wise=true` to remove the overhead.\n",
      "And if memory is not enough, you can set `force_col_wise=true`.\n",
      "[LightGBM] [Info] Total Bins 3626\n",
      "[LightGBM] [Info] Number of data points in the train set: 225000, number of used features: 24\n",
      "[LightGBM] [Info] Start training from score 8.243805\n",
      "[100]\tvalid_0's rmse: 0.721144\n",
      "[200]\tvalid_0's rmse: 0.720637\n",
      "[300]\tvalid_0's rmse: 0.721425\n",
      "[400]\tvalid_0's rmse: 0.722343\n",
      "[500]\tvalid_0's rmse: 0.723222\n",
      "[600]\tvalid_0's rmse: 0.724143\n",
      "[700]\tvalid_0's rmse: 0.725069\n",
      "[800]\tvalid_0's rmse: 0.726011\n",
      "[900]\tvalid_0's rmse: 0.726762\n",
      "[1000]\tvalid_0's rmse: 0.72765\n"
     ]
    },
    {
     "name": "stderr",
     "output_type": "stream",
     "text": [
      "num_leaves, val_score: 0.720032:  40%|####      | 8/20 [01:40<02:22, 11.84s/it]\u001b[32m[I 2021-08-24 13:01:36,943]\u001b[0m Trial 14 finished with value: 0.7276499680267018 and parameters: {'num_leaves': 159}. Best is trial 10 with value: 0.7269029496722441.\u001b[0m\n",
      "num_leaves, val_score: 0.720032:  40%|####      | 8/20 [01:40<02:22, 11.84s/it]"
     ]
    },
    {
     "name": "stdout",
     "output_type": "stream",
     "text": [
      "[LightGBM] [Warning] Auto-choosing row-wise multi-threading, the overhead of testing was 0.008039 seconds.\n",
      "You can set `force_row_wise=true` to remove the overhead.\n",
      "And if memory is not enough, you can set `force_col_wise=true`.\n",
      "[LightGBM] [Info] Total Bins 3626\n",
      "[LightGBM] [Info] Number of data points in the train set: 225000, number of used features: 24\n",
      "[LightGBM] [Info] Start training from score 8.243805\n",
      "[100]\tvalid_0's rmse: 0.72108\n",
      "[200]\tvalid_0's rmse: 0.72062\n",
      "[300]\tvalid_0's rmse: 0.720996\n",
      "[400]\tvalid_0's rmse: 0.721566\n",
      "[500]\tvalid_0's rmse: 0.722421\n",
      "[600]\tvalid_0's rmse: 0.723072\n",
      "[700]\tvalid_0's rmse: 0.72398\n",
      "[800]\tvalid_0's rmse: 0.724592\n",
      "[900]\tvalid_0's rmse: 0.725092\n"
     ]
    },
    {
     "name": "stderr",
     "output_type": "stream",
     "text": [
      "num_leaves, val_score: 0.720032:  45%|####5     | 9/20 [01:49<02:01, 11.02s/it]\u001b[32m[I 2021-08-24 13:01:46,162]\u001b[0m Trial 15 finished with value: 0.7257200414031798 and parameters: {'num_leaves': 116}. Best is trial 15 with value: 0.7257200414031798.\u001b[0m\n",
      "num_leaves, val_score: 0.720032:  45%|####5     | 9/20 [01:49<02:01, 11.02s/it]"
     ]
    },
    {
     "name": "stdout",
     "output_type": "stream",
     "text": [
      "[1000]\tvalid_0's rmse: 0.72572\n",
      "[LightGBM] [Warning] Auto-choosing row-wise multi-threading, the overhead of testing was 0.007932 seconds.\n",
      "You can set `force_row_wise=true` to remove the overhead.\n",
      "And if memory is not enough, you can set `force_col_wise=true`.\n",
      "[LightGBM] [Info] Total Bins 3626\n",
      "[LightGBM] [Info] Number of data points in the train set: 225000, number of used features: 24\n",
      "[LightGBM] [Info] Start training from score 8.243805\n",
      "[100]\tvalid_0's rmse: 0.72067\n",
      "[200]\tvalid_0's rmse: 0.720222\n",
      "[300]\tvalid_0's rmse: 0.720554\n",
      "[400]\tvalid_0's rmse: 0.721424\n",
      "[500]\tvalid_0's rmse: 0.721901\n",
      "[600]\tvalid_0's rmse: 0.722818\n",
      "[700]\tvalid_0's rmse: 0.723588\n",
      "[800]\tvalid_0's rmse: 0.724175\n",
      "[900]\tvalid_0's rmse: 0.724827\n",
      "[1000]\tvalid_0's rmse: 0.725588\n"
     ]
    },
    {
     "name": "stderr",
     "output_type": "stream",
     "text": [
      "num_leaves, val_score: 0.720032:  50%|#####     | 10/20 [01:59<01:48, 10.82s/it]\u001b[32m[I 2021-08-24 13:01:56,532]\u001b[0m Trial 16 finished with value: 0.7255877817142903 and parameters: {'num_leaves': 133}. Best is trial 16 with value: 0.7255877817142903.\u001b[0m\n",
      "num_leaves, val_score: 0.720032:  50%|#####     | 10/20 [01:59<01:48, 10.82s/it]"
     ]
    },
    {
     "name": "stdout",
     "output_type": "stream",
     "text": [
      "[LightGBM] [Warning] Auto-choosing row-wise multi-threading, the overhead of testing was 0.009376 seconds.\n",
      "You can set `force_row_wise=true` to remove the overhead.\n",
      "And if memory is not enough, you can set `force_col_wise=true`.\n",
      "[LightGBM] [Info] Total Bins 3626\n",
      "[LightGBM] [Info] Number of data points in the train set: 225000, number of used features: 24\n",
      "[LightGBM] [Info] Start training from score 8.243805\n",
      "[100]\tvalid_0's rmse: 0.722635\n",
      "[200]\tvalid_0's rmse: 0.719957\n",
      "[300]\tvalid_0's rmse: 0.719238\n",
      "[400]\tvalid_0's rmse: 0.719043\n",
      "[500]\tvalid_0's rmse: 0.718919\n",
      "[600]\tvalid_0's rmse: 0.718971\n",
      "[700]\tvalid_0's rmse: 0.719172\n",
      "[800]\tvalid_0's rmse: 0.71926\n",
      "[900]\tvalid_0's rmse: 0.719347\n"
     ]
    },
    {
     "name": "stderr",
     "output_type": "stream",
     "text": [
      "num_leaves, val_score: 0.719450:  55%|#####5    | 11/20 [02:06<01:24,  9.44s/it]\u001b[32m[I 2021-08-24 13:02:02,843]\u001b[0m Trial 17 finished with value: 0.719449757109044 and parameters: {'num_leaves': 24}. Best is trial 17 with value: 0.719449757109044.\u001b[0m\n",
      "num_leaves, val_score: 0.719450:  55%|#####5    | 11/20 [02:06<01:24,  9.44s/it]"
     ]
    },
    {
     "name": "stdout",
     "output_type": "stream",
     "text": [
      "[1000]\tvalid_0's rmse: 0.71945\n",
      "[LightGBM] [Warning] Auto-choosing row-wise multi-threading, the overhead of testing was 0.013233 seconds.\n",
      "You can set `force_row_wise=true` to remove the overhead.\n",
      "And if memory is not enough, you can set `force_col_wise=true`.\n",
      "[LightGBM] [Info] Total Bins 3626\n",
      "[LightGBM] [Info] Number of data points in the train set: 225000, number of used features: 24\n",
      "[LightGBM] [Info] Start training from score 8.243805\n",
      "[100]\tvalid_0's rmse: 0.721804\n",
      "[200]\tvalid_0's rmse: 0.719738\n",
      "[300]\tvalid_0's rmse: 0.719322\n",
      "[400]\tvalid_0's rmse: 0.719286\n",
      "[500]\tvalid_0's rmse: 0.719363\n",
      "[600]\tvalid_0's rmse: 0.719541\n",
      "[700]\tvalid_0's rmse: 0.719578\n",
      "[800]\tvalid_0's rmse: 0.719892\n",
      "[900]\tvalid_0's rmse: 0.720116\n"
     ]
    },
    {
     "name": "stderr",
     "output_type": "stream",
     "text": [
      "num_leaves, val_score: 0.719450:  60%|######    | 12/20 [02:13<01:09,  8.69s/it]\u001b[32m[I 2021-08-24 13:02:09,807]\u001b[0m Trial 18 finished with value: 0.7203389837985219 and parameters: {'num_leaves': 37}. Best is trial 17 with value: 0.719449757109044.\u001b[0m\n",
      "num_leaves, val_score: 0.719450:  60%|######    | 12/20 [02:13<01:09,  8.69s/it]"
     ]
    },
    {
     "name": "stdout",
     "output_type": "stream",
     "text": [
      "[1000]\tvalid_0's rmse: 0.720339\n",
      "[LightGBM] [Warning] Auto-choosing row-wise multi-threading, the overhead of testing was 0.010587 seconds.\n",
      "You can set `force_row_wise=true` to remove the overhead.\n",
      "And if memory is not enough, you can set `force_col_wise=true`.\n",
      "[LightGBM] [Info] Total Bins 3626\n",
      "[LightGBM] [Info] Number of data points in the train set: 225000, number of used features: 24\n",
      "[LightGBM] [Info] Start training from score 8.243805\n",
      "[100]\tvalid_0's rmse: 0.723813\n",
      "[200]\tvalid_0's rmse: 0.720462\n",
      "[300]\tvalid_0's rmse: 0.719411\n",
      "[400]\tvalid_0's rmse: 0.718889\n",
      "[500]\tvalid_0's rmse: 0.718547\n",
      "[600]\tvalid_0's rmse: 0.71839\n",
      "[700]\tvalid_0's rmse: 0.718337\n",
      "[800]\tvalid_0's rmse: 0.718327\n",
      "[900]\tvalid_0's rmse: 0.718236\n"
     ]
    },
    {
     "name": "stderr",
     "output_type": "stream",
     "text": [
      "num_leaves, val_score: 0.718323:  65%|######5   | 13/20 [02:19<00:54,  7.82s/it]\u001b[32m[I 2021-08-24 13:02:15,638]\u001b[0m Trial 19 finished with value: 0.7183227526525451 and parameters: {'num_leaves': 16}. Best is trial 19 with value: 0.7183227526525451.\u001b[0m\n",
      "num_leaves, val_score: 0.718323:  65%|######5   | 13/20 [02:19<00:54,  7.82s/it]"
     ]
    },
    {
     "name": "stdout",
     "output_type": "stream",
     "text": [
      "[1000]\tvalid_0's rmse: 0.718323\n",
      "[LightGBM] [Warning] Auto-choosing row-wise multi-threading, the overhead of testing was 0.007661 seconds.\n",
      "You can set `force_row_wise=true` to remove the overhead.\n",
      "And if memory is not enough, you can set `force_col_wise=true`.\n",
      "[LightGBM] [Info] Total Bins 3626\n",
      "[LightGBM] [Info] Number of data points in the train set: 225000, number of used features: 24\n",
      "[LightGBM] [Info] Start training from score 8.243805\n",
      "[100]\tvalid_0's rmse: 0.733136\n",
      "[200]\tvalid_0's rmse: 0.729527\n",
      "[300]\tvalid_0's rmse: 0.72743\n",
      "[400]\tvalid_0's rmse: 0.726041\n",
      "[500]\tvalid_0's rmse: 0.725\n",
      "[600]\tvalid_0's rmse: 0.724147\n",
      "[700]\tvalid_0's rmse: 0.723291\n",
      "[800]\tvalid_0's rmse: 0.722651\n",
      "[900]\tvalid_0's rmse: 0.722046\n"
     ]
    },
    {
     "name": "stderr",
     "output_type": "stream",
     "text": [
      "num_leaves, val_score: 0.718323:  70%|#######   | 14/20 [02:23<00:41,  6.95s/it]\u001b[32m[I 2021-08-24 13:02:20,575]\u001b[0m Trial 20 finished with value: 0.7214396599357777 and parameters: {'num_leaves': 3}. Best is trial 19 with value: 0.7183227526525451.\u001b[0m\n",
      "num_leaves, val_score: 0.718323:  70%|#######   | 14/20 [02:23<00:41,  6.95s/it]"
     ]
    },
    {
     "name": "stdout",
     "output_type": "stream",
     "text": [
      "[1000]\tvalid_0's rmse: 0.72144\n",
      "[LightGBM] [Warning] Auto-choosing row-wise multi-threading, the overhead of testing was 0.007917 seconds.\n",
      "You can set `force_row_wise=true` to remove the overhead.\n",
      "And if memory is not enough, you can set `force_col_wise=true`.\n",
      "[LightGBM] [Info] Total Bins 3626\n",
      "[LightGBM] [Info] Number of data points in the train set: 225000, number of used features: 24\n",
      "[LightGBM] [Info] Start training from score 8.243805\n",
      "[100]\tvalid_0's rmse: 0.721123\n",
      "[200]\tvalid_0's rmse: 0.719707\n",
      "[300]\tvalid_0's rmse: 0.719558\n",
      "[400]\tvalid_0's rmse: 0.719841\n",
      "[500]\tvalid_0's rmse: 0.720214\n",
      "[600]\tvalid_0's rmse: 0.720448\n",
      "[700]\tvalid_0's rmse: 0.720894\n",
      "[800]\tvalid_0's rmse: 0.721331\n",
      "[900]\tvalid_0's rmse: 0.721732\n"
     ]
    },
    {
     "name": "stderr",
     "output_type": "stream",
     "text": [
      "num_leaves, val_score: 0.718323:  75%|#######5  | 15/20 [02:32<00:36,  7.28s/it]\u001b[32m[I 2021-08-24 13:02:28,632]\u001b[0m Trial 21 finished with value: 0.7221904850090883 and parameters: {'num_leaves': 65}. Best is trial 19 with value: 0.7183227526525451.\u001b[0m\n",
      "num_leaves, val_score: 0.718323:  75%|#######5  | 15/20 [02:32<00:36,  7.28s/it]"
     ]
    },
    {
     "name": "stdout",
     "output_type": "stream",
     "text": [
      "[1000]\tvalid_0's rmse: 0.72219\n",
      "[LightGBM] [Warning] Auto-choosing row-wise multi-threading, the overhead of testing was 0.007887 seconds.\n",
      "You can set `force_row_wise=true` to remove the overhead.\n",
      "And if memory is not enough, you can set `force_col_wise=true`.\n",
      "[LightGBM] [Info] Total Bins 3626\n",
      "[LightGBM] [Info] Number of data points in the train set: 225000, number of used features: 24\n",
      "[LightGBM] [Info] Start training from score 8.243805\n",
      "[100]\tvalid_0's rmse: 0.721271\n",
      "[200]\tvalid_0's rmse: 0.719809\n",
      "[300]\tvalid_0's rmse: 0.719962\n",
      "[400]\tvalid_0's rmse: 0.720297\n",
      "[500]\tvalid_0's rmse: 0.720497\n",
      "[600]\tvalid_0's rmse: 0.721044\n",
      "[700]\tvalid_0's rmse: 0.721477\n",
      "[800]\tvalid_0's rmse: 0.72194\n",
      "[900]\tvalid_0's rmse: 0.722205\n"
     ]
    },
    {
     "name": "stderr",
     "output_type": "stream",
     "text": [
      "num_leaves, val_score: 0.718323:  80%|########  | 16/20 [02:39<00:29,  7.44s/it]\u001b[32m[I 2021-08-24 13:02:36,448]\u001b[0m Trial 22 finished with value: 0.7227846232000646 and parameters: {'num_leaves': 71}. Best is trial 19 with value: 0.7183227526525451.\u001b[0m\n",
      "num_leaves, val_score: 0.718323:  80%|########  | 16/20 [02:39<00:29,  7.44s/it]"
     ]
    },
    {
     "name": "stdout",
     "output_type": "stream",
     "text": [
      "[1000]\tvalid_0's rmse: 0.722785\n",
      "[LightGBM] [Warning] Auto-choosing row-wise multi-threading, the overhead of testing was 0.008000 seconds.\n",
      "You can set `force_row_wise=true` to remove the overhead.\n",
      "And if memory is not enough, you can set `force_col_wise=true`.\n",
      "[LightGBM] [Info] Total Bins 3626\n",
      "[LightGBM] [Info] Number of data points in the train set: 225000, number of used features: 24\n",
      "[LightGBM] [Info] Start training from score 8.243805\n",
      "[100]\tvalid_0's rmse: 0.736547\n",
      "[200]\tvalid_0's rmse: 0.73382\n",
      "[300]\tvalid_0's rmse: 0.732149\n",
      "[400]\tvalid_0's rmse: 0.730953\n",
      "[500]\tvalid_0's rmse: 0.730052\n",
      "[600]\tvalid_0's rmse: 0.729357\n",
      "[700]\tvalid_0's rmse: 0.728821\n",
      "[800]\tvalid_0's rmse: 0.728384\n",
      "[900]\tvalid_0's rmse: 0.728042\n"
     ]
    },
    {
     "name": "stderr",
     "output_type": "stream",
     "text": [
      "num_leaves, val_score: 0.718323:  85%|########5 | 17/20 [02:44<00:19,  6.57s/it]\u001b[32m[I 2021-08-24 13:02:40,980]\u001b[0m Trial 23 finished with value: 0.7276951187643235 and parameters: {'num_leaves': 2}. Best is trial 19 with value: 0.7183227526525451.\u001b[0m\n",
      "num_leaves, val_score: 0.718323:  85%|########5 | 17/20 [02:44<00:19,  6.57s/it]"
     ]
    },
    {
     "name": "stdout",
     "output_type": "stream",
     "text": [
      "[1000]\tvalid_0's rmse: 0.727695\n",
      "[LightGBM] [Warning] Auto-choosing row-wise multi-threading, the overhead of testing was 0.006552 seconds.\n",
      "You can set `force_row_wise=true` to remove the overhead.\n",
      "And if memory is not enough, you can set `force_col_wise=true`.\n",
      "[LightGBM] [Info] Total Bins 3626\n",
      "[LightGBM] [Info] Number of data points in the train set: 225000, number of used features: 24\n",
      "[LightGBM] [Info] Start training from score 8.243805\n",
      "[100]\tvalid_0's rmse: 0.722068\n",
      "[200]\tvalid_0's rmse: 0.71979\n",
      "[300]\tvalid_0's rmse: 0.719344\n",
      "[400]\tvalid_0's rmse: 0.719306\n",
      "[500]\tvalid_0's rmse: 0.719346\n",
      "[600]\tvalid_0's rmse: 0.719425\n",
      "[700]\tvalid_0's rmse: 0.719611\n",
      "[800]\tvalid_0's rmse: 0.719836\n",
      "[900]\tvalid_0's rmse: 0.720054\n"
     ]
    },
    {
     "name": "stderr",
     "output_type": "stream",
     "text": [
      "num_leaves, val_score: 0.718323:  90%|######### | 18/20 [02:51<00:13,  6.66s/it]\u001b[32m[I 2021-08-24 13:02:47,838]\u001b[0m Trial 24 finished with value: 0.7202841351961307 and parameters: {'num_leaves': 34}. Best is trial 19 with value: 0.7183227526525451.\u001b[0m\n",
      "num_leaves, val_score: 0.718323:  90%|######### | 18/20 [02:51<00:13,  6.66s/it]"
     ]
    },
    {
     "name": "stdout",
     "output_type": "stream",
     "text": [
      "[1000]\tvalid_0's rmse: 0.720284\n",
      "[LightGBM] [Warning] Auto-choosing row-wise multi-threading, the overhead of testing was 0.007998 seconds.\n",
      "You can set `force_row_wise=true` to remove the overhead.\n",
      "And if memory is not enough, you can set `force_col_wise=true`.\n",
      "[LightGBM] [Info] Total Bins 3626\n",
      "[LightGBM] [Info] Number of data points in the train set: 225000, number of used features: 24\n",
      "[LightGBM] [Info] Start training from score 8.243805\n",
      "[100]\tvalid_0's rmse: 0.720974\n",
      "[200]\tvalid_0's rmse: 0.720238\n",
      "[300]\tvalid_0's rmse: 0.72047\n",
      "[400]\tvalid_0's rmse: 0.721089\n",
      "[500]\tvalid_0's rmse: 0.721873\n",
      "[600]\tvalid_0's rmse: 0.722227\n",
      "[700]\tvalid_0's rmse: 0.722722\n",
      "[800]\tvalid_0's rmse: 0.72342\n",
      "[900]\tvalid_0's rmse: 0.724068\n"
     ]
    },
    {
     "name": "stderr",
     "output_type": "stream",
     "text": [
      "num_leaves, val_score: 0.718323:  95%|#########5| 19/20 [03:00<00:07,  7.43s/it]\u001b[32m[I 2021-08-24 13:02:57,085]\u001b[0m Trial 25 finished with value: 0.7245489794042026 and parameters: {'num_leaves': 91}. Best is trial 19 with value: 0.7183227526525451.\u001b[0m\n",
      "num_leaves, val_score: 0.718323:  95%|#########5| 19/20 [03:00<00:07,  7.43s/it]"
     ]
    },
    {
     "name": "stdout",
     "output_type": "stream",
     "text": [
      "[1000]\tvalid_0's rmse: 0.724549\n",
      "[LightGBM] [Warning] Auto-choosing row-wise multi-threading, the overhead of testing was 0.008012 seconds.\n",
      "You can set `force_row_wise=true` to remove the overhead.\n",
      "And if memory is not enough, you can set `force_col_wise=true`.\n",
      "[LightGBM] [Info] Total Bins 3626\n",
      "[LightGBM] [Info] Number of data points in the train set: 225000, number of used features: 24\n",
      "[LightGBM] [Info] Start training from score 8.243805\n",
      "[100]\tvalid_0's rmse: 0.722461\n",
      "[200]\tvalid_0's rmse: 0.720015\n",
      "[300]\tvalid_0's rmse: 0.719266\n",
      "[400]\tvalid_0's rmse: 0.719027\n",
      "[500]\tvalid_0's rmse: 0.719016\n",
      "[600]\tvalid_0's rmse: 0.718982\n",
      "[700]\tvalid_0's rmse: 0.719023\n",
      "[800]\tvalid_0's rmse: 0.71915\n",
      "[900]\tvalid_0's rmse: 0.719286\n"
     ]
    },
    {
     "name": "stderr",
     "output_type": "stream",
     "text": [
      "num_leaves, val_score: 0.718323: 100%|##########| 20/20 [03:07<00:00,  7.16s/it]\u001b[32m[I 2021-08-24 13:03:03,620]\u001b[0m Trial 26 finished with value: 0.7194661275581734 and parameters: {'num_leaves': 28}. Best is trial 19 with value: 0.7183227526525451.\u001b[0m\n",
      "num_leaves, val_score: 0.718323: 100%|##########| 20/20 [03:07<00:00,  9.35s/it]\n",
      "bagging, val_score: 0.718323:   0%|          | 0/10 [00:00<?, ?it/s]"
     ]
    },
    {
     "name": "stdout",
     "output_type": "stream",
     "text": [
      "[1000]\tvalid_0's rmse: 0.719466\n",
      "[LightGBM] [Warning] Auto-choosing row-wise multi-threading, the overhead of testing was 0.009342 seconds.\n",
      "You can set `force_row_wise=true` to remove the overhead.\n",
      "And if memory is not enough, you can set `force_col_wise=true`.\n",
      "[LightGBM] [Info] Total Bins 3626\n",
      "[LightGBM] [Info] Number of data points in the train set: 225000, number of used features: 24\n",
      "[LightGBM] [Info] Start training from score 8.243805\n",
      "[100]\tvalid_0's rmse: 0.723941\n",
      "[200]\tvalid_0's rmse: 0.720551\n",
      "[300]\tvalid_0's rmse: 0.71945\n",
      "[400]\tvalid_0's rmse: 0.718964\n",
      "[500]\tvalid_0's rmse: 0.718606\n",
      "[600]\tvalid_0's rmse: 0.718423\n",
      "[700]\tvalid_0's rmse: 0.718266\n",
      "[800]\tvalid_0's rmse: 0.718205\n",
      "[900]\tvalid_0's rmse: 0.718215\n"
     ]
    },
    {
     "name": "stderr",
     "output_type": "stream",
     "text": [
      "bagging, val_score: 0.718246:  10%|#         | 1/10 [00:07<01:06,  7.37s/it]\u001b[32m[I 2021-08-24 13:03:10,991]\u001b[0m Trial 27 finished with value: 0.7182461960936289 and parameters: {'bagging_fraction': 0.9039653540165654, 'bagging_freq': 7}. Best is trial 27 with value: 0.7182461960936289.\u001b[0m\n",
      "bagging, val_score: 0.718246:  10%|#         | 1/10 [00:07<01:06,  7.37s/it]"
     ]
    },
    {
     "name": "stdout",
     "output_type": "stream",
     "text": [
      "[1000]\tvalid_0's rmse: 0.718246\n",
      "[LightGBM] [Warning] Auto-choosing row-wise multi-threading, the overhead of testing was 0.006914 seconds.\n",
      "You can set `force_row_wise=true` to remove the overhead.\n",
      "And if memory is not enough, you can set `force_col_wise=true`.\n",
      "[LightGBM] [Info] Total Bins 3626\n",
      "[LightGBM] [Info] Number of data points in the train set: 225000, number of used features: 24\n",
      "[LightGBM] [Info] Start training from score 8.243805\n",
      "[100]\tvalid_0's rmse: 0.723902\n",
      "[200]\tvalid_0's rmse: 0.720421\n",
      "[300]\tvalid_0's rmse: 0.719509\n",
      "[400]\tvalid_0's rmse: 0.719057\n",
      "[500]\tvalid_0's rmse: 0.718718\n",
      "[600]\tvalid_0's rmse: 0.718582\n",
      "[700]\tvalid_0's rmse: 0.718415\n",
      "[800]\tvalid_0's rmse: 0.718473\n",
      "[900]\tvalid_0's rmse: 0.71855\n"
     ]
    },
    {
     "name": "stderr",
     "output_type": "stream",
     "text": [
      "bagging, val_score: 0.718246:  20%|##        | 2/10 [00:13<00:55,  6.92s/it]\u001b[32m[I 2021-08-24 13:03:17,597]\u001b[0m Trial 28 finished with value: 0.7185788564667847 and parameters: {'bagging_fraction': 0.9536054021406682, 'bagging_freq': 1}. Best is trial 27 with value: 0.7182461960936289.\u001b[0m\n",
      "bagging, val_score: 0.718246:  20%|##        | 2/10 [00:13<00:55,  6.92s/it]"
     ]
    },
    {
     "name": "stdout",
     "output_type": "stream",
     "text": [
      "[1000]\tvalid_0's rmse: 0.718579\n",
      "[LightGBM] [Warning] Auto-choosing row-wise multi-threading, the overhead of testing was 0.007121 seconds.\n",
      "You can set `force_row_wise=true` to remove the overhead.\n",
      "And if memory is not enough, you can set `force_col_wise=true`.\n",
      "[LightGBM] [Info] Total Bins 3626\n",
      "[LightGBM] [Info] Number of data points in the train set: 225000, number of used features: 24\n",
      "[LightGBM] [Info] Start training from score 8.243805\n",
      "[100]\tvalid_0's rmse: 0.723741\n",
      "[200]\tvalid_0's rmse: 0.720623\n",
      "[300]\tvalid_0's rmse: 0.719449\n",
      "[400]\tvalid_0's rmse: 0.718916\n",
      "[500]\tvalid_0's rmse: 0.718676\n",
      "[600]\tvalid_0's rmse: 0.718534\n",
      "[700]\tvalid_0's rmse: 0.718594\n",
      "[800]\tvalid_0's rmse: 0.718744\n",
      "[900]\tvalid_0's rmse: 0.718691\n"
     ]
    },
    {
     "name": "stderr",
     "output_type": "stream",
     "text": [
      "bagging, val_score: 0.718246:  30%|###       | 3/10 [00:20<00:47,  6.75s/it]\u001b[32m[I 2021-08-24 13:03:24,138]\u001b[0m Trial 29 finished with value: 0.718802380030173 and parameters: {'bagging_fraction': 0.6208188282571185, 'bagging_freq': 1}. Best is trial 27 with value: 0.7182461960936289.\u001b[0m\n",
      "bagging, val_score: 0.718246:  30%|###       | 3/10 [00:20<00:47,  6.75s/it]"
     ]
    },
    {
     "name": "stdout",
     "output_type": "stream",
     "text": [
      "[1000]\tvalid_0's rmse: 0.718802\n",
      "[LightGBM] [Warning] Auto-choosing row-wise multi-threading, the overhead of testing was 0.007324 seconds.\n",
      "You can set `force_row_wise=true` to remove the overhead.\n",
      "And if memory is not enough, you can set `force_col_wise=true`.\n",
      "[LightGBM] [Info] Total Bins 3626\n",
      "[LightGBM] [Info] Number of data points in the train set: 225000, number of used features: 24\n",
      "[LightGBM] [Info] Start training from score 8.243805\n",
      "[100]\tvalid_0's rmse: 0.723673\n",
      "[200]\tvalid_0's rmse: 0.720309\n",
      "[300]\tvalid_0's rmse: 0.719423\n",
      "[400]\tvalid_0's rmse: 0.718974\n",
      "[500]\tvalid_0's rmse: 0.718691\n",
      "[600]\tvalid_0's rmse: 0.718532\n",
      "[700]\tvalid_0's rmse: 0.718484\n",
      "[800]\tvalid_0's rmse: 0.718486\n",
      "[900]\tvalid_0's rmse: 0.718386\n"
     ]
    },
    {
     "name": "stderr",
     "output_type": "stream",
     "text": [
      "bagging, val_score: 0.718246:  40%|####      | 4/10 [00:28<00:42,  7.11s/it]\u001b[32m[I 2021-08-24 13:03:31,808]\u001b[0m Trial 30 finished with value: 0.7184918704627862 and parameters: {'bagging_fraction': 0.8676890213737853, 'bagging_freq': 5}. Best is trial 27 with value: 0.7182461960936289.\u001b[0m\n",
      "bagging, val_score: 0.718246:  40%|####      | 4/10 [00:28<00:42,  7.11s/it]"
     ]
    },
    {
     "name": "stdout",
     "output_type": "stream",
     "text": [
      "[1000]\tvalid_0's rmse: 0.718492\n",
      "[LightGBM] [Warning] Auto-choosing row-wise multi-threading, the overhead of testing was 0.005398 seconds.\n",
      "You can set `force_row_wise=true` to remove the overhead.\n",
      "And if memory is not enough, you can set `force_col_wise=true`.\n",
      "[LightGBM] [Info] Total Bins 3626\n",
      "[LightGBM] [Info] Number of data points in the train set: 225000, number of used features: 24\n",
      "[LightGBM] [Info] Start training from score 8.243805\n",
      "[100]\tvalid_0's rmse: 0.724219\n",
      "[200]\tvalid_0's rmse: 0.720709\n",
      "[300]\tvalid_0's rmse: 0.719656\n",
      "[400]\tvalid_0's rmse: 0.719074\n",
      "[500]\tvalid_0's rmse: 0.718993\n",
      "[600]\tvalid_0's rmse: 0.718998\n",
      "[700]\tvalid_0's rmse: 0.719068\n",
      "[800]\tvalid_0's rmse: 0.719107\n",
      "[900]\tvalid_0's rmse: 0.719138\n"
     ]
    },
    {
     "name": "stderr",
     "output_type": "stream",
     "text": [
      "bagging, val_score: 0.718246:  50%|#####     | 5/10 [00:34<00:34,  6.85s/it]\u001b[32m[I 2021-08-24 13:03:38,185]\u001b[0m Trial 31 finished with value: 0.7194421133394735 and parameters: {'bagging_fraction': 0.4924727755917959, 'bagging_freq': 4}. Best is trial 27 with value: 0.7182461960936289.\u001b[0m\n",
      "bagging, val_score: 0.718246:  50%|#####     | 5/10 [00:34<00:34,  6.85s/it]"
     ]
    },
    {
     "name": "stdout",
     "output_type": "stream",
     "text": [
      "[1000]\tvalid_0's rmse: 0.719442\n",
      "[LightGBM] [Warning] Auto-choosing row-wise multi-threading, the overhead of testing was 0.008000 seconds.\n",
      "You can set `force_row_wise=true` to remove the overhead.\n",
      "And if memory is not enough, you can set `force_col_wise=true`.\n",
      "[LightGBM] [Info] Total Bins 3626\n",
      "[LightGBM] [Info] Number of data points in the train set: 225000, number of used features: 24\n",
      "[LightGBM] [Info] Start training from score 8.243805\n",
      "[100]\tvalid_0's rmse: 0.723716\n",
      "[200]\tvalid_0's rmse: 0.720704\n",
      "[300]\tvalid_0's rmse: 0.719526\n",
      "[400]\tvalid_0's rmse: 0.719139\n",
      "[500]\tvalid_0's rmse: 0.718873\n",
      "[600]\tvalid_0's rmse: 0.71867\n",
      "[700]\tvalid_0's rmse: 0.718755\n",
      "[800]\tvalid_0's rmse: 0.718843\n",
      "[900]\tvalid_0's rmse: 0.718835\n"
     ]
    },
    {
     "name": "stderr",
     "output_type": "stream",
     "text": [
      "bagging, val_score: 0.718246:  60%|######    | 6/10 [00:41<00:27,  6.80s/it]\u001b[32m[I 2021-08-24 13:03:44,904]\u001b[0m Trial 32 finished with value: 0.7189309357819818 and parameters: {'bagging_fraction': 0.6112207612247206, 'bagging_freq': 1}. Best is trial 27 with value: 0.7182461960936289.\u001b[0m\n",
      "bagging, val_score: 0.718246:  60%|######    | 6/10 [00:41<00:27,  6.80s/it]"
     ]
    },
    {
     "name": "stdout",
     "output_type": "stream",
     "text": [
      "[1000]\tvalid_0's rmse: 0.718931\n",
      "[LightGBM] [Warning] Auto-choosing row-wise multi-threading, the overhead of testing was 0.005460 seconds.\n",
      "You can set `force_row_wise=true` to remove the overhead.\n",
      "And if memory is not enough, you can set `force_col_wise=true`.\n",
      "[LightGBM] [Info] Total Bins 3626\n",
      "[LightGBM] [Info] Number of data points in the train set: 225000, number of used features: 24\n",
      "[LightGBM] [Info] Start training from score 8.243805\n",
      "[100]\tvalid_0's rmse: 0.724192\n",
      "[200]\tvalid_0's rmse: 0.720988\n",
      "[300]\tvalid_0's rmse: 0.719896\n",
      "[400]\tvalid_0's rmse: 0.719345\n",
      "[500]\tvalid_0's rmse: 0.719189\n",
      "[600]\tvalid_0's rmse: 0.71904\n",
      "[700]\tvalid_0's rmse: 0.719052\n",
      "[800]\tvalid_0's rmse: 0.719056\n",
      "[900]\tvalid_0's rmse: 0.719184\n"
     ]
    },
    {
     "name": "stderr",
     "output_type": "stream",
     "text": [
      "bagging, val_score: 0.718246:  70%|#######   | 7/10 [00:47<00:20,  6.76s/it]\u001b[32m[I 2021-08-24 13:03:51,577]\u001b[0m Trial 33 finished with value: 0.7193269900825916 and parameters: {'bagging_fraction': 0.5346616261603454, 'bagging_freq': 3}. Best is trial 27 with value: 0.7182461960936289.\u001b[0m\n",
      "bagging, val_score: 0.718246:  70%|#######   | 7/10 [00:47<00:20,  6.76s/it]"
     ]
    },
    {
     "name": "stdout",
     "output_type": "stream",
     "text": [
      "[1000]\tvalid_0's rmse: 0.719327\n",
      "[LightGBM] [Warning] Auto-choosing row-wise multi-threading, the overhead of testing was 0.009190 seconds.\n",
      "You can set `force_row_wise=true` to remove the overhead.\n",
      "And if memory is not enough, you can set `force_col_wise=true`.\n",
      "[LightGBM] [Info] Total Bins 3626\n",
      "[LightGBM] [Info] Number of data points in the train set: 225000, number of used features: 24\n",
      "[LightGBM] [Info] Start training from score 8.243805\n",
      "[100]\tvalid_0's rmse: 0.724197\n",
      "[200]\tvalid_0's rmse: 0.721277\n",
      "[300]\tvalid_0's rmse: 0.720205\n",
      "[400]\tvalid_0's rmse: 0.719726\n",
      "[500]\tvalid_0's rmse: 0.719451\n",
      "[600]\tvalid_0's rmse: 0.719232\n",
      "[700]\tvalid_0's rmse: 0.7192\n",
      "[800]\tvalid_0's rmse: 0.719407\n",
      "[900]\tvalid_0's rmse: 0.719792\n"
     ]
    },
    {
     "name": "stderr",
     "output_type": "stream",
     "text": [
      "bagging, val_score: 0.718246:  80%|########  | 8/10 [00:55<00:14,  7.15s/it]\u001b[32m[I 2021-08-24 13:03:59,571]\u001b[0m Trial 34 finished with value: 0.7199586960922567 and parameters: {'bagging_fraction': 0.4710680769834019, 'bagging_freq': 1}. Best is trial 27 with value: 0.7182461960936289.\u001b[0m\n",
      "bagging, val_score: 0.718246:  80%|########  | 8/10 [00:55<00:14,  7.15s/it]"
     ]
    },
    {
     "name": "stdout",
     "output_type": "stream",
     "text": [
      "[1000]\tvalid_0's rmse: 0.719959\n",
      "[LightGBM] [Warning] Auto-choosing row-wise multi-threading, the overhead of testing was 0.007617 seconds.\n",
      "You can set `force_row_wise=true` to remove the overhead.\n",
      "And if memory is not enough, you can set `force_col_wise=true`.\n",
      "[LightGBM] [Info] Total Bins 3626\n",
      "[LightGBM] [Info] Number of data points in the train set: 225000, number of used features: 24\n",
      "[LightGBM] [Info] Start training from score 8.243805\n",
      "[100]\tvalid_0's rmse: 0.72418\n",
      "[200]\tvalid_0's rmse: 0.720936\n",
      "[300]\tvalid_0's rmse: 0.719798\n",
      "[400]\tvalid_0's rmse: 0.71944\n",
      "[500]\tvalid_0's rmse: 0.719241\n",
      "[600]\tvalid_0's rmse: 0.719279\n",
      "[700]\tvalid_0's rmse: 0.719328\n",
      "[800]\tvalid_0's rmse: 0.719409\n",
      "[900]\tvalid_0's rmse: 0.719612\n"
     ]
    },
    {
     "name": "stderr",
     "output_type": "stream",
     "text": [
      "bagging, val_score: 0.718246:  90%|######### | 9/10 [01:02<00:06,  6.91s/it]\u001b[32m[I 2021-08-24 13:04:05,945]\u001b[0m Trial 35 finished with value: 0.7199031638736954 and parameters: {'bagging_fraction': 0.46779758594842513, 'bagging_freq': 4}. Best is trial 27 with value: 0.7182461960936289.\u001b[0m\n",
      "bagging, val_score: 0.718246:  90%|######### | 9/10 [01:02<00:06,  6.91s/it]"
     ]
    },
    {
     "name": "stdout",
     "output_type": "stream",
     "text": [
      "[1000]\tvalid_0's rmse: 0.719903\n",
      "[LightGBM] [Warning] Auto-choosing row-wise multi-threading, the overhead of testing was 0.007778 seconds.\n",
      "You can set `force_row_wise=true` to remove the overhead.\n",
      "And if memory is not enough, you can set `force_col_wise=true`.\n",
      "[LightGBM] [Info] Total Bins 3626\n",
      "[LightGBM] [Info] Number of data points in the train set: 225000, number of used features: 24\n",
      "[LightGBM] [Info] Start training from score 8.243805\n",
      "[100]\tvalid_0's rmse: 0.723882\n",
      "[200]\tvalid_0's rmse: 0.720345\n",
      "[300]\tvalid_0's rmse: 0.719233\n",
      "[400]\tvalid_0's rmse: 0.718718\n",
      "[500]\tvalid_0's rmse: 0.718454\n",
      "[600]\tvalid_0's rmse: 0.718413\n",
      "[700]\tvalid_0's rmse: 0.718326\n",
      "[800]\tvalid_0's rmse: 0.718385\n",
      "[900]\tvalid_0's rmse: 0.718414\n"
     ]
    },
    {
     "name": "stderr",
     "output_type": "stream",
     "text": [
      "bagging, val_score: 0.718246: 100%|##########| 10/10 [01:09<00:00,  6.92s/it]\u001b[32m[I 2021-08-24 13:04:12,893]\u001b[0m Trial 36 finished with value: 0.7185638854038933 and parameters: {'bagging_fraction': 0.790732722996824, 'bagging_freq': 7}. Best is trial 27 with value: 0.7182461960936289.\u001b[0m\n",
      "bagging, val_score: 0.718246: 100%|##########| 10/10 [01:09<00:00,  6.93s/it]\n",
      "feature_fraction_stage2, val_score: 0.718246:   0%|          | 0/3 [00:00<?, ?it/s]"
     ]
    },
    {
     "name": "stdout",
     "output_type": "stream",
     "text": [
      "[1000]\tvalid_0's rmse: 0.718564\n",
      "[LightGBM] [Warning] Auto-choosing row-wise multi-threading, the overhead of testing was 0.008248 seconds.\n",
      "You can set `force_row_wise=true` to remove the overhead.\n",
      "And if memory is not enough, you can set `force_col_wise=true`.\n",
      "[LightGBM] [Info] Total Bins 3626\n",
      "[LightGBM] [Info] Number of data points in the train set: 225000, number of used features: 24\n",
      "[LightGBM] [Info] Start training from score 8.243805\n",
      "[100]\tvalid_0's rmse: 0.723813\n",
      "[200]\tvalid_0's rmse: 0.720548\n",
      "[300]\tvalid_0's rmse: 0.719604\n",
      "[400]\tvalid_0's rmse: 0.71911\n",
      "[500]\tvalid_0's rmse: 0.718787\n",
      "[600]\tvalid_0's rmse: 0.718654\n",
      "[700]\tvalid_0's rmse: 0.71852\n",
      "[800]\tvalid_0's rmse: 0.718457\n",
      "[900]\tvalid_0's rmse: 0.718551\n"
     ]
    },
    {
     "name": "stderr",
     "output_type": "stream",
     "text": [
      "feature_fraction_stage2, val_score: 0.718246:  33%|###3      | 1/3 [00:07<00:15,  7.73s/it]\u001b[32m[I 2021-08-24 13:04:20,628]\u001b[0m Trial 37 finished with value: 0.718613000185032 and parameters: {'feature_fraction': 0.44800000000000006}. Best is trial 37 with value: 0.718613000185032.\u001b[0m\n",
      "feature_fraction_stage2, val_score: 0.718246:  33%|###3      | 1/3 [00:07<00:15,  7.73s/it]"
     ]
    },
    {
     "name": "stdout",
     "output_type": "stream",
     "text": [
      "[1000]\tvalid_0's rmse: 0.718613\n",
      "[LightGBM] [Warning] Auto-choosing row-wise multi-threading, the overhead of testing was 0.010452 seconds.\n",
      "You can set `force_row_wise=true` to remove the overhead.\n",
      "And if memory is not enough, you can set `force_col_wise=true`.\n",
      "[LightGBM] [Info] Total Bins 3626\n",
      "[LightGBM] [Info] Number of data points in the train set: 225000, number of used features: 24\n",
      "[LightGBM] [Info] Start training from score 8.243805\n",
      "[100]\tvalid_0's rmse: 0.723941\n",
      "[200]\tvalid_0's rmse: 0.720551\n",
      "[300]\tvalid_0's rmse: 0.71945\n",
      "[400]\tvalid_0's rmse: 0.718964\n",
      "[500]\tvalid_0's rmse: 0.718606\n",
      "[600]\tvalid_0's rmse: 0.718423\n",
      "[700]\tvalid_0's rmse: 0.718266\n",
      "[800]\tvalid_0's rmse: 0.718205\n",
      "[900]\tvalid_0's rmse: 0.718215\n"
     ]
    },
    {
     "name": "stderr",
     "output_type": "stream",
     "text": [
      "feature_fraction_stage2, val_score: 0.718246:  67%|######6   | 2/3 [00:15<00:07,  7.54s/it]\u001b[32m[I 2021-08-24 13:04:28,032]\u001b[0m Trial 38 finished with value: 0.7182461960936289 and parameters: {'feature_fraction': 0.41600000000000004}. Best is trial 38 with value: 0.7182461960936289.\u001b[0m\n",
      "feature_fraction_stage2, val_score: 0.718246:  67%|######6   | 2/3 [00:15<00:07,  7.54s/it]"
     ]
    },
    {
     "name": "stdout",
     "output_type": "stream",
     "text": [
      "[1000]\tvalid_0's rmse: 0.718246\n",
      "[LightGBM] [Warning] Auto-choosing row-wise multi-threading, the overhead of testing was 0.008088 seconds.\n",
      "You can set `force_row_wise=true` to remove the overhead.\n",
      "And if memory is not enough, you can set `force_col_wise=true`.\n",
      "[LightGBM] [Info] Total Bins 3626\n",
      "[LightGBM] [Info] Number of data points in the train set: 225000, number of used features: 24\n",
      "[LightGBM] [Info] Start training from score 8.243805\n",
      "[100]\tvalid_0's rmse: 0.723724\n",
      "[200]\tvalid_0's rmse: 0.720545\n",
      "[300]\tvalid_0's rmse: 0.71967\n",
      "[400]\tvalid_0's rmse: 0.719159\n",
      "[500]\tvalid_0's rmse: 0.71886\n",
      "[600]\tvalid_0's rmse: 0.718897\n",
      "[700]\tvalid_0's rmse: 0.718762\n",
      "[800]\tvalid_0's rmse: 0.71869\n",
      "[900]\tvalid_0's rmse: 0.718764\n"
     ]
    },
    {
     "name": "stderr",
     "output_type": "stream",
     "text": [
      "feature_fraction_stage2, val_score: 0.718246: 100%|##########| 3/3 [00:22<00:00,  7.67s/it]\u001b[32m[I 2021-08-24 13:04:35,855]\u001b[0m Trial 39 finished with value: 0.7187752635219734 and parameters: {'feature_fraction': 0.48000000000000004}. Best is trial 38 with value: 0.7182461960936289.\u001b[0m\n",
      "feature_fraction_stage2, val_score: 0.718246: 100%|##########| 3/3 [00:22<00:00,  7.65s/it]\n",
      "regularization_factors, val_score: 0.718246:   0%|          | 0/20 [00:00<?, ?it/s]"
     ]
    },
    {
     "name": "stdout",
     "output_type": "stream",
     "text": [
      "[1000]\tvalid_0's rmse: 0.718775\n",
      "[LightGBM] [Warning] Auto-choosing row-wise multi-threading, the overhead of testing was 0.007414 seconds.\n",
      "You can set `force_row_wise=true` to remove the overhead.\n",
      "And if memory is not enough, you can set `force_col_wise=true`.\n",
      "[LightGBM] [Info] Total Bins 3626\n",
      "[LightGBM] [Info] Number of data points in the train set: 225000, number of used features: 24\n",
      "[LightGBM] [Info] Start training from score 8.243805\n",
      "[100]\tvalid_0's rmse: 0.723941\n",
      "[200]\tvalid_0's rmse: 0.720551\n",
      "[300]\tvalid_0's rmse: 0.71945\n",
      "[400]\tvalid_0's rmse: 0.718964\n",
      "[500]\tvalid_0's rmse: 0.718606\n",
      "[600]\tvalid_0's rmse: 0.718423\n",
      "[700]\tvalid_0's rmse: 0.718266\n",
      "[800]\tvalid_0's rmse: 0.718205\n",
      "[900]\tvalid_0's rmse: 0.718215\n"
     ]
    },
    {
     "name": "stderr",
     "output_type": "stream",
     "text": [
      "regularization_factors, val_score: 0.718246:   5%|5         | 1/20 [00:07<02:24,  7.62s/it]\u001b[32m[I 2021-08-24 13:04:43,474]\u001b[0m Trial 40 finished with value: 0.7182461518159764 and parameters: {'lambda_l1': 9.335660264832115e-08, 'lambda_l2': 0.0009736952830449276}. Best is trial 40 with value: 0.7182461518159764.\u001b[0m\n",
      "regularization_factors, val_score: 0.718246:   5%|5         | 1/20 [00:07<02:24,  7.62s/it]"
     ]
    },
    {
     "name": "stdout",
     "output_type": "stream",
     "text": [
      "[1000]\tvalid_0's rmse: 0.718246\n",
      "[LightGBM] [Warning] Auto-choosing row-wise multi-threading, the overhead of testing was 0.007493 seconds.\n",
      "You can set `force_row_wise=true` to remove the overhead.\n",
      "And if memory is not enough, you can set `force_col_wise=true`.\n",
      "[LightGBM] [Info] Total Bins 3626\n",
      "[LightGBM] [Info] Number of data points in the train set: 225000, number of used features: 24\n",
      "[LightGBM] [Info] Start training from score 8.243805\n",
      "[100]\tvalid_0's rmse: 0.723941\n",
      "[200]\tvalid_0's rmse: 0.720551\n",
      "[300]\tvalid_0's rmse: 0.71945\n",
      "[400]\tvalid_0's rmse: 0.718964\n",
      "[500]\tvalid_0's rmse: 0.718606\n",
      "[600]\tvalid_0's rmse: 0.718423\n",
      "[700]\tvalid_0's rmse: 0.718266\n",
      "[800]\tvalid_0's rmse: 0.718205\n",
      "[900]\tvalid_0's rmse: 0.718215\n"
     ]
    },
    {
     "name": "stderr",
     "output_type": "stream",
     "text": [
      "regularization_factors, val_score: 0.718246:  10%|#         | 2/20 [00:15<02:20,  7.81s/it]\u001b[32m[I 2021-08-24 13:04:51,428]\u001b[0m Trial 41 finished with value: 0.7182461896367883 and parameters: {'lambda_l1': 8.503139356548401e-07, 'lambda_l2': 0.00013968165545287221}. Best is trial 40 with value: 0.7182461518159764.\u001b[0m\n",
      "regularization_factors, val_score: 0.718246:  10%|#         | 2/20 [00:15<02:20,  7.81s/it]"
     ]
    },
    {
     "name": "stdout",
     "output_type": "stream",
     "text": [
      "[1000]\tvalid_0's rmse: 0.718246\n",
      "[LightGBM] [Warning] Auto-choosing row-wise multi-threading, the overhead of testing was 0.007658 seconds.\n",
      "You can set `force_row_wise=true` to remove the overhead.\n",
      "And if memory is not enough, you can set `force_col_wise=true`.\n",
      "[LightGBM] [Info] Total Bins 3626\n",
      "[LightGBM] [Info] Number of data points in the train set: 225000, number of used features: 24\n",
      "[LightGBM] [Info] Start training from score 8.243805\n",
      "[100]\tvalid_0's rmse: 0.723941\n",
      "[200]\tvalid_0's rmse: 0.720551\n",
      "[300]\tvalid_0's rmse: 0.71945\n",
      "[400]\tvalid_0's rmse: 0.718964\n",
      "[500]\tvalid_0's rmse: 0.718606\n",
      "[600]\tvalid_0's rmse: 0.718512\n",
      "[700]\tvalid_0's rmse: 0.718383\n",
      "[800]\tvalid_0's rmse: 0.718249\n",
      "[900]\tvalid_0's rmse: 0.718329\n"
     ]
    },
    {
     "name": "stderr",
     "output_type": "stream",
     "text": [
      "regularization_factors, val_score: 0.718246:  15%|#5        | 3/20 [00:23<02:11,  7.75s/it]\u001b[32m[I 2021-08-24 13:04:59,107]\u001b[0m Trial 42 finished with value: 0.7183902241946947 and parameters: {'lambda_l1': 0.0005412467841999584, 'lambda_l2': 0.00020975286076674375}. Best is trial 40 with value: 0.7182461518159764.\u001b[0m\n",
      "regularization_factors, val_score: 0.718246:  15%|#5        | 3/20 [00:23<02:11,  7.75s/it]"
     ]
    },
    {
     "name": "stdout",
     "output_type": "stream",
     "text": [
      "[1000]\tvalid_0's rmse: 0.71839\n",
      "[LightGBM] [Warning] Auto-choosing row-wise multi-threading, the overhead of testing was 0.007523 seconds.\n",
      "You can set `force_row_wise=true` to remove the overhead.\n",
      "And if memory is not enough, you can set `force_col_wise=true`.\n",
      "[LightGBM] [Info] Total Bins 3626\n",
      "[LightGBM] [Info] Number of data points in the train set: 225000, number of used features: 24\n",
      "[LightGBM] [Info] Start training from score 8.243805\n",
      "[100]\tvalid_0's rmse: 0.723952\n",
      "[200]\tvalid_0's rmse: 0.720537\n",
      "[300]\tvalid_0's rmse: 0.719541\n",
      "[400]\tvalid_0's rmse: 0.719071\n",
      "[500]\tvalid_0's rmse: 0.718622\n",
      "[600]\tvalid_0's rmse: 0.718419\n",
      "[700]\tvalid_0's rmse: 0.718323\n",
      "[800]\tvalid_0's rmse: 0.718148\n",
      "[900]\tvalid_0's rmse: 0.718036\n"
     ]
    },
    {
     "name": "stderr",
     "output_type": "stream",
     "text": [
      "regularization_factors, val_score: 0.718076:  20%|##        | 4/20 [00:31<02:04,  7.79s/it]\u001b[32m[I 2021-08-24 13:05:06,961]\u001b[0m Trial 43 finished with value: 0.7180763695986357 and parameters: {'lambda_l1': 0.0007291754931751332, 'lambda_l2': 1.6988811657113023}. Best is trial 43 with value: 0.7180763695986357.\u001b[0m\n",
      "regularization_factors, val_score: 0.718076:  20%|##        | 4/20 [00:31<02:04,  7.79s/it]"
     ]
    },
    {
     "name": "stdout",
     "output_type": "stream",
     "text": [
      "[1000]\tvalid_0's rmse: 0.718076\n",
      "[LightGBM] [Warning] Auto-choosing row-wise multi-threading, the overhead of testing was 0.007722 seconds.\n",
      "You can set `force_row_wise=true` to remove the overhead.\n",
      "And if memory is not enough, you can set `force_col_wise=true`.\n",
      "[LightGBM] [Info] Total Bins 3626\n",
      "[LightGBM] [Info] Number of data points in the train set: 225000, number of used features: 24\n",
      "[LightGBM] [Info] Start training from score 8.243805\n",
      "[100]\tvalid_0's rmse: 0.723973\n",
      "[200]\tvalid_0's rmse: 0.720399\n",
      "[300]\tvalid_0's rmse: 0.719255\n",
      "[400]\tvalid_0's rmse: 0.718842\n",
      "[500]\tvalid_0's rmse: 0.718476\n",
      "[600]\tvalid_0's rmse: 0.718276\n",
      "[700]\tvalid_0's rmse: 0.718117\n",
      "[800]\tvalid_0's rmse: 0.718094\n",
      "[900]\tvalid_0's rmse: 0.718027\n"
     ]
    },
    {
     "name": "stderr",
     "output_type": "stream",
     "text": [
      "regularization_factors, val_score: 0.718076:  25%|##5       | 5/20 [00:38<01:56,  7.75s/it]\u001b[32m[I 2021-08-24 13:05:14,637]\u001b[0m Trial 44 finished with value: 0.718139731679528 and parameters: {'lambda_l1': 0.8711956475397274, 'lambda_l2': 1.5144544500151478}. Best is trial 43 with value: 0.7180763695986357.\u001b[0m\n",
      "regularization_factors, val_score: 0.718076:  25%|##5       | 5/20 [00:38<01:56,  7.75s/it]"
     ]
    },
    {
     "name": "stdout",
     "output_type": "stream",
     "text": [
      "[1000]\tvalid_0's rmse: 0.71814\n",
      "[LightGBM] [Warning] Auto-choosing row-wise multi-threading, the overhead of testing was 0.007333 seconds.\n",
      "You can set `force_row_wise=true` to remove the overhead.\n",
      "And if memory is not enough, you can set `force_col_wise=true`.\n",
      "[LightGBM] [Info] Total Bins 3626\n",
      "[LightGBM] [Info] Number of data points in the train set: 225000, number of used features: 24\n",
      "[LightGBM] [Info] Start training from score 8.243805\n",
      "[100]\tvalid_0's rmse: 0.723941\n",
      "[200]\tvalid_0's rmse: 0.720551\n",
      "[300]\tvalid_0's rmse: 0.71945\n",
      "[400]\tvalid_0's rmse: 0.718964\n",
      "[500]\tvalid_0's rmse: 0.718606\n",
      "[600]\tvalid_0's rmse: 0.718423\n",
      "[700]\tvalid_0's rmse: 0.718266\n",
      "[800]\tvalid_0's rmse: 0.718205\n",
      "[900]\tvalid_0's rmse: 0.718215\n"
     ]
    },
    {
     "name": "stderr",
     "output_type": "stream",
     "text": [
      "regularization_factors, val_score: 0.718076:  30%|###       | 6/20 [00:46<01:48,  7.76s/it]\u001b[32m[I 2021-08-24 13:05:22,415]\u001b[0m Trial 45 finished with value: 0.7182461918544002 and parameters: {'lambda_l1': 1.4051663391023437e-08, 'lambda_l2': 9.315059052851435e-05}. Best is trial 43 with value: 0.7180763695986357.\u001b[0m\n",
      "regularization_factors, val_score: 0.718076:  30%|###       | 6/20 [00:46<01:48,  7.76s/it]"
     ]
    },
    {
     "name": "stdout",
     "output_type": "stream",
     "text": [
      "[1000]\tvalid_0's rmse: 0.718246\n",
      "[LightGBM] [Warning] Auto-choosing row-wise multi-threading, the overhead of testing was 0.008000 seconds.\n",
      "You can set `force_row_wise=true` to remove the overhead.\n",
      "And if memory is not enough, you can set `force_col_wise=true`.\n",
      "[LightGBM] [Info] Total Bins 3626\n",
      "[LightGBM] [Info] Number of data points in the train set: 225000, number of used features: 24\n",
      "[LightGBM] [Info] Start training from score 8.243805\n",
      "[100]\tvalid_0's rmse: 0.723941\n",
      "[200]\tvalid_0's rmse: 0.720551\n",
      "[300]\tvalid_0's rmse: 0.71945\n",
      "[400]\tvalid_0's rmse: 0.718964\n",
      "[500]\tvalid_0's rmse: 0.718606\n",
      "[600]\tvalid_0's rmse: 0.718423\n",
      "[700]\tvalid_0's rmse: 0.718266\n",
      "[800]\tvalid_0's rmse: 0.718205\n",
      "[900]\tvalid_0's rmse: 0.718215\n"
     ]
    },
    {
     "name": "stderr",
     "output_type": "stream",
     "text": [
      "regularization_factors, val_score: 0.718076:  35%|###5      | 7/20 [00:54<01:39,  7.66s/it]\u001b[32m[I 2021-08-24 13:05:29,869]\u001b[0m Trial 46 finished with value: 0.7182461834630764 and parameters: {'lambda_l1': 0.00010110986756498838, 'lambda_l2': 2.3833542177951147e-06}. Best is trial 43 with value: 0.7180763695986357.\u001b[0m\n",
      "regularization_factors, val_score: 0.718076:  35%|###5      | 7/20 [00:54<01:39,  7.66s/it]"
     ]
    },
    {
     "name": "stdout",
     "output_type": "stream",
     "text": [
      "[1000]\tvalid_0's rmse: 0.718246\n",
      "[LightGBM] [Warning] Auto-choosing row-wise multi-threading, the overhead of testing was 0.010013 seconds.\n",
      "You can set `force_row_wise=true` to remove the overhead.\n",
      "And if memory is not enough, you can set `force_col_wise=true`.\n",
      "[LightGBM] [Info] Total Bins 3626\n",
      "[LightGBM] [Info] Number of data points in the train set: 225000, number of used features: 24\n",
      "[LightGBM] [Info] Start training from score 8.243805\n",
      "[100]\tvalid_0's rmse: 0.724013\n",
      "[200]\tvalid_0's rmse: 0.720248\n",
      "[300]\tvalid_0's rmse: 0.719092\n",
      "[400]\tvalid_0's rmse: 0.718512\n",
      "[500]\tvalid_0's rmse: 0.718049\n",
      "[600]\tvalid_0's rmse: 0.717839\n",
      "[700]\tvalid_0's rmse: 0.717719\n",
      "[800]\tvalid_0's rmse: 0.717793\n",
      "[900]\tvalid_0's rmse: 0.717835\n"
     ]
    },
    {
     "name": "stderr",
     "output_type": "stream",
     "text": [
      "regularization_factors, val_score: 0.717851:  40%|####      | 8/20 [01:02<01:33,  7.78s/it]\u001b[32m[I 2021-08-24 13:05:37,906]\u001b[0m Trial 47 finished with value: 0.717850749017226 and parameters: {'lambda_l1': 3.0839607304440424, 'lambda_l2': 7.048108086845143e-05}. Best is trial 47 with value: 0.717850749017226.\u001b[0m\n",
      "regularization_factors, val_score: 0.717851:  40%|####      | 8/20 [01:02<01:33,  7.78s/it]"
     ]
    },
    {
     "name": "stdout",
     "output_type": "stream",
     "text": [
      "[1000]\tvalid_0's rmse: 0.717851\n",
      "[LightGBM] [Warning] Auto-choosing row-wise multi-threading, the overhead of testing was 0.007258 seconds.\n",
      "You can set `force_row_wise=true` to remove the overhead.\n",
      "And if memory is not enough, you can set `force_col_wise=true`.\n",
      "[LightGBM] [Info] Total Bins 3626\n",
      "[LightGBM] [Info] Number of data points in the train set: 225000, number of used features: 24\n",
      "[LightGBM] [Info] Start training from score 8.243805\n",
      "[100]\tvalid_0's rmse: 0.72408\n",
      "[200]\tvalid_0's rmse: 0.720575\n",
      "[300]\tvalid_0's rmse: 0.719439\n",
      "[400]\tvalid_0's rmse: 0.71887\n",
      "[500]\tvalid_0's rmse: 0.718572\n",
      "[600]\tvalid_0's rmse: 0.718367\n",
      "[700]\tvalid_0's rmse: 0.718281\n",
      "[800]\tvalid_0's rmse: 0.718178\n",
      "[900]\tvalid_0's rmse: 0.71819\n"
     ]
    },
    {
     "name": "stderr",
     "output_type": "stream",
     "text": [
      "regularization_factors, val_score: 0.717851:  45%|####5     | 9/20 [01:09<01:24,  7.72s/it]\u001b[32m[I 2021-08-24 13:05:45,501]\u001b[0m Trial 48 finished with value: 0.7182630134873405 and parameters: {'lambda_l1': 0.13904104627539038, 'lambda_l2': 0.00030436330405049164}. Best is trial 47 with value: 0.717850749017226.\u001b[0m\n",
      "regularization_factors, val_score: 0.717851:  45%|####5     | 9/20 [01:09<01:24,  7.72s/it]"
     ]
    },
    {
     "name": "stdout",
     "output_type": "stream",
     "text": [
      "[1000]\tvalid_0's rmse: 0.718263\n",
      "[LightGBM] [Warning] Auto-choosing row-wise multi-threading, the overhead of testing was 0.006638 seconds.\n",
      "You can set `force_row_wise=true` to remove the overhead.\n",
      "And if memory is not enough, you can set `force_col_wise=true`.\n",
      "[LightGBM] [Info] Total Bins 3626\n",
      "[LightGBM] [Info] Number of data points in the train set: 225000, number of used features: 24\n",
      "[LightGBM] [Info] Start training from score 8.243805\n",
      "[100]\tvalid_0's rmse: 0.723935\n",
      "[200]\tvalid_0's rmse: 0.720419\n",
      "[300]\tvalid_0's rmse: 0.719349\n",
      "[400]\tvalid_0's rmse: 0.718864\n",
      "[500]\tvalid_0's rmse: 0.718461\n",
      "[600]\tvalid_0's rmse: 0.718343\n",
      "[700]\tvalid_0's rmse: 0.718145\n",
      "[800]\tvalid_0's rmse: 0.718052\n",
      "[900]\tvalid_0's rmse: 0.718128\n"
     ]
    },
    {
     "name": "stderr",
     "output_type": "stream",
     "text": [
      "regularization_factors, val_score: 0.717851:  50%|#####     | 10/20 [01:17<01:17,  7.78s/it]\u001b[32m[I 2021-08-24 13:05:53,416]\u001b[0m Trial 49 finished with value: 0.7181220407746158 and parameters: {'lambda_l1': 0.004467121785824642, 'lambda_l2': 9.519608310806289}. Best is trial 47 with value: 0.717850749017226.\u001b[0m\n",
      "regularization_factors, val_score: 0.717851:  50%|#####     | 10/20 [01:17<01:17,  7.78s/it]"
     ]
    },
    {
     "name": "stdout",
     "output_type": "stream",
     "text": [
      "[1000]\tvalid_0's rmse: 0.718122\n",
      "[LightGBM] [Warning] Auto-choosing row-wise multi-threading, the overhead of testing was 0.022549 seconds.\n",
      "You can set `force_row_wise=true` to remove the overhead.\n",
      "And if memory is not enough, you can set `force_col_wise=true`.\n",
      "[LightGBM] [Info] Total Bins 3626\n",
      "[LightGBM] [Info] Number of data points in the train set: 225000, number of used features: 24\n",
      "[LightGBM] [Info] Start training from score 8.243805\n",
      "[100]\tvalid_0's rmse: 0.723892\n",
      "[200]\tvalid_0's rmse: 0.720107\n",
      "[300]\tvalid_0's rmse: 0.71892\n",
      "[400]\tvalid_0's rmse: 0.718403\n",
      "[500]\tvalid_0's rmse: 0.718032\n",
      "[600]\tvalid_0's rmse: 0.717856\n",
      "[700]\tvalid_0's rmse: 0.717711\n",
      "[800]\tvalid_0's rmse: 0.717664\n",
      "[900]\tvalid_0's rmse: 0.717697\n"
     ]
    },
    {
     "name": "stderr",
     "output_type": "stream",
     "text": [
      "regularization_factors, val_score: 0.717782:  55%|#####5    | 11/20 [01:26<01:12,  8.07s/it]\u001b[32m[I 2021-08-24 13:06:02,140]\u001b[0m Trial 50 finished with value: 0.7177822528900077 and parameters: {'lambda_l1': 6.014856956659768, 'lambda_l2': 1.6994401639796303e-08}. Best is trial 50 with value: 0.7177822528900077.\u001b[0m\n",
      "regularization_factors, val_score: 0.717782:  55%|#####5    | 11/20 [01:26<01:12,  8.07s/it]"
     ]
    },
    {
     "name": "stdout",
     "output_type": "stream",
     "text": [
      "[1000]\tvalid_0's rmse: 0.717782\n",
      "[LightGBM] [Warning] Auto-choosing row-wise multi-threading, the overhead of testing was 0.008435 seconds.\n",
      "You can set `force_row_wise=true` to remove the overhead.\n",
      "And if memory is not enough, you can set `force_col_wise=true`.\n",
      "[LightGBM] [Info] Total Bins 3626\n",
      "[LightGBM] [Info] Number of data points in the train set: 225000, number of used features: 24\n",
      "[LightGBM] [Info] Start training from score 8.243805\n",
      "[100]\tvalid_0's rmse: 0.723649\n",
      "[200]\tvalid_0's rmse: 0.719927\n",
      "[300]\tvalid_0's rmse: 0.718664\n",
      "[400]\tvalid_0's rmse: 0.718209\n",
      "[500]\tvalid_0's rmse: 0.717857\n",
      "[600]\tvalid_0's rmse: 0.717698\n",
      "[700]\tvalid_0's rmse: 0.717593\n",
      "[800]\tvalid_0's rmse: 0.717539\n",
      "[900]\tvalid_0's rmse: 0.717504\n"
     ]
    },
    {
     "name": "stderr",
     "output_type": "stream",
     "text": [
      "regularization_factors, val_score: 0.717533:  60%|######    | 12/20 [01:35<01:07,  8.49s/it]\u001b[32m[I 2021-08-24 13:06:11,598]\u001b[0m Trial 51 finished with value: 0.7175334016689024 and parameters: {'lambda_l1': 7.109666945523116, 'lambda_l2': 1.044162251691889e-08}. Best is trial 51 with value: 0.7175334016689024.\u001b[0m\n",
      "regularization_factors, val_score: 0.717533:  60%|######    | 12/20 [01:35<01:07,  8.49s/it]"
     ]
    },
    {
     "name": "stdout",
     "output_type": "stream",
     "text": [
      "[1000]\tvalid_0's rmse: 0.717533\n",
      "[LightGBM] [Warning] Auto-choosing row-wise multi-threading, the overhead of testing was 0.008367 seconds.\n",
      "You can set `force_row_wise=true` to remove the overhead.\n",
      "And if memory is not enough, you can set `force_col_wise=true`.\n",
      "[LightGBM] [Info] Total Bins 3626\n",
      "[LightGBM] [Info] Number of data points in the train set: 225000, number of used features: 24\n",
      "[LightGBM] [Info] Start training from score 8.243805\n",
      "[100]\tvalid_0's rmse: 0.724037\n",
      "[200]\tvalid_0's rmse: 0.720088\n",
      "[300]\tvalid_0's rmse: 0.718607\n",
      "[400]\tvalid_0's rmse: 0.718108\n",
      "[500]\tvalid_0's rmse: 0.717768\n",
      "[600]\tvalid_0's rmse: 0.717614\n",
      "[700]\tvalid_0's rmse: 0.717522\n",
      "[800]\tvalid_0's rmse: 0.717465\n",
      "[900]\tvalid_0's rmse: 0.717445\n"
     ]
    },
    {
     "name": "stderr",
     "output_type": "stream",
     "text": [
      "regularization_factors, val_score: 0.717487:  65%|######5   | 13/20 [01:45<01:02,  8.92s/it]\u001b[32m[I 2021-08-24 13:06:21,499]\u001b[0m Trial 52 finished with value: 0.7174866829701012 and parameters: {'lambda_l1': 9.699786138584894, 'lambda_l2': 1.0444424020600808e-08}. Best is trial 52 with value: 0.7174866829701012.\u001b[0m\n",
      "regularization_factors, val_score: 0.717487:  65%|######5   | 13/20 [01:45<01:02,  8.92s/it]"
     ]
    },
    {
     "name": "stdout",
     "output_type": "stream",
     "text": [
      "[1000]\tvalid_0's rmse: 0.717487\n",
      "[LightGBM] [Warning] Auto-choosing row-wise multi-threading, the overhead of testing was 0.007708 seconds.\n",
      "You can set `force_row_wise=true` to remove the overhead.\n",
      "And if memory is not enough, you can set `force_col_wise=true`.\n",
      "[LightGBM] [Info] Total Bins 3626\n",
      "[LightGBM] [Info] Number of data points in the train set: 225000, number of used features: 24\n",
      "[LightGBM] [Info] Start training from score 8.243805\n",
      "[100]\tvalid_0's rmse: 0.723941\n",
      "[200]\tvalid_0's rmse: 0.720594\n",
      "[300]\tvalid_0's rmse: 0.719378\n",
      "[400]\tvalid_0's rmse: 0.718962\n",
      "[500]\tvalid_0's rmse: 0.718668\n",
      "[600]\tvalid_0's rmse: 0.71854\n",
      "[700]\tvalid_0's rmse: 0.718341\n",
      "[800]\tvalid_0's rmse: 0.718288\n",
      "[900]\tvalid_0's rmse: 0.71828\n"
     ]
    },
    {
     "name": "stderr",
     "output_type": "stream",
     "text": [
      "regularization_factors, val_score: 0.717487:  70%|#######   | 14/20 [01:53<00:51,  8.57s/it]\u001b[32m[I 2021-08-24 13:06:29,276]\u001b[0m Trial 53 finished with value: 0.7183849612461876 and parameters: {'lambda_l1': 0.06917855014110064, 'lambda_l2': 1.5990951909339002e-08}. Best is trial 52 with value: 0.7174866829701012.\u001b[0m\n",
      "regularization_factors, val_score: 0.717487:  70%|#######   | 14/20 [01:53<00:51,  8.57s/it]"
     ]
    },
    {
     "name": "stdout",
     "output_type": "stream",
     "text": [
      "[1000]\tvalid_0's rmse: 0.718385\n",
      "[LightGBM] [Warning] Auto-choosing row-wise multi-threading, the overhead of testing was 0.008167 seconds.\n",
      "You can set `force_row_wise=true` to remove the overhead.\n",
      "And if memory is not enough, you can set `force_col_wise=true`.\n",
      "[LightGBM] [Info] Total Bins 3626\n",
      "[LightGBM] [Info] Number of data points in the train set: 225000, number of used features: 24\n",
      "[LightGBM] [Info] Start training from score 8.243805\n",
      "[100]\tvalid_0's rmse: 0.723909\n",
      "[200]\tvalid_0's rmse: 0.720002\n",
      "[300]\tvalid_0's rmse: 0.718663\n",
      "[400]\tvalid_0's rmse: 0.718139\n",
      "[500]\tvalid_0's rmse: 0.717792\n",
      "[600]\tvalid_0's rmse: 0.717629\n",
      "[700]\tvalid_0's rmse: 0.717403\n",
      "[800]\tvalid_0's rmse: 0.717312\n",
      "[900]\tvalid_0's rmse: 0.717266\n"
     ]
    },
    {
     "name": "stderr",
     "output_type": "stream",
     "text": [
      "regularization_factors, val_score: 0.717274:  75%|#######5  | 15/20 [02:01<00:42,  8.48s/it]\u001b[32m[I 2021-08-24 13:06:37,554]\u001b[0m Trial 54 finished with value: 0.7172744105793318 and parameters: {'lambda_l1': 9.31721769401227, 'lambda_l2': 3.965002920303192e-07}. Best is trial 54 with value: 0.7172744105793318.\u001b[0m\n",
      "regularization_factors, val_score: 0.717274:  75%|#######5  | 15/20 [02:01<00:42,  8.48s/it]"
     ]
    },
    {
     "name": "stdout",
     "output_type": "stream",
     "text": [
      "[1000]\tvalid_0's rmse: 0.717274\n",
      "[LightGBM] [Warning] Auto-choosing row-wise multi-threading, the overhead of testing was 0.007468 seconds.\n",
      "You can set `force_row_wise=true` to remove the overhead.\n",
      "And if memory is not enough, you can set `force_col_wise=true`.\n",
      "[LightGBM] [Info] Total Bins 3626\n",
      "[LightGBM] [Info] Number of data points in the train set: 225000, number of used features: 24\n",
      "[LightGBM] [Info] Start training from score 8.243805\n",
      "[100]\tvalid_0's rmse: 0.723941\n",
      "[200]\tvalid_0's rmse: 0.720549\n",
      "[300]\tvalid_0's rmse: 0.719356\n",
      "[400]\tvalid_0's rmse: 0.718915\n",
      "[500]\tvalid_0's rmse: 0.718727\n",
      "[600]\tvalid_0's rmse: 0.718689\n",
      "[700]\tvalid_0's rmse: 0.718701\n",
      "[800]\tvalid_0's rmse: 0.718593\n",
      "[900]\tvalid_0's rmse: 0.718601\n"
     ]
    },
    {
     "name": "stderr",
     "output_type": "stream",
     "text": [
      "regularization_factors, val_score: 0.717274:  80%|########  | 16/20 [02:09<00:33,  8.27s/it]\u001b[32m[I 2021-08-24 13:06:45,317]\u001b[0m Trial 55 finished with value: 0.7185886783868948 and parameters: {'lambda_l1': 0.05081585619721339, 'lambda_l2': 4.6519773231511837e-07}. Best is trial 54 with value: 0.7172744105793318.\u001b[0m\n",
      "regularization_factors, val_score: 0.717274:  80%|########  | 16/20 [02:09<00:33,  8.27s/it]"
     ]
    },
    {
     "name": "stdout",
     "output_type": "stream",
     "text": [
      "[1000]\tvalid_0's rmse: 0.718589\n",
      "[LightGBM] [Warning] Auto-choosing row-wise multi-threading, the overhead of testing was 0.008960 seconds.\n",
      "You can set `force_row_wise=true` to remove the overhead.\n",
      "And if memory is not enough, you can set `force_col_wise=true`.\n",
      "[LightGBM] [Info] Total Bins 3626\n",
      "[LightGBM] [Info] Number of data points in the train set: 225000, number of used features: 24\n",
      "[LightGBM] [Info] Start training from score 8.243805\n",
      "[100]\tvalid_0's rmse: 0.723941\n",
      "[200]\tvalid_0's rmse: 0.720551\n",
      "[300]\tvalid_0's rmse: 0.71945\n",
      "[400]\tvalid_0's rmse: 0.718964\n",
      "[500]\tvalid_0's rmse: 0.718606\n",
      "[600]\tvalid_0's rmse: 0.718423\n",
      "[700]\tvalid_0's rmse: 0.718266\n",
      "[800]\tvalid_0's rmse: 0.718205\n",
      "[900]\tvalid_0's rmse: 0.718215\n"
     ]
    },
    {
     "name": "stderr",
     "output_type": "stream",
     "text": [
      "regularization_factors, val_score: 0.717274:  85%|########5 | 17/20 [02:17<00:24,  8.18s/it]\u001b[32m[I 2021-08-24 13:06:53,279]\u001b[0m Trial 56 finished with value: 0.7182461941585538 and parameters: {'lambda_l1': 1.538789638444231e-05, 'lambda_l2': 5.704345701162244e-07}. Best is trial 54 with value: 0.7172744105793318.\u001b[0m\n",
      "regularization_factors, val_score: 0.717274:  85%|########5 | 17/20 [02:17<00:24,  8.18s/it]"
     ]
    },
    {
     "name": "stdout",
     "output_type": "stream",
     "text": [
      "[1000]\tvalid_0's rmse: 0.718246\n",
      "[LightGBM] [Warning] Auto-choosing row-wise multi-threading, the overhead of testing was 0.007473 seconds.\n",
      "You can set `force_row_wise=true` to remove the overhead.\n",
      "And if memory is not enough, you can set `force_col_wise=true`.\n",
      "[LightGBM] [Info] Total Bins 3626\n",
      "[LightGBM] [Info] Number of data points in the train set: 225000, number of used features: 24\n",
      "[LightGBM] [Info] Start training from score 8.243805\n",
      "[100]\tvalid_0's rmse: 0.723888\n",
      "[200]\tvalid_0's rmse: 0.720373\n",
      "[300]\tvalid_0's rmse: 0.71939\n",
      "[400]\tvalid_0's rmse: 0.718988\n",
      "[500]\tvalid_0's rmse: 0.71859\n",
      "[600]\tvalid_0's rmse: 0.718466\n",
      "[700]\tvalid_0's rmse: 0.718436\n",
      "[800]\tvalid_0's rmse: 0.718392\n",
      "[900]\tvalid_0's rmse: 0.718387\n"
     ]
    },
    {
     "name": "stderr",
     "output_type": "stream",
     "text": [
      "regularization_factors, val_score: 0.717274:  90%|######### | 18/20 [02:25<00:16,  8.10s/it]\u001b[32m[I 2021-08-24 13:07:01,194]\u001b[0m Trial 57 finished with value: 0.7184067284790692 and parameters: {'lambda_l1': 0.6174845037098062, 'lambda_l2': 0.018732788567713494}. Best is trial 54 with value: 0.7172744105793318.\u001b[0m\n",
      "regularization_factors, val_score: 0.717274:  90%|######### | 18/20 [02:25<00:16,  8.10s/it]"
     ]
    },
    {
     "name": "stdout",
     "output_type": "stream",
     "text": [
      "[1000]\tvalid_0's rmse: 0.718407\n",
      "[LightGBM] [Warning] Auto-choosing row-wise multi-threading, the overhead of testing was 0.008620 seconds.\n",
      "You can set `force_row_wise=true` to remove the overhead.\n",
      "And if memory is not enough, you can set `force_col_wise=true`.\n",
      "[LightGBM] [Info] Total Bins 3626\n",
      "[LightGBM] [Info] Number of data points in the train set: 225000, number of used features: 24\n",
      "[LightGBM] [Info] Start training from score 8.243805\n",
      "[100]\tvalid_0's rmse: 0.723941\n",
      "[200]\tvalid_0's rmse: 0.720546\n",
      "[300]\tvalid_0's rmse: 0.719365\n",
      "[400]\tvalid_0's rmse: 0.719004\n",
      "[500]\tvalid_0's rmse: 0.718663\n",
      "[600]\tvalid_0's rmse: 0.718501\n",
      "[700]\tvalid_0's rmse: 0.718422\n",
      "[800]\tvalid_0's rmse: 0.718354\n",
      "[900]\tvalid_0's rmse: 0.718433\n"
     ]
    },
    {
     "name": "stderr",
     "output_type": "stream",
     "text": [
      "regularization_factors, val_score: 0.717274:  95%|#########5| 19/20 [02:32<00:07,  7.92s/it]\u001b[32m[I 2021-08-24 13:07:08,688]\u001b[0m Trial 58 finished with value: 0.7186385467367458 and parameters: {'lambda_l1': 0.009024597793031396, 'lambda_l2': 1.4066286240022823e-07}. Best is trial 54 with value: 0.7172744105793318.\u001b[0m\n",
      "regularization_factors, val_score: 0.717274:  95%|#########5| 19/20 [02:32<00:07,  7.92s/it]"
     ]
    },
    {
     "name": "stdout",
     "output_type": "stream",
     "text": [
      "[1000]\tvalid_0's rmse: 0.718639\n",
      "[LightGBM] [Warning] Auto-choosing row-wise multi-threading, the overhead of testing was 0.008015 seconds.\n",
      "You can set `force_row_wise=true` to remove the overhead.\n",
      "And if memory is not enough, you can set `force_col_wise=true`.\n",
      "[LightGBM] [Info] Total Bins 3626\n",
      "[LightGBM] [Info] Number of data points in the train set: 225000, number of used features: 24\n",
      "[LightGBM] [Info] Start training from score 8.243805\n",
      "[100]\tvalid_0's rmse: 0.724049\n",
      "[200]\tvalid_0's rmse: 0.720098\n",
      "[300]\tvalid_0's rmse: 0.718803\n",
      "[400]\tvalid_0's rmse: 0.718132\n",
      "[500]\tvalid_0's rmse: 0.717808\n",
      "[600]\tvalid_0's rmse: 0.717577\n",
      "[700]\tvalid_0's rmse: 0.717501\n",
      "[800]\tvalid_0's rmse: 0.717419\n",
      "[900]\tvalid_0's rmse: 0.717388\n"
     ]
    },
    {
     "name": "stderr",
     "output_type": "stream",
     "text": [
      "regularization_factors, val_score: 0.717274: 100%|##########| 20/20 [02:41<00:00,  8.07s/it]\u001b[32m[I 2021-08-24 13:07:17,127]\u001b[0m Trial 59 finished with value: 0.7174891895258915 and parameters: {'lambda_l1': 8.86950688483057, 'lambda_l2': 7.534607322983292e-06}. Best is trial 54 with value: 0.7172744105793318.\u001b[0m\n",
      "regularization_factors, val_score: 0.717274: 100%|##########| 20/20 [02:41<00:00,  8.06s/it]\n",
      "min_data_in_leaf, val_score: 0.717274:   0%|          | 0/5 [00:00<?, ?it/s]"
     ]
    },
    {
     "name": "stdout",
     "output_type": "stream",
     "text": [
      "[1000]\tvalid_0's rmse: 0.717489\n",
      "[LightGBM] [Warning] Auto-choosing row-wise multi-threading, the overhead of testing was 0.008290 seconds.\n",
      "You can set `force_row_wise=true` to remove the overhead.\n",
      "And if memory is not enough, you can set `force_col_wise=true`.\n",
      "[LightGBM] [Info] Total Bins 3626\n",
      "[LightGBM] [Info] Number of data points in the train set: 225000, number of used features: 24\n",
      "[LightGBM] [Info] Start training from score 8.243805\n",
      "[100]\tvalid_0's rmse: 0.723909\n",
      "[200]\tvalid_0's rmse: 0.720003\n",
      "[300]\tvalid_0's rmse: 0.718691\n",
      "[400]\tvalid_0's rmse: 0.718085\n",
      "[500]\tvalid_0's rmse: 0.717699\n",
      "[600]\tvalid_0's rmse: 0.717622\n",
      "[700]\tvalid_0's rmse: 0.717408\n",
      "[800]\tvalid_0's rmse: 0.717315\n",
      "[900]\tvalid_0's rmse: 0.717215\n"
     ]
    },
    {
     "name": "stderr",
     "output_type": "stream",
     "text": [
      "min_data_in_leaf, val_score: 0.717220:  20%|##        | 1/5 [00:08<00:35,  8.87s/it]\u001b[32m[I 2021-08-24 13:07:25,999]\u001b[0m Trial 60 finished with value: 0.7172198319441464 and parameters: {'min_child_samples': 100}. Best is trial 60 with value: 0.7172198319441464.\u001b[0m\n",
      "min_data_in_leaf, val_score: 0.717220:  20%|##        | 1/5 [00:08<00:35,  8.87s/it]"
     ]
    },
    {
     "name": "stdout",
     "output_type": "stream",
     "text": [
      "[1000]\tvalid_0's rmse: 0.71722\n",
      "[LightGBM] [Warning] Auto-choosing row-wise multi-threading, the overhead of testing was 0.007935 seconds.\n",
      "You can set `force_row_wise=true` to remove the overhead.\n",
      "And if memory is not enough, you can set `force_col_wise=true`.\n",
      "[LightGBM] [Info] Total Bins 3626\n",
      "[LightGBM] [Info] Number of data points in the train set: 225000, number of used features: 24\n",
      "[LightGBM] [Info] Start training from score 8.243805\n",
      "[100]\tvalid_0's rmse: 0.723909\n",
      "[200]\tvalid_0's rmse: 0.720002\n",
      "[300]\tvalid_0's rmse: 0.718552\n",
      "[400]\tvalid_0's rmse: 0.718025\n",
      "[500]\tvalid_0's rmse: 0.717607\n",
      "[600]\tvalid_0's rmse: 0.717429\n",
      "[700]\tvalid_0's rmse: 0.717452\n",
      "[800]\tvalid_0's rmse: 0.717411\n",
      "[900]\tvalid_0's rmse: 0.717374\n"
     ]
    },
    {
     "name": "stderr",
     "output_type": "stream",
     "text": [
      "min_data_in_leaf, val_score: 0.717220:  40%|####      | 2/5 [00:17<00:25,  8.66s/it]\u001b[32m[I 2021-08-24 13:07:34,512]\u001b[0m Trial 61 finished with value: 0.7174839486966138 and parameters: {'min_child_samples': 10}. Best is trial 60 with value: 0.7172198319441464.\u001b[0m\n",
      "min_data_in_leaf, val_score: 0.717220:  40%|####      | 2/5 [00:17<00:25,  8.66s/it]"
     ]
    },
    {
     "name": "stdout",
     "output_type": "stream",
     "text": [
      "[1000]\tvalid_0's rmse: 0.717484\n",
      "[LightGBM] [Warning] Auto-choosing row-wise multi-threading, the overhead of testing was 0.007027 seconds.\n",
      "You can set `force_row_wise=true` to remove the overhead.\n",
      "And if memory is not enough, you can set `force_col_wise=true`.\n",
      "[LightGBM] [Info] Total Bins 3626\n",
      "[LightGBM] [Info] Number of data points in the train set: 225000, number of used features: 24\n",
      "[LightGBM] [Info] Start training from score 8.243805\n",
      "[100]\tvalid_0's rmse: 0.723909\n",
      "[200]\tvalid_0's rmse: 0.720002\n",
      "[300]\tvalid_0's rmse: 0.718656\n",
      "[400]\tvalid_0's rmse: 0.717995\n",
      "[500]\tvalid_0's rmse: 0.717516\n",
      "[600]\tvalid_0's rmse: 0.717353\n",
      "[700]\tvalid_0's rmse: 0.717208\n",
      "[800]\tvalid_0's rmse: 0.717138\n",
      "[900]\tvalid_0's rmse: 0.717021\n"
     ]
    },
    {
     "name": "stderr",
     "output_type": "stream",
     "text": [
      "min_data_in_leaf, val_score: 0.717058:  60%|######    | 3/5 [00:25<00:17,  8.52s/it]\u001b[32m[I 2021-08-24 13:07:42,862]\u001b[0m Trial 62 finished with value: 0.7170578468155419 and parameters: {'min_child_samples': 25}. Best is trial 62 with value: 0.7170578468155419.\u001b[0m\n",
      "min_data_in_leaf, val_score: 0.717058:  60%|######    | 3/5 [00:25<00:17,  8.52s/it]"
     ]
    },
    {
     "name": "stdout",
     "output_type": "stream",
     "text": [
      "[1000]\tvalid_0's rmse: 0.717058\n",
      "[LightGBM] [Warning] Auto-choosing row-wise multi-threading, the overhead of testing was 0.006896 seconds.\n",
      "You can set `force_row_wise=true` to remove the overhead.\n",
      "And if memory is not enough, you can set `force_col_wise=true`.\n",
      "[LightGBM] [Info] Total Bins 3626\n",
      "[LightGBM] [Info] Number of data points in the train set: 225000, number of used features: 24\n",
      "[LightGBM] [Info] Start training from score 8.243805\n",
      "[100]\tvalid_0's rmse: 0.723909\n",
      "[200]\tvalid_0's rmse: 0.720002\n",
      "[300]\tvalid_0's rmse: 0.718583\n",
      "[400]\tvalid_0's rmse: 0.717911\n",
      "[500]\tvalid_0's rmse: 0.717557\n",
      "[600]\tvalid_0's rmse: 0.717349\n",
      "[700]\tvalid_0's rmse: 0.717235\n",
      "[800]\tvalid_0's rmse: 0.717228\n",
      "[900]\tvalid_0's rmse: 0.717215\n"
     ]
    },
    {
     "name": "stderr",
     "output_type": "stream",
     "text": [
      "min_data_in_leaf, val_score: 0.717058:  80%|########  | 4/5 [00:34<00:08,  8.58s/it]\u001b[32m[I 2021-08-24 13:07:51,545]\u001b[0m Trial 63 finished with value: 0.7173100005014497 and parameters: {'min_child_samples': 50}. Best is trial 62 with value: 0.7170578468155419.\u001b[0m\n",
      "min_data_in_leaf, val_score: 0.717058:  80%|########  | 4/5 [00:34<00:08,  8.58s/it]"
     ]
    },
    {
     "name": "stdout",
     "output_type": "stream",
     "text": [
      "[1000]\tvalid_0's rmse: 0.71731\n",
      "[LightGBM] [Warning] Auto-choosing row-wise multi-threading, the overhead of testing was 0.006928 seconds.\n",
      "You can set `force_row_wise=true` to remove the overhead.\n",
      "And if memory is not enough, you can set `force_col_wise=true`.\n",
      "[LightGBM] [Info] Total Bins 3626\n",
      "[LightGBM] [Info] Number of data points in the train set: 225000, number of used features: 24\n",
      "[LightGBM] [Info] Start training from score 8.243805\n",
      "[100]\tvalid_0's rmse: 0.723909\n",
      "[200]\tvalid_0's rmse: 0.720002\n",
      "[300]\tvalid_0's rmse: 0.718552\n",
      "[400]\tvalid_0's rmse: 0.718009\n",
      "[500]\tvalid_0's rmse: 0.717617\n",
      "[600]\tvalid_0's rmse: 0.717405\n",
      "[700]\tvalid_0's rmse: 0.717372\n",
      "[800]\tvalid_0's rmse: 0.717392\n",
      "[900]\tvalid_0's rmse: 0.717313\n"
     ]
    },
    {
     "name": "stderr",
     "output_type": "stream",
     "text": [
      "min_data_in_leaf, val_score: 0.717058: 100%|##########| 5/5 [00:42<00:00,  8.49s/it]\u001b[32m[I 2021-08-24 13:07:59,869]\u001b[0m Trial 64 finished with value: 0.7173668372903522 and parameters: {'min_child_samples': 5}. Best is trial 62 with value: 0.7170578468155419.\u001b[0m\n",
      "min_data_in_leaf, val_score: 0.717058: 100%|##########| 5/5 [00:42<00:00,  8.55s/it]"
     ]
    },
    {
     "name": "stdout",
     "output_type": "stream",
     "text": [
      "[1000]\tvalid_0's rmse: 0.717367\n"
     ]
    },
    {
     "name": "stderr",
     "output_type": "stream",
     "text": [
      "\n"
     ]
    }
   ],
   "source": [
    "booster = lgbo.train(opt_params,dtrain,valid_sets=dval,verbose_eval=100)"
   ]
  },
  {
   "cell_type": "code",
   "execution_count": 62,
   "id": "dc91c5b0-4d49-4395-815c-aff67c6d7d4a",
   "metadata": {},
   "outputs": [
    {
     "name": "stdout",
     "output_type": "stream",
     "text": [
      "[LightGBM] [Warning] bagging_freq is set=6, subsample_freq=0 will be ignored. Current value: bagging_freq=6\n",
      "[LightGBM] [Warning] lambda_l2 is set=1.7517015026012234e-06, reg_lambda=0.0 will be ignored. Current value: lambda_l2=1.7517015026012234e-06\n",
      "[LightGBM] [Warning] feature_fraction is set=1.0, colsample_bytree=1.0 will be ignored. Current value: feature_fraction=1.0\n",
      "[LightGBM] [Warning] bagging_fraction is set=0.806920876467952, subsample=1.0 will be ignored. Current value: bagging_fraction=0.806920876467952\n",
      "[LightGBM] [Warning] lambda_l1 is set=1.8813403583442569e-07, reg_alpha=0.0 will be ignored. Current value: lambda_l1=1.8813403583442569e-07\n",
      "Fold 0 RMSE: 0.7247268575184218\n",
      "[LightGBM] [Warning] bagging_freq is set=6, subsample_freq=0 will be ignored. Current value: bagging_freq=6\n",
      "[LightGBM] [Warning] lambda_l2 is set=1.7517015026012234e-06, reg_lambda=0.0 will be ignored. Current value: lambda_l2=1.7517015026012234e-06\n",
      "[LightGBM] [Warning] feature_fraction is set=1.0, colsample_bytree=1.0 will be ignored. Current value: feature_fraction=1.0\n",
      "[LightGBM] [Warning] bagging_fraction is set=0.806920876467952, subsample=1.0 will be ignored. Current value: bagging_fraction=0.806920876467952\n",
      "[LightGBM] [Warning] lambda_l1 is set=1.8813403583442569e-07, reg_alpha=0.0 will be ignored. Current value: lambda_l1=1.8813403583442569e-07\n",
      "Fold 1 RMSE: 0.7248073965857696\n",
      "[LightGBM] [Warning] bagging_freq is set=6, subsample_freq=0 will be ignored. Current value: bagging_freq=6\n",
      "[LightGBM] [Warning] lambda_l2 is set=1.7517015026012234e-06, reg_lambda=0.0 will be ignored. Current value: lambda_l2=1.7517015026012234e-06\n",
      "[LightGBM] [Warning] feature_fraction is set=1.0, colsample_bytree=1.0 will be ignored. Current value: feature_fraction=1.0\n",
      "[LightGBM] [Warning] bagging_fraction is set=0.806920876467952, subsample=1.0 will be ignored. Current value: bagging_fraction=0.806920876467952\n",
      "[LightGBM] [Warning] lambda_l1 is set=1.8813403583442569e-07, reg_alpha=0.0 will be ignored. Current value: lambda_l1=1.8813403583442569e-07\n",
      "Fold 2 RMSE: 0.7232014793923998\n",
      "[LightGBM] [Warning] bagging_freq is set=6, subsample_freq=0 will be ignored. Current value: bagging_freq=6\n",
      "[LightGBM] [Warning] lambda_l2 is set=1.7517015026012234e-06, reg_lambda=0.0 will be ignored. Current value: lambda_l2=1.7517015026012234e-06\n",
      "[LightGBM] [Warning] feature_fraction is set=1.0, colsample_bytree=1.0 will be ignored. Current value: feature_fraction=1.0\n",
      "[LightGBM] [Warning] bagging_fraction is set=0.806920876467952, subsample=1.0 will be ignored. Current value: bagging_fraction=0.806920876467952\n",
      "[LightGBM] [Warning] lambda_l1 is set=1.8813403583442569e-07, reg_alpha=0.0 will be ignored. Current value: lambda_l1=1.8813403583442569e-07\n",
      "Fold 3 RMSE: 0.7273663598193219\n",
      "[LightGBM] [Warning] bagging_freq is set=6, subsample_freq=0 will be ignored. Current value: bagging_freq=6\n",
      "[LightGBM] [Warning] lambda_l2 is set=1.7517015026012234e-06, reg_lambda=0.0 will be ignored. Current value: lambda_l2=1.7517015026012234e-06\n",
      "[LightGBM] [Warning] feature_fraction is set=1.0, colsample_bytree=1.0 will be ignored. Current value: feature_fraction=1.0\n",
      "[LightGBM] [Warning] bagging_fraction is set=0.806920876467952, subsample=1.0 will be ignored. Current value: bagging_fraction=0.806920876467952\n",
      "[LightGBM] [Warning] lambda_l1 is set=1.8813403583442569e-07, reg_alpha=0.0 will be ignored. Current value: lambda_l1=1.8813403583442569e-07\n",
      "Fold 4 RMSE: 0.7306674862468353\n",
      "[LightGBM] [Warning] bagging_freq is set=6, subsample_freq=0 will be ignored. Current value: bagging_freq=6\n",
      "[LightGBM] [Warning] lambda_l2 is set=1.7517015026012234e-06, reg_lambda=0.0 will be ignored. Current value: lambda_l2=1.7517015026012234e-06\n",
      "[LightGBM] [Warning] feature_fraction is set=1.0, colsample_bytree=1.0 will be ignored. Current value: feature_fraction=1.0\n",
      "[LightGBM] [Warning] bagging_fraction is set=0.806920876467952, subsample=1.0 will be ignored. Current value: bagging_fraction=0.806920876467952\n",
      "[LightGBM] [Warning] lambda_l1 is set=1.8813403583442569e-07, reg_alpha=0.0 will be ignored. Current value: lambda_l1=1.8813403583442569e-07\n",
      "Fold 5 RMSE: 0.7232244428489671\n",
      "[LightGBM] [Warning] bagging_freq is set=6, subsample_freq=0 will be ignored. Current value: bagging_freq=6\n",
      "[LightGBM] [Warning] lambda_l2 is set=1.7517015026012234e-06, reg_lambda=0.0 will be ignored. Current value: lambda_l2=1.7517015026012234e-06\n",
      "[LightGBM] [Warning] feature_fraction is set=1.0, colsample_bytree=1.0 will be ignored. Current value: feature_fraction=1.0\n",
      "[LightGBM] [Warning] bagging_fraction is set=0.806920876467952, subsample=1.0 will be ignored. Current value: bagging_fraction=0.806920876467952\n",
      "[LightGBM] [Warning] lambda_l1 is set=1.8813403583442569e-07, reg_alpha=0.0 will be ignored. Current value: lambda_l1=1.8813403583442569e-07\n",
      "Fold 6 RMSE: 0.7260918054539295\n",
      "[LightGBM] [Warning] bagging_freq is set=6, subsample_freq=0 will be ignored. Current value: bagging_freq=6\n",
      "[LightGBM] [Warning] lambda_l2 is set=1.7517015026012234e-06, reg_lambda=0.0 will be ignored. Current value: lambda_l2=1.7517015026012234e-06\n",
      "[LightGBM] [Warning] feature_fraction is set=1.0, colsample_bytree=1.0 will be ignored. Current value: feature_fraction=1.0\n",
      "[LightGBM] [Warning] bagging_fraction is set=0.806920876467952, subsample=1.0 will be ignored. Current value: bagging_fraction=0.806920876467952\n",
      "[LightGBM] [Warning] lambda_l1 is set=1.8813403583442569e-07, reg_alpha=0.0 will be ignored. Current value: lambda_l1=1.8813403583442569e-07\n",
      "Fold 7 RMSE: 0.7276775225130558\n",
      "[LightGBM] [Warning] bagging_freq is set=6, subsample_freq=0 will be ignored. Current value: bagging_freq=6\n",
      "[LightGBM] [Warning] lambda_l2 is set=1.7517015026012234e-06, reg_lambda=0.0 will be ignored. Current value: lambda_l2=1.7517015026012234e-06\n",
      "[LightGBM] [Warning] feature_fraction is set=1.0, colsample_bytree=1.0 will be ignored. Current value: feature_fraction=1.0\n",
      "[LightGBM] [Warning] bagging_fraction is set=0.806920876467952, subsample=1.0 will be ignored. Current value: bagging_fraction=0.806920876467952\n",
      "[LightGBM] [Warning] lambda_l1 is set=1.8813403583442569e-07, reg_alpha=0.0 will be ignored. Current value: lambda_l1=1.8813403583442569e-07\n"
     ]
    },
    {
     "name": "stderr",
     "output_type": "stream",
     "text": [
      "feature_fraction, val_score: inf:   0%|          | 0/7 [03:57<?, ?it/s]\n"
     ]
    },
    {
     "name": "stdout",
     "output_type": "stream",
     "text": [
      "Fold 8 RMSE: 0.7296309339160219\n",
      "[LightGBM] [Warning] bagging_freq is set=6, subsample_freq=0 will be ignored. Current value: bagging_freq=6\n",
      "[LightGBM] [Warning] lambda_l2 is set=1.7517015026012234e-06, reg_lambda=0.0 will be ignored. Current value: lambda_l2=1.7517015026012234e-06\n",
      "[LightGBM] [Warning] feature_fraction is set=1.0, colsample_bytree=1.0 will be ignored. Current value: feature_fraction=1.0\n",
      "[LightGBM] [Warning] bagging_fraction is set=0.806920876467952, subsample=1.0 will be ignored. Current value: bagging_fraction=0.806920876467952\n",
      "[LightGBM] [Warning] lambda_l1 is set=1.8813403583442569e-07, reg_alpha=0.0 will be ignored. Current value: lambda_l1=1.8813403583442569e-07\n",
      "Fold 9 RMSE: 0.7228215165472223\n",
      "\n",
      "Overall RMSE: 0.7260215800841946\n",
      "CPU times: user 7min 16s, sys: 25.2 s, total: 7min 41s\n",
      "Wall time: 1min 1s\n"
     ]
    }
   ],
   "source": [
    "%%time\n",
    "# 交差検証（10は多い気がする）\n",
    "splits = 10\n",
    "skf = KFold(n_splits=splits, shuffle=True, random_state=42)\n",
    "\n",
    "# Creating an array of zeros for storing \"out of fold\" predictions\n",
    "oof_preds = np.zeros((X.shape[0],))\n",
    "preds = 0\n",
    "model_fi = 0\n",
    "total_mean_rmse = 0\n",
    "\n",
    "# Generating folds and making training and prediction for each of 10 folds\n",
    "for num, (train_idx, valid_idx) in enumerate(skf.split(X)):\n",
    "    X_train, X_valid = X.loc[train_idx], X.loc[valid_idx]\n",
    "    y_train, y_valid = y.loc[train_idx], y.loc[valid_idx]\n",
    "    \n",
    "    model = LGBMRegressor(**params)\n",
    "    model.fit(X_train, y_train,\n",
    "              verbose=False,\n",
    "              # These three parameters will stop training before a model starts overfitting \n",
    "              eval_set=[(X_train, y_train), (X_valid, y_valid)],\n",
    "              eval_metric=\"rmse\",\n",
    "              early_stopping_rounds=100,\n",
    "              )\n",
    "    \n",
    "    # Getting mean test data predictions (i.e. devided by number of splits)\n",
    "    preds += model.predict(X_test) / splits\n",
    "    \n",
    "    # Getting mean feature importances (i.e. devided by number of splits)\n",
    "    model_fi += model.feature_importances_ / splits\n",
    "    \n",
    "    # Getting validation data predictions. Each fold model makes predictions on an unseen data.\n",
    "    # So in the end it will be completely filled with unseen data predictions.\n",
    "    # It will be used to evaluate hyperparameters performance only.\n",
    "    oof_preds[valid_idx] = model.predict(X_valid)\n",
    "    \n",
    "    # Getting score for a fold model\n",
    "    fold_rmse = np.sqrt(mean_squared_error(y_valid, oof_preds[valid_idx]))\n",
    "    print(f\"Fold {num} RMSE: {fold_rmse}\")\n",
    "\n",
    "    # Getting mean score of all fold models (i.e. devided by number of splits)\n",
    "    total_mean_rmse += fold_rmse / splits\n",
    "    \n",
    "print(f\"\\nOverall RMSE: {total_mean_rmse}\")"
   ]
  },
  {
   "cell_type": "code",
   "execution_count": 47,
   "id": "7bde5d01-b7c2-4cae-838d-2c6f84a9b484",
   "metadata": {},
   "outputs": [],
   "source": [
    "# Creating a dataframe to be used for plotting\n",
    "df = pd.DataFrame()\n",
    "df[\"Feature\"] = X.columns\n",
    "# Extracting feature importances from the trained model\n",
    "df[\"Importance\"] = model_fi / model_fi.sum()\n",
    "# Sorting the dataframe by feature importance\n",
    "df.sort_values(\"Importance\", axis=0, ascending=False, inplace=True)"
   ]
  },
  {
   "cell_type": "code",
   "execution_count": 48,
   "id": "9ad3b359-68de-49fb-8a3f-8d4fac118b9c",
   "metadata": {},
   "outputs": [
    {
     "data": {
      "image/png": "[encoded data removed]",
      "text/plain": [
       "<Figure size 936x720 with 1 Axes>"
      ]
     },
     "metadata": {
      "needs_background": "light"
     },
     "output_type": "display_data"
    }
   ],
   "source": [
    "fig, ax = plt.subplots(figsize=(13, 10))\n",
    "bars = ax.barh(df[\"Feature\"], df[\"Importance\"], height=0.4,\n",
    "               color=\"mediumorchid\", edgecolor=\"black\")\n",
    "ax.set_title(\"Feature importances\", fontsize=30, pad=15)\n",
    "ax.set_ylabel(\"Feature name\", fontsize=20, labelpad=15)\n",
    "ax.set_xlabel(\"Feature importance\", fontsize=20, labelpad=15)\n",
    "ax.set_yticks(df[\"Feature\"])\n",
    "ax.set_yticklabels(df[\"Feature\"], fontsize=15)\n",
    "ax.tick_params(axis=\"x\", labelsize=15)\n",
    "ax.grid(axis=\"x\")\n",
    "# Adding labels on top\n",
    "ax2 = ax.secondary_xaxis('top')\n",
    "ax2.set_xlabel(\"Feature importance\", fontsize=20, labelpad=15)\n",
    "ax2.tick_params(axis=\"x\", labelsize=15)\n",
    "\n",
    "# Inverting y axis direction so the values are decreasing\n",
    "plt.gca().invert_yaxis()"
   ]
  },
  {
   "cell_type": "code",
   "execution_count": 50,
   "id": "8555f2af-61a1-41f7-a5a4-a5e8f2de9b5a",
   "metadata": {},
   "outputs": [
    {
     "data": {
      "text/html": [
       "<div>\n",
       "<style scoped>\n",
       "    .dataframe tbody tr th:only-of-type {\n",
       "        vertical-align: middle;\n",
       "    }\n",
       "\n",
       "    .dataframe tbody tr th {\n",
       "        vertical-align: top;\n",
       "    }\n",
       "\n",
       "    .dataframe thead th {\n",
       "        text-align: right;\n",
       "    }\n",
       "</style>\n",
       "<table border=\"1\" class=\"dataframe\">\n",
       "  <thead>\n",
       "    <tr style=\"text-align: right;\">\n",
       "      <th></th>\n",
       "      <th>id</th>\n",
       "      <th>target</th>\n",
       "    </tr>\n",
       "  </thead>\n",
       "  <tbody>\n",
       "    <tr>\n",
       "      <th>0</th>\n",
       "      <td>0</td>\n",
       "      <td>7.949243</td>\n",
       "    </tr>\n",
       "    <tr>\n",
       "      <th>1</th>\n",
       "      <td>5</td>\n",
       "      <td>8.284233</td>\n",
       "    </tr>\n",
       "    <tr>\n",
       "      <th>2</th>\n",
       "      <td>15</td>\n",
       "      <td>8.432804</td>\n",
       "    </tr>\n",
       "    <tr>\n",
       "      <th>3</th>\n",
       "      <td>16</td>\n",
       "      <td>8.429843</td>\n",
       "    </tr>\n",
       "    <tr>\n",
       "      <th>4</th>\n",
       "      <td>17</td>\n",
       "      <td>8.135039</td>\n",
       "    </tr>\n",
       "  </tbody>\n",
       "</table>\n",
       "</div>"
      ],
      "text/plain": [
       "   id    target\n",
       "0   0  7.949243\n",
       "1   5  8.284233\n",
       "2  15  8.432804\n",
       "3  16  8.429843\n",
       "4  17  8.135039"
      ]
     },
     "execution_count": 50,
     "metadata": {},
     "output_type": "execute_result"
    }
   ],
   "source": [
    "predictions = pd.DataFrame()\n",
    "predictions[\"id\"] = test[\"id\"]\n",
    "predictions[\"target\"] = preds\n",
    "\n",
    "predictions.to_csv('../data/submit/007_submission.csv', index=False, header=predictions.columns)\n",
    "predictions.head()"
   ]
  },
  {
   "cell_type": "markdown",
   "id": "8ca5575e-d858-4f01-a156-5f6fec5126c6",
   "metadata": {},
   "source": [
    "スコア変わらず。標準化してもLightGBMに影響を与えないという意味では勉強になった。"
   ]
  },
  {
   "cell_type": "code",
   "execution_count": 70,
   "id": "253e8bf5-8516-4d3e-a552-9d3829ec88a0",
   "metadata": {
    "tags": []
   },
   "outputs": [],
   "source": [
    "train_df[\"cat0\"] = pd.Categorical(train_df[\"cat0\"])\n",
    "train_df[\"cat1\"] = pd.Categorical(train_df[\"cat1\"])\n",
    "train_df[\"cat2\"] = pd.Categorical(train_df[\"cat2\"])\n",
    "train_df[\"cat3\"] = pd.Categorical(train_df[\"cat3\"])\n",
    "train_df[\"cat4\"] = pd.Categorical(train_df[\"cat4\"])\n",
    "train_df[\"cat5\"] = pd.Categorical(train_df[\"cat5\"])\n",
    "train_df[\"cat6\"] = pd.Categorical(train_df[\"cat6\"])\n",
    "train_df[\"cat7\"] = pd.Categorical(train_df[\"cat7\"])\n",
    "train_df[\"cat8\"] = pd.Categorical(train_df[\"cat8\"])\n",
    "train_df[\"cat9\"] = pd.Categorical(train_df[\"cat9\"])"
   ]
  },
  {
   "cell_type": "code",
   "execution_count": 71,
   "id": "3b4a6708-cfb4-4d3e-9e4b-0d4a2df0428c",
   "metadata": {},
   "outputs": [],
   "source": [
    "X = train_df.drop([\"id\", \"target\"], axis=1)\n",
    "X_test = test_df.drop([\"id\"], axis=1)\n",
    "y = train_df[\"target\"]"
   ]
  },
  {
   "cell_type": "code",
   "execution_count": 72,
   "id": "7be6095c-e9e2-4487-8d83-c6b381b0cc25",
   "metadata": {},
   "outputs": [],
   "source": [
    "train_X,valid_X,train_y,valid_y = train_test_split(X,y,test_size=0.25)"
   ]
  },
  {
   "cell_type": "code",
   "execution_count": 73,
   "id": "7ef2f41b-db90-4b99-9260-cb7c0a5e77dc",
   "metadata": {},
   "outputs": [],
   "source": [
    "dtrain = lgbo.Dataset(train_X,label=train_y)\n",
    "dval = lgbo.Dataset(valid_X,label=valid_y)"
   ]
  },
  {
   "cell_type": "code",
   "execution_count": 74,
   "id": "8827c7e0-13dc-40eb-8b90-73736cb4c284",
   "metadata": {
    "collapsed": true,
    "jupyter": {
     "outputs_hidden": true
    },
    "tags": []
   },
   "outputs": [
    {
     "name": "stderr",
     "output_type": "stream",
     "text": [
      "\u001b[32m[I 2021-08-24 13:36:21,376]\u001b[0m A new study created in memory with name: no-name-6edb01d0-2840-4962-bad1-2303bf39b021\u001b[0m\n",
      "feature_fraction, val_score: inf:   0%|          | 0/7 [00:00<?, ?it/s]"
     ]
    },
    {
     "name": "stdout",
     "output_type": "stream",
     "text": [
      "[LightGBM] [Warning] Auto-choosing row-wise multi-threading, the overhead of testing was 0.009882 seconds.\n",
      "You can set `force_row_wise=true` to remove the overhead.\n",
      "And if memory is not enough, you can set `force_col_wise=true`.\n",
      "[LightGBM] [Info] Total Bins 3630\n",
      "[LightGBM] [Info] Number of data points in the train set: 225000, number of used features: 24\n",
      "[LightGBM] [Info] Start training from score 8.241032\n",
      "[100]\tvalid_0's rmse: 0.727322\n",
      "[200]\tvalid_0's rmse: 0.724894\n",
      "[300]\tvalid_0's rmse: 0.724454\n",
      "[400]\tvalid_0's rmse: 0.724266\n",
      "[500]\tvalid_0's rmse: 0.724183\n",
      "[600]\tvalid_0's rmse: 0.724351\n",
      "[700]\tvalid_0's rmse: 0.724473\n",
      "[800]\tvalid_0's rmse: 0.724567\n",
      "[900]\tvalid_0's rmse: 0.72478\n"
     ]
    },
    {
     "name": "stderr",
     "output_type": "stream",
     "text": [
      "feature_fraction, val_score: 0.725073:  14%|#4        | 1/7 [00:07<00:42,  7.05s/it]\u001b[32m[I 2021-08-24 13:36:28,437]\u001b[0m Trial 0 finished with value: 0.725072587517873 and parameters: {'feature_fraction': 0.5}. Best is trial 0 with value: 0.725072587517873.\u001b[0m\n",
      "feature_fraction, val_score: 0.725073:  14%|#4        | 1/7 [00:07<00:42,  7.05s/it]"
     ]
    },
    {
     "name": "stdout",
     "output_type": "stream",
     "text": [
      "[1000]\tvalid_0's rmse: 0.725073\n",
      "[LightGBM] [Warning] Auto-choosing row-wise multi-threading, the overhead of testing was 0.009052 seconds.\n",
      "You can set `force_row_wise=true` to remove the overhead.\n",
      "And if memory is not enough, you can set `force_col_wise=true`.\n",
      "[LightGBM] [Info] Total Bins 3630\n",
      "[LightGBM] [Info] Number of data points in the train set: 225000, number of used features: 24\n",
      "[LightGBM] [Info] Start training from score 8.241032\n",
      "[100]\tvalid_0's rmse: 0.72756\n",
      "[200]\tvalid_0's rmse: 0.725731\n",
      "[300]\tvalid_0's rmse: 0.725546\n",
      "[400]\tvalid_0's rmse: 0.725437\n",
      "[500]\tvalid_0's rmse: 0.725368\n",
      "[600]\tvalid_0's rmse: 0.725506\n",
      "[700]\tvalid_0's rmse: 0.725759\n",
      "[800]\tvalid_0's rmse: 0.725992\n",
      "[900]\tvalid_0's rmse: 0.726171\n"
     ]
    },
    {
     "name": "stderr",
     "output_type": "stream",
     "text": [
      "feature_fraction, val_score: 0.725073:  29%|##8       | 2/7 [00:12<00:29,  5.92s/it]\u001b[32m[I 2021-08-24 13:36:33,570]\u001b[0m Trial 1 finished with value: 0.7263563921403714 and parameters: {'feature_fraction': 0.8}. Best is trial 0 with value: 0.725072587517873.\u001b[0m\n",
      "feature_fraction, val_score: 0.725073:  29%|##8       | 2/7 [00:12<00:29,  5.92s/it]"
     ]
    },
    {
     "name": "stdout",
     "output_type": "stream",
     "text": [
      "[1000]\tvalid_0's rmse: 0.726356\n",
      "[LightGBM] [Warning] Auto-choosing row-wise multi-threading, the overhead of testing was 0.009109 seconds.\n",
      "You can set `force_row_wise=true` to remove the overhead.\n",
      "And if memory is not enough, you can set `force_col_wise=true`.\n",
      "[LightGBM] [Info] Total Bins 3630\n",
      "[LightGBM] [Info] Number of data points in the train set: 225000, number of used features: 24\n",
      "[LightGBM] [Info] Start training from score 8.241032\n",
      "[100]\tvalid_0's rmse: 0.727408\n",
      "[200]\tvalid_0's rmse: 0.72543\n",
      "[300]\tvalid_0's rmse: 0.724975\n",
      "[400]\tvalid_0's rmse: 0.7248\n",
      "[500]\tvalid_0's rmse: 0.724695\n",
      "[600]\tvalid_0's rmse: 0.724676\n",
      "[700]\tvalid_0's rmse: 0.724992\n",
      "[800]\tvalid_0's rmse: 0.72516\n",
      "[900]\tvalid_0's rmse: 0.725394\n"
     ]
    },
    {
     "name": "stderr",
     "output_type": "stream",
     "text": [
      "feature_fraction, val_score: 0.725073:  43%|####2     | 3/7 [00:18<00:24,  6.04s/it]\u001b[32m[I 2021-08-24 13:36:39,752]\u001b[0m Trial 2 finished with value: 0.7256213801725069 and parameters: {'feature_fraction': 0.6}. Best is trial 0 with value: 0.725072587517873.\u001b[0m\n",
      "feature_fraction, val_score: 0.725073:  43%|####2     | 3/7 [00:18<00:24,  6.04s/it]"
     ]
    },
    {
     "name": "stdout",
     "output_type": "stream",
     "text": [
      "[1000]\tvalid_0's rmse: 0.725621\n",
      "[LightGBM] [Warning] Auto-choosing row-wise multi-threading, the overhead of testing was 0.008336 seconds.\n",
      "You can set `force_row_wise=true` to remove the overhead.\n",
      "And if memory is not enough, you can set `force_col_wise=true`.\n",
      "[LightGBM] [Info] Total Bins 3630\n",
      "[LightGBM] [Info] Number of data points in the train set: 225000, number of used features: 24\n",
      "[LightGBM] [Info] Start training from score 8.241032\n",
      "[100]\tvalid_0's rmse: 0.727455\n",
      "[200]\tvalid_0's rmse: 0.725787\n",
      "[300]\tvalid_0's rmse: 0.725447\n",
      "[400]\tvalid_0's rmse: 0.725342\n",
      "[500]\tvalid_0's rmse: 0.725348\n",
      "[600]\tvalid_0's rmse: 0.7255\n",
      "[700]\tvalid_0's rmse: 0.725848\n",
      "[800]\tvalid_0's rmse: 0.726087\n",
      "[900]\tvalid_0's rmse: 0.7263\n"
     ]
    },
    {
     "name": "stderr",
     "output_type": "stream",
     "text": [
      "feature_fraction, val_score: 0.725073:  57%|#####7    | 4/7 [00:23<00:16,  5.50s/it]\u001b[32m[I 2021-08-24 13:36:44,416]\u001b[0m Trial 3 finished with value: 0.7265200328988126 and parameters: {'feature_fraction': 1.0}. Best is trial 0 with value: 0.725072587517873.\u001b[0m\n",
      "feature_fraction, val_score: 0.725073:  57%|#####7    | 4/7 [00:23<00:16,  5.50s/it]"
     ]
    },
    {
     "name": "stdout",
     "output_type": "stream",
     "text": [
      "[1000]\tvalid_0's rmse: 0.72652\n",
      "[LightGBM] [Warning] Auto-choosing row-wise multi-threading, the overhead of testing was 0.007993 seconds.\n",
      "You can set `force_row_wise=true` to remove the overhead.\n",
      "And if memory is not enough, you can set `force_col_wise=true`.\n",
      "[LightGBM] [Info] Total Bins 3630\n",
      "[LightGBM] [Info] Number of data points in the train set: 225000, number of used features: 24\n",
      "[LightGBM] [Info] Start training from score 8.241032\n",
      "[100]\tvalid_0's rmse: 0.727253\n",
      "[200]\tvalid_0's rmse: 0.725568\n",
      "[300]\tvalid_0's rmse: 0.725237\n",
      "[400]\tvalid_0's rmse: 0.725271\n",
      "[500]\tvalid_0's rmse: 0.725234\n",
      "[600]\tvalid_0's rmse: 0.725426\n",
      "[700]\tvalid_0's rmse: 0.725502\n",
      "[800]\tvalid_0's rmse: 0.725737\n",
      "[900]\tvalid_0's rmse: 0.725933\n"
     ]
    },
    {
     "name": "stderr",
     "output_type": "stream",
     "text": [
      "feature_fraction, val_score: 0.725073:  71%|#######1  | 5/7 [00:28<00:10,  5.36s/it]\u001b[32m[I 2021-08-24 13:36:49,539]\u001b[0m Trial 4 finished with value: 0.7261714177430901 and parameters: {'feature_fraction': 0.8999999999999999}. Best is trial 0 with value: 0.725072587517873.\u001b[0m\n",
      "feature_fraction, val_score: 0.725073:  71%|#######1  | 5/7 [00:28<00:10,  5.36s/it]"
     ]
    },
    {
     "name": "stdout",
     "output_type": "stream",
     "text": [
      "[1000]\tvalid_0's rmse: 0.726171\n",
      "[LightGBM] [Warning] Auto-choosing row-wise multi-threading, the overhead of testing was 0.007706 seconds.\n",
      "You can set `force_row_wise=true` to remove the overhead.\n",
      "And if memory is not enough, you can set `force_col_wise=true`.\n",
      "[LightGBM] [Info] Total Bins 3630\n",
      "[LightGBM] [Info] Number of data points in the train set: 225000, number of used features: 24\n",
      "[LightGBM] [Info] Start training from score 8.241032\n",
      "[100]\tvalid_0's rmse: 0.727173\n",
      "[200]\tvalid_0's rmse: 0.724709\n",
      "[300]\tvalid_0's rmse: 0.724038\n",
      "[400]\tvalid_0's rmse: 0.724008\n",
      "[500]\tvalid_0's rmse: 0.724039\n",
      "[600]\tvalid_0's rmse: 0.724084\n",
      "[700]\tvalid_0's rmse: 0.724265\n",
      "[800]\tvalid_0's rmse: 0.724344\n",
      "[900]\tvalid_0's rmse: 0.724527\n"
     ]
    },
    {
     "name": "stderr",
     "output_type": "stream",
     "text": [
      "feature_fraction, val_score: 0.724643:  86%|########5 | 6/7 [00:35<00:05,  5.87s/it]\u001b[32m[I 2021-08-24 13:36:56,397]\u001b[0m Trial 5 finished with value: 0.724643065838632 and parameters: {'feature_fraction': 0.4}. Best is trial 5 with value: 0.724643065838632.\u001b[0m\n",
      "feature_fraction, val_score: 0.724643:  86%|########5 | 6/7 [00:35<00:05,  5.87s/it]"
     ]
    },
    {
     "name": "stdout",
     "output_type": "stream",
     "text": [
      "[1000]\tvalid_0's rmse: 0.724643\n",
      "[LightGBM] [Warning] Auto-choosing row-wise multi-threading, the overhead of testing was 0.006537 seconds.\n",
      "You can set `force_row_wise=true` to remove the overhead.\n",
      "And if memory is not enough, you can set `force_col_wise=true`.\n",
      "[LightGBM] [Info] Total Bins 3630\n",
      "[LightGBM] [Info] Number of data points in the train set: 225000, number of used features: 24\n",
      "[LightGBM] [Info] Start training from score 8.241032\n",
      "[100]\tvalid_0's rmse: 0.727388\n",
      "[200]\tvalid_0's rmse: 0.725402\n",
      "[300]\tvalid_0's rmse: 0.725115\n",
      "[400]\tvalid_0's rmse: 0.724984\n",
      "[500]\tvalid_0's rmse: 0.72507\n",
      "[600]\tvalid_0's rmse: 0.725318\n",
      "[700]\tvalid_0's rmse: 0.725474\n",
      "[800]\tvalid_0's rmse: 0.725725\n",
      "[900]\tvalid_0's rmse: 0.725888\n"
     ]
    },
    {
     "name": "stderr",
     "output_type": "stream",
     "text": [
      "feature_fraction, val_score: 0.724643: 100%|##########| 7/7 [00:39<00:00,  5.57s/it]\u001b[32m[I 2021-08-24 13:37:01,362]\u001b[0m Trial 6 finished with value: 0.7261642706512197 and parameters: {'feature_fraction': 0.7}. Best is trial 5 with value: 0.724643065838632.\u001b[0m\n",
      "feature_fraction, val_score: 0.724643: 100%|##########| 7/7 [00:39<00:00,  5.71s/it]\n",
      "num_leaves, val_score: 0.724643:   0%|          | 0/20 [00:00<?, ?it/s]"
     ]
    },
    {
     "name": "stdout",
     "output_type": "stream",
     "text": [
      "[1000]\tvalid_0's rmse: 0.726164\n",
      "[LightGBM] [Warning] Auto-choosing row-wise multi-threading, the overhead of testing was 0.007598 seconds.\n",
      "You can set `force_row_wise=true` to remove the overhead.\n",
      "And if memory is not enough, you can set `force_col_wise=true`.\n",
      "[LightGBM] [Info] Total Bins 3630\n",
      "[LightGBM] [Info] Number of data points in the train set: 225000, number of used features: 24\n",
      "[LightGBM] [Info] Start training from score 8.241032\n",
      "[100]\tvalid_0's rmse: 0.726365\n",
      "[200]\tvalid_0's rmse: 0.725434\n",
      "[300]\tvalid_0's rmse: 0.725937\n",
      "[400]\tvalid_0's rmse: 0.72664\n",
      "[500]\tvalid_0's rmse: 0.727411\n",
      "[600]\tvalid_0's rmse: 0.728055\n",
      "[700]\tvalid_0's rmse: 0.728848\n",
      "[800]\tvalid_0's rmse: 0.729685\n",
      "[900]\tvalid_0's rmse: 0.730377\n"
     ]
    },
    {
     "name": "stderr",
     "output_type": "stream",
     "text": [
      "num_leaves, val_score: 0.724643:   5%|5         | 1/20 [00:09<03:02,  9.59s/it]\u001b[32m[I 2021-08-24 13:37:10,960]\u001b[0m Trial 7 finished with value: 0.7309809417414571 and parameters: {'num_leaves': 112}. Best is trial 7 with value: 0.7309809417414571.\u001b[0m\n",
      "num_leaves, val_score: 0.724643:   5%|5         | 1/20 [00:09<03:02,  9.59s/it]"
     ]
    },
    {
     "name": "stdout",
     "output_type": "stream",
     "text": [
      "[1000]\tvalid_0's rmse: 0.730981\n",
      "[LightGBM] [Warning] Auto-choosing row-wise multi-threading, the overhead of testing was 0.008045 seconds.\n",
      "You can set `force_row_wise=true` to remove the overhead.\n",
      "And if memory is not enough, you can set `force_col_wise=true`.\n",
      "[LightGBM] [Info] Total Bins 3630\n",
      "[LightGBM] [Info] Number of data points in the train set: 225000, number of used features: 24\n",
      "[LightGBM] [Info] Start training from score 8.241032\n",
      "[100]\tvalid_0's rmse: 0.727097\n",
      "[200]\tvalid_0's rmse: 0.727494\n",
      "[300]\tvalid_0's rmse: 0.72853\n",
      "[400]\tvalid_0's rmse: 0.729485\n",
      "[500]\tvalid_0's rmse: 0.730559\n",
      "[600]\tvalid_0's rmse: 0.731881\n",
      "[700]\tvalid_0's rmse: 0.732862\n",
      "[800]\tvalid_0's rmse: 0.733711\n",
      "[900]\tvalid_0's rmse: 0.734639\n",
      "[1000]\tvalid_0's rmse: 0.735371\n"
     ]
    },
    {
     "name": "stderr",
     "output_type": "stream",
     "text": [
      "num_leaves, val_score: 0.724643:  10%|#         | 2/20 [00:22<03:28, 11.56s/it]\u001b[32m[I 2021-08-24 13:37:23,897]\u001b[0m Trial 8 finished with value: 0.7353713287793893 and parameters: {'num_leaves': 219}. Best is trial 7 with value: 0.7309809417414571.\u001b[0m\n",
      "num_leaves, val_score: 0.724643:  10%|#         | 2/20 [00:22<03:28, 11.56s/it]"
     ]
    },
    {
     "name": "stdout",
     "output_type": "stream",
     "text": [
      "[LightGBM] [Warning] Auto-choosing row-wise multi-threading, the overhead of testing was 0.009801 seconds.\n",
      "You can set `force_row_wise=true` to remove the overhead.\n",
      "And if memory is not enough, you can set `force_col_wise=true`.\n",
      "[LightGBM] [Info] Total Bins 3630\n",
      "[LightGBM] [Info] Number of data points in the train set: 225000, number of used features: 24\n",
      "[LightGBM] [Info] Start training from score 8.241032\n",
      "[100]\tvalid_0's rmse: 0.727077\n",
      "[200]\tvalid_0's rmse: 0.727505\n",
      "[300]\tvalid_0's rmse: 0.728815\n",
      "[400]\tvalid_0's rmse: 0.730592\n",
      "[500]\tvalid_0's rmse: 0.731925\n",
      "[600]\tvalid_0's rmse: 0.732872\n",
      "[700]\tvalid_0's rmse: 0.733713\n",
      "[800]\tvalid_0's rmse: 0.734497\n",
      "[900]\tvalid_0's rmse: 0.73507\n",
      "[1000]\tvalid_0's rmse: 0.73594\n"
     ]
    },
    {
     "name": "stderr",
     "output_type": "stream",
     "text": [
      "num_leaves, val_score: 0.724643:  15%|#5        | 3/20 [00:35<03:30, 12.39s/it]\u001b[32m[I 2021-08-24 13:37:37,284]\u001b[0m Trial 9 finished with value: 0.7359403531933183 and parameters: {'num_leaves': 233}. Best is trial 7 with value: 0.7309809417414571.\u001b[0m\n",
      "num_leaves, val_score: 0.724643:  15%|#5        | 3/20 [00:35<03:30, 12.39s/it]"
     ]
    },
    {
     "name": "stdout",
     "output_type": "stream",
     "text": [
      "[LightGBM] [Warning] Auto-choosing row-wise multi-threading, the overhead of testing was 0.007348 seconds.\n",
      "You can set `force_row_wise=true` to remove the overhead.\n",
      "And if memory is not enough, you can set `force_col_wise=true`.\n",
      "[LightGBM] [Info] Total Bins 3630\n",
      "[LightGBM] [Info] Number of data points in the train set: 225000, number of used features: 24\n",
      "[LightGBM] [Info] Start training from score 8.241032\n",
      "[100]\tvalid_0's rmse: 0.727143\n",
      "[200]\tvalid_0's rmse: 0.727518\n",
      "[300]\tvalid_0's rmse: 0.728766\n",
      "[400]\tvalid_0's rmse: 0.729845\n",
      "[500]\tvalid_0's rmse: 0.73098\n",
      "[600]\tvalid_0's rmse: 0.732004\n",
      "[700]\tvalid_0's rmse: 0.733176\n",
      "[800]\tvalid_0's rmse: 0.734259\n",
      "[900]\tvalid_0's rmse: 0.73507\n",
      "[1000]\tvalid_0's rmse: 0.735679\n"
     ]
    },
    {
     "name": "stderr",
     "output_type": "stream",
     "text": [
      "num_leaves, val_score: 0.724643:  20%|##        | 4/20 [00:48<03:17, 12.35s/it]\u001b[32m[I 2021-08-24 13:37:49,571]\u001b[0m Trial 10 finished with value: 0.7356789136851917 and parameters: {'num_leaves': 217}. Best is trial 7 with value: 0.7309809417414571.\u001b[0m\n",
      "num_leaves, val_score: 0.724643:  20%|##        | 4/20 [00:48<03:17, 12.35s/it]"
     ]
    },
    {
     "name": "stdout",
     "output_type": "stream",
     "text": [
      "[LightGBM] [Warning] Auto-choosing row-wise multi-threading, the overhead of testing was 0.008000 seconds.\n",
      "You can set `force_row_wise=true` to remove the overhead.\n",
      "And if memory is not enough, you can set `force_col_wise=true`.\n",
      "[LightGBM] [Info] Total Bins 3630\n",
      "[LightGBM] [Info] Number of data points in the train set: 225000, number of used features: 24\n",
      "[LightGBM] [Info] Start training from score 8.241032\n",
      "[100]\tvalid_0's rmse: 0.726171\n",
      "[200]\tvalid_0's rmse: 0.724854\n",
      "[300]\tvalid_0's rmse: 0.725037\n",
      "[400]\tvalid_0's rmse: 0.725463\n",
      "[500]\tvalid_0's rmse: 0.72605\n",
      "[600]\tvalid_0's rmse: 0.72655\n",
      "[700]\tvalid_0's rmse: 0.7271\n",
      "[800]\tvalid_0's rmse: 0.727727\n",
      "[900]\tvalid_0's rmse: 0.728172\n"
     ]
    },
    {
     "name": "stderr",
     "output_type": "stream",
     "text": [
      "num_leaves, val_score: 0.724643:  25%|##5       | 5/20 [00:56<02:45, 11.05s/it]\u001b[32m[I 2021-08-24 13:37:58,321]\u001b[0m Trial 11 finished with value: 0.7285390738054884 and parameters: {'num_leaves': 78}. Best is trial 11 with value: 0.7285390738054884.\u001b[0m\n",
      "num_leaves, val_score: 0.724643:  25%|##5       | 5/20 [00:56<02:45, 11.05s/it]"
     ]
    },
    {
     "name": "stdout",
     "output_type": "stream",
     "text": [
      "[1000]\tvalid_0's rmse: 0.728539\n",
      "[LightGBM] [Warning] Auto-choosing row-wise multi-threading, the overhead of testing was 0.007782 seconds.\n",
      "You can set `force_row_wise=true` to remove the overhead.\n",
      "And if memory is not enough, you can set `force_col_wise=true`.\n",
      "[LightGBM] [Info] Total Bins 3630\n",
      "[LightGBM] [Info] Number of data points in the train set: 225000, number of used features: 24\n",
      "[LightGBM] [Info] Start training from score 8.241032\n",
      "[100]\tvalid_0's rmse: 0.726649\n",
      "[200]\tvalid_0's rmse: 0.725894\n",
      "[300]\tvalid_0's rmse: 0.726305\n",
      "[400]\tvalid_0's rmse: 0.727103\n",
      "[500]\tvalid_0's rmse: 0.72761\n",
      "[600]\tvalid_0's rmse: 0.728329\n",
      "[700]\tvalid_0's rmse: 0.729055\n",
      "[800]\tvalid_0's rmse: 0.72966\n",
      "[900]\tvalid_0's rmse: 0.730318\n"
     ]
    },
    {
     "name": "stderr",
     "output_type": "stream",
     "text": [
      "num_leaves, val_score: 0.724643:  30%|###       | 6/20 [01:06<02:27, 10.50s/it]\u001b[32m[I 2021-08-24 13:38:07,749]\u001b[0m Trial 12 finished with value: 0.7308544892798658 and parameters: {'num_leaves': 115}. Best is trial 11 with value: 0.7285390738054884.\u001b[0m\n",
      "num_leaves, val_score: 0.724643:  30%|###       | 6/20 [01:06<02:27, 10.50s/it]"
     ]
    },
    {
     "name": "stdout",
     "output_type": "stream",
     "text": [
      "[1000]\tvalid_0's rmse: 0.730854\n",
      "[LightGBM] [Warning] Auto-choosing row-wise multi-threading, the overhead of testing was 0.009006 seconds.\n",
      "You can set `force_row_wise=true` to remove the overhead.\n",
      "And if memory is not enough, you can set `force_col_wise=true`.\n",
      "[LightGBM] [Info] Total Bins 3630\n",
      "[LightGBM] [Info] Number of data points in the train set: 225000, number of used features: 24\n",
      "[LightGBM] [Info] Start training from score 8.241032\n",
      "[100]\tvalid_0's rmse: 0.726376\n",
      "[200]\tvalid_0's rmse: 0.724842\n",
      "[300]\tvalid_0's rmse: 0.725187\n",
      "[400]\tvalid_0's rmse: 0.725403\n",
      "[500]\tvalid_0's rmse: 0.725792\n",
      "[600]\tvalid_0's rmse: 0.726261\n",
      "[700]\tvalid_0's rmse: 0.726811\n",
      "[800]\tvalid_0's rmse: 0.727189\n",
      "[900]\tvalid_0's rmse: 0.727857\n"
     ]
    },
    {
     "name": "stderr",
     "output_type": "stream",
     "text": [
      "num_leaves, val_score: 0.724643:  35%|###5      | 7/20 [01:14<02:07,  9.78s/it]\u001b[32m[I 2021-08-24 13:38:16,044]\u001b[0m Trial 13 finished with value: 0.7283425176140509 and parameters: {'num_leaves': 75}. Best is trial 13 with value: 0.7283425176140509.\u001b[0m\n",
      "num_leaves, val_score: 0.724643:  35%|###5      | 7/20 [01:14<02:07,  9.78s/it]"
     ]
    },
    {
     "name": "stdout",
     "output_type": "stream",
     "text": [
      "[1000]\tvalid_0's rmse: 0.728343\n",
      "[LightGBM] [Warning] Auto-choosing row-wise multi-threading, the overhead of testing was 0.007688 seconds.\n",
      "You can set `force_row_wise=true` to remove the overhead.\n",
      "And if memory is not enough, you can set `force_col_wise=true`.\n",
      "[LightGBM] [Info] Total Bins 3630\n",
      "[LightGBM] [Info] Number of data points in the train set: 225000, number of used features: 24\n",
      "[LightGBM] [Info] Start training from score 8.241032\n",
      "[100]\tvalid_0's rmse: 0.725952\n",
      "[200]\tvalid_0's rmse: 0.724952\n",
      "[300]\tvalid_0's rmse: 0.725181\n",
      "[400]\tvalid_0's rmse: 0.725725\n",
      "[500]\tvalid_0's rmse: 0.726169\n",
      "[600]\tvalid_0's rmse: 0.726924\n",
      "[700]\tvalid_0's rmse: 0.727491\n",
      "[800]\tvalid_0's rmse: 0.727959\n",
      "[900]\tvalid_0's rmse: 0.728488\n"
     ]
    },
    {
     "name": "stderr",
     "output_type": "stream",
     "text": [
      "num_leaves, val_score: 0.724643:  40%|####      | 8/20 [01:24<01:58,  9.86s/it]\u001b[32m[I 2021-08-24 13:38:26,066]\u001b[0m Trial 14 finished with value: 0.7289372966813411 and parameters: {'num_leaves': 90}. Best is trial 13 with value: 0.7283425176140509.\u001b[0m\n",
      "num_leaves, val_score: 0.724643:  40%|####      | 8/20 [01:24<01:58,  9.86s/it]"
     ]
    },
    {
     "name": "stdout",
     "output_type": "stream",
     "text": [
      "[1000]\tvalid_0's rmse: 0.728937\n",
      "[LightGBM] [Warning] Auto-choosing row-wise multi-threading, the overhead of testing was 0.009649 seconds.\n",
      "You can set `force_row_wise=true` to remove the overhead.\n",
      "And if memory is not enough, you can set `force_col_wise=true`.\n",
      "[LightGBM] [Info] Total Bins 3630\n",
      "[LightGBM] [Info] Number of data points in the train set: 225000, number of used features: 24\n",
      "[LightGBM] [Info] Start training from score 8.241032\n",
      "[100]\tvalid_0's rmse: 0.726351\n",
      "[200]\tvalid_0's rmse: 0.725731\n",
      "[300]\tvalid_0's rmse: 0.7263\n",
      "[400]\tvalid_0's rmse: 0.727081\n",
      "[500]\tvalid_0's rmse: 0.727816\n",
      "[600]\tvalid_0's rmse: 0.728567\n",
      "[700]\tvalid_0's rmse: 0.729271\n",
      "[800]\tvalid_0's rmse: 0.729989\n",
      "[900]\tvalid_0's rmse: 0.730543\n",
      "[1000]\tvalid_0's rmse: 0.731221\n"
     ]
    },
    {
     "name": "stderr",
     "output_type": "stream",
     "text": [
      "num_leaves, val_score: 0.724643:  45%|####5     | 9/20 [01:37<01:57, 10.70s/it]\u001b[32m[I 2021-08-24 13:38:38,612]\u001b[0m Trial 15 finished with value: 0.7312208124345905 and parameters: {'num_leaves': 120}. Best is trial 13 with value: 0.7283425176140509.\u001b[0m\n",
      "num_leaves, val_score: 0.724643:  45%|####5     | 9/20 [01:37<01:57, 10.70s/it]"
     ]
    },
    {
     "name": "stdout",
     "output_type": "stream",
     "text": [
      "[LightGBM] [Warning] Auto-choosing row-wise multi-threading, the overhead of testing was 0.008882 seconds.\n",
      "You can set `force_row_wise=true` to remove the overhead.\n",
      "And if memory is not enough, you can set `force_col_wise=true`.\n",
      "[LightGBM] [Info] Total Bins 3630\n",
      "[LightGBM] [Info] Number of data points in the train set: 225000, number of used features: 24\n",
      "[LightGBM] [Info] Start training from score 8.241032\n",
      "[100]\tvalid_0's rmse: 0.726313\n",
      "[200]\tvalid_0's rmse: 0.72616\n",
      "[300]\tvalid_0's rmse: 0.727055\n",
      "[400]\tvalid_0's rmse: 0.727999\n",
      "[500]\tvalid_0's rmse: 0.728899\n",
      "[600]\tvalid_0's rmse: 0.729817\n",
      "[700]\tvalid_0's rmse: 0.730717\n",
      "[800]\tvalid_0's rmse: 0.731404\n",
      "[900]\tvalid_0's rmse: 0.732055\n",
      "[1000]\tvalid_0's rmse: 0.732815\n"
     ]
    },
    {
     "name": "stderr",
     "output_type": "stream",
     "text": [
      "num_leaves, val_score: 0.724643:  50%|#####     | 10/20 [01:52<02:01, 12.11s/it]\u001b[32m[I 2021-08-24 13:38:53,875]\u001b[0m Trial 16 finished with value: 0.7328146000700483 and parameters: {'num_leaves': 161}. Best is trial 13 with value: 0.7283425176140509.\u001b[0m\n",
      "num_leaves, val_score: 0.724643:  50%|#####     | 10/20 [01:52<02:01, 12.11s/it]"
     ]
    },
    {
     "name": "stdout",
     "output_type": "stream",
     "text": [
      "[LightGBM] [Warning] Auto-choosing row-wise multi-threading, the overhead of testing was 0.008068 seconds.\n",
      "You can set `force_row_wise=true` to remove the overhead.\n",
      "And if memory is not enough, you can set `force_col_wise=true`.\n",
      "[LightGBM] [Info] Total Bins 3630\n",
      "[LightGBM] [Info] Number of data points in the train set: 225000, number of used features: 24\n",
      "[LightGBM] [Info] Start training from score 8.241032\n",
      "[100]\tvalid_0's rmse: 0.733562\n",
      "[200]\tvalid_0's rmse: 0.729721\n",
      "[300]\tvalid_0's rmse: 0.727722\n",
      "[400]\tvalid_0's rmse: 0.726481\n",
      "[500]\tvalid_0's rmse: 0.725484\n",
      "[600]\tvalid_0's rmse: 0.724835\n",
      "[700]\tvalid_0's rmse: 0.724443\n",
      "[800]\tvalid_0's rmse: 0.724014\n",
      "[900]\tvalid_0's rmse: 0.723695\n"
     ]
    },
    {
     "name": "stderr",
     "output_type": "stream",
     "text": [
      "num_leaves, val_score: 0.723458:  55%|#####5    | 11/20 [01:58<01:33, 10.37s/it]\u001b[32m[I 2021-08-24 13:39:00,293]\u001b[0m Trial 17 finished with value: 0.7234584874490396 and parameters: {'num_leaves': 6}. Best is trial 17 with value: 0.7234584874490396.\u001b[0m\n",
      "num_leaves, val_score: 0.723458:  55%|#####5    | 11/20 [01:58<01:33, 10.37s/it]"
     ]
    },
    {
     "name": "stdout",
     "output_type": "stream",
     "text": [
      "[1000]\tvalid_0's rmse: 0.723458\n",
      "[LightGBM] [Warning] Auto-choosing row-wise multi-threading, the overhead of testing was 0.006594 seconds.\n",
      "You can set `force_row_wise=true` to remove the overhead.\n",
      "And if memory is not enough, you can set `force_col_wise=true`.\n",
      "[LightGBM] [Info] Total Bins 3630\n",
      "[LightGBM] [Info] Number of data points in the train set: 225000, number of used features: 24\n",
      "[LightGBM] [Info] Start training from score 8.241032\n",
      "[100]\tvalid_0's rmse: 0.738138\n",
      "[200]\tvalid_0's rmse: 0.734783\n",
      "[300]\tvalid_0's rmse: 0.732678\n",
      "[400]\tvalid_0's rmse: 0.731152\n",
      "[500]\tvalid_0's rmse: 0.730154\n",
      "[600]\tvalid_0's rmse: 0.729221\n",
      "[700]\tvalid_0's rmse: 0.728574\n",
      "[800]\tvalid_0's rmse: 0.727836\n",
      "[900]\tvalid_0's rmse: 0.727142\n"
     ]
    },
    {
     "name": "stderr",
     "output_type": "stream",
     "text": [
      "num_leaves, val_score: 0.723458:  60%|######    | 12/20 [02:03<01:09,  8.70s/it]\u001b[32m[I 2021-08-24 13:39:05,181]\u001b[0m Trial 18 finished with value: 0.7265909343251028 and parameters: {'num_leaves': 3}. Best is trial 17 with value: 0.7234584874490396.\u001b[0m\n",
      "num_leaves, val_score: 0.723458:  60%|######    | 12/20 [02:03<01:09,  8.70s/it]"
     ]
    },
    {
     "name": "stdout",
     "output_type": "stream",
     "text": [
      "[1000]\tvalid_0's rmse: 0.726591\n",
      "[LightGBM] [Warning] Auto-choosing row-wise multi-threading, the overhead of testing was 0.007662 seconds.\n",
      "You can set `force_row_wise=true` to remove the overhead.\n",
      "And if memory is not enough, you can set `force_col_wise=true`.\n",
      "[LightGBM] [Info] Total Bins 3630\n",
      "[LightGBM] [Info] Number of data points in the train set: 225000, number of used features: 24\n",
      "[LightGBM] [Info] Start training from score 8.241032\n",
      "[100]\tvalid_0's rmse: 0.732822\n",
      "[200]\tvalid_0's rmse: 0.728784\n",
      "[300]\tvalid_0's rmse: 0.726828\n",
      "[400]\tvalid_0's rmse: 0.725731\n",
      "[500]\tvalid_0's rmse: 0.724986\n",
      "[600]\tvalid_0's rmse: 0.724466\n",
      "[700]\tvalid_0's rmse: 0.724109\n",
      "[800]\tvalid_0's rmse: 0.723779\n",
      "[900]\tvalid_0's rmse: 0.723616\n"
     ]
    },
    {
     "name": "stderr",
     "output_type": "stream",
     "text": [
      "num_leaves, val_score: 0.723436:  65%|######5   | 13/20 [02:09<00:54,  7.72s/it]\u001b[32m[I 2021-08-24 13:39:10,649]\u001b[0m Trial 19 finished with value: 0.7234358534393874 and parameters: {'num_leaves': 7}. Best is trial 19 with value: 0.7234358534393874.\u001b[0m\n",
      "num_leaves, val_score: 0.723436:  65%|######5   | 13/20 [02:09<00:54,  7.72s/it]"
     ]
    },
    {
     "name": "stdout",
     "output_type": "stream",
     "text": [
      "[1000]\tvalid_0's rmse: 0.723436\n",
      "[LightGBM] [Warning] Auto-choosing row-wise multi-threading, the overhead of testing was 0.008737 seconds.\n",
      "You can set `force_row_wise=true` to remove the overhead.\n",
      "And if memory is not enough, you can set `force_col_wise=true`.\n",
      "[LightGBM] [Info] Total Bins 3630\n",
      "[LightGBM] [Info] Number of data points in the train set: 225000, number of used features: 24\n",
      "[LightGBM] [Info] Start training from score 8.241032\n",
      "[100]\tvalid_0's rmse: 0.729701\n",
      "[200]\tvalid_0's rmse: 0.726173\n",
      "[300]\tvalid_0's rmse: 0.725\n",
      "[400]\tvalid_0's rmse: 0.724406\n",
      "[500]\tvalid_0's rmse: 0.724061\n",
      "[600]\tvalid_0's rmse: 0.723828\n",
      "[700]\tvalid_0's rmse: 0.723746\n",
      "[800]\tvalid_0's rmse: 0.723735\n",
      "[900]\tvalid_0's rmse: 0.723715\n"
     ]
    },
    {
     "name": "stderr",
     "output_type": "stream",
     "text": [
      "num_leaves, val_score: 0.723436:  70%|#######   | 14/20 [02:16<00:45,  7.59s/it]\u001b[32m[I 2021-08-24 13:39:17,924]\u001b[0m Trial 20 finished with value: 0.7237618732148131 and parameters: {'num_leaves': 14}. Best is trial 19 with value: 0.7234358534393874.\u001b[0m\n",
      "num_leaves, val_score: 0.723436:  70%|#######   | 14/20 [02:16<00:45,  7.59s/it]"
     ]
    },
    {
     "name": "stdout",
     "output_type": "stream",
     "text": [
      "[1000]\tvalid_0's rmse: 0.723762\n",
      "[LightGBM] [Warning] Auto-choosing row-wise multi-threading, the overhead of testing was 0.009189 seconds.\n",
      "You can set `force_row_wise=true` to remove the overhead.\n",
      "And if memory is not enough, you can set `force_col_wise=true`.\n",
      "[LightGBM] [Info] Total Bins 3630\n",
      "[LightGBM] [Info] Number of data points in the train set: 225000, number of used features: 24\n",
      "[LightGBM] [Info] Start training from score 8.241032\n",
      "[100]\tvalid_0's rmse: 0.726765\n",
      "[200]\tvalid_0's rmse: 0.724918\n",
      "[300]\tvalid_0's rmse: 0.724414\n",
      "[400]\tvalid_0's rmse: 0.724312\n",
      "[500]\tvalid_0's rmse: 0.724351\n",
      "[600]\tvalid_0's rmse: 0.724588\n",
      "[700]\tvalid_0's rmse: 0.724704\n",
      "[800]\tvalid_0's rmse: 0.724917\n",
      "[900]\tvalid_0's rmse: 0.725175\n"
     ]
    },
    {
     "name": "stderr",
     "output_type": "stream",
     "text": [
      "num_leaves, val_score: 0.723436:  75%|#######5  | 15/20 [02:25<00:40,  8.09s/it]\u001b[32m[I 2021-08-24 13:39:27,179]\u001b[0m Trial 21 finished with value: 0.7255097930433668 and parameters: {'num_leaves': 37}. Best is trial 19 with value: 0.7234358534393874.\u001b[0m\n",
      "num_leaves, val_score: 0.723436:  75%|#######5  | 15/20 [02:25<00:40,  8.09s/it]"
     ]
    },
    {
     "name": "stdout",
     "output_type": "stream",
     "text": [
      "[1000]\tvalid_0's rmse: 0.72551\n",
      "[LightGBM] [Warning] Auto-choosing row-wise multi-threading, the overhead of testing was 0.007822 seconds.\n",
      "You can set `force_row_wise=true` to remove the overhead.\n",
      "And if memory is not enough, you can set `force_col_wise=true`.\n",
      "[LightGBM] [Info] Total Bins 3630\n",
      "[LightGBM] [Info] Number of data points in the train set: 225000, number of used features: 24\n",
      "[LightGBM] [Info] Start training from score 8.241032\n",
      "[100]\tvalid_0's rmse: 0.727081\n",
      "[200]\tvalid_0's rmse: 0.724733\n",
      "[300]\tvalid_0's rmse: 0.724318\n",
      "[400]\tvalid_0's rmse: 0.724234\n",
      "[500]\tvalid_0's rmse: 0.724237\n",
      "[600]\tvalid_0's rmse: 0.72439\n",
      "[700]\tvalid_0's rmse: 0.72449\n",
      "[800]\tvalid_0's rmse: 0.724616\n",
      "[900]\tvalid_0's rmse: 0.724922\n"
     ]
    },
    {
     "name": "stderr",
     "output_type": "stream",
     "text": [
      "num_leaves, val_score: 0.723436:  80%|########  | 16/20 [02:33<00:32,  8.02s/it]\u001b[32m[I 2021-08-24 13:39:35,042]\u001b[0m Trial 22 finished with value: 0.7252558644588629 and parameters: {'num_leaves': 34}. Best is trial 19 with value: 0.7234358534393874.\u001b[0m\n",
      "num_leaves, val_score: 0.723436:  80%|########  | 16/20 [02:33<00:32,  8.02s/it]"
     ]
    },
    {
     "name": "stdout",
     "output_type": "stream",
     "text": [
      "[1000]\tvalid_0's rmse: 0.725256\n",
      "[LightGBM] [Warning] Auto-choosing row-wise multi-threading, the overhead of testing was 0.008803 seconds.\n",
      "You can set `force_row_wise=true` to remove the overhead.\n",
      "And if memory is not enough, you can set `force_col_wise=true`.\n",
      "[LightGBM] [Info] Total Bins 3630\n",
      "[LightGBM] [Info] Number of data points in the train set: 225000, number of used features: 24\n",
      "[LightGBM] [Info] Start training from score 8.241032\n",
      "[100]\tvalid_0's rmse: 0.726862\n",
      "[200]\tvalid_0's rmse: 0.726681\n",
      "[300]\tvalid_0's rmse: 0.727659\n",
      "[400]\tvalid_0's rmse: 0.728829\n",
      "[500]\tvalid_0's rmse: 0.729638\n",
      "[600]\tvalid_0's rmse: 0.730522\n",
      "[700]\tvalid_0's rmse: 0.731448\n",
      "[800]\tvalid_0's rmse: 0.732093\n",
      "[900]\tvalid_0's rmse: 0.732913\n",
      "[1000]\tvalid_0's rmse: 0.733757\n"
     ]
    },
    {
     "name": "stderr",
     "output_type": "stream",
     "text": [
      "num_leaves, val_score: 0.723436:  85%|########5 | 17/20 [02:46<00:28,  9.48s/it]\u001b[32m[I 2021-08-24 13:39:47,912]\u001b[0m Trial 23 finished with value: 0.7337573778772306 and parameters: {'num_leaves': 162}. Best is trial 19 with value: 0.7234358534393874.\u001b[0m\n",
      "num_leaves, val_score: 0.723436:  85%|########5 | 17/20 [02:46<00:28,  9.48s/it]"
     ]
    },
    {
     "name": "stdout",
     "output_type": "stream",
     "text": [
      "[LightGBM] [Warning] Auto-choosing row-wise multi-threading, the overhead of testing was 0.007505 seconds.\n",
      "You can set `force_row_wise=true` to remove the overhead.\n",
      "And if memory is not enough, you can set `force_col_wise=true`.\n",
      "[LightGBM] [Info] Total Bins 3630\n",
      "[LightGBM] [Info] Number of data points in the train set: 225000, number of used features: 24\n",
      "[LightGBM] [Info] Start training from score 8.241032\n",
      "[100]\tvalid_0's rmse: 0.726497\n",
      "[200]\tvalid_0's rmse: 0.72507\n",
      "[300]\tvalid_0's rmse: 0.72477\n",
      "[400]\tvalid_0's rmse: 0.724827\n",
      "[500]\tvalid_0's rmse: 0.725037\n",
      "[600]\tvalid_0's rmse: 0.725342\n",
      "[700]\tvalid_0's rmse: 0.725755\n",
      "[800]\tvalid_0's rmse: 0.726003\n",
      "[900]\tvalid_0's rmse: 0.726437\n"
     ]
    },
    {
     "name": "stderr",
     "output_type": "stream",
     "text": [
      "num_leaves, val_score: 0.723436:  90%|######### | 18/20 [02:55<00:18,  9.39s/it]\u001b[32m[I 2021-08-24 13:39:57,100]\u001b[0m Trial 24 finished with value: 0.7268654754526385 and parameters: {'num_leaves': 48}. Best is trial 19 with value: 0.7234358534393874.\u001b[0m\n",
      "num_leaves, val_score: 0.723436:  90%|######### | 18/20 [02:55<00:18,  9.39s/it]"
     ]
    },
    {
     "name": "stdout",
     "output_type": "stream",
     "text": [
      "[1000]\tvalid_0's rmse: 0.726865\n",
      "[LightGBM] [Warning] Auto-choosing row-wise multi-threading, the overhead of testing was 0.007311 seconds.\n",
      "You can set `force_row_wise=true` to remove the overhead.\n",
      "And if memory is not enough, you can set `force_col_wise=true`.\n",
      "[LightGBM] [Info] Total Bins 3630\n",
      "[LightGBM] [Info] Number of data points in the train set: 225000, number of used features: 24\n",
      "[LightGBM] [Info] Start training from score 8.241032\n",
      "[100]\tvalid_0's rmse: 0.736142\n",
      "[200]\tvalid_0's rmse: 0.732557\n",
      "[300]\tvalid_0's rmse: 0.730197\n",
      "[400]\tvalid_0's rmse: 0.728758\n",
      "[500]\tvalid_0's rmse: 0.727639\n",
      "[600]\tvalid_0's rmse: 0.726756\n",
      "[700]\tvalid_0's rmse: 0.726014\n",
      "[800]\tvalid_0's rmse: 0.725435\n",
      "[900]\tvalid_0's rmse: 0.724845\n"
     ]
    },
    {
     "name": "stderr",
     "output_type": "stream",
     "text": [
      "num_leaves, val_score: 0.723436:  95%|#########5| 19/20 [03:01<00:08,  8.42s/it]\u001b[32m[I 2021-08-24 13:40:03,249]\u001b[0m Trial 25 finished with value: 0.7244530556055374 and parameters: {'num_leaves': 4}. Best is trial 19 with value: 0.7234358534393874.\u001b[0m\n",
      "num_leaves, val_score: 0.723436:  95%|#########5| 19/20 [03:01<00:08,  8.42s/it]"
     ]
    },
    {
     "name": "stdout",
     "output_type": "stream",
     "text": [
      "[1000]\tvalid_0's rmse: 0.724453\n",
      "[LightGBM] [Warning] Auto-choosing row-wise multi-threading, the overhead of testing was 0.010269 seconds.\n",
      "You can set `force_row_wise=true` to remove the overhead.\n",
      "And if memory is not enough, you can set `force_col_wise=true`.\n",
      "[LightGBM] [Info] Total Bins 3630\n",
      "[LightGBM] [Info] Number of data points in the train set: 225000, number of used features: 24\n",
      "[LightGBM] [Info] Start training from score 8.241032\n",
      "[100]\tvalid_0's rmse: 0.726539\n",
      "[200]\tvalid_0's rmse: 0.725153\n",
      "[300]\tvalid_0's rmse: 0.725106\n",
      "[400]\tvalid_0's rmse: 0.725126\n",
      "[500]\tvalid_0's rmse: 0.725413\n",
      "[600]\tvalid_0's rmse: 0.725898\n",
      "[700]\tvalid_0's rmse: 0.72624\n",
      "[800]\tvalid_0's rmse: 0.726547\n",
      "[900]\tvalid_0's rmse: 0.726923\n"
     ]
    },
    {
     "name": "stderr",
     "output_type": "stream",
     "text": [
      "num_leaves, val_score: 0.723436: 100%|##########| 20/20 [03:10<00:00,  8.51s/it]\u001b[32m[I 2021-08-24 13:40:11,987]\u001b[0m Trial 26 finished with value: 0.7271675905343461 and parameters: {'num_leaves': 55}. Best is trial 19 with value: 0.7234358534393874.\u001b[0m\n",
      "num_leaves, val_score: 0.723436: 100%|##########| 20/20 [03:10<00:00,  9.53s/it]\n",
      "bagging, val_score: 0.723436:   0%|          | 0/10 [00:00<?, ?it/s]"
     ]
    },
    {
     "name": "stdout",
     "output_type": "stream",
     "text": [
      "[1000]\tvalid_0's rmse: 0.727168\n",
      "[LightGBM] [Warning] Auto-choosing row-wise multi-threading, the overhead of testing was 0.007836 seconds.\n",
      "You can set `force_row_wise=true` to remove the overhead.\n",
      "And if memory is not enough, you can set `force_col_wise=true`.\n",
      "[LightGBM] [Info] Total Bins 3630\n",
      "[LightGBM] [Info] Number of data points in the train set: 225000, number of used features: 24\n",
      "[LightGBM] [Info] Start training from score 8.241032\n",
      "[100]\tvalid_0's rmse: 0.732863\n",
      "[200]\tvalid_0's rmse: 0.728714\n",
      "[300]\tvalid_0's rmse: 0.72691\n",
      "[400]\tvalid_0's rmse: 0.725815\n",
      "[500]\tvalid_0's rmse: 0.724717\n",
      "[600]\tvalid_0's rmse: 0.724294\n",
      "[700]\tvalid_0's rmse: 0.723942\n",
      "[800]\tvalid_0's rmse: 0.723695\n",
      "[900]\tvalid_0's rmse: 0.723431\n"
     ]
    },
    {
     "name": "stderr",
     "output_type": "stream",
     "text": [
      "bagging, val_score: 0.723248:  10%|#         | 1/10 [00:06<01:02,  6.97s/it]\u001b[32m[I 2021-08-24 13:40:18,963]\u001b[0m Trial 27 finished with value: 0.7232481048661922 and parameters: {'bagging_fraction': 0.8912121949406442, 'bagging_freq': 6}. Best is trial 27 with value: 0.7232481048661922.\u001b[0m\n",
      "bagging, val_score: 0.723248:  10%|#         | 1/10 [00:06<01:02,  6.97s/it]"
     ]
    },
    {
     "name": "stdout",
     "output_type": "stream",
     "text": [
      "[1000]\tvalid_0's rmse: 0.723248\n",
      "[LightGBM] [Warning] Auto-choosing row-wise multi-threading, the overhead of testing was 0.010067 seconds.\n",
      "You can set `force_row_wise=true` to remove the overhead.\n",
      "And if memory is not enough, you can set `force_col_wise=true`.\n",
      "[LightGBM] [Info] Total Bins 3630\n",
      "[LightGBM] [Info] Number of data points in the train set: 225000, number of used features: 24\n",
      "[LightGBM] [Info] Start training from score 8.241032\n",
      "[100]\tvalid_0's rmse: 0.732917\n",
      "[200]\tvalid_0's rmse: 0.728666\n",
      "[300]\tvalid_0's rmse: 0.726688\n",
      "[400]\tvalid_0's rmse: 0.725588\n",
      "[500]\tvalid_0's rmse: 0.724833\n",
      "[600]\tvalid_0's rmse: 0.724463\n",
      "[700]\tvalid_0's rmse: 0.724167\n",
      "[800]\tvalid_0's rmse: 0.723815\n",
      "[900]\tvalid_0's rmse: 0.723708\n"
     ]
    },
    {
     "name": "stderr",
     "output_type": "stream",
     "text": [
      "bagging, val_score: 0.723248:  20%|##        | 2/10 [00:12<00:48,  6.12s/it]\u001b[32m[I 2021-08-24 13:40:24,493]\u001b[0m Trial 28 finished with value: 0.7235296278441167 and parameters: {'bagging_fraction': 0.5422586751865328, 'bagging_freq': 4}. Best is trial 27 with value: 0.7232481048661922.\u001b[0m\n",
      "bagging, val_score: 0.723248:  20%|##        | 2/10 [00:12<00:48,  6.12s/it]"
     ]
    },
    {
     "name": "stdout",
     "output_type": "stream",
     "text": [
      "[1000]\tvalid_0's rmse: 0.72353\n",
      "[LightGBM] [Warning] Auto-choosing row-wise multi-threading, the overhead of testing was 0.011113 seconds.\n",
      "You can set `force_row_wise=true` to remove the overhead.\n",
      "And if memory is not enough, you can set `force_col_wise=true`.\n",
      "[LightGBM] [Info] Total Bins 3630\n",
      "[LightGBM] [Info] Number of data points in the train set: 225000, number of used features: 24\n",
      "[LightGBM] [Info] Start training from score 8.241032\n",
      "[100]\tvalid_0's rmse: 0.732766\n",
      "[200]\tvalid_0's rmse: 0.728931\n",
      "[300]\tvalid_0's rmse: 0.726562\n",
      "[400]\tvalid_0's rmse: 0.725238\n",
      "[500]\tvalid_0's rmse: 0.724722\n",
      "[600]\tvalid_0's rmse: 0.724253\n",
      "[700]\tvalid_0's rmse: 0.723836\n",
      "[800]\tvalid_0's rmse: 0.723628\n",
      "[900]\tvalid_0's rmse: 0.723513\n"
     ]
    },
    {
     "name": "stderr",
     "output_type": "stream",
     "text": [
      "bagging, val_score: 0.723248:  30%|###       | 3/10 [00:18<00:42,  6.05s/it]\u001b[32m[I 2021-08-24 13:40:30,453]\u001b[0m Trial 29 finished with value: 0.72343562777937 and parameters: {'bagging_fraction': 0.6905270070775765, 'bagging_freq': 5}. Best is trial 27 with value: 0.7232481048661922.\u001b[0m\n",
      "bagging, val_score: 0.723248:  30%|###       | 3/10 [00:18<00:42,  6.05s/it]"
     ]
    },
    {
     "name": "stdout",
     "output_type": "stream",
     "text": [
      "[1000]\tvalid_0's rmse: 0.723436\n",
      "[LightGBM] [Warning] Auto-choosing row-wise multi-threading, the overhead of testing was 0.007708 seconds.\n",
      "You can set `force_row_wise=true` to remove the overhead.\n",
      "And if memory is not enough, you can set `force_col_wise=true`.\n",
      "[LightGBM] [Info] Total Bins 3630\n",
      "[LightGBM] [Info] Number of data points in the train set: 225000, number of used features: 24\n",
      "[LightGBM] [Info] Start training from score 8.241032\n",
      "[100]\tvalid_0's rmse: 0.732791\n",
      "[200]\tvalid_0's rmse: 0.728812\n",
      "[300]\tvalid_0's rmse: 0.726851\n",
      "[400]\tvalid_0's rmse: 0.725613\n",
      "[500]\tvalid_0's rmse: 0.724964\n",
      "[600]\tvalid_0's rmse: 0.724359\n",
      "[700]\tvalid_0's rmse: 0.724027\n",
      "[800]\tvalid_0's rmse: 0.723702\n",
      "[900]\tvalid_0's rmse: 0.723546\n"
     ]
    },
    {
     "name": "stderr",
     "output_type": "stream",
     "text": [
      "bagging, val_score: 0.723248:  40%|####      | 4/10 [00:25<00:38,  6.36s/it]\u001b[32m[I 2021-08-24 13:40:37,296]\u001b[0m Trial 30 finished with value: 0.7233129985507497 and parameters: {'bagging_fraction': 0.8853358261287907, 'bagging_freq': 5}. Best is trial 27 with value: 0.7232481048661922.\u001b[0m\n",
      "bagging, val_score: 0.723248:  40%|####      | 4/10 [00:25<00:38,  6.36s/it]"
     ]
    },
    {
     "name": "stdout",
     "output_type": "stream",
     "text": [
      "[1000]\tvalid_0's rmse: 0.723313\n",
      "[LightGBM] [Warning] Auto-choosing row-wise multi-threading, the overhead of testing was 0.009077 seconds.\n",
      "You can set `force_row_wise=true` to remove the overhead.\n",
      "And if memory is not enough, you can set `force_col_wise=true`.\n",
      "[LightGBM] [Info] Total Bins 3630\n",
      "[LightGBM] [Info] Number of data points in the train set: 225000, number of used features: 24\n",
      "[LightGBM] [Info] Start training from score 8.241032\n",
      "[100]\tvalid_0's rmse: 0.732824\n",
      "[200]\tvalid_0's rmse: 0.728889\n",
      "[300]\tvalid_0's rmse: 0.726802\n",
      "[400]\tvalid_0's rmse: 0.725622\n",
      "[500]\tvalid_0's rmse: 0.724746\n",
      "[600]\tvalid_0's rmse: 0.724353\n",
      "[700]\tvalid_0's rmse: 0.723946\n",
      "[800]\tvalid_0's rmse: 0.723574\n",
      "[900]\tvalid_0's rmse: 0.723314\n"
     ]
    },
    {
     "name": "stderr",
     "output_type": "stream",
     "text": [
      "bagging, val_score: 0.723096:  50%|#####     | 5/10 [00:32<00:33,  6.62s/it]\u001b[32m[I 2021-08-24 13:40:44,364]\u001b[0m Trial 31 finished with value: 0.723095778981588 and parameters: {'bagging_fraction': 0.9226440584172403, 'bagging_freq': 4}. Best is trial 31 with value: 0.723095778981588.\u001b[0m\n",
      "bagging, val_score: 0.723096:  50%|#####     | 5/10 [00:32<00:33,  6.62s/it]"
     ]
    },
    {
     "name": "stdout",
     "output_type": "stream",
     "text": [
      "[1000]\tvalid_0's rmse: 0.723096\n",
      "[LightGBM] [Warning] Auto-choosing row-wise multi-threading, the overhead of testing was 0.008990 seconds.\n",
      "You can set `force_row_wise=true` to remove the overhead.\n",
      "And if memory is not enough, you can set `force_col_wise=true`.\n",
      "[LightGBM] [Info] Total Bins 3630\n",
      "[LightGBM] [Info] Number of data points in the train set: 225000, number of used features: 24\n",
      "[LightGBM] [Info] Start training from score 8.241032\n",
      "[100]\tvalid_0's rmse: 0.732814\n",
      "[200]\tvalid_0's rmse: 0.728728\n",
      "[300]\tvalid_0's rmse: 0.72693\n",
      "[400]\tvalid_0's rmse: 0.725671\n",
      "[500]\tvalid_0's rmse: 0.724971\n",
      "[600]\tvalid_0's rmse: 0.724511\n",
      "[700]\tvalid_0's rmse: 0.724012\n",
      "[800]\tvalid_0's rmse: 0.72365\n",
      "[900]\tvalid_0's rmse: 0.723434\n"
     ]
    },
    {
     "name": "stderr",
     "output_type": "stream",
     "text": [
      "bagging, val_score: 0.723096:  60%|######    | 6/10 [00:39<00:27,  6.91s/it]\u001b[32m[I 2021-08-24 13:40:51,851]\u001b[0m Trial 32 finished with value: 0.7231872331925853 and parameters: {'bagging_fraction': 0.9217344414590855, 'bagging_freq': 3}. Best is trial 31 with value: 0.723095778981588.\u001b[0m\n",
      "bagging, val_score: 0.723096:  60%|######    | 6/10 [00:39<00:27,  6.91s/it]"
     ]
    },
    {
     "name": "stdout",
     "output_type": "stream",
     "text": [
      "[1000]\tvalid_0's rmse: 0.723187\n",
      "[LightGBM] [Warning] Auto-choosing row-wise multi-threading, the overhead of testing was 0.011902 seconds.\n",
      "You can set `force_row_wise=true` to remove the overhead.\n",
      "And if memory is not enough, you can set `force_col_wise=true`.\n",
      "[LightGBM] [Info] Total Bins 3630\n",
      "[LightGBM] [Info] Number of data points in the train set: 225000, number of used features: 24\n",
      "[LightGBM] [Info] Start training from score 8.241032\n",
      "[100]\tvalid_0's rmse: 0.732417\n",
      "[200]\tvalid_0's rmse: 0.728469\n",
      "[300]\tvalid_0's rmse: 0.726429\n",
      "[400]\tvalid_0's rmse: 0.725381\n",
      "[500]\tvalid_0's rmse: 0.724663\n",
      "[600]\tvalid_0's rmse: 0.724194\n",
      "[700]\tvalid_0's rmse: 0.723841\n",
      "[800]\tvalid_0's rmse: 0.723652\n",
      "[900]\tvalid_0's rmse: 0.723404\n"
     ]
    },
    {
     "name": "stderr",
     "output_type": "stream",
     "text": [
      "bagging, val_score: 0.723096:  70%|#######   | 7/10 [00:45<00:19,  6.51s/it]\u001b[32m[I 2021-08-24 13:40:57,525]\u001b[0m Trial 33 finished with value: 0.7233400153127577 and parameters: {'bagging_fraction': 0.5371324252464532, 'bagging_freq': 3}. Best is trial 31 with value: 0.723095778981588.\u001b[0m\n",
      "bagging, val_score: 0.723096:  70%|#######   | 7/10 [00:45<00:19,  6.51s/it]"
     ]
    },
    {
     "name": "stdout",
     "output_type": "stream",
     "text": [
      "[1000]\tvalid_0's rmse: 0.72334\n",
      "[LightGBM] [Warning] Auto-choosing row-wise multi-threading, the overhead of testing was 0.007192 seconds.\n",
      "You can set `force_row_wise=true` to remove the overhead.\n",
      "And if memory is not enough, you can set `force_col_wise=true`.\n",
      "[LightGBM] [Info] Total Bins 3630\n",
      "[LightGBM] [Info] Number of data points in the train set: 225000, number of used features: 24\n",
      "[LightGBM] [Info] Start training from score 8.241032\n",
      "[100]\tvalid_0's rmse: 0.732446\n",
      "[200]\tvalid_0's rmse: 0.728692\n",
      "[300]\tvalid_0's rmse: 0.726789\n",
      "[400]\tvalid_0's rmse: 0.725864\n",
      "[500]\tvalid_0's rmse: 0.725029\n",
      "[600]\tvalid_0's rmse: 0.724633\n",
      "[700]\tvalid_0's rmse: 0.724154\n",
      "[800]\tvalid_0's rmse: 0.723911\n",
      "[900]\tvalid_0's rmse: 0.723725\n"
     ]
    },
    {
     "name": "stderr",
     "output_type": "stream",
     "text": [
      "bagging, val_score: 0.723096:  80%|########  | 8/10 [00:50<00:11,  5.91s/it]\u001b[32m[I 2021-08-24 13:41:02,148]\u001b[0m Trial 34 finished with value: 0.7236813161504454 and parameters: {'bagging_fraction': 0.40718579265386434, 'bagging_freq': 7}. Best is trial 31 with value: 0.723095778981588.\u001b[0m\n",
      "bagging, val_score: 0.723096:  80%|########  | 8/10 [00:50<00:11,  5.91s/it]"
     ]
    },
    {
     "name": "stdout",
     "output_type": "stream",
     "text": [
      "[1000]\tvalid_0's rmse: 0.723681\n",
      "[LightGBM] [Warning] Auto-choosing row-wise multi-threading, the overhead of testing was 0.007312 seconds.\n",
      "You can set `force_row_wise=true` to remove the overhead.\n",
      "And if memory is not enough, you can set `force_col_wise=true`.\n",
      "[LightGBM] [Info] Total Bins 3630\n",
      "[LightGBM] [Info] Number of data points in the train set: 225000, number of used features: 24\n",
      "[LightGBM] [Info] Start training from score 8.241032\n",
      "[100]\tvalid_0's rmse: 0.73235\n",
      "[200]\tvalid_0's rmse: 0.728263\n",
      "[300]\tvalid_0's rmse: 0.726263\n",
      "[400]\tvalid_0's rmse: 0.725364\n",
      "[500]\tvalid_0's rmse: 0.724811\n",
      "[600]\tvalid_0's rmse: 0.724195\n",
      "[700]\tvalid_0's rmse: 0.723866\n",
      "[800]\tvalid_0's rmse: 0.723747\n",
      "[900]\tvalid_0's rmse: 0.723602\n"
     ]
    },
    {
     "name": "stderr",
     "output_type": "stream",
     "text": [
      "bagging, val_score: 0.723096:  90%|######### | 9/10 [00:55<00:05,  5.78s/it]\u001b[32m[I 2021-08-24 13:41:07,658]\u001b[0m Trial 35 finished with value: 0.7234188606819468 and parameters: {'bagging_fraction': 0.454220807857904, 'bagging_freq': 3}. Best is trial 31 with value: 0.723095778981588.\u001b[0m\n",
      "bagging, val_score: 0.723096:  90%|######### | 9/10 [00:55<00:05,  5.78s/it]"
     ]
    },
    {
     "name": "stdout",
     "output_type": "stream",
     "text": [
      "[1000]\tvalid_0's rmse: 0.723419\n",
      "[LightGBM] [Warning] Auto-choosing row-wise multi-threading, the overhead of testing was 0.007794 seconds.\n",
      "You can set `force_row_wise=true` to remove the overhead.\n",
      "And if memory is not enough, you can set `force_col_wise=true`.\n",
      "[LightGBM] [Info] Total Bins 3630\n",
      "[LightGBM] [Info] Number of data points in the train set: 225000, number of used features: 24\n",
      "[LightGBM] [Info] Start training from score 8.241032\n",
      "[100]\tvalid_0's rmse: 0.732846\n",
      "[200]\tvalid_0's rmse: 0.728973\n",
      "[300]\tvalid_0's rmse: 0.72662\n",
      "[400]\tvalid_0's rmse: 0.725436\n",
      "[500]\tvalid_0's rmse: 0.724615\n",
      "[600]\tvalid_0's rmse: 0.724053\n",
      "[700]\tvalid_0's rmse: 0.723703\n",
      "[800]\tvalid_0's rmse: 0.723348\n",
      "[900]\tvalid_0's rmse: 0.723201\n"
     ]
    },
    {
     "name": "stderr",
     "output_type": "stream",
     "text": [
      "bagging, val_score: 0.723019: 100%|##########| 10/10 [01:01<00:00,  5.87s/it]\u001b[32m[I 2021-08-24 13:41:13,729]\u001b[0m Trial 36 finished with value: 0.7230192039309541 and parameters: {'bagging_fraction': 0.6977321987309166, 'bagging_freq': 4}. Best is trial 36 with value: 0.7230192039309541.\u001b[0m\n",
      "bagging, val_score: 0.723019: 100%|##########| 10/10 [01:01<00:00,  6.17s/it]\n",
      "feature_fraction_stage2, val_score: 0.723019:   0%|          | 0/3 [00:00<?, ?it/s]"
     ]
    },
    {
     "name": "stdout",
     "output_type": "stream",
     "text": [
      "[1000]\tvalid_0's rmse: 0.723019\n",
      "[LightGBM] [Warning] Auto-choosing row-wise multi-threading, the overhead of testing was 0.010107 seconds.\n",
      "You can set `force_row_wise=true` to remove the overhead.\n",
      "And if memory is not enough, you can set `force_col_wise=true`.\n",
      "[LightGBM] [Info] Total Bins 3630\n",
      "[LightGBM] [Info] Number of data points in the train set: 225000, number of used features: 24\n",
      "[LightGBM] [Info] Start training from score 8.241032\n",
      "[100]\tvalid_0's rmse: 0.732846\n",
      "[200]\tvalid_0's rmse: 0.728973\n",
      "[300]\tvalid_0's rmse: 0.72662\n",
      "[400]\tvalid_0's rmse: 0.725436\n",
      "[500]\tvalid_0's rmse: 0.724615\n",
      "[600]\tvalid_0's rmse: 0.724053\n",
      "[700]\tvalid_0's rmse: 0.723703\n",
      "[800]\tvalid_0's rmse: 0.723348\n",
      "[900]\tvalid_0's rmse: 0.723201\n"
     ]
    },
    {
     "name": "stderr",
     "output_type": "stream",
     "text": [
      "feature_fraction_stage2, val_score: 0.723019:  33%|###3      | 1/3 [00:06<00:12,  6.33s/it]\u001b[32m[I 2021-08-24 13:41:20,059]\u001b[0m Trial 37 finished with value: 0.7230192039309541 and parameters: {'feature_fraction': 0.41600000000000004}. Best is trial 37 with value: 0.7230192039309541.\u001b[0m\n",
      "feature_fraction_stage2, val_score: 0.723019:  33%|###3      | 1/3 [00:06<00:12,  6.33s/it]"
     ]
    },
    {
     "name": "stdout",
     "output_type": "stream",
     "text": [
      "[1000]\tvalid_0's rmse: 0.723019\n",
      "[LightGBM] [Warning] Auto-choosing row-wise multi-threading, the overhead of testing was 0.010647 seconds.\n",
      "You can set `force_row_wise=true` to remove the overhead.\n",
      "And if memory is not enough, you can set `force_col_wise=true`.\n",
      "[LightGBM] [Info] Total Bins 3630\n",
      "[LightGBM] [Info] Number of data points in the train set: 225000, number of used features: 24\n",
      "[LightGBM] [Info] Start training from score 8.241032\n",
      "[100]\tvalid_0's rmse: 0.732762\n",
      "[200]\tvalid_0's rmse: 0.728731\n",
      "[300]\tvalid_0's rmse: 0.726524\n",
      "[400]\tvalid_0's rmse: 0.725462\n",
      "[500]\tvalid_0's rmse: 0.724645\n",
      "[600]\tvalid_0's rmse: 0.724064\n",
      "[700]\tvalid_0's rmse: 0.723731\n",
      "[800]\tvalid_0's rmse: 0.723508\n",
      "[900]\tvalid_0's rmse: 0.723271\n"
     ]
    },
    {
     "name": "stderr",
     "output_type": "stream",
     "text": [
      "feature_fraction_stage2, val_score: 0.723019:  67%|######6   | 2/3 [00:13<00:06,  6.64s/it]\u001b[32m[I 2021-08-24 13:41:26,919]\u001b[0m Trial 38 finished with value: 0.7231374360254795 and parameters: {'feature_fraction': 0.48000000000000004}. Best is trial 37 with value: 0.7230192039309541.\u001b[0m\n",
      "feature_fraction_stage2, val_score: 0.723019:  67%|######6   | 2/3 [00:13<00:06,  6.64s/it]"
     ]
    },
    {
     "name": "stdout",
     "output_type": "stream",
     "text": [
      "[1000]\tvalid_0's rmse: 0.723137\n",
      "[LightGBM] [Warning] Auto-choosing row-wise multi-threading, the overhead of testing was 0.010629 seconds.\n",
      "You can set `force_row_wise=true` to remove the overhead.\n",
      "And if memory is not enough, you can set `force_col_wise=true`.\n",
      "[LightGBM] [Info] Total Bins 3630\n",
      "[LightGBM] [Info] Number of data points in the train set: 225000, number of used features: 24\n",
      "[LightGBM] [Info] Start training from score 8.241032\n",
      "[100]\tvalid_0's rmse: 0.732707\n",
      "[200]\tvalid_0's rmse: 0.728827\n",
      "[300]\tvalid_0's rmse: 0.726555\n",
      "[400]\tvalid_0's rmse: 0.725525\n",
      "[500]\tvalid_0's rmse: 0.72474\n",
      "[600]\tvalid_0's rmse: 0.724182\n",
      "[700]\tvalid_0's rmse: 0.723806\n",
      "[800]\tvalid_0's rmse: 0.72356\n",
      "[900]\tvalid_0's rmse: 0.723315\n"
     ]
    },
    {
     "name": "stderr",
     "output_type": "stream",
     "text": [
      "feature_fraction_stage2, val_score: 0.723019: 100%|##########| 3/3 [00:19<00:00,  6.53s/it]\u001b[32m[I 2021-08-24 13:41:33,311]\u001b[0m Trial 39 finished with value: 0.7231483188957597 and parameters: {'feature_fraction': 0.44800000000000006}. Best is trial 37 with value: 0.7230192039309541.\u001b[0m\n",
      "feature_fraction_stage2, val_score: 0.723019: 100%|##########| 3/3 [00:19<00:00,  6.53s/it]\n",
      "regularization_factors, val_score: 0.723019:   0%|          | 0/20 [00:00<?, ?it/s]"
     ]
    },
    {
     "name": "stdout",
     "output_type": "stream",
     "text": [
      "[1000]\tvalid_0's rmse: 0.723148\n",
      "[LightGBM] [Warning] Auto-choosing row-wise multi-threading, the overhead of testing was 0.008506 seconds.\n",
      "You can set `force_row_wise=true` to remove the overhead.\n",
      "And if memory is not enough, you can set `force_col_wise=true`.\n",
      "[LightGBM] [Info] Total Bins 3630\n",
      "[LightGBM] [Info] Number of data points in the train set: 225000, number of used features: 24\n",
      "[LightGBM] [Info] Start training from score 8.241032\n",
      "[100]\tvalid_0's rmse: 0.732846\n",
      "[200]\tvalid_0's rmse: 0.728973\n",
      "[300]\tvalid_0's rmse: 0.72662\n",
      "[400]\tvalid_0's rmse: 0.725436\n",
      "[500]\tvalid_0's rmse: 0.724615\n",
      "[600]\tvalid_0's rmse: 0.724053\n",
      "[700]\tvalid_0's rmse: 0.723703\n",
      "[800]\tvalid_0's rmse: 0.723348\n",
      "[900]\tvalid_0's rmse: 0.723201\n"
     ]
    },
    {
     "name": "stderr",
     "output_type": "stream",
     "text": [
      "regularization_factors, val_score: 0.723019:   5%|5         | 1/20 [00:06<02:10,  6.85s/it]\u001b[32m[I 2021-08-24 13:41:40,163]\u001b[0m Trial 40 finished with value: 0.7230192039288627 and parameters: {'lambda_l1': 1.49543868561801e-07, 'lambda_l2': 1.146317453911269e-08}. Best is trial 40 with value: 0.7230192039288627.\u001b[0m\n",
      "regularization_factors, val_score: 0.723019:   5%|5         | 1/20 [00:06<02:10,  6.85s/it]"
     ]
    },
    {
     "name": "stdout",
     "output_type": "stream",
     "text": [
      "[1000]\tvalid_0's rmse: 0.723019\n",
      "[LightGBM] [Warning] Auto-choosing row-wise multi-threading, the overhead of testing was 0.010247 seconds.\n",
      "You can set `force_row_wise=true` to remove the overhead.\n",
      "And if memory is not enough, you can set `force_col_wise=true`.\n",
      "[LightGBM] [Info] Total Bins 3630\n",
      "[LightGBM] [Info] Number of data points in the train set: 225000, number of used features: 24\n",
      "[LightGBM] [Info] Start training from score 8.241032\n",
      "[100]\tvalid_0's rmse: 0.732758\n",
      "[200]\tvalid_0's rmse: 0.728724\n",
      "[300]\tvalid_0's rmse: 0.726404\n",
      "[400]\tvalid_0's rmse: 0.725122\n",
      "[500]\tvalid_0's rmse: 0.724419\n",
      "[600]\tvalid_0's rmse: 0.723837\n",
      "[700]\tvalid_0's rmse: 0.72352\n",
      "[800]\tvalid_0's rmse: 0.723305\n",
      "[900]\tvalid_0's rmse: 0.723124\n"
     ]
    },
    {
     "name": "stderr",
     "output_type": "stream",
     "text": [
      "regularization_factors, val_score: 0.722998:  10%|#         | 2/20 [00:14<02:14,  7.49s/it]\u001b[32m[I 2021-08-24 13:41:48,097]\u001b[0m Trial 41 finished with value: 0.7229981116036344 and parameters: {'lambda_l1': 4.714112744109665, 'lambda_l2': 0.0004224427096125835}. Best is trial 41 with value: 0.7229981116036344.\u001b[0m\n",
      "regularization_factors, val_score: 0.722998:  10%|#         | 2/20 [00:14<02:14,  7.49s/it]"
     ]
    },
    {
     "name": "stdout",
     "output_type": "stream",
     "text": [
      "[1000]\tvalid_0's rmse: 0.722998\n",
      "[LightGBM] [Warning] Auto-choosing row-wise multi-threading, the overhead of testing was 0.010931 seconds.\n",
      "You can set `force_row_wise=true` to remove the overhead.\n",
      "And if memory is not enough, you can set `force_col_wise=true`.\n",
      "[LightGBM] [Info] Total Bins 3630\n",
      "[LightGBM] [Info] Number of data points in the train set: 225000, number of used features: 24\n",
      "[LightGBM] [Info] Start training from score 8.241032\n",
      "[100]\tvalid_0's rmse: 0.732846\n",
      "[200]\tvalid_0's rmse: 0.728973\n",
      "[300]\tvalid_0's rmse: 0.72662\n",
      "[400]\tvalid_0's rmse: 0.725436\n",
      "[500]\tvalid_0's rmse: 0.724615\n",
      "[600]\tvalid_0's rmse: 0.724053\n",
      "[700]\tvalid_0's rmse: 0.723703\n",
      "[800]\tvalid_0's rmse: 0.723348\n",
      "[900]\tvalid_0's rmse: 0.723201\n"
     ]
    },
    {
     "name": "stderr",
     "output_type": "stream",
     "text": [
      "regularization_factors, val_score: 0.722998:  15%|#5        | 3/20 [00:22<02:05,  7.40s/it]\u001b[32m[I 2021-08-24 13:41:55,385]\u001b[0m Trial 42 finished with value: 0.7230192037995922 and parameters: {'lambda_l1': 9.56333617618303e-06, 'lambda_l2': 1.083995256882787e-06}. Best is trial 41 with value: 0.7229981116036344.\u001b[0m\n",
      "regularization_factors, val_score: 0.722998:  15%|#5        | 3/20 [00:22<02:05,  7.40s/it]"
     ]
    },
    {
     "name": "stdout",
     "output_type": "stream",
     "text": [
      "[1000]\tvalid_0's rmse: 0.723019\n",
      "[LightGBM] [Warning] Auto-choosing row-wise multi-threading, the overhead of testing was 0.008398 seconds.\n",
      "You can set `force_row_wise=true` to remove the overhead.\n",
      "And if memory is not enough, you can set `force_col_wise=true`.\n",
      "[LightGBM] [Info] Total Bins 3630\n",
      "[LightGBM] [Info] Number of data points in the train set: 225000, number of used features: 24\n",
      "[LightGBM] [Info] Start training from score 8.241032\n",
      "[100]\tvalid_0's rmse: 0.732846\n",
      "[200]\tvalid_0's rmse: 0.728973\n",
      "[300]\tvalid_0's rmse: 0.72662\n",
      "[400]\tvalid_0's rmse: 0.725436\n",
      "[500]\tvalid_0's rmse: 0.724615\n",
      "[600]\tvalid_0's rmse: 0.724053\n",
      "[700]\tvalid_0's rmse: 0.723703\n",
      "[800]\tvalid_0's rmse: 0.723348\n",
      "[900]\tvalid_0's rmse: 0.723201\n"
     ]
    },
    {
     "name": "stderr",
     "output_type": "stream",
     "text": [
      "regularization_factors, val_score: 0.722998:  20%|##        | 4/20 [00:28<01:53,  7.08s/it]\u001b[32m[I 2021-08-24 13:42:01,990]\u001b[0m Trial 43 finished with value: 0.7230191984176352 and parameters: {'lambda_l1': 0.0003854557319514541, 'lambda_l2': 7.94806570725951e-05}. Best is trial 41 with value: 0.7229981116036344.\u001b[0m\n",
      "regularization_factors, val_score: 0.722998:  20%|##        | 4/20 [00:28<01:53,  7.08s/it]"
     ]
    },
    {
     "name": "stdout",
     "output_type": "stream",
     "text": [
      "[1000]\tvalid_0's rmse: 0.723019\n",
      "[LightGBM] [Warning] Auto-choosing row-wise multi-threading, the overhead of testing was 0.008726 seconds.\n",
      "You can set `force_row_wise=true` to remove the overhead.\n",
      "And if memory is not enough, you can set `force_col_wise=true`.\n",
      "[LightGBM] [Info] Total Bins 3630\n",
      "[LightGBM] [Info] Number of data points in the train set: 225000, number of used features: 24\n",
      "[LightGBM] [Info] Start training from score 8.241032\n",
      "[100]\tvalid_0's rmse: 0.732846\n",
      "[200]\tvalid_0's rmse: 0.728973\n",
      "[300]\tvalid_0's rmse: 0.72662\n",
      "[400]\tvalid_0's rmse: 0.725436\n",
      "[500]\tvalid_0's rmse: 0.724615\n",
      "[600]\tvalid_0's rmse: 0.724053\n",
      "[700]\tvalid_0's rmse: 0.723703\n",
      "[800]\tvalid_0's rmse: 0.723348\n",
      "[900]\tvalid_0's rmse: 0.723201\n"
     ]
    },
    {
     "name": "stderr",
     "output_type": "stream",
     "text": [
      "regularization_factors, val_score: 0.722998:  25%|##5       | 5/20 [00:35<01:45,  7.01s/it]\u001b[32m[I 2021-08-24 13:42:08,864]\u001b[0m Trial 44 finished with value: 0.7230192038294165 and parameters: {'lambda_l1': 1.4070597782703183e-06, 'lambda_l2': 1.3282819042895183e-05}. Best is trial 41 with value: 0.7229981116036344.\u001b[0m\n",
      "regularization_factors, val_score: 0.722998:  25%|##5       | 5/20 [00:35<01:45,  7.01s/it]"
     ]
    },
    {
     "name": "stdout",
     "output_type": "stream",
     "text": [
      "[1000]\tvalid_0's rmse: 0.723019\n",
      "[LightGBM] [Warning] Auto-choosing row-wise multi-threading, the overhead of testing was 0.008275 seconds.\n",
      "You can set `force_row_wise=true` to remove the overhead.\n",
      "And if memory is not enough, you can set `force_col_wise=true`.\n",
      "[LightGBM] [Info] Total Bins 3630\n",
      "[LightGBM] [Info] Number of data points in the train set: 225000, number of used features: 24\n",
      "[LightGBM] [Info] Start training from score 8.241032\n",
      "[100]\tvalid_0's rmse: 0.732846\n",
      "[200]\tvalid_0's rmse: 0.728973\n",
      "[300]\tvalid_0's rmse: 0.72662\n",
      "[400]\tvalid_0's rmse: 0.725436\n",
      "[500]\tvalid_0's rmse: 0.724615\n",
      "[600]\tvalid_0's rmse: 0.724053\n",
      "[700]\tvalid_0's rmse: 0.723703\n",
      "[800]\tvalid_0's rmse: 0.723348\n",
      "[900]\tvalid_0's rmse: 0.723201\n"
     ]
    },
    {
     "name": "stderr",
     "output_type": "stream",
     "text": [
      "regularization_factors, val_score: 0.722998:  30%|###       | 6/20 [00:42<01:37,  6.98s/it]\u001b[32m[I 2021-08-24 13:42:15,800]\u001b[0m Trial 45 finished with value: 0.7230192013772216 and parameters: {'lambda_l1': 0.00016375384494911213, 'lambda_l2': 6.830372014224499e-05}. Best is trial 41 with value: 0.7229981116036344.\u001b[0m\n",
      "regularization_factors, val_score: 0.722998:  30%|###       | 6/20 [00:42<01:37,  6.98s/it]"
     ]
    },
    {
     "name": "stdout",
     "output_type": "stream",
     "text": [
      "[1000]\tvalid_0's rmse: 0.723019\n",
      "[LightGBM] [Warning] Auto-choosing row-wise multi-threading, the overhead of testing was 0.010666 seconds.\n",
      "You can set `force_row_wise=true` to remove the overhead.\n",
      "And if memory is not enough, you can set `force_col_wise=true`.\n",
      "[LightGBM] [Info] Total Bins 3630\n",
      "[LightGBM] [Info] Number of data points in the train set: 225000, number of used features: 24\n",
      "[LightGBM] [Info] Start training from score 8.241032\n",
      "[100]\tvalid_0's rmse: 0.732846\n",
      "[200]\tvalid_0's rmse: 0.728973\n",
      "[300]\tvalid_0's rmse: 0.72662\n",
      "[400]\tvalid_0's rmse: 0.725436\n",
      "[500]\tvalid_0's rmse: 0.724615\n",
      "[600]\tvalid_0's rmse: 0.724053\n",
      "[700]\tvalid_0's rmse: 0.723703\n",
      "[800]\tvalid_0's rmse: 0.723348\n",
      "[900]\tvalid_0's rmse: 0.723201\n"
     ]
    },
    {
     "name": "stderr",
     "output_type": "stream",
     "text": [
      "regularization_factors, val_score: 0.722998:  35%|###5      | 7/20 [00:48<01:27,  6.72s/it]\u001b[32m[I 2021-08-24 13:42:21,990]\u001b[0m Trial 46 finished with value: 0.7230192039294581 and parameters: {'lambda_l1': 2.754171089400888e-08, 'lambda_l2': 1.9195628448276415e-07}. Best is trial 41 with value: 0.7229981116036344.\u001b[0m\n",
      "regularization_factors, val_score: 0.722998:  35%|###5      | 7/20 [00:48<01:27,  6.72s/it]"
     ]
    },
    {
     "name": "stdout",
     "output_type": "stream",
     "text": [
      "[1000]\tvalid_0's rmse: 0.723019\n",
      "[LightGBM] [Warning] Auto-choosing row-wise multi-threading, the overhead of testing was 0.007761 seconds.\n",
      "You can set `force_row_wise=true` to remove the overhead.\n",
      "And if memory is not enough, you can set `force_col_wise=true`.\n",
      "[LightGBM] [Info] Total Bins 3630\n",
      "[LightGBM] [Info] Number of data points in the train set: 225000, number of used features: 24\n",
      "[LightGBM] [Info] Start training from score 8.241032\n",
      "[100]\tvalid_0's rmse: 0.732847\n",
      "[200]\tvalid_0's rmse: 0.728996\n",
      "[300]\tvalid_0's rmse: 0.726514\n",
      "[400]\tvalid_0's rmse: 0.725394\n",
      "[500]\tvalid_0's rmse: 0.724709\n",
      "[600]\tvalid_0's rmse: 0.724199\n",
      "[700]\tvalid_0's rmse: 0.723881\n",
      "[800]\tvalid_0's rmse: 0.723621\n",
      "[900]\tvalid_0's rmse: 0.723398\n"
     ]
    },
    {
     "name": "stderr",
     "output_type": "stream",
     "text": [
      "regularization_factors, val_score: 0.722998:  40%|####      | 8/20 [00:55<01:20,  6.71s/it]\u001b[32m[I 2021-08-24 13:42:28,657]\u001b[0m Trial 47 finished with value: 0.7232617462873221 and parameters: {'lambda_l1': 0.08583072842540855, 'lambda_l2': 1.7008544011453552e-07}. Best is trial 41 with value: 0.7229981116036344.\u001b[0m\n",
      "regularization_factors, val_score: 0.722998:  40%|####      | 8/20 [00:55<01:20,  6.71s/it]"
     ]
    },
    {
     "name": "stdout",
     "output_type": "stream",
     "text": [
      "[1000]\tvalid_0's rmse: 0.723262\n",
      "[LightGBM] [Warning] Auto-choosing row-wise multi-threading, the overhead of testing was 0.008096 seconds.\n",
      "You can set `force_row_wise=true` to remove the overhead.\n",
      "And if memory is not enough, you can set `force_col_wise=true`.\n",
      "[LightGBM] [Info] Total Bins 3630\n",
      "[LightGBM] [Info] Number of data points in the train set: 225000, number of used features: 24\n",
      "[LightGBM] [Info] Start training from score 8.241032\n",
      "[100]\tvalid_0's rmse: 0.732846\n",
      "[200]\tvalid_0's rmse: 0.728882\n",
      "[300]\tvalid_0's rmse: 0.726486\n",
      "[400]\tvalid_0's rmse: 0.725247\n",
      "[500]\tvalid_0's rmse: 0.724432\n",
      "[600]\tvalid_0's rmse: 0.723963\n",
      "[700]\tvalid_0's rmse: 0.723679\n",
      "[800]\tvalid_0's rmse: 0.723368\n",
      "[900]\tvalid_0's rmse: 0.7231\n"
     ]
    },
    {
     "name": "stderr",
     "output_type": "stream",
     "text": [
      "regularization_factors, val_score: 0.722931:  45%|####5     | 9/20 [01:02<01:15,  6.86s/it]\u001b[32m[I 2021-08-24 13:42:35,855]\u001b[0m Trial 48 finished with value: 0.7229308228856656 and parameters: {'lambda_l1': 0.05315384578031226, 'lambda_l2': 1.1732473931143711e-05}. Best is trial 48 with value: 0.7229308228856656.\u001b[0m\n",
      "regularization_factors, val_score: 0.722931:  45%|####5     | 9/20 [01:02<01:15,  6.86s/it]"
     ]
    },
    {
     "name": "stdout",
     "output_type": "stream",
     "text": [
      "[1000]\tvalid_0's rmse: 0.722931\n",
      "[LightGBM] [Warning] Auto-choosing row-wise multi-threading, the overhead of testing was 0.010911 seconds.\n",
      "You can set `force_row_wise=true` to remove the overhead.\n",
      "And if memory is not enough, you can set `force_col_wise=true`.\n",
      "[LightGBM] [Info] Total Bins 3630\n",
      "[LightGBM] [Info] Number of data points in the train set: 225000, number of used features: 24\n",
      "[LightGBM] [Info] Start training from score 8.241032\n",
      "[100]\tvalid_0's rmse: 0.732846\n",
      "[200]\tvalid_0's rmse: 0.728973\n",
      "[300]\tvalid_0's rmse: 0.72662\n",
      "[400]\tvalid_0's rmse: 0.725436\n",
      "[500]\tvalid_0's rmse: 0.724615\n",
      "[600]\tvalid_0's rmse: 0.724053\n",
      "[700]\tvalid_0's rmse: 0.723703\n",
      "[800]\tvalid_0's rmse: 0.723334\n",
      "[900]\tvalid_0's rmse: 0.72318\n"
     ]
    },
    {
     "name": "stderr",
     "output_type": "stream",
     "text": [
      "regularization_factors, val_score: 0.722931:  50%|#####     | 10/20 [01:10<01:11,  7.10s/it]\u001b[32m[I 2021-08-24 13:42:43,509]\u001b[0m Trial 49 finished with value: 0.7229720211731694 and parameters: {'lambda_l1': 0.0005491270069511452, 'lambda_l2': 1.6236881619236443e-06}. Best is trial 48 with value: 0.7229308228856656.\u001b[0m\n",
      "regularization_factors, val_score: 0.722931:  50%|#####     | 10/20 [01:10<01:11,  7.10s/it]"
     ]
    },
    {
     "name": "stdout",
     "output_type": "stream",
     "text": [
      "[1000]\tvalid_0's rmse: 0.722972\n",
      "[LightGBM] [Warning] Auto-choosing row-wise multi-threading, the overhead of testing was 0.011347 seconds.\n",
      "You can set `force_row_wise=true` to remove the overhead.\n",
      "And if memory is not enough, you can set `force_col_wise=true`.\n",
      "[LightGBM] [Info] Total Bins 3630\n",
      "[LightGBM] [Info] Number of data points in the train set: 225000, number of used features: 24\n",
      "[LightGBM] [Info] Start training from score 8.241032\n",
      "[100]\tvalid_0's rmse: 0.732681\n",
      "[200]\tvalid_0's rmse: 0.728739\n",
      "[300]\tvalid_0's rmse: 0.726516\n",
      "[400]\tvalid_0's rmse: 0.725281\n",
      "[500]\tvalid_0's rmse: 0.724574\n",
      "[600]\tvalid_0's rmse: 0.724051\n",
      "[700]\tvalid_0's rmse: 0.723723\n",
      "[800]\tvalid_0's rmse: 0.723436\n",
      "[900]\tvalid_0's rmse: 0.723242\n"
     ]
    },
    {
     "name": "stderr",
     "output_type": "stream",
     "text": [
      "regularization_factors, val_score: 0.722931:  55%|#####5    | 11/20 [01:17<01:04,  7.20s/it]\u001b[32m[I 2021-08-24 13:42:50,916]\u001b[0m Trial 50 finished with value: 0.7231181193028619 and parameters: {'lambda_l1': 0.25826002486813465, 'lambda_l2': 0.3851331558863968}. Best is trial 48 with value: 0.7229308228856656.\u001b[0m\n",
      "regularization_factors, val_score: 0.722931:  55%|#####5    | 11/20 [01:17<01:04,  7.20s/it]"
     ]
    },
    {
     "name": "stdout",
     "output_type": "stream",
     "text": [
      "[1000]\tvalid_0's rmse: 0.723118\n",
      "[LightGBM] [Warning] Auto-choosing row-wise multi-threading, the overhead of testing was 0.008244 seconds.\n",
      "You can set `force_row_wise=true` to remove the overhead.\n",
      "And if memory is not enough, you can set `force_col_wise=true`.\n",
      "[LightGBM] [Info] Total Bins 3630\n",
      "[LightGBM] [Info] Number of data points in the train set: 225000, number of used features: 24\n",
      "[LightGBM] [Info] Start training from score 8.241032\n",
      "[100]\tvalid_0's rmse: 0.732846\n",
      "[200]\tvalid_0's rmse: 0.728973\n",
      "[300]\tvalid_0's rmse: 0.72662\n",
      "[400]\tvalid_0's rmse: 0.725436\n",
      "[500]\tvalid_0's rmse: 0.724678\n",
      "[600]\tvalid_0's rmse: 0.724055\n",
      "[700]\tvalid_0's rmse: 0.723772\n",
      "[800]\tvalid_0's rmse: 0.723461\n",
      "[900]\tvalid_0's rmse: 0.723281\n"
     ]
    },
    {
     "name": "stderr",
     "output_type": "stream",
     "text": [
      "regularization_factors, val_score: 0.722931:  60%|######    | 12/20 [01:25<00:59,  7.47s/it]\u001b[32m[I 2021-08-24 13:42:59,019]\u001b[0m Trial 51 finished with value: 0.7231239127411453 and parameters: {'lambda_l1': 0.00530800187241872, 'lambda_l2': 0.005587714252955105}. Best is trial 48 with value: 0.7229308228856656.\u001b[0m\n",
      "regularization_factors, val_score: 0.722931:  60%|######    | 12/20 [01:25<00:59,  7.47s/it]"
     ]
    },
    {
     "name": "stdout",
     "output_type": "stream",
     "text": [
      "[1000]\tvalid_0's rmse: 0.723124\n",
      "[LightGBM] [Warning] Auto-choosing row-wise multi-threading, the overhead of testing was 0.010972 seconds.\n",
      "You can set `force_row_wise=true` to remove the overhead.\n",
      "And if memory is not enough, you can set `force_col_wise=true`.\n",
      "[LightGBM] [Info] Total Bins 3630\n",
      "[LightGBM] [Info] Number of data points in the train set: 225000, number of used features: 24\n",
      "[LightGBM] [Info] Start training from score 8.241032\n",
      "[100]\tvalid_0's rmse: 0.732846\n",
      "[200]\tvalid_0's rmse: 0.728973\n",
      "[300]\tvalid_0's rmse: 0.726621\n",
      "[400]\tvalid_0's rmse: 0.725436\n",
      "[500]\tvalid_0's rmse: 0.724678\n",
      "[600]\tvalid_0's rmse: 0.724055\n",
      "[700]\tvalid_0's rmse: 0.723762\n",
      "[800]\tvalid_0's rmse: 0.72347\n",
      "[900]\tvalid_0's rmse: 0.723242\n"
     ]
    },
    {
     "name": "stderr",
     "output_type": "stream",
     "text": [
      "regularization_factors, val_score: 0.722931:  65%|######5   | 13/20 [01:33<00:52,  7.53s/it]\u001b[32m[I 2021-08-24 13:43:06,688]\u001b[0m Trial 52 finished with value: 0.7231094080006167 and parameters: {'lambda_l1': 0.008170728896140707, 'lambda_l2': 3.005876582429197e-06}. Best is trial 48 with value: 0.7229308228856656.\u001b[0m\n",
      "regularization_factors, val_score: 0.722931:  65%|######5   | 13/20 [01:33<00:52,  7.53s/it]"
     ]
    },
    {
     "name": "stdout",
     "output_type": "stream",
     "text": [
      "[1000]\tvalid_0's rmse: 0.723109\n",
      "[LightGBM] [Warning] Auto-choosing row-wise multi-threading, the overhead of testing was 0.007323 seconds.\n",
      "You can set `force_row_wise=true` to remove the overhead.\n",
      "And if memory is not enough, you can set `force_col_wise=true`.\n",
      "[LightGBM] [Info] Total Bins 3630\n",
      "[LightGBM] [Info] Number of data points in the train set: 225000, number of used features: 24\n",
      "[LightGBM] [Info] Start training from score 8.241032\n",
      "[100]\tvalid_0's rmse: 0.732696\n",
      "[200]\tvalid_0's rmse: 0.728671\n",
      "[300]\tvalid_0's rmse: 0.726218\n",
      "[400]\tvalid_0's rmse: 0.724913\n",
      "[500]\tvalid_0's rmse: 0.724168\n",
      "[600]\tvalid_0's rmse: 0.723592\n",
      "[700]\tvalid_0's rmse: 0.723273\n",
      "[800]\tvalid_0's rmse: 0.722984\n",
      "[900]\tvalid_0's rmse: 0.722754\n"
     ]
    },
    {
     "name": "stderr",
     "output_type": "stream",
     "text": [
      "regularization_factors, val_score: 0.722609:  70%|#######   | 14/20 [01:40<00:44,  7.48s/it]\u001b[32m[I 2021-08-24 13:43:14,056]\u001b[0m Trial 53 finished with value: 0.7226088944787211 and parameters: {'lambda_l1': 8.688580333916462, 'lambda_l2': 0.0036657999871257717}. Best is trial 53 with value: 0.7226088944787211.\u001b[0m\n",
      "regularization_factors, val_score: 0.722609:  70%|#######   | 14/20 [01:40<00:44,  7.48s/it]"
     ]
    },
    {
     "name": "stdout",
     "output_type": "stream",
     "text": [
      "[1000]\tvalid_0's rmse: 0.722609\n",
      "[LightGBM] [Warning] Auto-choosing row-wise multi-threading, the overhead of testing was 0.008076 seconds.\n",
      "You can set `force_row_wise=true` to remove the overhead.\n",
      "And if memory is not enough, you can set `force_col_wise=true`.\n",
      "[LightGBM] [Info] Total Bins 3630\n",
      "[LightGBM] [Info] Number of data points in the train set: 225000, number of used features: 24\n",
      "[LightGBM] [Info] Start training from score 8.241032\n",
      "[100]\tvalid_0's rmse: 0.732853\n",
      "[200]\tvalid_0's rmse: 0.728585\n",
      "[300]\tvalid_0's rmse: 0.726305\n",
      "[400]\tvalid_0's rmse: 0.725082\n",
      "[500]\tvalid_0's rmse: 0.724262\n",
      "[600]\tvalid_0's rmse: 0.723669\n",
      "[700]\tvalid_0's rmse: 0.723349\n",
      "[800]\tvalid_0's rmse: 0.723113\n",
      "[900]\tvalid_0's rmse: 0.722914\n"
     ]
    },
    {
     "name": "stderr",
     "output_type": "stream",
     "text": [
      "regularization_factors, val_score: 0.722609:  75%|#######5  | 15/20 [01:47<00:36,  7.36s/it]\u001b[32m[I 2021-08-24 13:43:21,130]\u001b[0m Trial 54 finished with value: 0.7227762091097428 and parameters: {'lambda_l1': 6.466976254790939, 'lambda_l2': 0.022886288642445764}. Best is trial 53 with value: 0.7226088944787211.\u001b[0m\n",
      "regularization_factors, val_score: 0.722609:  75%|#######5  | 15/20 [01:47<00:36,  7.36s/it]"
     ]
    },
    {
     "name": "stdout",
     "output_type": "stream",
     "text": [
      "[1000]\tvalid_0's rmse: 0.722776\n",
      "[LightGBM] [Warning] Auto-choosing row-wise multi-threading, the overhead of testing was 0.005952 seconds.\n",
      "You can set `force_row_wise=true` to remove the overhead.\n",
      "And if memory is not enough, you can set `force_col_wise=true`.\n",
      "[LightGBM] [Info] Total Bins 3630\n",
      "[LightGBM] [Info] Number of data points in the train set: 225000, number of used features: 24\n",
      "[LightGBM] [Info] Start training from score 8.241032\n",
      "[100]\tvalid_0's rmse: 0.732859\n",
      "[200]\tvalid_0's rmse: 0.728736\n",
      "[300]\tvalid_0's rmse: 0.726294\n",
      "[400]\tvalid_0's rmse: 0.725044\n",
      "[500]\tvalid_0's rmse: 0.724165\n",
      "[600]\tvalid_0's rmse: 0.723632\n",
      "[700]\tvalid_0's rmse: 0.723246\n",
      "[800]\tvalid_0's rmse: 0.722889\n",
      "[900]\tvalid_0's rmse: 0.722667\n"
     ]
    },
    {
     "name": "stderr",
     "output_type": "stream",
     "text": [
      "regularization_factors, val_score: 0.722492:  80%|########  | 16/20 [01:54<00:29,  7.30s/it]\u001b[32m[I 2021-08-24 13:43:28,292]\u001b[0m Trial 55 finished with value: 0.7224918017888323 and parameters: {'lambda_l1': 9.646417268487799, 'lambda_l2': 0.4896473762177135}. Best is trial 55 with value: 0.7224918017888323.\u001b[0m\n",
      "regularization_factors, val_score: 0.722492:  80%|########  | 16/20 [01:54<00:29,  7.30s/it]"
     ]
    },
    {
     "name": "stdout",
     "output_type": "stream",
     "text": [
      "[1000]\tvalid_0's rmse: 0.722492\n",
      "[LightGBM] [Warning] Auto-choosing row-wise multi-threading, the overhead of testing was 0.008118 seconds.\n",
      "You can set `force_row_wise=true` to remove the overhead.\n",
      "And if memory is not enough, you can set `force_col_wise=true`.\n",
      "[LightGBM] [Info] Total Bins 3630\n",
      "[LightGBM] [Info] Number of data points in the train set: 225000, number of used features: 24\n",
      "[LightGBM] [Info] Start training from score 8.241032\n",
      "[100]\tvalid_0's rmse: 0.732698\n",
      "[200]\tvalid_0's rmse: 0.728657\n",
      "[300]\tvalid_0's rmse: 0.726324\n",
      "[400]\tvalid_0's rmse: 0.724993\n",
      "[500]\tvalid_0's rmse: 0.724273\n",
      "[600]\tvalid_0's rmse: 0.723651\n",
      "[700]\tvalid_0's rmse: 0.723292\n",
      "[800]\tvalid_0's rmse: 0.723044\n",
      "[900]\tvalid_0's rmse: 0.722791\n"
     ]
    },
    {
     "name": "stderr",
     "output_type": "stream",
     "text": [
      "regularization_factors, val_score: 0.722492:  85%|########5 | 17/20 [02:02<00:21,  7.30s/it]\u001b[32m[I 2021-08-24 13:43:35,600]\u001b[0m Trial 56 finished with value: 0.7226099482173222 and parameters: {'lambda_l1': 8.573827712333827, 'lambda_l2': 5.1879990653576415}. Best is trial 55 with value: 0.7224918017888323.\u001b[0m\n",
      "regularization_factors, val_score: 0.722492:  85%|########5 | 17/20 [02:02<00:21,  7.30s/it]"
     ]
    },
    {
     "name": "stdout",
     "output_type": "stream",
     "text": [
      "[1000]\tvalid_0's rmse: 0.72261\n",
      "[LightGBM] [Warning] Auto-choosing row-wise multi-threading, the overhead of testing was 0.009493 seconds.\n",
      "You can set `force_row_wise=true` to remove the overhead.\n",
      "And if memory is not enough, you can set `force_col_wise=true`.\n",
      "[LightGBM] [Info] Total Bins 3630\n",
      "[LightGBM] [Info] Number of data points in the train set: 225000, number of used features: 24\n",
      "[LightGBM] [Info] Start training from score 8.241032\n",
      "[100]\tvalid_0's rmse: 0.732571\n",
      "[200]\tvalid_0's rmse: 0.728627\n",
      "[300]\tvalid_0's rmse: 0.726188\n",
      "[400]\tvalid_0's rmse: 0.72505\n",
      "[500]\tvalid_0's rmse: 0.724326\n",
      "[600]\tvalid_0's rmse: 0.72374\n",
      "[700]\tvalid_0's rmse: 0.723431\n",
      "[800]\tvalid_0's rmse: 0.723162\n",
      "[900]\tvalid_0's rmse: 0.722916\n"
     ]
    },
    {
     "name": "stderr",
     "output_type": "stream",
     "text": [
      "regularization_factors, val_score: 0.722492:  90%|######### | 18/20 [02:09<00:14,  7.22s/it]\u001b[32m[I 2021-08-24 13:43:42,634]\u001b[0m Trial 57 finished with value: 0.7228149141969791 and parameters: {'lambda_l1': 0.8634155981180238, 'lambda_l2': 6.269058621328899}. Best is trial 55 with value: 0.7224918017888323.\u001b[0m\n",
      "regularization_factors, val_score: 0.722492:  90%|######### | 18/20 [02:09<00:14,  7.22s/it]"
     ]
    },
    {
     "name": "stdout",
     "output_type": "stream",
     "text": [
      "[1000]\tvalid_0's rmse: 0.722815\n",
      "[LightGBM] [Warning] Auto-choosing row-wise multi-threading, the overhead of testing was 0.008992 seconds.\n",
      "You can set `force_row_wise=true` to remove the overhead.\n",
      "And if memory is not enough, you can set `force_col_wise=true`.\n",
      "[LightGBM] [Info] Total Bins 3630\n",
      "[LightGBM] [Info] Number of data points in the train set: 225000, number of used features: 24\n",
      "[LightGBM] [Info] Start training from score 8.241032\n",
      "[100]\tvalid_0's rmse: 0.732911\n",
      "[200]\tvalid_0's rmse: 0.728811\n",
      "[300]\tvalid_0's rmse: 0.726465\n",
      "[400]\tvalid_0's rmse: 0.725293\n",
      "[500]\tvalid_0's rmse: 0.724464\n",
      "[600]\tvalid_0's rmse: 0.723897\n",
      "[700]\tvalid_0's rmse: 0.723606\n",
      "[800]\tvalid_0's rmse: 0.723301\n",
      "[900]\tvalid_0's rmse: 0.723064\n"
     ]
    },
    {
     "name": "stderr",
     "output_type": "stream",
     "text": [
      "regularization_factors, val_score: 0.722492:  95%|#########5| 19/20 [02:16<00:07,  7.29s/it]\u001b[32m[I 2021-08-24 13:43:50,087]\u001b[0m Trial 58 finished with value: 0.7229387270238397 and parameters: {'lambda_l1': 0.5350883070689514, 'lambda_l2': 0.2385591364557781}. Best is trial 55 with value: 0.7224918017888323.\u001b[0m\n",
      "regularization_factors, val_score: 0.722492:  95%|#########5| 19/20 [02:16<00:07,  7.29s/it]"
     ]
    },
    {
     "name": "stdout",
     "output_type": "stream",
     "text": [
      "[1000]\tvalid_0's rmse: 0.722939\n",
      "[LightGBM] [Warning] Auto-choosing row-wise multi-threading, the overhead of testing was 0.009073 seconds.\n",
      "You can set `force_row_wise=true` to remove the overhead.\n",
      "And if memory is not enough, you can set `force_col_wise=true`.\n",
      "[LightGBM] [Info] Total Bins 3630\n",
      "[LightGBM] [Info] Number of data points in the train set: 225000, number of used features: 24\n",
      "[LightGBM] [Info] Start training from score 8.241032\n",
      "[100]\tvalid_0's rmse: 0.732767\n",
      "[200]\tvalid_0's rmse: 0.728737\n",
      "[300]\tvalid_0's rmse: 0.726236\n",
      "[400]\tvalid_0's rmse: 0.725024\n",
      "[500]\tvalid_0's rmse: 0.724395\n",
      "[600]\tvalid_0's rmse: 0.7238\n",
      "[700]\tvalid_0's rmse: 0.723451\n",
      "[800]\tvalid_0's rmse: 0.723177\n",
      "[900]\tvalid_0's rmse: 0.722923\n"
     ]
    },
    {
     "name": "stderr",
     "output_type": "stream",
     "text": [
      "regularization_factors, val_score: 0.722492: 100%|##########| 20/20 [02:24<00:00,  7.39s/it]\u001b[32m[I 2021-08-24 13:43:57,702]\u001b[0m Trial 59 finished with value: 0.7227137445075092 and parameters: {'lambda_l1': 7.842464894839414, 'lambda_l2': 0.004901354151692391}. Best is trial 55 with value: 0.7224918017888323.\u001b[0m\n",
      "regularization_factors, val_score: 0.722492: 100%|##########| 20/20 [02:24<00:00,  7.22s/it]\n",
      "min_data_in_leaf, val_score: 0.722492:   0%|          | 0/5 [00:00<?, ?it/s]"
     ]
    },
    {
     "name": "stdout",
     "output_type": "stream",
     "text": [
      "[1000]\tvalid_0's rmse: 0.722714\n",
      "[LightGBM] [Warning] Auto-choosing row-wise multi-threading, the overhead of testing was 0.008695 seconds.\n",
      "You can set `force_row_wise=true` to remove the overhead.\n",
      "And if memory is not enough, you can set `force_col_wise=true`.\n",
      "[LightGBM] [Info] Total Bins 3630\n",
      "[LightGBM] [Info] Number of data points in the train set: 225000, number of used features: 24\n",
      "[LightGBM] [Info] Start training from score 8.241032\n",
      "[100]\tvalid_0's rmse: 0.732859\n",
      "[200]\tvalid_0's rmse: 0.728736\n",
      "[300]\tvalid_0's rmse: 0.726294\n",
      "[400]\tvalid_0's rmse: 0.725044\n",
      "[500]\tvalid_0's rmse: 0.724211\n",
      "[600]\tvalid_0's rmse: 0.723565\n",
      "[700]\tvalid_0's rmse: 0.723197\n",
      "[800]\tvalid_0's rmse: 0.72299\n",
      "[900]\tvalid_0's rmse: 0.722768\n"
     ]
    },
    {
     "name": "stderr",
     "output_type": "stream",
     "text": [
      "min_data_in_leaf, val_score: 0.722492:  20%|##        | 1/5 [00:07<00:29,  7.44s/it]\u001b[32m[I 2021-08-24 13:44:05,145]\u001b[0m Trial 60 finished with value: 0.7225655075087148 and parameters: {'min_child_samples': 5}. Best is trial 60 with value: 0.7225655075087148.\u001b[0m\n",
      "min_data_in_leaf, val_score: 0.722492:  20%|##        | 1/5 [00:07<00:29,  7.44s/it]"
     ]
    },
    {
     "name": "stdout",
     "output_type": "stream",
     "text": [
      "[1000]\tvalid_0's rmse: 0.722566\n",
      "[LightGBM] [Warning] Auto-choosing row-wise multi-threading, the overhead of testing was 0.009902 seconds.\n",
      "You can set `force_row_wise=true` to remove the overhead.\n",
      "And if memory is not enough, you can set `force_col_wise=true`.\n",
      "[LightGBM] [Info] Total Bins 3630\n",
      "[LightGBM] [Info] Number of data points in the train set: 225000, number of used features: 24\n",
      "[LightGBM] [Info] Start training from score 8.241032\n",
      "[100]\tvalid_0's rmse: 0.732859\n",
      "[200]\tvalid_0's rmse: 0.728736\n",
      "[300]\tvalid_0's rmse: 0.726294\n",
      "[400]\tvalid_0's rmse: 0.725044\n",
      "[500]\tvalid_0's rmse: 0.724196\n",
      "[600]\tvalid_0's rmse: 0.72358\n",
      "[700]\tvalid_0's rmse: 0.723265\n",
      "[800]\tvalid_0's rmse: 0.723014\n",
      "[900]\tvalid_0's rmse: 0.722726\n"
     ]
    },
    {
     "name": "stderr",
     "output_type": "stream",
     "text": [
      "min_data_in_leaf, val_score: 0.722492:  40%|####      | 2/5 [00:14<00:22,  7.36s/it]\u001b[32m[I 2021-08-24 13:44:12,457]\u001b[0m Trial 61 finished with value: 0.72261677006078 and parameters: {'min_child_samples': 10}. Best is trial 60 with value: 0.7225655075087148.\u001b[0m\n",
      "min_data_in_leaf, val_score: 0.722492:  40%|####      | 2/5 [00:14<00:22,  7.36s/it]"
     ]
    },
    {
     "name": "stdout",
     "output_type": "stream",
     "text": [
      "[1000]\tvalid_0's rmse: 0.722617\n",
      "[LightGBM] [Warning] Auto-choosing row-wise multi-threading, the overhead of testing was 0.007276 seconds.\n",
      "You can set `force_row_wise=true` to remove the overhead.\n",
      "And if memory is not enough, you can set `force_col_wise=true`.\n",
      "[LightGBM] [Info] Total Bins 3630\n",
      "[LightGBM] [Info] Number of data points in the train set: 225000, number of used features: 24\n",
      "[LightGBM] [Info] Start training from score 8.241032\n",
      "[100]\tvalid_0's rmse: 0.732859\n",
      "[200]\tvalid_0's rmse: 0.728736\n",
      "[300]\tvalid_0's rmse: 0.726294\n",
      "[400]\tvalid_0's rmse: 0.724986\n",
      "[500]\tvalid_0's rmse: 0.724194\n",
      "[600]\tvalid_0's rmse: 0.723551\n",
      "[700]\tvalid_0's rmse: 0.723183\n",
      "[800]\tvalid_0's rmse: 0.722989\n",
      "[900]\tvalid_0's rmse: 0.722793\n"
     ]
    },
    {
     "name": "stderr",
     "output_type": "stream",
     "text": [
      "min_data_in_leaf, val_score: 0.722492:  60%|######    | 3/5 [00:22<00:14,  7.45s/it]\u001b[32m[I 2021-08-24 13:44:20,011]\u001b[0m Trial 62 finished with value: 0.7225760296327709 and parameters: {'min_child_samples': 50}. Best is trial 60 with value: 0.7225655075087148.\u001b[0m\n",
      "min_data_in_leaf, val_score: 0.722492:  60%|######    | 3/5 [00:22<00:14,  7.45s/it]"
     ]
    },
    {
     "name": "stdout",
     "output_type": "stream",
     "text": [
      "[1000]\tvalid_0's rmse: 0.722576\n",
      "[LightGBM] [Warning] Auto-choosing row-wise multi-threading, the overhead of testing was 0.005842 seconds.\n",
      "You can set `force_row_wise=true` to remove the overhead.\n",
      "And if memory is not enough, you can set `force_col_wise=true`.\n",
      "[LightGBM] [Info] Total Bins 3630\n",
      "[LightGBM] [Info] Number of data points in the train set: 225000, number of used features: 24\n",
      "[LightGBM] [Info] Start training from score 8.241032\n",
      "[100]\tvalid_0's rmse: 0.732859\n",
      "[200]\tvalid_0's rmse: 0.728736\n",
      "[300]\tvalid_0's rmse: 0.726294\n",
      "[400]\tvalid_0's rmse: 0.724986\n",
      "[500]\tvalid_0's rmse: 0.724111\n",
      "[600]\tvalid_0's rmse: 0.723487\n",
      "[700]\tvalid_0's rmse: 0.723139\n",
      "[800]\tvalid_0's rmse: 0.722935\n",
      "[900]\tvalid_0's rmse: 0.722702\n"
     ]
    },
    {
     "name": "stderr",
     "output_type": "stream",
     "text": [
      "min_data_in_leaf, val_score: 0.722492:  80%|########  | 4/5 [00:30<00:07,  7.57s/it]\u001b[32m[I 2021-08-24 13:44:27,767]\u001b[0m Trial 63 finished with value: 0.7225963052210871 and parameters: {'min_child_samples': 25}. Best is trial 60 with value: 0.7225655075087148.\u001b[0m\n",
      "min_data_in_leaf, val_score: 0.722492:  80%|########  | 4/5 [00:30<00:07,  7.57s/it]"
     ]
    },
    {
     "name": "stdout",
     "output_type": "stream",
     "text": [
      "[1000]\tvalid_0's rmse: 0.722596\n",
      "[LightGBM] [Warning] Auto-choosing row-wise multi-threading, the overhead of testing was 0.008471 seconds.\n",
      "You can set `force_row_wise=true` to remove the overhead.\n",
      "And if memory is not enough, you can set `force_col_wise=true`.\n",
      "[LightGBM] [Info] Total Bins 3630\n",
      "[LightGBM] [Info] Number of data points in the train set: 225000, number of used features: 24\n",
      "[LightGBM] [Info] Start training from score 8.241032\n",
      "[100]\tvalid_0's rmse: 0.732859\n",
      "[200]\tvalid_0's rmse: 0.728736\n",
      "[300]\tvalid_0's rmse: 0.726294\n",
      "[400]\tvalid_0's rmse: 0.724944\n",
      "[500]\tvalid_0's rmse: 0.724181\n",
      "[600]\tvalid_0's rmse: 0.723615\n",
      "[700]\tvalid_0's rmse: 0.72327\n",
      "[800]\tvalid_0's rmse: 0.723033\n",
      "[900]\tvalid_0's rmse: 0.722791\n"
     ]
    },
    {
     "name": "stderr",
     "output_type": "stream",
     "text": [
      "min_data_in_leaf, val_score: 0.722492: 100%|##########| 5/5 [00:37<00:00,  7.67s/it]\u001b[32m[I 2021-08-24 13:44:35,620]\u001b[0m Trial 64 finished with value: 0.7226840321477351 and parameters: {'min_child_samples': 100}. Best is trial 60 with value: 0.7225655075087148.\u001b[0m\n",
      "min_data_in_leaf, val_score: 0.722492: 100%|##########| 5/5 [00:37<00:00,  7.58s/it]"
     ]
    },
    {
     "name": "stdout",
     "output_type": "stream",
     "text": [
      "[1000]\tvalid_0's rmse: 0.722684\n"
     ]
    },
    {
     "name": "stderr",
     "output_type": "stream",
     "text": [
      "\n"
     ]
    }
   ],
   "source": [
    "booster = lgbo.train(opt_params,dtrain,valid_sets=dval,verbose_eval=100,categorical_feature=cat_features)"
   ]
  },
  {
   "cell_type": "markdown",
   "id": "c481ce22-d071-4033-ad19-f70cea1e1c5c",
   "metadata": {},
   "source": [
    "rmse: 0.722684という値に不安を感じる"
   ]
  },
  {
   "cell_type": "code",
   "execution_count": 75,
   "id": "62b63c11-34a0-4e54-a2b6-99b6e6746371",
   "metadata": {},
   "outputs": [
    {
     "data": {
      "text/plain": [
       "{'objective': 'regression',\n",
       " 'metric': 'rmse',\n",
       " 'feature_pre_filter': False,\n",
       " 'lambda_l1': 9.646417268487799,\n",
       " 'lambda_l2': 0.4896473762177135,\n",
       " 'num_leaves': 7,\n",
       " 'feature_fraction': 0.4,\n",
       " 'bagging_fraction': 0.6977321987309166,\n",
       " 'bagging_freq': 4,\n",
       " 'min_child_samples': 20,\n",
       " 'num_iterations': 1000,\n",
       " 'early_stopping_round': None,\n",
       " 'categorical_column': [0, 1, 2, 3, 4, 5, 6, 7, 8, 9]}"
      ]
     },
     "execution_count": 75,
     "metadata": {},
     "output_type": "execute_result"
    }
   ],
   "source": [
    "booster.params"
   ]
  },
  {
   "cell_type": "code",
   "execution_count": 76,
   "id": "be0aaf75-1c73-4da3-b1d9-0bfdef59791c",
   "metadata": {},
   "outputs": [],
   "source": [
    "params_c = {'objective': 'regression',\n",
    " 'metric': 'rmse',\n",
    " 'feature_pre_filter': False,\n",
    " 'lambda_l1': 9.646417268487799,\n",
    " 'lambda_l2': 0.4896473762177135,\n",
    " 'num_leaves': 7,\n",
    " 'feature_fraction': 0.4,\n",
    " 'bagging_fraction': 0.6977321987309166,\n",
    " 'bagging_freq': 4,\n",
    " 'min_child_samples': 20,\n",
    " 'num_iterations': 1000}"
   ]
  },
  {
   "cell_type": "code",
   "execution_count": 82,
   "id": "1940f2ce-a271-4514-ad2c-92c603119326",
   "metadata": {},
   "outputs": [
    {
     "name": "stdout",
     "output_type": "stream",
     "text": [
      "<class 'pandas.core.frame.DataFrame'>\n",
      "Int64Index: 30000 entries, 0 to 299983\n",
      "Data columns (total 24 columns):\n",
      " #   Column  Non-Null Count  Dtype   \n",
      "---  ------  --------------  -----   \n",
      " 0   cat0    30000 non-null  category\n",
      " 1   cat1    30000 non-null  category\n",
      " 2   cat2    30000 non-null  category\n",
      " 3   cat3    30000 non-null  category\n",
      " 4   cat4    30000 non-null  category\n",
      " 5   cat5    30000 non-null  category\n",
      " 6   cat6    30000 non-null  category\n",
      " 7   cat7    30000 non-null  category\n",
      " 8   cat8    30000 non-null  category\n",
      " 9   cat9    30000 non-null  category\n",
      " 10  cont0   30000 non-null  float64 \n",
      " 11  cont1   30000 non-null  float64 \n",
      " 12  cont2   30000 non-null  float64 \n",
      " 13  cont3   30000 non-null  float64 \n",
      " 14  cont4   30000 non-null  float64 \n",
      " 15  cont5   30000 non-null  float64 \n",
      " 16  cont6   30000 non-null  float64 \n",
      " 17  cont7   30000 non-null  float64 \n",
      " 18  cont8   30000 non-null  float64 \n",
      " 19  cont9   30000 non-null  float64 \n",
      " 20  cont10  30000 non-null  float64 \n",
      " 21  cont11  30000 non-null  float64 \n",
      " 22  cont12  30000 non-null  float64 \n",
      " 23  cont13  30000 non-null  float64 \n",
      "dtypes: category(10), float64(14)\n",
      "memory usage: 3.7 MB\n"
     ]
    }
   ],
   "source": [
    "X_valid.info()"
   ]
  },
  {
   "cell_type": "code",
   "execution_count": 84,
   "id": "bee0a346-5b91-469d-bbd0-c23666d45d33",
   "metadata": {},
   "outputs": [
    {
     "ename": "ValueError",
     "evalue": "train and valid dataset categorical_feature do not match.",
     "output_type": "error",
     "traceback": [
      "\u001b[0;31m---------------------------------------------------------------------------\u001b[0m",
      "\u001b[0;31mValueError\u001b[0m                                Traceback (most recent call last)",
      "\u001b[0;32m<timed exec>\u001b[0m in \u001b[0;36m<module>\u001b[0;34m\u001b[0m\n",
      "\u001b[0;32m~/opt/anaconda3/lib/python3.8/site-packages/lightgbm/sklearn.py\u001b[0m in \u001b[0;36mpredict\u001b[0;34m(self, X, raw_score, start_iteration, num_iteration, pred_leaf, pred_contrib, **kwargs)\u001b[0m\n\u001b[1;32m    685\u001b[0m                              \u001b[0;34m\"input n_features is %s \"\u001b[0m\u001b[0;34m\u001b[0m\u001b[0;34m\u001b[0m\u001b[0m\n\u001b[1;32m    686\u001b[0m                              % (self._n_features, n_features))\n\u001b[0;32m--> 687\u001b[0;31m         return self._Booster.predict(X, raw_score=raw_score, start_iteration=start_iteration, num_iteration=num_iteration,\n\u001b[0m\u001b[1;32m    688\u001b[0m                                      pred_leaf=pred_leaf, pred_contrib=pred_contrib, **kwargs)\n\u001b[1;32m    689\u001b[0m \u001b[0;34m\u001b[0m\u001b[0m\n",
      "\u001b[0;32m~/opt/anaconda3/lib/python3.8/site-packages/lightgbm/basic.py\u001b[0m in \u001b[0;36mpredict\u001b[0;34m(self, data, start_iteration, num_iteration, raw_score, pred_leaf, pred_contrib, data_has_header, is_reshape, **kwargs)\u001b[0m\n\u001b[1;32m   2955\u001b[0m             \u001b[0;32melse\u001b[0m\u001b[0;34m:\u001b[0m\u001b[0;34m\u001b[0m\u001b[0;34m\u001b[0m\u001b[0m\n\u001b[1;32m   2956\u001b[0m                 \u001b[0mnum_iteration\u001b[0m \u001b[0;34m=\u001b[0m \u001b[0;34m-\u001b[0m\u001b[0;36m1\u001b[0m\u001b[0;34m\u001b[0m\u001b[0;34m\u001b[0m\u001b[0m\n\u001b[0;32m-> 2957\u001b[0;31m         return predictor.predict(data, start_iteration, num_iteration,\n\u001b[0m\u001b[1;32m   2958\u001b[0m                                  \u001b[0mraw_score\u001b[0m\u001b[0;34m,\u001b[0m \u001b[0mpred_leaf\u001b[0m\u001b[0;34m,\u001b[0m \u001b[0mpred_contrib\u001b[0m\u001b[0;34m,\u001b[0m\u001b[0;34m\u001b[0m\u001b[0;34m\u001b[0m\u001b[0m\n\u001b[1;32m   2959\u001b[0m                                  data_has_header, is_reshape)\n",
      "\u001b[0;32m~/opt/anaconda3/lib/python3.8/site-packages/lightgbm/basic.py\u001b[0m in \u001b[0;36mpredict\u001b[0;34m(self, data, start_iteration, num_iteration, raw_score, pred_leaf, pred_contrib, data_has_header, is_reshape)\u001b[0m\n\u001b[1;32m    554\u001b[0m         \u001b[0;32mif\u001b[0m \u001b[0misinstance\u001b[0m\u001b[0;34m(\u001b[0m\u001b[0mdata\u001b[0m\u001b[0;34m,\u001b[0m \u001b[0mDataset\u001b[0m\u001b[0;34m)\u001b[0m\u001b[0;34m:\u001b[0m\u001b[0;34m\u001b[0m\u001b[0;34m\u001b[0m\u001b[0m\n\u001b[1;32m    555\u001b[0m             \u001b[0;32mraise\u001b[0m \u001b[0mTypeError\u001b[0m\u001b[0;34m(\u001b[0m\u001b[0;34m\"Cannot use Dataset instance for prediction, please use raw data instead\"\u001b[0m\u001b[0;34m)\u001b[0m\u001b[0;34m\u001b[0m\u001b[0;34m\u001b[0m\u001b[0m\n\u001b[0;32m--> 556\u001b[0;31m         \u001b[0mdata\u001b[0m \u001b[0;34m=\u001b[0m \u001b[0m_data_from_pandas\u001b[0m\u001b[0;34m(\u001b[0m\u001b[0mdata\u001b[0m\u001b[0;34m,\u001b[0m \u001b[0;32mNone\u001b[0m\u001b[0;34m,\u001b[0m \u001b[0;32mNone\u001b[0m\u001b[0;34m,\u001b[0m \u001b[0mself\u001b[0m\u001b[0;34m.\u001b[0m\u001b[0mpandas_categorical\u001b[0m\u001b[0;34m)\u001b[0m\u001b[0;34m[\u001b[0m\u001b[0;36m0\u001b[0m\u001b[0;34m]\u001b[0m\u001b[0;34m\u001b[0m\u001b[0;34m\u001b[0m\u001b[0m\n\u001b[0m\u001b[1;32m    557\u001b[0m         \u001b[0mpredict_type\u001b[0m \u001b[0;34m=\u001b[0m \u001b[0mC_API_PREDICT_NORMAL\u001b[0m\u001b[0;34m\u001b[0m\u001b[0;34m\u001b[0m\u001b[0m\n\u001b[1;32m    558\u001b[0m         \u001b[0;32mif\u001b[0m \u001b[0mraw_score\u001b[0m\u001b[0;34m:\u001b[0m\u001b[0;34m\u001b[0m\u001b[0;34m\u001b[0m\u001b[0m\n",
      "\u001b[0;32m~/opt/anaconda3/lib/python3.8/site-packages/lightgbm/basic.py\u001b[0m in \u001b[0;36m_data_from_pandas\u001b[0;34m(data, feature_name, categorical_feature, pandas_categorical)\u001b[0m\n\u001b[1;32m    375\u001b[0m         \u001b[0;32melse\u001b[0m\u001b[0;34m:\u001b[0m\u001b[0;34m\u001b[0m\u001b[0;34m\u001b[0m\u001b[0m\n\u001b[1;32m    376\u001b[0m             \u001b[0;32mif\u001b[0m \u001b[0mlen\u001b[0m\u001b[0;34m(\u001b[0m\u001b[0mcat_cols\u001b[0m\u001b[0;34m)\u001b[0m \u001b[0;34m!=\u001b[0m \u001b[0mlen\u001b[0m\u001b[0;34m(\u001b[0m\u001b[0mpandas_categorical\u001b[0m\u001b[0;34m)\u001b[0m\u001b[0;34m:\u001b[0m\u001b[0;34m\u001b[0m\u001b[0;34m\u001b[0m\u001b[0m\n\u001b[0;32m--> 377\u001b[0;31m                 \u001b[0;32mraise\u001b[0m \u001b[0mValueError\u001b[0m\u001b[0;34m(\u001b[0m\u001b[0;34m'train and valid dataset categorical_feature do not match.'\u001b[0m\u001b[0;34m)\u001b[0m\u001b[0;34m\u001b[0m\u001b[0;34m\u001b[0m\u001b[0m\n\u001b[0m\u001b[1;32m    378\u001b[0m             \u001b[0;32mfor\u001b[0m \u001b[0mcol\u001b[0m\u001b[0;34m,\u001b[0m \u001b[0mcategory\u001b[0m \u001b[0;32min\u001b[0m \u001b[0mzip_\u001b[0m\u001b[0;34m(\u001b[0m\u001b[0mcat_cols\u001b[0m\u001b[0;34m,\u001b[0m \u001b[0mpandas_categorical\u001b[0m\u001b[0;34m)\u001b[0m\u001b[0;34m:\u001b[0m\u001b[0;34m\u001b[0m\u001b[0;34m\u001b[0m\u001b[0m\n\u001b[1;32m    379\u001b[0m                 \u001b[0;32mif\u001b[0m \u001b[0mlist\u001b[0m\u001b[0;34m(\u001b[0m\u001b[0mdata\u001b[0m\u001b[0;34m[\u001b[0m\u001b[0mcol\u001b[0m\u001b[0;34m]\u001b[0m\u001b[0;34m.\u001b[0m\u001b[0mcat\u001b[0m\u001b[0;34m.\u001b[0m\u001b[0mcategories\u001b[0m\u001b[0;34m)\u001b[0m \u001b[0;34m!=\u001b[0m \u001b[0mlist\u001b[0m\u001b[0;34m(\u001b[0m\u001b[0mcategory\u001b[0m\u001b[0;34m)\u001b[0m\u001b[0;34m:\u001b[0m\u001b[0;34m\u001b[0m\u001b[0;34m\u001b[0m\u001b[0m\n",
      "\u001b[0;31mValueError\u001b[0m: train and valid dataset categorical_feature do not match."
     ]
    }
   ],
   "source": [
    "%%time\n",
    "# 交差検証（10は多い気がする）\n",
    "splits = 10\n",
    "skf = KFold(n_splits=splits, shuffle=True, random_state=42)\n",
    "\n",
    "# Creating an array of zeros for storing \"out of fold\" predictions\n",
    "oof_preds = np.zeros((X.shape[0],))\n",
    "preds = 0\n",
    "model_fi = 0\n",
    "total_mean_rmse = 0\n",
    "\n",
    "# Generating folds and making training and prediction for each of 10 folds\n",
    "for num, (train_idx, valid_idx) in enumerate(skf.split(X)):\n",
    "    X_train, X_valid = X.loc[train_idx], X.loc[valid_idx]\n",
    "    y_train, y_valid = y.loc[train_idx], y.loc[valid_idx]\n",
    "    \n",
    "    model = LGBMRegressor(**params_c)\n",
    "    model.fit(X_train, y_train,\n",
    "              verbose=False,\n",
    "              categorical_feature=cat_features,\n",
    "              # These three parameters will stop training before a model starts overfitting \n",
    "              eval_set=[(X_train, y_train), (X_valid, y_valid)],\n",
    "              eval_metric=\"rmse\",\n",
    "              early_stopping_rounds=100,\n",
    "              )\n",
    "    \n",
    "    # Getting mean test data predictions (i.e. devided by number of splits)\n",
    "    preds += model.predict(X_test) / splits\n",
    "    \n",
    "    # Getting mean feature importances (i.e. devided by number of splits)\n",
    "    model_fi += model.feature_importances_ / splits\n",
    "    \n",
    "    # Getting validation data predictions. Each fold model makes predictions on an unseen data.\n",
    "    # So in the end it will be completely filled with unseen data predictions.\n",
    "    # It will be used to evaluate hyperparameters performance only.\n",
    "    oof_preds[valid_idx] = model.predict(X_valid)\n",
    "    \n",
    "    # Getting score for a fold model\n",
    "    fold_rmse = np.sqrt(mean_squared_error(y_valid, oof_preds[valid_idx]))\n",
    "    print(f\"Fold {num} RMSE: {fold_rmse}\")\n",
    "\n",
    "    # Getting mean score of all fold models (i.e. devided by number of splits)\n",
    "    total_mean_rmse += fold_rmse / splits\n",
    "    \n",
    "print(f\"\\nOverall RMSE: {total_mean_rmse}\")"
   ]
  },
  {
   "cell_type": "code",
   "execution_count": 85,
   "id": "f75d6449-b4f7-40c1-bdfd-4d860711a582",
   "metadata": {},
   "outputs": [
    {
     "data": {
      "text/plain": [
       "LGBMRegressor(bagging_fraction=0.6977321987309166, bagging_freq=4,\n",
       "              feature_fraction=0.4, feature_pre_filter=False,\n",
       "              lambda_l1=9.646417268487799, lambda_l2=0.4896473762177135,\n",
       "              metric='rmse', num_iterations=1000, num_leaves=7,\n",
       "              objective='regression')"
      ]
     },
     "execution_count": 85,
     "metadata": {},
     "output_type": "execute_result"
    }
   ],
   "source": [
    "model = LGBMRegressor(**params_c)\n",
    "model.fit(X_train, y_train,verbose=False,categorical_feature=cat_features)"
   ]
  },
  {
   "cell_type": "code",
   "execution_count": 88,
   "id": "aed876c6-1bf5-4502-b0f4-1f009b2ccf6c",
   "metadata": {},
   "outputs": [],
   "source": [
    "pred = model.predict(X_valid)"
   ]
  },
  {
   "cell_type": "code",
   "execution_count": 89,
   "id": "e2637e2c-50f6-45e9-a9a3-885b60bfc194",
   "metadata": {},
   "outputs": [],
   "source": [
    "fold_rmse = np.sqrt(mean_squared_error(y_valid, pred))"
   ]
  },
  {
   "cell_type": "code",
   "execution_count": 90,
   "id": "6f9498ed-fea5-451b-9226-db2803764dd9",
   "metadata": {},
   "outputs": [
    {
     "name": "stdout",
     "output_type": "stream",
     "text": [
      "RMSE: 0.7186365583988485\n"
     ]
    }
   ],
   "source": [
    "print(f\"RMSE: {fold_rmse}\")"
   ]
  },
  {
   "cell_type": "markdown",
   "id": "9323142c-85e4-4807-b375-d7ab7c223e03",
   "metadata": {},
   "source": [
    "さっきより良い値！"
   ]
  },
  {
   "cell_type": "code",
   "execution_count": 91,
   "id": "352de9b6-5487-4948-8826-96e4e6f9f900",
   "metadata": {},
   "outputs": [],
   "source": [
    "test_df[\"cat0\"] = pd.Categorical(test_df[\"cat0\"])\n",
    "test_df[\"cat1\"] = pd.Categorical(test_df[\"cat1\"])\n",
    "test_df[\"cat2\"] = pd.Categorical(test_df[\"cat2\"])\n",
    "test_df[\"cat3\"] = pd.Categorical(test_df[\"cat3\"])\n",
    "test_df[\"cat4\"] = pd.Categorical(test_df[\"cat4\"])\n",
    "test_df[\"cat5\"] = pd.Categorical(test_df[\"cat5\"])\n",
    "test_df[\"cat6\"] = pd.Categorical(test_df[\"cat6\"])\n",
    "test_df[\"cat7\"] = pd.Categorical(test_df[\"cat7\"])\n",
    "test_df[\"cat8\"] = pd.Categorical(test_df[\"cat8\"])\n",
    "test_df[\"cat9\"] = pd.Categorical(test_df[\"cat9\"])"
   ]
  },
  {
   "cell_type": "code",
   "execution_count": 92,
   "id": "90bac3b7-0f32-4d05-80f2-4ebed4cb17f9",
   "metadata": {},
   "outputs": [],
   "source": [
    "X_test = test_df.drop([\"id\"], axis=1)"
   ]
  },
  {
   "cell_type": "code",
   "execution_count": 93,
   "id": "f735ba0f-fe3f-41d3-a07e-3383b30c46be",
   "metadata": {},
   "outputs": [],
   "source": [
    "preds = model.predict(X_test)"
   ]
  },
  {
   "cell_type": "code",
   "execution_count": 95,
   "id": "d38e7f6c-67ab-4b51-a5b9-5ef05b963298",
   "metadata": {},
   "outputs": [
    {
     "data": {
      "text/html": [
       "<div>\n",
       "<style scoped>\n",
       "    .dataframe tbody tr th:only-of-type {\n",
       "        vertical-align: middle;\n",
       "    }\n",
       "\n",
       "    .dataframe tbody tr th {\n",
       "        vertical-align: top;\n",
       "    }\n",
       "\n",
       "    .dataframe thead th {\n",
       "        text-align: right;\n",
       "    }\n",
       "</style>\n",
       "<table border=\"1\" class=\"dataframe\">\n",
       "  <thead>\n",
       "    <tr style=\"text-align: right;\">\n",
       "      <th></th>\n",
       "      <th>id</th>\n",
       "      <th>target</th>\n",
       "    </tr>\n",
       "  </thead>\n",
       "  <tbody>\n",
       "    <tr>\n",
       "      <th>0</th>\n",
       "      <td>0</td>\n",
       "      <td>8.098481</td>\n",
       "    </tr>\n",
       "    <tr>\n",
       "      <th>1</th>\n",
       "      <td>5</td>\n",
       "      <td>8.378028</td>\n",
       "    </tr>\n",
       "    <tr>\n",
       "      <th>2</th>\n",
       "      <td>15</td>\n",
       "      <td>8.460566</td>\n",
       "    </tr>\n",
       "    <tr>\n",
       "      <th>3</th>\n",
       "      <td>16</td>\n",
       "      <td>8.520269</td>\n",
       "    </tr>\n",
       "    <tr>\n",
       "      <th>4</th>\n",
       "      <td>17</td>\n",
       "      <td>8.181585</td>\n",
       "    </tr>\n",
       "  </tbody>\n",
       "</table>\n",
       "</div>"
      ],
      "text/plain": [
       "   id    target\n",
       "0   0  8.098481\n",
       "1   5  8.378028\n",
       "2  15  8.460566\n",
       "3  16  8.520269\n",
       "4  17  8.181585"
      ]
     },
     "execution_count": 95,
     "metadata": {},
     "output_type": "execute_result"
    }
   ],
   "source": [
    "predictions = pd.DataFrame()\n",
    "predictions[\"id\"] = test[\"id\"]\n",
    "predictions[\"target\"] = preds\n",
    "\n",
    "predictions.to_csv('../data/submit/008_submission.csv', index=False, header=predictions.columns)\n",
    "predictions.head()"
   ]
  },
  {
   "cell_type": "markdown",
   "id": "45079dfc-8d4b-445c-86bf-ae8c1899c2c4",
   "metadata": {},
   "source": [
    "結果は0.72143。だいぶ上昇した。"
   ]
  },
  {
   "cell_type": "code",
   "execution_count": null,
   "id": "b4281aed-e7f9-43f9-9558-aebb94816239",
   "metadata": {},
   "outputs": [],
   "source": []
  }
 ],
 "metadata": {
  "kernelspec": {
   "display_name": "Python 3",
   "language": "python",
   "name": "python3"
  },
  "language_info": {
   "codemirror_mode": {
    "name": "ipython",
    "version": 3
   },
   "file_extension": ".py",
   "mimetype": "text/x-python",
   "name": "python",
   "nbconvert_exporter": "python",
   "pygments_lexer": "ipython3",
   "version": "3.8.8"
  }
 },
 "nbformat": 4,
 "nbformat_minor": 5
}
