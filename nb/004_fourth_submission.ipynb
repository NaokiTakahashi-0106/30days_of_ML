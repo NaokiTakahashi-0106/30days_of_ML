{
 "cells": [
  {
   "cell_type": "code",
   "execution_count": 6,
   "id": "1abbaed2-90bf-4808-9be2-1db1f252f0b6",
   "metadata": {},
   "outputs": [],
   "source": [
    "import numpy as np\n",
    "import pandas as pd\n",
    "import scipy as sp\n",
    "\n",
    "import matplotlib\n",
    "import matplotlib.pyplot as plt\n",
    "import seaborn as sns\n",
    "\n",
    "from sklearn.preprocessing import OrdinalEncoder\n",
    "from sklearn.model_selection import train_test_split\n",
    "from sklearn.metrics import mean_squared_error\n",
    "from mlxtend.preprocessing import minmax_scaling\n",
    "\n",
    "from sklearn.ensemble import RandomForestRegressor\n",
    "from xgboost import XGBRegressor\n",
    "from lightgbm import LGBMRegressor\n",
    "from catboost import CatBoostRegressor\n",
    "\n",
    "import warnings\n",
    "\n",
    "pd.set_option('display.max_rows', None)\n",
    "pd.set_option('display.max_columns', None)\n",
    "warnings.filterwarnings('ignore')"
   ]
  },
  {
   "cell_type": "code",
   "execution_count": 3,
   "id": "255b46f4-148c-4d45-beb8-1b7b2d74f89d",
   "metadata": {},
   "outputs": [
    {
     "data": {
      "text/html": [
       "<div>\n",
       "<style scoped>\n",
       "    .dataframe tbody tr th:only-of-type {\n",
       "        vertical-align: middle;\n",
       "    }\n",
       "\n",
       "    .dataframe tbody tr th {\n",
       "        vertical-align: top;\n",
       "    }\n",
       "\n",
       "    .dataframe thead th {\n",
       "        text-align: right;\n",
       "    }\n",
       "</style>\n",
       "<table border=\"1\" class=\"dataframe\">\n",
       "  <thead>\n",
       "    <tr style=\"text-align: right;\">\n",
       "      <th></th>\n",
       "      <th>cat0</th>\n",
       "      <th>cat1</th>\n",
       "      <th>cat2</th>\n",
       "      <th>cat3</th>\n",
       "      <th>cat4</th>\n",
       "      <th>cat5</th>\n",
       "      <th>cat6</th>\n",
       "      <th>cat7</th>\n",
       "      <th>cat8</th>\n",
       "      <th>cat9</th>\n",
       "      <th>...</th>\n",
       "      <th>cont5</th>\n",
       "      <th>cont6</th>\n",
       "      <th>cont7</th>\n",
       "      <th>cont8</th>\n",
       "      <th>cont9</th>\n",
       "      <th>cont10</th>\n",
       "      <th>cont11</th>\n",
       "      <th>cont12</th>\n",
       "      <th>cont13</th>\n",
       "      <th>target</th>\n",
       "    </tr>\n",
       "    <tr>\n",
       "      <th>id</th>\n",
       "      <th></th>\n",
       "      <th></th>\n",
       "      <th></th>\n",
       "      <th></th>\n",
       "      <th></th>\n",
       "      <th></th>\n",
       "      <th></th>\n",
       "      <th></th>\n",
       "      <th></th>\n",
       "      <th></th>\n",
       "      <th></th>\n",
       "      <th></th>\n",
       "      <th></th>\n",
       "      <th></th>\n",
       "      <th></th>\n",
       "      <th></th>\n",
       "      <th></th>\n",
       "      <th></th>\n",
       "      <th></th>\n",
       "      <th></th>\n",
       "      <th></th>\n",
       "    </tr>\n",
       "  </thead>\n",
       "  <tbody>\n",
       "    <tr>\n",
       "      <th>1</th>\n",
       "      <td>B</td>\n",
       "      <td>B</td>\n",
       "      <td>B</td>\n",
       "      <td>C</td>\n",
       "      <td>B</td>\n",
       "      <td>B</td>\n",
       "      <td>A</td>\n",
       "      <td>E</td>\n",
       "      <td>C</td>\n",
       "      <td>N</td>\n",
       "      <td>...</td>\n",
       "      <td>0.400361</td>\n",
       "      <td>0.160266</td>\n",
       "      <td>0.310921</td>\n",
       "      <td>0.389470</td>\n",
       "      <td>0.267559</td>\n",
       "      <td>0.237281</td>\n",
       "      <td>0.377873</td>\n",
       "      <td>0.322401</td>\n",
       "      <td>0.869850</td>\n",
       "      <td>8.113634</td>\n",
       "    </tr>\n",
       "    <tr>\n",
       "      <th>2</th>\n",
       "      <td>B</td>\n",
       "      <td>B</td>\n",
       "      <td>A</td>\n",
       "      <td>A</td>\n",
       "      <td>B</td>\n",
       "      <td>D</td>\n",
       "      <td>A</td>\n",
       "      <td>F</td>\n",
       "      <td>A</td>\n",
       "      <td>O</td>\n",
       "      <td>...</td>\n",
       "      <td>0.533087</td>\n",
       "      <td>0.558922</td>\n",
       "      <td>0.516294</td>\n",
       "      <td>0.594928</td>\n",
       "      <td>0.341439</td>\n",
       "      <td>0.906013</td>\n",
       "      <td>0.921701</td>\n",
       "      <td>0.261975</td>\n",
       "      <td>0.465083</td>\n",
       "      <td>8.481233</td>\n",
       "    </tr>\n",
       "    <tr>\n",
       "      <th>3</th>\n",
       "      <td>A</td>\n",
       "      <td>A</td>\n",
       "      <td>A</td>\n",
       "      <td>C</td>\n",
       "      <td>B</td>\n",
       "      <td>D</td>\n",
       "      <td>A</td>\n",
       "      <td>D</td>\n",
       "      <td>A</td>\n",
       "      <td>F</td>\n",
       "      <td>...</td>\n",
       "      <td>0.650609</td>\n",
       "      <td>0.375348</td>\n",
       "      <td>0.902567</td>\n",
       "      <td>0.555205</td>\n",
       "      <td>0.843531</td>\n",
       "      <td>0.748809</td>\n",
       "      <td>0.620126</td>\n",
       "      <td>0.541474</td>\n",
       "      <td>0.763846</td>\n",
       "      <td>8.364351</td>\n",
       "    </tr>\n",
       "    <tr>\n",
       "      <th>4</th>\n",
       "      <td>B</td>\n",
       "      <td>B</td>\n",
       "      <td>A</td>\n",
       "      <td>C</td>\n",
       "      <td>B</td>\n",
       "      <td>D</td>\n",
       "      <td>A</td>\n",
       "      <td>E</td>\n",
       "      <td>C</td>\n",
       "      <td>K</td>\n",
       "      <td>...</td>\n",
       "      <td>0.668980</td>\n",
       "      <td>0.239061</td>\n",
       "      <td>0.732948</td>\n",
       "      <td>0.679618</td>\n",
       "      <td>0.574844</td>\n",
       "      <td>0.346010</td>\n",
       "      <td>0.714610</td>\n",
       "      <td>0.540150</td>\n",
       "      <td>0.280682</td>\n",
       "      <td>8.049253</td>\n",
       "    </tr>\n",
       "    <tr>\n",
       "      <th>6</th>\n",
       "      <td>A</td>\n",
       "      <td>A</td>\n",
       "      <td>A</td>\n",
       "      <td>C</td>\n",
       "      <td>B</td>\n",
       "      <td>D</td>\n",
       "      <td>A</td>\n",
       "      <td>E</td>\n",
       "      <td>A</td>\n",
       "      <td>N</td>\n",
       "      <td>...</td>\n",
       "      <td>0.686964</td>\n",
       "      <td>0.420667</td>\n",
       "      <td>0.648182</td>\n",
       "      <td>0.684501</td>\n",
       "      <td>0.956692</td>\n",
       "      <td>1.000773</td>\n",
       "      <td>0.776742</td>\n",
       "      <td>0.625849</td>\n",
       "      <td>0.250823</td>\n",
       "      <td>7.972260</td>\n",
       "    </tr>\n",
       "  </tbody>\n",
       "</table>\n",
       "<p>5 rows × 25 columns</p>\n",
       "</div>"
      ],
      "text/plain": [
       "   cat0 cat1 cat2 cat3 cat4 cat5 cat6 cat7 cat8 cat9  ...     cont5     cont6  \\\n",
       "id                                                    ...                       \n",
       "1     B    B    B    C    B    B    A    E    C    N  ...  0.400361  0.160266   \n",
       "2     B    B    A    A    B    D    A    F    A    O  ...  0.533087  0.558922   \n",
       "3     A    A    A    C    B    D    A    D    A    F  ...  0.650609  0.375348   \n",
       "4     B    B    A    C    B    D    A    E    C    K  ...  0.668980  0.239061   \n",
       "6     A    A    A    C    B    D    A    E    A    N  ...  0.686964  0.420667   \n",
       "\n",
       "       cont7     cont8     cont9    cont10    cont11    cont12    cont13  \\\n",
       "id                                                                         \n",
       "1   0.310921  0.389470  0.267559  0.237281  0.377873  0.322401  0.869850   \n",
       "2   0.516294  0.594928  0.341439  0.906013  0.921701  0.261975  0.465083   \n",
       "3   0.902567  0.555205  0.843531  0.748809  0.620126  0.541474  0.763846   \n",
       "4   0.732948  0.679618  0.574844  0.346010  0.714610  0.540150  0.280682   \n",
       "6   0.648182  0.684501  0.956692  1.000773  0.776742  0.625849  0.250823   \n",
       "\n",
       "      target  \n",
       "id            \n",
       "1   8.113634  \n",
       "2   8.481233  \n",
       "3   8.364351  \n",
       "4   8.049253  \n",
       "6   7.972260  \n",
       "\n",
       "[5 rows x 25 columns]"
      ]
     },
     "execution_count": 3,
     "metadata": {},
     "output_type": "execute_result"
    }
   ],
   "source": [
    "# Load the training data\n",
    "train = pd.read_csv(\"../data/original/train.csv\", index_col=0)\n",
    "test = pd.read_csv(\"../data/original/test.csv\", index_col=0)\n",
    "\n",
    "# Preview the data\n",
    "train.head()"
   ]
  },
  {
   "cell_type": "code",
   "execution_count": 4,
   "id": "60cd8fc4-17e1-4def-9c22-88935484ebe8",
   "metadata": {},
   "outputs": [],
   "source": [
    "# カテゴリ変数と数値変数を抜き出せるようにする\n",
    "cat_features = [\"cat\" + str(i) for i in range(10)]\n",
    "num_features = [\"cont\" + str(i) for i in range(14)]"
   ]
  },
  {
   "cell_type": "code",
   "execution_count": 7,
   "id": "6f112bc0-f857-45cb-ba81-ede3075a3d33",
   "metadata": {},
   "outputs": [
    {
     "data": {
      "text/html": [
       "<div>\n",
       "<style scoped>\n",
       "    .dataframe tbody tr th:only-of-type {\n",
       "        vertical-align: middle;\n",
       "    }\n",
       "\n",
       "    .dataframe tbody tr th {\n",
       "        vertical-align: top;\n",
       "    }\n",
       "\n",
       "    .dataframe thead th {\n",
       "        text-align: right;\n",
       "    }\n",
       "</style>\n",
       "<table border=\"1\" class=\"dataframe\">\n",
       "  <thead>\n",
       "    <tr style=\"text-align: right;\">\n",
       "      <th></th>\n",
       "      <th>cat0</th>\n",
       "      <th>cat1</th>\n",
       "      <th>cat2</th>\n",
       "      <th>cat3</th>\n",
       "      <th>cat4</th>\n",
       "      <th>cat5</th>\n",
       "      <th>cat6</th>\n",
       "      <th>cat7</th>\n",
       "      <th>cat8</th>\n",
       "      <th>cat9</th>\n",
       "      <th>cont0</th>\n",
       "      <th>cont1</th>\n",
       "      <th>cont2</th>\n",
       "      <th>cont3</th>\n",
       "      <th>cont4</th>\n",
       "      <th>cont5</th>\n",
       "      <th>cont6</th>\n",
       "      <th>cont7</th>\n",
       "      <th>cont8</th>\n",
       "      <th>cont9</th>\n",
       "      <th>cont10</th>\n",
       "      <th>cont11</th>\n",
       "      <th>cont12</th>\n",
       "      <th>cont13</th>\n",
       "    </tr>\n",
       "    <tr>\n",
       "      <th>id</th>\n",
       "      <th></th>\n",
       "      <th></th>\n",
       "      <th></th>\n",
       "      <th></th>\n",
       "      <th></th>\n",
       "      <th></th>\n",
       "      <th></th>\n",
       "      <th></th>\n",
       "      <th></th>\n",
       "      <th></th>\n",
       "      <th></th>\n",
       "      <th></th>\n",
       "      <th></th>\n",
       "      <th></th>\n",
       "      <th></th>\n",
       "      <th></th>\n",
       "      <th></th>\n",
       "      <th></th>\n",
       "      <th></th>\n",
       "      <th></th>\n",
       "      <th></th>\n",
       "      <th></th>\n",
       "      <th></th>\n",
       "      <th></th>\n",
       "    </tr>\n",
       "  </thead>\n",
       "  <tbody>\n",
       "    <tr>\n",
       "      <th>1</th>\n",
       "      <td>B</td>\n",
       "      <td>B</td>\n",
       "      <td>B</td>\n",
       "      <td>C</td>\n",
       "      <td>B</td>\n",
       "      <td>B</td>\n",
       "      <td>A</td>\n",
       "      <td>E</td>\n",
       "      <td>C</td>\n",
       "      <td>N</td>\n",
       "      <td>0.201470</td>\n",
       "      <td>-0.014822</td>\n",
       "      <td>0.669699</td>\n",
       "      <td>0.136278</td>\n",
       "      <td>0.610706</td>\n",
       "      <td>0.400361</td>\n",
       "      <td>0.160266</td>\n",
       "      <td>0.310921</td>\n",
       "      <td>0.389470</td>\n",
       "      <td>0.267559</td>\n",
       "      <td>0.237281</td>\n",
       "      <td>0.377873</td>\n",
       "      <td>0.322401</td>\n",
       "      <td>0.869850</td>\n",
       "    </tr>\n",
       "    <tr>\n",
       "      <th>2</th>\n",
       "      <td>B</td>\n",
       "      <td>B</td>\n",
       "      <td>A</td>\n",
       "      <td>A</td>\n",
       "      <td>B</td>\n",
       "      <td>D</td>\n",
       "      <td>A</td>\n",
       "      <td>F</td>\n",
       "      <td>A</td>\n",
       "      <td>O</td>\n",
       "      <td>0.743068</td>\n",
       "      <td>0.367411</td>\n",
       "      <td>1.021605</td>\n",
       "      <td>0.365798</td>\n",
       "      <td>0.276853</td>\n",
       "      <td>0.533087</td>\n",
       "      <td>0.558922</td>\n",
       "      <td>0.516294</td>\n",
       "      <td>0.594928</td>\n",
       "      <td>0.341439</td>\n",
       "      <td>0.906013</td>\n",
       "      <td>0.921701</td>\n",
       "      <td>0.261975</td>\n",
       "      <td>0.465083</td>\n",
       "    </tr>\n",
       "    <tr>\n",
       "      <th>3</th>\n",
       "      <td>A</td>\n",
       "      <td>A</td>\n",
       "      <td>A</td>\n",
       "      <td>C</td>\n",
       "      <td>B</td>\n",
       "      <td>D</td>\n",
       "      <td>A</td>\n",
       "      <td>D</td>\n",
       "      <td>A</td>\n",
       "      <td>F</td>\n",
       "      <td>0.742708</td>\n",
       "      <td>0.310383</td>\n",
       "      <td>-0.012673</td>\n",
       "      <td>0.576957</td>\n",
       "      <td>0.285074</td>\n",
       "      <td>0.650609</td>\n",
       "      <td>0.375348</td>\n",
       "      <td>0.902567</td>\n",
       "      <td>0.555205</td>\n",
       "      <td>0.843531</td>\n",
       "      <td>0.748809</td>\n",
       "      <td>0.620126</td>\n",
       "      <td>0.541474</td>\n",
       "      <td>0.763846</td>\n",
       "    </tr>\n",
       "    <tr>\n",
       "      <th>4</th>\n",
       "      <td>B</td>\n",
       "      <td>B</td>\n",
       "      <td>A</td>\n",
       "      <td>C</td>\n",
       "      <td>B</td>\n",
       "      <td>D</td>\n",
       "      <td>A</td>\n",
       "      <td>E</td>\n",
       "      <td>C</td>\n",
       "      <td>K</td>\n",
       "      <td>0.429551</td>\n",
       "      <td>0.620998</td>\n",
       "      <td>0.577942</td>\n",
       "      <td>0.280610</td>\n",
       "      <td>0.284667</td>\n",
       "      <td>0.668980</td>\n",
       "      <td>0.239061</td>\n",
       "      <td>0.732948</td>\n",
       "      <td>0.679618</td>\n",
       "      <td>0.574844</td>\n",
       "      <td>0.346010</td>\n",
       "      <td>0.714610</td>\n",
       "      <td>0.540150</td>\n",
       "      <td>0.280682</td>\n",
       "    </tr>\n",
       "    <tr>\n",
       "      <th>6</th>\n",
       "      <td>A</td>\n",
       "      <td>A</td>\n",
       "      <td>A</td>\n",
       "      <td>C</td>\n",
       "      <td>B</td>\n",
       "      <td>D</td>\n",
       "      <td>A</td>\n",
       "      <td>E</td>\n",
       "      <td>A</td>\n",
       "      <td>N</td>\n",
       "      <td>1.058291</td>\n",
       "      <td>0.367492</td>\n",
       "      <td>-0.052389</td>\n",
       "      <td>0.232407</td>\n",
       "      <td>0.287595</td>\n",
       "      <td>0.686964</td>\n",
       "      <td>0.420667</td>\n",
       "      <td>0.648182</td>\n",
       "      <td>0.684501</td>\n",
       "      <td>0.956692</td>\n",
       "      <td>1.000773</td>\n",
       "      <td>0.776742</td>\n",
       "      <td>0.625849</td>\n",
       "      <td>0.250823</td>\n",
       "    </tr>\n",
       "  </tbody>\n",
       "</table>\n",
       "</div>"
      ],
      "text/plain": [
       "   cat0 cat1 cat2 cat3 cat4 cat5 cat6 cat7 cat8 cat9     cont0     cont1  \\\n",
       "id                                                                         \n",
       "1     B    B    B    C    B    B    A    E    C    N  0.201470 -0.014822   \n",
       "2     B    B    A    A    B    D    A    F    A    O  0.743068  0.367411   \n",
       "3     A    A    A    C    B    D    A    D    A    F  0.742708  0.310383   \n",
       "4     B    B    A    C    B    D    A    E    C    K  0.429551  0.620998   \n",
       "6     A    A    A    C    B    D    A    E    A    N  1.058291  0.367492   \n",
       "\n",
       "       cont2     cont3     cont4     cont5     cont6     cont7     cont8  \\\n",
       "id                                                                         \n",
       "1   0.669699  0.136278  0.610706  0.400361  0.160266  0.310921  0.389470   \n",
       "2   1.021605  0.365798  0.276853  0.533087  0.558922  0.516294  0.594928   \n",
       "3  -0.012673  0.576957  0.285074  0.650609  0.375348  0.902567  0.555205   \n",
       "4   0.577942  0.280610  0.284667  0.668980  0.239061  0.732948  0.679618   \n",
       "6  -0.052389  0.232407  0.287595  0.686964  0.420667  0.648182  0.684501   \n",
       "\n",
       "       cont9    cont10    cont11    cont12    cont13  \n",
       "id                                                    \n",
       "1   0.267559  0.237281  0.377873  0.322401  0.869850  \n",
       "2   0.341439  0.906013  0.921701  0.261975  0.465083  \n",
       "3   0.843531  0.748809  0.620126  0.541474  0.763846  \n",
       "4   0.574844  0.346010  0.714610  0.540150  0.280682  \n",
       "6   0.956692  1.000773  0.776742  0.625849  0.250823  "
      ]
     },
     "execution_count": 7,
     "metadata": {},
     "output_type": "execute_result"
    }
   ],
   "source": [
    "# Separate target from features\n",
    "y = train['target']\n",
    "features = train.drop(['target'], axis=1)\n",
    "\n",
    "# List of features for later use\n",
    "feature_list = list(features.columns)\n",
    "\n",
    "# Preview features\n",
    "features.head()"
   ]
  },
  {
   "cell_type": "code",
   "execution_count": 8,
   "id": "3829fd34-051e-4295-b0a5-733f0cf75545",
   "metadata": {},
   "outputs": [
    {
     "data": {
      "text/html": [
       "<div>\n",
       "<style scoped>\n",
       "    .dataframe tbody tr th:only-of-type {\n",
       "        vertical-align: middle;\n",
       "    }\n",
       "\n",
       "    .dataframe tbody tr th {\n",
       "        vertical-align: top;\n",
       "    }\n",
       "\n",
       "    .dataframe thead th {\n",
       "        text-align: right;\n",
       "    }\n",
       "</style>\n",
       "<table border=\"1\" class=\"dataframe\">\n",
       "  <thead>\n",
       "    <tr style=\"text-align: right;\">\n",
       "      <th></th>\n",
       "      <th>cat0</th>\n",
       "      <th>cat1</th>\n",
       "      <th>cat2</th>\n",
       "      <th>cat3</th>\n",
       "      <th>cat4</th>\n",
       "      <th>cat5</th>\n",
       "      <th>cat6</th>\n",
       "      <th>cat7</th>\n",
       "      <th>cat8</th>\n",
       "      <th>cat9</th>\n",
       "      <th>cont0</th>\n",
       "      <th>cont1</th>\n",
       "      <th>cont2</th>\n",
       "      <th>cont3</th>\n",
       "      <th>cont4</th>\n",
       "      <th>cont5</th>\n",
       "      <th>cont6</th>\n",
       "      <th>cont7</th>\n",
       "      <th>cont8</th>\n",
       "      <th>cont9</th>\n",
       "      <th>cont10</th>\n",
       "      <th>cont11</th>\n",
       "      <th>cont12</th>\n",
       "      <th>cont13</th>\n",
       "    </tr>\n",
       "    <tr>\n",
       "      <th>id</th>\n",
       "      <th></th>\n",
       "      <th></th>\n",
       "      <th></th>\n",
       "      <th></th>\n",
       "      <th></th>\n",
       "      <th></th>\n",
       "      <th></th>\n",
       "      <th></th>\n",
       "      <th></th>\n",
       "      <th></th>\n",
       "      <th></th>\n",
       "      <th></th>\n",
       "      <th></th>\n",
       "      <th></th>\n",
       "      <th></th>\n",
       "      <th></th>\n",
       "      <th></th>\n",
       "      <th></th>\n",
       "      <th></th>\n",
       "      <th></th>\n",
       "      <th></th>\n",
       "      <th></th>\n",
       "      <th></th>\n",
       "      <th></th>\n",
       "    </tr>\n",
       "  </thead>\n",
       "  <tbody>\n",
       "    <tr>\n",
       "      <th>1</th>\n",
       "      <td>1.0</td>\n",
       "      <td>1.0</td>\n",
       "      <td>1.0</td>\n",
       "      <td>2.0</td>\n",
       "      <td>1.0</td>\n",
       "      <td>1.0</td>\n",
       "      <td>0.0</td>\n",
       "      <td>4.0</td>\n",
       "      <td>2.0</td>\n",
       "      <td>13.0</td>\n",
       "      <td>0.201470</td>\n",
       "      <td>-0.014822</td>\n",
       "      <td>0.669699</td>\n",
       "      <td>0.136278</td>\n",
       "      <td>0.610706</td>\n",
       "      <td>0.400361</td>\n",
       "      <td>0.160266</td>\n",
       "      <td>0.310921</td>\n",
       "      <td>0.389470</td>\n",
       "      <td>0.267559</td>\n",
       "      <td>0.237281</td>\n",
       "      <td>0.377873</td>\n",
       "      <td>0.322401</td>\n",
       "      <td>0.869850</td>\n",
       "    </tr>\n",
       "    <tr>\n",
       "      <th>2</th>\n",
       "      <td>1.0</td>\n",
       "      <td>1.0</td>\n",
       "      <td>0.0</td>\n",
       "      <td>0.0</td>\n",
       "      <td>1.0</td>\n",
       "      <td>3.0</td>\n",
       "      <td>0.0</td>\n",
       "      <td>5.0</td>\n",
       "      <td>0.0</td>\n",
       "      <td>14.0</td>\n",
       "      <td>0.743068</td>\n",
       "      <td>0.367411</td>\n",
       "      <td>1.021605</td>\n",
       "      <td>0.365798</td>\n",
       "      <td>0.276853</td>\n",
       "      <td>0.533087</td>\n",
       "      <td>0.558922</td>\n",
       "      <td>0.516294</td>\n",
       "      <td>0.594928</td>\n",
       "      <td>0.341439</td>\n",
       "      <td>0.906013</td>\n",
       "      <td>0.921701</td>\n",
       "      <td>0.261975</td>\n",
       "      <td>0.465083</td>\n",
       "    </tr>\n",
       "    <tr>\n",
       "      <th>3</th>\n",
       "      <td>0.0</td>\n",
       "      <td>0.0</td>\n",
       "      <td>0.0</td>\n",
       "      <td>2.0</td>\n",
       "      <td>1.0</td>\n",
       "      <td>3.0</td>\n",
       "      <td>0.0</td>\n",
       "      <td>3.0</td>\n",
       "      <td>0.0</td>\n",
       "      <td>5.0</td>\n",
       "      <td>0.742708</td>\n",
       "      <td>0.310383</td>\n",
       "      <td>-0.012673</td>\n",
       "      <td>0.576957</td>\n",
       "      <td>0.285074</td>\n",
       "      <td>0.650609</td>\n",
       "      <td>0.375348</td>\n",
       "      <td>0.902567</td>\n",
       "      <td>0.555205</td>\n",
       "      <td>0.843531</td>\n",
       "      <td>0.748809</td>\n",
       "      <td>0.620126</td>\n",
       "      <td>0.541474</td>\n",
       "      <td>0.763846</td>\n",
       "    </tr>\n",
       "    <tr>\n",
       "      <th>4</th>\n",
       "      <td>1.0</td>\n",
       "      <td>1.0</td>\n",
       "      <td>0.0</td>\n",
       "      <td>2.0</td>\n",
       "      <td>1.0</td>\n",
       "      <td>3.0</td>\n",
       "      <td>0.0</td>\n",
       "      <td>4.0</td>\n",
       "      <td>2.0</td>\n",
       "      <td>10.0</td>\n",
       "      <td>0.429551</td>\n",
       "      <td>0.620998</td>\n",
       "      <td>0.577942</td>\n",
       "      <td>0.280610</td>\n",
       "      <td>0.284667</td>\n",
       "      <td>0.668980</td>\n",
       "      <td>0.239061</td>\n",
       "      <td>0.732948</td>\n",
       "      <td>0.679618</td>\n",
       "      <td>0.574844</td>\n",
       "      <td>0.346010</td>\n",
       "      <td>0.714610</td>\n",
       "      <td>0.540150</td>\n",
       "      <td>0.280682</td>\n",
       "    </tr>\n",
       "    <tr>\n",
       "      <th>6</th>\n",
       "      <td>0.0</td>\n",
       "      <td>0.0</td>\n",
       "      <td>0.0</td>\n",
       "      <td>2.0</td>\n",
       "      <td>1.0</td>\n",
       "      <td>3.0</td>\n",
       "      <td>0.0</td>\n",
       "      <td>4.0</td>\n",
       "      <td>0.0</td>\n",
       "      <td>13.0</td>\n",
       "      <td>1.058291</td>\n",
       "      <td>0.367492</td>\n",
       "      <td>-0.052389</td>\n",
       "      <td>0.232407</td>\n",
       "      <td>0.287595</td>\n",
       "      <td>0.686964</td>\n",
       "      <td>0.420667</td>\n",
       "      <td>0.648182</td>\n",
       "      <td>0.684501</td>\n",
       "      <td>0.956692</td>\n",
       "      <td>1.000773</td>\n",
       "      <td>0.776742</td>\n",
       "      <td>0.625849</td>\n",
       "      <td>0.250823</td>\n",
       "    </tr>\n",
       "  </tbody>\n",
       "</table>\n",
       "</div>"
      ],
      "text/plain": [
       "    cat0  cat1  cat2  cat3  cat4  cat5  cat6  cat7  cat8  cat9     cont0  \\\n",
       "id                                                                         \n",
       "1    1.0   1.0   1.0   2.0   1.0   1.0   0.0   4.0   2.0  13.0  0.201470   \n",
       "2    1.0   1.0   0.0   0.0   1.0   3.0   0.0   5.0   0.0  14.0  0.743068   \n",
       "3    0.0   0.0   0.0   2.0   1.0   3.0   0.0   3.0   0.0   5.0  0.742708   \n",
       "4    1.0   1.0   0.0   2.0   1.0   3.0   0.0   4.0   2.0  10.0  0.429551   \n",
       "6    0.0   0.0   0.0   2.0   1.0   3.0   0.0   4.0   0.0  13.0  1.058291   \n",
       "\n",
       "       cont1     cont2     cont3     cont4     cont5     cont6     cont7  \\\n",
       "id                                                                         \n",
       "1  -0.014822  0.669699  0.136278  0.610706  0.400361  0.160266  0.310921   \n",
       "2   0.367411  1.021605  0.365798  0.276853  0.533087  0.558922  0.516294   \n",
       "3   0.310383 -0.012673  0.576957  0.285074  0.650609  0.375348  0.902567   \n",
       "4   0.620998  0.577942  0.280610  0.284667  0.668980  0.239061  0.732948   \n",
       "6   0.367492 -0.052389  0.232407  0.287595  0.686964  0.420667  0.648182   \n",
       "\n",
       "       cont8     cont9    cont10    cont11    cont12    cont13  \n",
       "id                                                              \n",
       "1   0.389470  0.267559  0.237281  0.377873  0.322401  0.869850  \n",
       "2   0.594928  0.341439  0.906013  0.921701  0.261975  0.465083  \n",
       "3   0.555205  0.843531  0.748809  0.620126  0.541474  0.763846  \n",
       "4   0.679618  0.574844  0.346010  0.714610  0.540150  0.280682  \n",
       "6   0.684501  0.956692  1.000773  0.776742  0.625849  0.250823  "
      ]
     },
     "execution_count": 8,
     "metadata": {},
     "output_type": "execute_result"
    }
   ],
   "source": [
    "# ordinal-encode categorical columns\n",
    "X = features.copy()\n",
    "X_test = test.copy()\n",
    "\n",
    "# ordinal encode input variables\n",
    "ordinal_encoder = OrdinalEncoder()\n",
    "X[cat_features] = ordinal_encoder.fit_transform(features[cat_features])\n",
    "X_test[cat_features] = ordinal_encoder.transform(test[cat_features])\n",
    "\n",
    "# Preview the ordinal-encoded features\n",
    "X.head()"
   ]
  },
  {
   "cell_type": "code",
   "execution_count": 9,
   "id": "577fec03-198e-48c4-9a87-c5c33c22f8f2",
   "metadata": {},
   "outputs": [],
   "source": [
    "X_train, X_valid, y_train, y_valid = train_test_split(X, y, random_state=42, test_size=0.2)"
   ]
  },
  {
   "cell_type": "code",
   "execution_count": 10,
   "id": "a23f0a4f-c03f-4d00-93c1-4edf37e69765",
   "metadata": {},
   "outputs": [
    {
     "name": "stdout",
     "output_type": "stream",
     "text": [
      "0.7314724629930255\n"
     ]
    }
   ],
   "source": [
    "# Define the model \n",
    "model_rf = RandomForestRegressor(bootstrap=True, criterion='mse', max_depth=30,\n",
    "           max_features='sqrt', max_leaf_nodes=None,\n",
    "           min_impurity_decrease=0.0, min_impurity_split=None,\n",
    "           min_samples_leaf=2, min_samples_split=5,\n",
    "           min_weight_fraction_leaf=0.0, n_estimators=200, n_jobs=1,\n",
    "           oob_score=False, random_state=None, verbose=0, warm_start=False)\n",
    "# Train the model\n",
    "model_rf.fit(X_train, y_train)\n",
    "preds_valid = model_rf.predict(X_valid)\n",
    "print(mean_squared_error(y_valid, preds_valid, squared=False))"
   ]
  },
  {
   "cell_type": "code",
   "execution_count": 11,
   "id": "283eb4eb-caa8-431a-b18e-ed95389b205e",
   "metadata": {},
   "outputs": [
    {
     "data": {
      "image/png": "[encoded data removed]",
      "text/plain": [
       "<Figure size 432x432 with 1 Axes>"
      ]
     },
     "metadata": {
      "needs_background": "light"
     },
     "output_type": "display_data"
    },
    {
     "data": {
      "image/png": "[encoded data removed]",
      "text/plain": [
       "<Figure size 432x432 with 1 Axes>"
      ]
     },
     "metadata": {
      "needs_background": "light"
     },
     "output_type": "display_data"
    }
   ],
   "source": [
    "plt.rcParams[\"axes.labelsize\"] = 12\n",
    "rf_prob_train = model_rf.predict(X_train) - y_train\n",
    "plt.figure(figsize=(6,6))\n",
    "sp.stats.probplot(rf_prob_train, plot=plt, fit=True)\n",
    "plt.title('Train Probability Plot for Random Forest', fontsize=10)\n",
    "plt.show()\n",
    "\n",
    "rf_prob_test = model_rf.predict(X_valid) - y_valid\n",
    "plt.figure(figsize=(6,6))\n",
    "sp.stats.probplot(rf_prob_test, plot=plt, fit=True)\n",
    "plt.title('Test Probability Plot for Random Forest', fontsize=10)\n",
    "plt.show()"
   ]
  },
  {
   "cell_type": "markdown",
   "id": "bc0508d6-73d9-4840-aee2-6336268cb04d",
   "metadata": {},
   "source": [
    "しかし、Random Forest Regressorが以前に見たことのない値を予測するという問題を抱えている場合、Random Forest Regressorは常に以前に見た値の平均値を予測します。つまり、ランダムフォレスト・リグレスターは、トレーニングセットの外にある値を外挿することができるような傾向を発見することができません。\n",
    "\n",
    "ランダムフォレストは、最も重要な変数でノードを分割するため、暗黙の特徴選択を行いますが、他の機械学習モデルでは行いません。そのため、モデルを改善する1つのアプローチとして、ランダムフォレストの特徴インポートを使用して、問題の変数の数を減らすことができます。ここでは、ランダムフォレストモデルの特徴数を減らすために特徴インポートを使用します。なぜなら、性能が向上する可能性があることに加えて、特徴数を減らすことでモデルの実行時間が短縮されるからです。この方法でモデルの精度が向上するかどうかを見てみましょう。"
   ]
  },
  {
   "cell_type": "code",
   "execution_count": 12,
   "id": "744b57fb-c71f-4f0e-94c9-e6a34573feb2",
   "metadata": {},
   "outputs": [
    {
     "name": "stdout",
     "output_type": "stream",
     "text": [
      "Variable: cont2                Importance: 0.07\n",
      "Variable: cont9                Importance: 0.07\n",
      "Variable: cont10               Importance: 0.07\n",
      "Variable: cont12               Importance: 0.07\n",
      "Variable: cont0                Importance: 0.06\n",
      "Variable: cont1                Importance: 0.06\n",
      "Variable: cont3                Importance: 0.06\n",
      "Variable: cont4                Importance: 0.06\n",
      "Variable: cont5                Importance: 0.06\n",
      "Variable: cont6                Importance: 0.06\n",
      "Variable: cont7                Importance: 0.06\n",
      "Variable: cont8                Importance: 0.06\n",
      "Variable: cont11               Importance: 0.06\n",
      "Variable: cont13               Importance: 0.06\n",
      "Variable: cat9                 Importance: 0.03\n",
      "Variable: cat0                 Importance: 0.01\n",
      "Variable: cat1                 Importance: 0.01\n",
      "Variable: cat2                 Importance: 0.01\n",
      "Variable: cat3                 Importance: 0.01\n",
      "Variable: cat5                 Importance: 0.01\n",
      "Variable: cat8                 Importance: 0.01\n",
      "Variable: cat4                 Importance: 0.0\n",
      "Variable: cat6                 Importance: 0.0\n",
      "Variable: cat7                 Importance: 0.0\n"
     ]
    },
    {
     "data": {
      "text/plain": [
       "[None,\n",
       " None,\n",
       " None,\n",
       " None,\n",
       " None,\n",
       " None,\n",
       " None,\n",
       " None,\n",
       " None,\n",
       " None,\n",
       " None,\n",
       " None,\n",
       " None,\n",
       " None,\n",
       " None,\n",
       " None,\n",
       " None,\n",
       " None,\n",
       " None,\n",
       " None,\n",
       " None,\n",
       " None,\n",
       " None,\n",
       " None]"
      ]
     },
     "execution_count": 12,
     "metadata": {},
     "output_type": "execute_result"
    }
   ],
   "source": [
    "# Get numerical feature importances\n",
    "importances = list(model_rf.feature_importances_)\n",
    "\n",
    "# List of tuples with variable and importance\n",
    "feature_importances = [(feature, round(importance, 2)) for feature, importance in zip(feature_list, importances)]\n",
    "\n",
    "# Sort the feature importances by most important first\n",
    "feature_importances = sorted(feature_importances, key = lambda x: x[1], reverse = True)\n",
    "\n",
    "# Print out the feature and importances \n",
    "[print('Variable: {:20} Importance: {}'.format(*pair)) for pair in feature_importances]"
   ]
  },
  {
   "cell_type": "markdown",
   "id": "b9de776a-25d8-4f55-8f9a-0180be4e7528",
   "metadata": {},
   "source": [
    "これらの統計は、いくつかの変数が他の変数よりもはるかに問題に対して重要であることを証明しています。重要度がゼロの（あるいは丸めの関係でゼロに近い）変数が非常に多いことを考えると。しかし、パフォーマンスに影響を与えることなく、これらの変数のいくつかを取り除くことができるように思えます。\n",
    "\n",
    "次のグラフは、機能の重要度の相対的な違いを表しています。"
   ]
  },
  {
   "cell_type": "code",
   "execution_count": 13,
   "id": "7a366418-a461-447b-a74c-8564b394fefc",
   "metadata": {},
   "outputs": [
    {
     "data": {
      "image/png": "[encoded data removed]",
      "text/plain": [
       "<Figure size 432x288 with 1 Axes>"
      ]
     },
     "metadata": {
      "needs_background": "light"
     },
     "output_type": "display_data"
    }
   ],
   "source": [
    "# list of x locations for plotting\n",
    "x_values = list(range(len(importances)))\n",
    "# Make a bar chart\n",
    "plt.bar(x_values, importances, orientation = 'vertical', color = 'r', edgecolor = 'k', linewidth = 1.2)\n",
    "# Tick labels for x axis\n",
    "plt.xticks(x_values, feature_list, rotation='vertical')\n",
    "# Axis labels and title\n",
    "plt.ylabel('Importance'); plt.xlabel('Variable'); plt.title('Variable Importances');"
   ]
  },
  {
   "cell_type": "code",
   "execution_count": 14,
   "id": "5ab0c9fc-219a-4887-ab4c-9004c712c8fc",
   "metadata": {},
   "outputs": [
    {
     "data": {
      "image/png": "[encoded data removed]",
      "text/plain": [
       "<Figure size 432x288 with 1 Axes>"
      ]
     },
     "metadata": {
      "needs_background": "light"
     },
     "output_type": "display_data"
    }
   ],
   "source": [
    "# List of features sorted from most to least important\n",
    "sorted_importances = [importance[1] for importance in feature_importances]\n",
    "sorted_features = [importance[0] for importance in feature_importances]\n",
    "# Cumulative importances\n",
    "cumulative_importances = np.cumsum(sorted_importances)\n",
    "# Make a line graph\n",
    "plt.plot(x_values, cumulative_importances, 'g-')\n",
    "# Draw line at 95% of importance retained\n",
    "plt.hlines(y = 0.95, xmin=0, xmax=len(sorted_importances), color = 'r', linestyles = 'dashed')\n",
    "# Format x ticks and labels\n",
    "plt.xticks(x_values, sorted_features, rotation = 'vertical')\n",
    "# Axis labels and title\n",
    "plt.xlabel('Variable'); plt.ylabel('Cumulative Importance'); plt.title('Cumulative Importances');"
   ]
  },
  {
   "cell_type": "markdown",
   "id": "c0c9169d-9a4a-4a4e-a4d0-57aa39ed3751",
   "metadata": {},
   "source": [
    "We can now use this to remove unimportant features. 95% is an arbitrary threshold, but if it leads to noticeably poor performance we can adjust the value. First, we need to find the exact number of features to exceed 95% importance:"
   ]
  },
  {
   "cell_type": "code",
   "execution_count": 15,
   "id": "3698dce6-8899-4deb-985b-90e6a9955335",
   "metadata": {},
   "outputs": [
    {
     "name": "stdout",
     "output_type": "stream",
     "text": [
      "Number of features for 95% importance: 19\n"
     ]
    }
   ],
   "source": [
    "# Find number of features for cumulative importance of 95%\n",
    "# Add 1 because Python is zero-indexed\n",
    "print('Number of features for 95% importance:', np.where(cumulative_importances > 0.95)[0][0] + 1)"
   ]
  },
  {
   "cell_type": "code",
   "execution_count": 16,
   "id": "208107f1-8056-49f0-b392-a6096c592633",
   "metadata": {},
   "outputs": [
    {
     "name": "stdout",
     "output_type": "stream",
     "text": [
      "Important train features shape: (240000, 18)\n",
      "Important test features shape: (60000, 18)\n"
     ]
    }
   ],
   "source": [
    "# Extract the names of the most important features\n",
    "important_feature_names = [feature[0] for feature in feature_importances[0:18]]\n",
    "# Create training and testing sets with only the important features\n",
    "important_train_features = X_train[important_feature_names]\n",
    "important_test_features = X_valid[important_feature_names]\n",
    "# Sanity check on operations\n",
    "print('Important train features shape:', important_train_features.shape)\n",
    "print('Important test features shape:', important_test_features.shape)"
   ]
  },
  {
   "cell_type": "code",
   "execution_count": 17,
   "id": "75e1038d-38b4-4855-b999-a2e9b01d1374",
   "metadata": {},
   "outputs": [
    {
     "name": "stdout",
     "output_type": "stream",
     "text": [
      "RMSE: 0.7318489423691498\n",
      "Accuracy: 91.04 %.\n"
     ]
    }
   ],
   "source": [
    "# Train the expanded model on only the important features\n",
    "model_rf.fit(important_train_features, y_train);\n",
    "# Make predictions on test data\n",
    "new_predictions = model_rf.predict(important_test_features)\n",
    "# Performance metrics\n",
    "errors = mean_squared_error(y_valid, new_predictions, squared=False)\n",
    "print('RMSE:', errors)\n",
    "# Calculate rmse\n",
    "rmse = np.mean(100 * (errors / y_valid))\n",
    "# Calculate and display accuracy\n",
    "accuracy = 100 - rmse\n",
    "print('Accuracy:', round(accuracy, 2), '%.')"
   ]
  },
  {
   "cell_type": "code",
   "execution_count": null,
   "id": "d5bdf8b3-3ad1-4938-be3f-2aee6a3cdbe8",
   "metadata": {},
   "outputs": [],
   "source": []
  },
  {
   "cell_type": "code",
   "execution_count": 18,
   "id": "ee8793e2-899c-450e-a57c-3f22d1822d5e",
   "metadata": {},
   "outputs": [
    {
     "name": "stdout",
     "output_type": "stream",
     "text": [
      "Metrics for Random Forest Trained on original Data\n",
      "RMSE: 0.7315494616009549\n",
      "Accuracy: 91.04 %.\n"
     ]
    }
   ],
   "source": [
    "# Train the model first on the original features\n",
    "model_rf.fit(X_train, y_train);\n",
    "# Make predictions on test data\n",
    "predictions = model_rf.predict(X_valid)\n",
    "# Performance metrics\n",
    "errors = mean_squared_error(y_valid, predictions, squared=False)\n",
    "print('Metrics for Random Forest Trained on original Data')\n",
    "print('RMSE:', errors)\n",
    "# Calculate rmse\n",
    "rmse_new = np.mean(100 * (errors / y_valid))\n",
    "# Calculate and display accuracy\n",
    "accuracy = 100 - rmse_new\n",
    "print('Accuracy:', round(accuracy, 2), '%.')"
   ]
  },
  {
   "cell_type": "code",
   "execution_count": 19,
   "id": "73422568-fcc3-42b4-aedc-d9abcfa880f5",
   "metadata": {},
   "outputs": [
    {
     "data": {
      "image/png": "[encoded data removed]",
      "text/plain": [
       "<Figure size 432x432 with 1 Axes>"
      ]
     },
     "metadata": {
      "needs_background": "light"
     },
     "output_type": "display_data"
    }
   ],
   "source": [
    "pd.Series(model_rf.feature_importances_, index = X_train.columns).nlargest(10).plot(kind = 'barh',\n",
    "                                                                               figsize = (6, 6),\n",
    "                                                                              title = 'Feature importance from Random Forest').invert_yaxis();"
   ]
  },
  {
   "cell_type": "code",
   "execution_count": 20,
   "id": "341f8c94-9f29-4c8d-a726-a40254b83ef7",
   "metadata": {},
   "outputs": [
    {
     "name": "stdout",
     "output_type": "stream",
     "text": [
      "0.7183239111443006\n"
     ]
    }
   ],
   "source": [
    "xgb_params = {'objective': 'reg:squarederror',\n",
    "              'n_estimators': 10000,\n",
    "              'learning_rate': 0.25,\n",
    "              'subsample': 0.926,\n",
    "              'colsample_bytree': 0.84,\n",
    "              'grow_policy':'lossguide',\n",
    "              'max_depth': 2,\n",
    "              'booster': 'gbtree', \n",
    "              'reg_lambda': 45.1,\n",
    "              'reg_alpha': 34.9,\n",
    "              'random_state': 42,\n",
    "              'n_jobs': 4}\n",
    "\n",
    "model_XGB = XGBRegressor(**xgb_params)\n",
    "model_XGB.fit(X_train, y_train) \n",
    "predictions_XGB = model_XGB.predict(X_valid)\n",
    "print(mean_squared_error(y_valid, predictions_XGB, squared=False))"
   ]
  },
  {
   "cell_type": "code",
   "execution_count": 21,
   "id": "8bd29f22-2ea5-4dad-97b8-1ddef317bd2e",
   "metadata": {},
   "outputs": [
    {
     "data": {
      "image/png": "[encoded data removed]",
      "text/plain": [
       "<Figure size 432x432 with 1 Axes>"
      ]
     },
     "metadata": {
      "needs_background": "light"
     },
     "output_type": "display_data"
    },
    {
     "data": {
      "image/png": "[encoded data removed]",
      "text/plain": [
       "<Figure size 432x432 with 1 Axes>"
      ]
     },
     "metadata": {
      "needs_background": "light"
     },
     "output_type": "display_data"
    }
   ],
   "source": [
    "plt.rcParams[\"axes.labelsize\"] = 12\n",
    "xgb_prob_train = model_XGB.predict(X_train) - y_train\n",
    "plt.figure(figsize=(6,6))\n",
    "sp.stats.probplot(xgb_prob_train, plot=plt, fit=True)\n",
    "plt.title('Train Probability Plot for XGBoost', fontsize=10)\n",
    "plt.show()\n",
    "\n",
    "xgb_prob_test = model_XGB.predict(X_valid) - y_valid\n",
    "plt.figure(figsize=(6,6))\n",
    "sp.stats.probplot(xgb_prob_test, plot=plt, fit=True)\n",
    "plt.title('Test Probability Plot for XGBoost', fontsize=10)\n",
    "plt.show()"
   ]
  },
  {
   "cell_type": "code",
   "execution_count": 22,
   "id": "331c6be9-931b-4219-9560-ddf23e9409e9",
   "metadata": {},
   "outputs": [
    {
     "data": {
      "image/png": "[encoded data removed]",
      "text/plain": [
       "<Figure size 432x432 with 1 Axes>"
      ]
     },
     "metadata": {
      "needs_background": "light"
     },
     "output_type": "display_data"
    }
   ],
   "source": [
    "pd.Series(model_XGB.feature_importances_, index = X_train.columns).nlargest(10).plot(kind = 'barh',\n",
    "                                                                               figsize = (6, 6),\n",
    "                                                                              title = 'Feature importance from XGBoost').invert_yaxis();\n"
   ]
  },
  {
   "cell_type": "code",
   "execution_count": 23,
   "id": "a21f6eb7-e224-4b99-8340-beefb27bf0c8",
   "metadata": {},
   "outputs": [
    {
     "name": "stdout",
     "output_type": "stream",
     "text": [
      "0.7159369602697875\n"
     ]
    }
   ],
   "source": [
    "xgb_1_params = {\n",
    "    'n_estimators': 5000,\n",
    "    'learning_rate': 0.12,\n",
    "    'subsample': 0.96,\n",
    "    'colsample_bytree': 0.12,\n",
    "    'max_depth': 2,\n",
    "    'booster': 'gbtree', \n",
    "    'reg_lambda': 65.1,\n",
    "    'reg_alpha': 15.9,\n",
    "    'random_state':40\n",
    "    }\n",
    "\n",
    "model_XGB_1 = XGBRegressor(**xgb_1_params)\n",
    "model_XGB_1.fit(X_train, y_train) \n",
    "predictions_XGB_1 = model_XGB_1.predict(X_valid)\n",
    "print(mean_squared_error(y_valid, predictions_XGB_1, squared=False))"
   ]
  },
  {
   "cell_type": "code",
   "execution_count": 24,
   "id": "e643306c-7d0f-43ea-83db-e84adeb30df0",
   "metadata": {},
   "outputs": [
    {
     "name": "stdout",
     "output_type": "stream",
     "text": [
      "0.7159369602697875\n"
     ]
    }
   ],
   "source": [
    "xgb_2_params = {\n",
    "    'objective': 'reg:squarederror',\n",
    "    'n_estimators': 5000,\n",
    "    'learning_rate': 0.12,\n",
    "    'subsample': 0.96,\n",
    "    'colsample_bytree': 0.12,\n",
    "    'max_depth': 2,\n",
    "    'booster': 'gbtree', \n",
    "    'reg_lambda': 65.1,\n",
    "    'reg_alpha': 15.9,\n",
    "    'random_state':40\n",
    "}\n",
    "\n",
    "model_XGB_2 = XGBRegressor(**xgb_2_params)\n",
    "model_XGB_2.fit(X_train, y_train) \n",
    "predictions_XGB_2 = model_XGB_2.predict(X_valid)\n",
    "print(mean_squared_error(y_valid, predictions_XGB_2, squared=False))"
   ]
  },
  {
   "cell_type": "code",
   "execution_count": 25,
   "id": "9455737e-eaed-46eb-840c-637c7ec5e6a0",
   "metadata": {},
   "outputs": [
    {
     "name": "stdout",
     "output_type": "stream",
     "text": [
      "0.7166146314498685\n"
     ]
    }
   ],
   "source": [
    "xgb_3_params = {\n",
    "    'objective': 'reg:squarederror',\n",
    "    \"learning_rate\" : 0.05,\n",
    "    'n_estimators': 5000,\n",
    "    \"max_depth\":12,\n",
    "    \"min_child_weight\" :110,\n",
    "    \"gamma\" :0.01,\n",
    "    'booster': 'gbtree', \n",
    "    \"subsample\" : 0.7,\n",
    "    \"colsample_bytree\" : 0.1,\n",
    "    \"reg_lambda\" :65,\n",
    "    \"reg_alpha\":71,\n",
    "    \"max_delta_step\":10}\n",
    "\n",
    "model_XGB_3 = XGBRegressor(**xgb_3_params)\n",
    "model_XGB_3.fit(X_train, y_train) \n",
    "predictions_XGB_3 = model_XGB_3.predict(X_valid)\n",
    "print(mean_squared_error(y_valid, predictions_XGB_3, squared=False))"
   ]
  },
  {
   "cell_type": "code",
   "execution_count": 26,
   "id": "e4e8e1bc-9441-457e-adc5-17284efc47ed",
   "metadata": {},
   "outputs": [
    {
     "name": "stdout",
     "output_type": "stream",
     "text": [
      "0.7157119610099575\n"
     ]
    }
   ],
   "source": [
    "xgb_4_params = {\n",
    "    'random_state': 1, \n",
    "    'n_jobs': 4,\n",
    "    'booster': 'gbtree',\n",
    "    'n_estimators': 10000,\n",
    "    'learning_rate': 0.03628302216953097,\n",
    "    'reg_lambda': 0.0008746338866473539,\n",
    "    'reg_alpha': 23.13181079976304,\n",
    "    'subsample': 0.7875490025178415,\n",
    "    'colsample_bytree': 0.11807135201147481,\n",
    "    'max_depth': 3}\n",
    "\n",
    "model_XGB_4 = XGBRegressor(**xgb_4_params)\n",
    "model_XGB_4.fit(X_train, y_train) \n",
    "predictions_XGB_4 = model_XGB_4.predict(X_valid)\n",
    "print(mean_squared_error(y_valid, predictions_XGB_4, squared=False))"
   ]
  },
  {
   "cell_type": "code",
   "execution_count": 27,
   "id": "39d569bc-9f8e-42c9-8ff1-443b79324953",
   "metadata": {},
   "outputs": [
    {
     "name": "stdout",
     "output_type": "stream",
     "text": [
      "0.7164331275484737\n"
     ]
    }
   ],
   "source": [
    "xgb_5_params = {'learning_rate': 0.07853392035787837, \n",
    "          'reg_lambda': 1.7549293092194938e-05, \n",
    "          'reg_alpha': 14.68267919457715, \n",
    "          'subsample': 0.8031450486786944, \n",
    "          'colsample_bytree': 0.170759104940733, \n",
    "          'max_depth': 3,\n",
    "          'n_estimators': 5000\n",
    "         }\n",
    "model_XGB_5 = XGBRegressor(**xgb_5_params)\n",
    "model_XGB_5.fit(X_train, y_train) \n",
    "predictions_XGB_5 = model_XGB_5.predict(X_valid)\n",
    "print(mean_squared_error(y_valid, predictions_XGB_5, squared=False))"
   ]
  },
  {
   "cell_type": "code",
   "execution_count": 29,
   "id": "99e1a742-73d3-43c9-b1de-b081ce5d2ebd",
   "metadata": {},
   "outputs": [
    {
     "name": "stdout",
     "output_type": "stream",
     "text": [
      "[LightGBM] [Warning] num_iterations is set=80000, num_trees=80000 will be ignored. Current value: num_iterations=80000\n",
      "[LightGBM] [Warning] num_threads is set=4, n_jobs=-1 will be ignored. Current value: num_threads=4\n",
      "[LightGBM] [Warning] lambda_l1 is set=0.45, reg_alpha=0.0 will be ignored. Current value: lambda_l1=0.45\n",
      "[LightGBM] [Warning] feature_fraction is set=0.4, colsample_bytree=1.0 will be ignored. Current value: feature_fraction=0.4\n",
      "[LightGBM] [Warning] bagging_fraction is set=1.0, subsample=1.0 will be ignored. Current value: bagging_fraction=1.0\n",
      "[LightGBM] [Warning] lambda_l2 is set=4.8, reg_lambda=0.0 will be ignored. Current value: lambda_l2=4.8\n",
      "[LightGBM] [Warning] bagging_freq is set=0, subsample_freq=0 will be ignored. Current value: bagging_freq=0\n",
      "Training until validation scores don't improve for 1000 rounds\n",
      "Early stopping, best iteration is:\n",
      "[34543]\tvalid_0's rmse: 0.718327\n",
      "0.7183268257820973\n"
     ]
    }
   ],
   "source": [
    "lgbm_parameters = {\n",
    "    'metric': 'RMSE',\n",
    "    'feature_pre_filter': False,\n",
    "    'lambda_l1': 0.45,\n",
    "    'lambda_l2': 4.8,\n",
    "    'learning_rate': 0.005,\n",
    "    'num_trees': 80000,\n",
    "    'num_leaves': 10, \n",
    "    'feature_fraction': 0.4, \n",
    "    'bagging_fraction': 1.0, \n",
    "    'bagging_freq': 0, \n",
    "    'min_child_samples': 100,\n",
    "    'num_threads': 4\n",
    "}\n",
    "\n",
    "lgbm_model = LGBMRegressor(**lgbm_parameters)\n",
    "lgbm_model.fit(X_train, y_train, eval_set = ((X_valid,y_valid)),verbose = -1, early_stopping_rounds = 1000,categorical_feature=cat_features) \n",
    "predictions_LGBM = lgbm_model.predict(X_valid)\n",
    "print(mean_squared_error(y_valid, predictions_LGBM, squared=False))"
   ]
  },
  {
   "cell_type": "code",
   "execution_count": 30,
   "id": "f27d907a-7fee-42cd-a394-ecdc30f93a1f",
   "metadata": {},
   "outputs": [
    {
     "name": "stdout",
     "output_type": "stream",
     "text": [
      "Training until validation scores don't improve for 1000 rounds\n",
      "Early stopping, best iteration is:\n",
      "[1481]\tvalid_0's rmse: 0.719918\n",
      "0.7199178355503685\n"
     ]
    }
   ],
   "source": [
    "lgbm_parameters_1 = {\n",
    "    'metric': 'RMSE',\n",
    "    'feature_pre_filter': False,\n",
    "    'reg_alpha': 0.4972562469417825, \n",
    "    'reg_lambda': 0.3273637203281044, \n",
    "    'num_leaves': 50, \n",
    "    'learning_rate': 0.032108486615557354,                      \n",
    "    'max_depth': 40,                     \n",
    "    'n_estimators': 4060, \n",
    "    'min_child_weight': 0.0173353329222102,\n",
    "    'subsample': 0.9493343850444064, \n",
    "    'colsample_bytree': 0.5328221263825876, \n",
    "    'min_child_samples': 80\n",
    "}\n",
    "\n",
    "lgbm_model_1 = LGBMRegressor(**lgbm_parameters_1)\n",
    "lgbm_model_1.fit(X_train, y_train, eval_set = ((X_valid,y_valid)),verbose = -1, early_stopping_rounds = 1000,categorical_feature=cat_features) \n",
    "predictions_LGBM_1 = lgbm_model_1.predict(X_valid)\n",
    "print(mean_squared_error(y_valid, predictions_LGBM_1, squared=False))"
   ]
  },
  {
   "cell_type": "code",
   "execution_count": 31,
   "id": "b4d37cd5-1d05-4ee6-a868-f8e9b5db7969",
   "metadata": {},
   "outputs": [
    {
     "name": "stdout",
     "output_type": "stream",
     "text": [
      "Training until validation scores don't improve for 2000 rounds\n",
      "Early stopping, best iteration is:\n",
      "[1208]\tvalid_0's rmse: 0.719881\n",
      "0.7198805848572547\n"
     ]
    }
   ],
   "source": [
    "lgbm_parameters_2 = {\n",
    "    'metric': 'RMSE',\n",
    "    'feature_pre_filter': False,\n",
    "    'reg_alpha': 0.4994758073847213, \n",
    "    'reg_lambda': 0.32496035638807086, \n",
    "    'num_leaves': 55, \n",
    "    'learning_rate': 0.03292764050310852, \n",
    "    'max_depth': 32, \n",
    "    'n_estimators': 6059, \n",
    "    'min_child_weight': 0.018085927063358823, \n",
    "    'subsample': 0.9553223859131216, \n",
    "    'colsample_bytree': 0.5253243484788512, \n",
    "    'min_child_samples': 77\n",
    "}\n",
    "\n",
    "lgbm_model_2 = LGBMRegressor(**lgbm_parameters_2)\n",
    "lgbm_model_2.fit(X_train, y_train, eval_set = ((X_valid,y_valid)),verbose = -1, early_stopping_rounds = 2000,categorical_feature=cat_features) \n",
    "predictions_LGBM_2 = lgbm_model_2.predict(X_valid)\n",
    "print(mean_squared_error(y_valid, predictions_LGBM_2, squared=False))"
   ]
  },
  {
   "cell_type": "code",
   "execution_count": 32,
   "id": "18b90218-40d5-4407-9e24-56a60ee4f0d6",
   "metadata": {},
   "outputs": [
    {
     "name": "stdout",
     "output_type": "stream",
     "text": [
      "0:\tlearn: 0.7464904\ttotal: 107ms\tremaining: 2m 50s\n",
      "200:\tlearn: 0.7308795\ttotal: 7.82s\tremaining: 54.4s\n",
      "400:\tlearn: 0.7261869\ttotal: 15.2s\tremaining: 45.4s\n",
      "600:\tlearn: 0.7214357\ttotal: 22.4s\tremaining: 37.2s\n",
      "800:\tlearn: 0.7156556\ttotal: 29.5s\tremaining: 29.4s\n",
      "1000:\tlearn: 0.7108888\ttotal: 36.7s\tremaining: 21.9s\n",
      "1200:\tlearn: 0.7069343\ttotal: 43.9s\tremaining: 14.6s\n",
      "1400:\tlearn: 0.7032917\ttotal: 51.6s\tremaining: 7.33s\n",
      "1599:\tlearn: 0.6999247\ttotal: 1m\tremaining: 0us\n",
      "0.7198383870414209\n"
     ]
    }
   ],
   "source": [
    "cat_parameters_1 = {    \n",
    "    'iterations':1600,\n",
    "    'learning_rate':0.024,\n",
    "    'l2_leaf_reg':20,\n",
    "    'random_strength':1.5,\n",
    "    'grow_policy':'Depthwise',\n",
    "    'leaf_estimation_method':'Newton', \n",
    "    'bootstrap_type':'Bernoulli',\n",
    "    'thread_count':4,\n",
    "    'verbose':False,\n",
    "    'loss_function':'RMSE',\n",
    "    'eval_metric':'RMSE',\n",
    "    'od_type':'Iter'\n",
    "}\n",
    "\n",
    "cat_model_1 = CatBoostRegressor(**cat_parameters_1)\n",
    "cat_model_1.fit(X_train, y_train, verbose =200) \n",
    "predictions_cat_1 = cat_model_1.predict(X_valid)\n",
    "print(mean_squared_error(y_valid, predictions_cat_1, squared=False))"
   ]
  },
  {
   "cell_type": "code",
   "execution_count": 34,
   "id": "08b0f59e-c4d9-44a0-a499-1e586159a0e7",
   "metadata": {},
   "outputs": [],
   "source": [
    "# Use the models to generate predictions\n",
    "pred_1 = model_rf.predict(X_test)\n",
    "pred_2 = model_XGB.predict(X_test)\n",
    "pred_3 = model_XGB_1.predict(X_test)\n",
    "pred_4 = model_XGB_2.predict(X_test)\n",
    "pred_5 = model_XGB_3.predict(X_test)\n",
    "pred_6 = model_XGB_4.predict(X_test)\n",
    "pred_7 = model_XGB_5.predict(X_test)\n",
    "pred_8 = lgbm_model.predict(X_test)\n",
    "pred_9 = lgbm_model_1.predict(X_test)\n",
    "pred_10= lgbm_model_2.predict(X_test)\n",
    "pred_11 = cat_model_1.predict(X_test)\n",
    "\n",
    "# Make sure to check that the weights sum up to ~1 by averaging the weights later \n",
    "preds = [pred_1, pred_2, pred_3, pred_4, pred_5, pred_6, pred_7, pred_8, pred_9, pred_10, pred_11]\n",
    "weights = [0., 1., 900., 900., 900., 5000., 1000., 90., 5., 1., 1.] \n",
    "\n",
    "sample_submission = pd.read_csv(\"../data/original/sample_submission.csv\")\n",
    "sample_submission.target = 0.0\n",
    "\n",
    "for pred, weight in zip(preds, weights):\n",
    "    sample_submission.target += weight * pred / sum(weights)\n",
    "\n",
    "sample_submission.to_csv('../data/submit/009_submission.csv', index=False)"
   ]
  },
  {
   "cell_type": "code",
   "execution_count": null,
   "id": "62e4bc78-9021-483e-bdec-7d81b31bdb3a",
   "metadata": {},
   "outputs": [],
   "source": []
  }
 ],
 "metadata": {
  "kernelspec": {
   "display_name": "Python 3",
   "language": "python",
   "name": "python3"
  },
  "language_info": {
   "codemirror_mode": {
    "name": "ipython",
    "version": 3
   },
   "file_extension": ".py",
   "mimetype": "text/x-python",
   "name": "python",
   "nbconvert_exporter": "python",
   "pygments_lexer": "ipython3",
   "version": "3.8.8"
  }
 },
 "nbformat": 4,
 "nbformat_minor": 5
}
