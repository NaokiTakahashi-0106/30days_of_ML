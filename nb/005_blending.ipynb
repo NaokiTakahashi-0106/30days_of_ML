{
 "cells": [
  {
   "cell_type": "code",
   "execution_count": 1,
   "id": "acec837f-0b46-49cb-87ba-4d1bf35b4314",
   "metadata": {},
   "outputs": [],
   "source": [
    "import numpy as np\n",
    "import pandas as pd\n",
    "import scipy as sp\n",
    "\n",
    "import matplotlib\n",
    "import matplotlib.pyplot as plt\n",
    "import seaborn as sns\n",
    "\n",
    "from sklearn.preprocessing import OrdinalEncoder\n",
    "from sklearn.model_selection import train_test_split\n",
    "from mlxtend.preprocessing import minmax_scaling\n",
    "\n",
    "from sklearn.linear_model import Ridge, Lasso, ElasticNet\n",
    "from sklearn.svm import SVR, NuSVR, LinearSVR\n",
    "from sklearn.neighbors import KNeighborsRegressor\n",
    "from sklearn.metrics import *\n",
    "\n",
    "from sklearn.ensemble import RandomForestRegressor\n",
    "from xgboost import XGBRegressor\n",
    "from lightgbm import LGBMRegressor\n",
    "from catboost import CatBoostRegressor\n",
    "\n",
    "import warnings\n",
    "\n",
    "pd.set_option('display.max_rows', None)\n",
    "pd.set_option('display.max_columns', None)\n",
    "warnings.filterwarnings('ignore')"
   ]
  },
  {
   "cell_type": "code",
   "execution_count": 2,
   "id": "98e31864-a752-41ab-8d3b-3702cadbc794",
   "metadata": {},
   "outputs": [],
   "source": [
    "train = pd.read_csv(\"../data/process/train_folds.csv\")\n",
    "test = pd.read_csv(\"../data/original/test.csv\")\n",
    "sample_submission = pd.read_csv(\"../data/original/sample_submission.csv\")"
   ]
  },
  {
   "cell_type": "code",
   "execution_count": 47,
   "id": "eadd1c36-53be-4283-a262-798bd08dc1e4",
   "metadata": {},
   "outputs": [],
   "source": [
    "useful_features = [c for c in train.columns if c not in (\"id\", \"target\", \"kfold\")]\n",
    "cat_features = [\"cat\" + str(i) for i in range(10)]\n",
    "num_features = [\"cont\" + str(i) for i in range(14)]\n",
    "test = test[useful_features]"
   ]
  },
  {
   "cell_type": "code",
   "execution_count": 5,
   "id": "6cfc0875-7e31-4397-9813-ce07c261f5ee",
   "metadata": {},
   "outputs": [],
   "source": [
    "final_test_predictions = []\n",
    "final_valid_predictions = {}\n",
    "scores = []"
   ]
  },
  {
   "cell_type": "code",
   "execution_count": 8,
   "id": "923bfd47-a703-4091-b853-a4b19ad58b53",
   "metadata": {},
   "outputs": [
    {
     "name": "stdout",
     "output_type": "stream",
     "text": [
      "[0]\tvalidation_0-rmse:7.50025\n",
      "[1000]\tvalidation_0-rmse:0.72365\n",
      "[2000]\tvalidation_0-rmse:0.71926\n",
      "[3000]\tvalidation_0-rmse:0.71740\n",
      "[4000]\tvalidation_0-rmse:0.71647\n",
      "[5000]\tvalidation_0-rmse:0.71602\n",
      "[6000]\tvalidation_0-rmse:0.71583\n",
      "[7000]\tvalidation_0-rmse:0.71568\n",
      "[8000]\tvalidation_0-rmse:0.71563\n",
      "[8109]\tvalidation_0-rmse:0.71564\n",
      "0 0.7156123450764549\n",
      "[0]\tvalidation_0-rmse:7.49701\n",
      "[1000]\tvalidation_0-rmse:0.72328\n",
      "[2000]\tvalidation_0-rmse:0.71893\n",
      "[3000]\tvalidation_0-rmse:0.71723\n",
      "[4000]\tvalidation_0-rmse:0.71645\n",
      "[5000]\tvalidation_0-rmse:0.71609\n",
      "[6000]\tvalidation_0-rmse:0.71588\n",
      "[7000]\tvalidation_0-rmse:0.71581\n",
      "[7089]\tvalidation_0-rmse:0.71581\n",
      "1 0.715790955040373\n",
      "[0]\tvalidation_0-rmse:7.49484\n",
      "[1000]\tvalidation_0-rmse:0.72505\n",
      "[2000]\tvalidation_0-rmse:0.72076\n",
      "[3000]\tvalidation_0-rmse:0.71905\n",
      "[4000]\tvalidation_0-rmse:0.71824\n",
      "[5000]\tvalidation_0-rmse:0.71788\n",
      "[6000]\tvalidation_0-rmse:0.71769\n",
      "[6830]\tvalidation_0-rmse:0.71767\n",
      "2 0.7176511340540268\n",
      "[0]\tvalidation_0-rmse:7.49708\n",
      "[1000]\tvalidation_0-rmse:0.72495\n",
      "[2000]\tvalidation_0-rmse:0.72074\n",
      "[3000]\tvalidation_0-rmse:0.71902\n",
      "[4000]\tvalidation_0-rmse:0.71818\n",
      "[5000]\tvalidation_0-rmse:0.71781\n",
      "[6000]\tvalidation_0-rmse:0.71757\n",
      "[6910]\tvalidation_0-rmse:0.71749\n",
      "3 0.7174792614617281\n",
      "[0]\tvalidation_0-rmse:7.50248\n",
      "[1000]\tvalidation_0-rmse:0.72430\n",
      "[2000]\tvalidation_0-rmse:0.71960\n",
      "[3000]\tvalidation_0-rmse:0.71761\n",
      "[4000]\tvalidation_0-rmse:0.71668\n",
      "[5000]\tvalidation_0-rmse:0.71622\n",
      "[6000]\tvalidation_0-rmse:0.71595\n",
      "[7000]\tvalidation_0-rmse:0.71583\n",
      "[7932]\tvalidation_0-rmse:0.71581\n",
      "4 0.7157954937142754\n"
     ]
    }
   ],
   "source": [
    "for fold in range(5):\n",
    "    xtrain =  train[train.kfold != fold].reset_index(drop=True)\n",
    "    xvalid = train[train.kfold == fold].reset_index(drop=True)\n",
    "    xtest = test.copy()\n",
    "    \n",
    "    valid_ids = xvalid.id.values.tolist()\n",
    "\n",
    "    ytrain = xtrain.target\n",
    "    yvalid = xvalid.target\n",
    "    \n",
    "    xtrain = xtrain[useful_features]\n",
    "    xvalid = xvalid[useful_features]\n",
    "    \n",
    "    ordinal_encoder = OrdinalEncoder()\n",
    "    xtrain[cat_features] = ordinal_encoder.fit_transform(xtrain[cat_features])\n",
    "    xvalid[cat_features] = ordinal_encoder.transform(xvalid[cat_features])\n",
    "    xtest[cat_features] = ordinal_encoder.transform(xtest[cat_features])\n",
    "    \n",
    "    params = {\n",
    "    'random_state': 1, \n",
    "    'n_jobs': 4,\n",
    "    'booster': 'gbtree',\n",
    "    'n_estimators': 10000,\n",
    "    'learning_rate': 0.03628302216953097,\n",
    "    'reg_lambda': 0.0008746338866473539,\n",
    "    'reg_alpha': 23.13181079976304,\n",
    "    'subsample': 0.7875490025178415,\n",
    "    'colsample_bytree': 0.11807135201147481,\n",
    "    'max_depth': 3\n",
    "    }\n",
    "    \n",
    "    model = XGBRegressor(\n",
    "        **params\n",
    "    )\n",
    "    model.fit(xtrain, ytrain, early_stopping_rounds=300, eval_set=[(xvalid, yvalid)], verbose=1000)\n",
    "    preds_valid = model.predict(xvalid)\n",
    "    test_preds = model.predict(xtest)\n",
    "    final_test_predictions.append(test_preds)\n",
    "    final_valid_predictions.update(dict(zip(valid_ids, preds_valid)))\n",
    "    rmse = mean_squared_error(yvalid, preds_valid, squared=False)\n",
    "    print(fold, rmse)\n",
    "    scores.append(rmse)"
   ]
  },
  {
   "cell_type": "code",
   "execution_count": 9,
   "id": "cb6e70ea-c23c-474d-89ee-2624df0664e2",
   "metadata": {},
   "outputs": [
    {
     "name": "stdout",
     "output_type": "stream",
     "text": [
      "0.7164658378693716 0.0009016909104135961\n"
     ]
    }
   ],
   "source": [
    "print(np.mean(scores), np.std(scores))"
   ]
  },
  {
   "cell_type": "code",
   "execution_count": 10,
   "id": "812fb4de-bb14-4823-a911-5298aa91ae5f",
   "metadata": {},
   "outputs": [],
   "source": [
    "final_valid_predictions = pd.DataFrame.from_dict(final_valid_predictions, orient=\"index\").reset_index()"
   ]
  },
  {
   "cell_type": "code",
   "execution_count": 12,
   "id": "c14a00e0-7871-445d-acdf-242f1a013154",
   "metadata": {},
   "outputs": [],
   "source": [
    "final_valid_predictions.columns = [\"id\", \"pred_1\"]\n",
    "final_valid_predictions.to_csv(\"../data/process/train_pred_1.csv\", index=False)"
   ]
  },
  {
   "cell_type": "code",
   "execution_count": 14,
   "id": "2f3a0cc4-1c2a-4447-90c0-30b0bb7ca43e",
   "metadata": {},
   "outputs": [
    {
     "data": {
      "text/plain": [
       "array([[8.095299 , 8.078904 , 8.078672 , 8.071487 , 8.073331 ],\n",
       "       [8.393495 , 8.419998 , 8.353354 , 8.403889 , 8.411974 ],\n",
       "       [8.42839  , 8.41259  , 8.448543 , 8.435491 , 8.402265 ],\n",
       "       ...,\n",
       "       [8.524944 , 8.4925   , 8.551234 , 8.53426  , 8.509216 ],\n",
       "       [8.20727  , 8.168365 , 8.14348  , 8.136907 , 8.193927 ],\n",
       "       [7.9834924, 7.9846087, 7.9937625, 7.98233  , 7.9678774]],\n",
       "      dtype=float32)"
      ]
     },
     "execution_count": 14,
     "metadata": {},
     "output_type": "execute_result"
    }
   ],
   "source": [
    "np.column_stack(final_test_predictions)"
   ]
  },
  {
   "cell_type": "code",
   "execution_count": 16,
   "id": "4523d7fd-57a5-42fb-871f-335a8a189be9",
   "metadata": {},
   "outputs": [],
   "source": [
    "sample_submission.target = np.mean(np.column_stack(final_test_predictions), axis=1)\n",
    "sample_submission.columns = [\"id\", \"pred_1\"]\n",
    "sample_submission.to_csv(\"../data/process/test_pred_1.csv\", index=False)"
   ]
  },
  {
   "cell_type": "code",
   "execution_count": 28,
   "id": "cd9291b3-0400-430e-98ba-3356e6cdfea8",
   "metadata": {},
   "outputs": [],
   "source": [
    "final_test_predictions = []\n",
    "final_valid_predictions = {}\n",
    "scores = []"
   ]
  },
  {
   "cell_type": "code",
   "execution_count": 29,
   "id": "012355a1-b39b-45e0-b7b0-52fe395b1d16",
   "metadata": {},
   "outputs": [
    {
     "name": "stdout",
     "output_type": "stream",
     "text": [
      "0 0.7384533951464144\n",
      "1 0.7383790351755226\n",
      "2 0.7398428330399516\n",
      "3 0.7394394194738504\n",
      "4 0.7399615707462769\n"
     ]
    }
   ],
   "source": [
    "for fold in range(5):\n",
    "    xtrain =  train[train.kfold != fold].reset_index(drop=True)\n",
    "    xvalid = train[train.kfold == fold].reset_index(drop=True)\n",
    "    xtest = test.copy()\n",
    "    \n",
    "    valid_ids = xvalid.id.values.tolist()\n",
    "\n",
    "    ytrain = xtrain.target\n",
    "    yvalid = xvalid.target\n",
    "    \n",
    "    xtrain = xtrain[useful_features]\n",
    "    xvalid = xvalid[useful_features]\n",
    "    \n",
    "    ordinal_encoder = OrdinalEncoder()\n",
    "    xtrain[cat_features] = ordinal_encoder.fit_transform(xtrain[cat_features])\n",
    "    xvalid[cat_features] = ordinal_encoder.transform(xvalid[cat_features])\n",
    "    xtest[cat_features] = ordinal_encoder.transform(xtest[cat_features])\n",
    "    \n",
    "    \n",
    "    rg = Ridge(alpha=0.1, random_state=fold)\n",
    "    rg.fit(xtrain, ytrain)\n",
    "    preds_valid = rg.predict(xvalid)\n",
    "    test_preds = rg.predict(xtest)\n",
    "    preds_valid = preds_valid.astype(float) \n",
    "    test_preds = test_preds.astype(float)\n",
    "    final_test_predictions.append(test_preds)\n",
    "    final_valid_predictions.update(dict(zip(valid_ids, preds_valid)))\n",
    "    rmse = mean_squared_error(yvalid, preds_valid, squared=False)\n",
    "    print(fold, rmse)\n",
    "    scores.append(rmse)"
   ]
  },
  {
   "cell_type": "code",
   "execution_count": 30,
   "id": "8b22cfe1-8ef8-497b-8c7b-786352691284",
   "metadata": {},
   "outputs": [
    {
     "name": "stdout",
     "output_type": "stream",
     "text": [
      "0.7392152507164031 0.0006753939786479647\n"
     ]
    }
   ],
   "source": [
    "print(np.mean(scores), np.std(scores))"
   ]
  },
  {
   "cell_type": "code",
   "execution_count": 31,
   "id": "6a881f52-4e52-4ca6-b3c9-ba215c92dc97",
   "metadata": {},
   "outputs": [],
   "source": [
    "final_valid_predictions = pd.DataFrame.from_dict(final_valid_predictions, orient=\"index\").reset_index()"
   ]
  },
  {
   "cell_type": "code",
   "execution_count": 32,
   "id": "95aeb449-bdf6-45d4-a721-ca8369f96bc2",
   "metadata": {},
   "outputs": [],
   "source": [
    "final_valid_predictions.columns = [\"id\", \"pred_2\"]\n",
    "final_valid_predictions.to_csv(\"../data/process/train_pred_2.csv\", index=False)"
   ]
  },
  {
   "cell_type": "code",
   "execution_count": 33,
   "id": "bff9a452-fd05-4b91-8215-b4a0b75e6912",
   "metadata": {},
   "outputs": [],
   "source": [
    "sample_submission.target = np.mean(np.column_stack(final_test_predictions), axis=1)\n",
    "sample_submission.columns = [\"id\", \"pred_2\"]\n",
    "sample_submission.to_csv(\"../data/process/test_pred_2.csv\", index=False)"
   ]
  },
  {
   "cell_type": "code",
   "execution_count": 34,
   "id": "a643a98e-a843-44c0-8185-001edd0dc3f7",
   "metadata": {},
   "outputs": [],
   "source": [
    "df1 = pd.read_csv(\"../data/process/train_pred_1.csv\")\n",
    "df2 = pd.read_csv(\"../data/process/train_pred_2.csv\")"
   ]
  },
  {
   "cell_type": "code",
   "execution_count": 35,
   "id": "3c69f3a1-b7f7-45c7-bc97-4e18df8452a6",
   "metadata": {},
   "outputs": [],
   "source": [
    "df_test1 = pd.read_csv(\"../data/process/test_pred_1.csv\")\n",
    "df_test2 = pd.read_csv(\"../data/process/test_pred_2.csv\")"
   ]
  },
  {
   "cell_type": "code",
   "execution_count": 37,
   "id": "20efac5a-c591-450e-9632-9a66623b7f65",
   "metadata": {},
   "outputs": [],
   "source": [
    "df = pd.read_csv(\"../data/process/train_folds.csv\")\n",
    "df_test = pd.read_csv(\"../data/original/test.csv\")\n",
    "sample_submission = pd.read_csv(\"../data/original/sample_submission.csv\")"
   ]
  },
  {
   "cell_type": "code",
   "execution_count": 38,
   "id": "2260a76c-2e3d-420a-b7c3-cb305593af4d",
   "metadata": {},
   "outputs": [],
   "source": [
    "df = df.merge(df1, on=\"id\", how=\"left\")\n",
    "df = df.merge(df2, on=\"id\", how=\"left\")"
   ]
  },
  {
   "cell_type": "code",
   "execution_count": 57,
   "id": "c5c72996-c5ba-4af3-b75b-f2c5c4b80c4a",
   "metadata": {},
   "outputs": [],
   "source": [
    "df_test = pd.read_csv(\"../data/original/test.csv\")\n",
    "df_test = df_test.merge(df_test1, on=\"id\", how=\"left\")\n",
    "df_test = df_test.merge(df_test2, on=\"id\", how=\"left\")"
   ]
  },
  {
   "cell_type": "code",
   "execution_count": 41,
   "id": "f0e0526f-d611-418a-b0e0-3254027bf8b5",
   "metadata": {},
   "outputs": [
    {
     "data": {
      "text/html": [
       "<div>\n",
       "<style scoped>\n",
       "    .dataframe tbody tr th:only-of-type {\n",
       "        vertical-align: middle;\n",
       "    }\n",
       "\n",
       "    .dataframe tbody tr th {\n",
       "        vertical-align: top;\n",
       "    }\n",
       "\n",
       "    .dataframe thead th {\n",
       "        text-align: right;\n",
       "    }\n",
       "</style>\n",
       "<table border=\"1\" class=\"dataframe\">\n",
       "  <thead>\n",
       "    <tr style=\"text-align: right;\">\n",
       "      <th></th>\n",
       "      <th>id</th>\n",
       "      <th>cat0</th>\n",
       "      <th>cat1</th>\n",
       "      <th>cat2</th>\n",
       "      <th>cat3</th>\n",
       "      <th>cat4</th>\n",
       "      <th>cat5</th>\n",
       "      <th>cat6</th>\n",
       "      <th>cat7</th>\n",
       "      <th>cat8</th>\n",
       "      <th>cat9</th>\n",
       "      <th>cont0</th>\n",
       "      <th>cont1</th>\n",
       "      <th>cont2</th>\n",
       "      <th>cont3</th>\n",
       "      <th>cont4</th>\n",
       "      <th>cont5</th>\n",
       "      <th>cont6</th>\n",
       "      <th>cont7</th>\n",
       "      <th>cont8</th>\n",
       "      <th>cont9</th>\n",
       "      <th>cont10</th>\n",
       "      <th>cont11</th>\n",
       "      <th>cont12</th>\n",
       "      <th>cont13</th>\n",
       "      <th>target</th>\n",
       "      <th>kfold</th>\n",
       "      <th>pred_1</th>\n",
       "      <th>pred_2</th>\n",
       "    </tr>\n",
       "  </thead>\n",
       "  <tbody>\n",
       "    <tr>\n",
       "      <th>0</th>\n",
       "      <td>1</td>\n",
       "      <td>B</td>\n",
       "      <td>B</td>\n",
       "      <td>B</td>\n",
       "      <td>C</td>\n",
       "      <td>B</td>\n",
       "      <td>B</td>\n",
       "      <td>A</td>\n",
       "      <td>E</td>\n",
       "      <td>C</td>\n",
       "      <td>N</td>\n",
       "      <td>0.201470</td>\n",
       "      <td>-0.014822</td>\n",
       "      <td>0.669699</td>\n",
       "      <td>0.136278</td>\n",
       "      <td>0.610706</td>\n",
       "      <td>0.400361</td>\n",
       "      <td>0.160266</td>\n",
       "      <td>0.310921</td>\n",
       "      <td>0.389470</td>\n",
       "      <td>0.267559</td>\n",
       "      <td>0.237281</td>\n",
       "      <td>0.377873</td>\n",
       "      <td>0.322401</td>\n",
       "      <td>0.869850</td>\n",
       "      <td>8.113634</td>\n",
       "      <td>0</td>\n",
       "      <td>8.447721</td>\n",
       "      <td>8.183844</td>\n",
       "    </tr>\n",
       "    <tr>\n",
       "      <th>1</th>\n",
       "      <td>2</td>\n",
       "      <td>B</td>\n",
       "      <td>B</td>\n",
       "      <td>A</td>\n",
       "      <td>A</td>\n",
       "      <td>B</td>\n",
       "      <td>D</td>\n",
       "      <td>A</td>\n",
       "      <td>F</td>\n",
       "      <td>A</td>\n",
       "      <td>O</td>\n",
       "      <td>0.743068</td>\n",
       "      <td>0.367411</td>\n",
       "      <td>1.021605</td>\n",
       "      <td>0.365798</td>\n",
       "      <td>0.276853</td>\n",
       "      <td>0.533087</td>\n",
       "      <td>0.558922</td>\n",
       "      <td>0.516294</td>\n",
       "      <td>0.594928</td>\n",
       "      <td>0.341439</td>\n",
       "      <td>0.906013</td>\n",
       "      <td>0.921701</td>\n",
       "      <td>0.261975</td>\n",
       "      <td>0.465083</td>\n",
       "      <td>8.481233</td>\n",
       "      <td>2</td>\n",
       "      <td>8.434570</td>\n",
       "      <td>8.479641</td>\n",
       "    </tr>\n",
       "    <tr>\n",
       "      <th>2</th>\n",
       "      <td>3</td>\n",
       "      <td>A</td>\n",
       "      <td>A</td>\n",
       "      <td>A</td>\n",
       "      <td>C</td>\n",
       "      <td>B</td>\n",
       "      <td>D</td>\n",
       "      <td>A</td>\n",
       "      <td>D</td>\n",
       "      <td>A</td>\n",
       "      <td>F</td>\n",
       "      <td>0.742708</td>\n",
       "      <td>0.310383</td>\n",
       "      <td>-0.012673</td>\n",
       "      <td>0.576957</td>\n",
       "      <td>0.285074</td>\n",
       "      <td>0.650609</td>\n",
       "      <td>0.375348</td>\n",
       "      <td>0.902567</td>\n",
       "      <td>0.555205</td>\n",
       "      <td>0.843531</td>\n",
       "      <td>0.748809</td>\n",
       "      <td>0.620126</td>\n",
       "      <td>0.541474</td>\n",
       "      <td>0.763846</td>\n",
       "      <td>8.364351</td>\n",
       "      <td>4</td>\n",
       "      <td>8.219918</td>\n",
       "      <td>8.180162</td>\n",
       "    </tr>\n",
       "    <tr>\n",
       "      <th>3</th>\n",
       "      <td>4</td>\n",
       "      <td>B</td>\n",
       "      <td>B</td>\n",
       "      <td>A</td>\n",
       "      <td>C</td>\n",
       "      <td>B</td>\n",
       "      <td>D</td>\n",
       "      <td>A</td>\n",
       "      <td>E</td>\n",
       "      <td>C</td>\n",
       "      <td>K</td>\n",
       "      <td>0.429551</td>\n",
       "      <td>0.620998</td>\n",
       "      <td>0.577942</td>\n",
       "      <td>0.280610</td>\n",
       "      <td>0.284667</td>\n",
       "      <td>0.668980</td>\n",
       "      <td>0.239061</td>\n",
       "      <td>0.732948</td>\n",
       "      <td>0.679618</td>\n",
       "      <td>0.574844</td>\n",
       "      <td>0.346010</td>\n",
       "      <td>0.714610</td>\n",
       "      <td>0.540150</td>\n",
       "      <td>0.280682</td>\n",
       "      <td>8.049253</td>\n",
       "      <td>3</td>\n",
       "      <td>8.353198</td>\n",
       "      <td>8.272754</td>\n",
       "    </tr>\n",
       "    <tr>\n",
       "      <th>4</th>\n",
       "      <td>6</td>\n",
       "      <td>A</td>\n",
       "      <td>A</td>\n",
       "      <td>A</td>\n",
       "      <td>C</td>\n",
       "      <td>B</td>\n",
       "      <td>D</td>\n",
       "      <td>A</td>\n",
       "      <td>E</td>\n",
       "      <td>A</td>\n",
       "      <td>N</td>\n",
       "      <td>1.058291</td>\n",
       "      <td>0.367492</td>\n",
       "      <td>-0.052389</td>\n",
       "      <td>0.232407</td>\n",
       "      <td>0.287595</td>\n",
       "      <td>0.686964</td>\n",
       "      <td>0.420667</td>\n",
       "      <td>0.648182</td>\n",
       "      <td>0.684501</td>\n",
       "      <td>0.956692</td>\n",
       "      <td>1.000773</td>\n",
       "      <td>0.776742</td>\n",
       "      <td>0.625849</td>\n",
       "      <td>0.250823</td>\n",
       "      <td>7.972260</td>\n",
       "      <td>1</td>\n",
       "      <td>8.258547</td>\n",
       "      <td>8.318773</td>\n",
       "    </tr>\n",
       "  </tbody>\n",
       "</table>\n",
       "</div>"
      ],
      "text/plain": [
       "   id cat0 cat1 cat2 cat3 cat4 cat5 cat6 cat7 cat8 cat9     cont0     cont1  \\\n",
       "0   1    B    B    B    C    B    B    A    E    C    N  0.201470 -0.014822   \n",
       "1   2    B    B    A    A    B    D    A    F    A    O  0.743068  0.367411   \n",
       "2   3    A    A    A    C    B    D    A    D    A    F  0.742708  0.310383   \n",
       "3   4    B    B    A    C    B    D    A    E    C    K  0.429551  0.620998   \n",
       "4   6    A    A    A    C    B    D    A    E    A    N  1.058291  0.367492   \n",
       "\n",
       "      cont2     cont3     cont4     cont5     cont6     cont7     cont8  \\\n",
       "0  0.669699  0.136278  0.610706  0.400361  0.160266  0.310921  0.389470   \n",
       "1  1.021605  0.365798  0.276853  0.533087  0.558922  0.516294  0.594928   \n",
       "2 -0.012673  0.576957  0.285074  0.650609  0.375348  0.902567  0.555205   \n",
       "3  0.577942  0.280610  0.284667  0.668980  0.239061  0.732948  0.679618   \n",
       "4 -0.052389  0.232407  0.287595  0.686964  0.420667  0.648182  0.684501   \n",
       "\n",
       "      cont9    cont10    cont11    cont12    cont13    target  kfold  \\\n",
       "0  0.267559  0.237281  0.377873  0.322401  0.869850  8.113634      0   \n",
       "1  0.341439  0.906013  0.921701  0.261975  0.465083  8.481233      2   \n",
       "2  0.843531  0.748809  0.620126  0.541474  0.763846  8.364351      4   \n",
       "3  0.574844  0.346010  0.714610  0.540150  0.280682  8.049253      3   \n",
       "4  0.956692  1.000773  0.776742  0.625849  0.250823  7.972260      1   \n",
       "\n",
       "     pred_1    pred_2  \n",
       "0  8.447721  8.183844  \n",
       "1  8.434570  8.479641  \n",
       "2  8.219918  8.180162  \n",
       "3  8.353198  8.272754  \n",
       "4  8.258547  8.318773  "
      ]
     },
     "execution_count": 41,
     "metadata": {},
     "output_type": "execute_result"
    }
   ],
   "source": [
    "\n",
    "df.head()"
   ]
  },
  {
   "cell_type": "code",
   "execution_count": 43,
   "id": "5555f81b-9d8f-45aa-8a42-3af771345735",
   "metadata": {},
   "outputs": [
    {
     "name": "stdout",
     "output_type": "stream",
     "text": [
      "0 0.7290179346727984\n",
      "1 0.7175876948162978\n",
      "2 0.7357820739193233\n",
      "3 0.7265694654255356\n",
      "4 0.7182825654418986\n",
      "0.7254479468551708 0.006839927660611691\n"
     ]
    }
   ],
   "source": [
    "useful_features = [\"pred_1\", \"pred_2\"]\n",
    "df_test = df_test[useful_features]\n",
    "\n",
    "final_predictions = []\n",
    "scores = []\n",
    "for fold in range(5):\n",
    "    xtrain =  df[df.kfold != fold].reset_index(drop=True)\n",
    "    xvalid = df[df.kfold == fold].reset_index(drop=True)\n",
    "    xtest = df_test.copy()\n",
    "\n",
    "    ytrain = xtrain.target\n",
    "    yvalid = xvalid.target\n",
    "    \n",
    "    xtrain = xtrain[useful_features]\n",
    "    xvalid = xvalid[useful_features]\n",
    "    \n",
    "    model = LinearSVR()\n",
    "    model.fit(xtrain, ytrain)\n",
    "    \n",
    "    preds_valid = model.predict(xvalid)\n",
    "    test_preds = model.predict(xtest)\n",
    "    final_predictions.append(test_preds)\n",
    "    rmse = mean_squared_error(yvalid, preds_valid, squared=False)\n",
    "    print(fold, rmse)\n",
    "    scores.append(rmse)\n",
    "\n",
    "print(np.mean(scores), np.std(scores))"
   ]
  },
  {
   "cell_type": "code",
   "execution_count": 44,
   "id": "daa9ae82-c35c-4a37-bbe0-5531a72d3fc1",
   "metadata": {},
   "outputs": [],
   "source": [
    "sample_submission.target = np.mean(np.column_stack(final_predictions), axis=1)\n",
    "sample_submission.to_csv(\"../data/submit/011_submission.csv\", index=False)"
   ]
  },
  {
   "cell_type": "markdown",
   "id": "eecd8db0-a5ad-479b-87f1-7f239f6bdeb4",
   "metadata": {},
   "source": [
    "score:0.71897"
   ]
  },
  {
   "cell_type": "code",
   "execution_count": 45,
   "id": "81779371-f3ec-40e2-8a76-e5e5234378dc",
   "metadata": {},
   "outputs": [],
   "source": [
    "final_test_predictions = []\n",
    "final_valid_predictions = {}\n",
    "scores = []"
   ]
  },
  {
   "cell_type": "code",
   "execution_count": 48,
   "id": "76cfd4fb-3f16-4c67-a62b-1d379ca17bd5",
   "metadata": {},
   "outputs": [
    {
     "name": "stdout",
     "output_type": "stream",
     "text": [
      "0 0.7317808745473757\n",
      "1 0.7317983688303781\n",
      "2 0.7335682382443652\n",
      "3 0.7332092605042874\n",
      "4 0.7325796284821621\n"
     ]
    }
   ],
   "source": [
    "for fold in range(5):\n",
    "    xtrain =  train[train.kfold != fold].reset_index(drop=True)\n",
    "    xvalid = train[train.kfold == fold].reset_index(drop=True)\n",
    "    xtest = test.copy()\n",
    "    \n",
    "    valid_ids = xvalid.id.values.tolist()\n",
    "\n",
    "    ytrain = xtrain.target\n",
    "    yvalid = xvalid.target\n",
    "    \n",
    "    xtrain = xtrain[useful_features]\n",
    "    xvalid = xvalid[useful_features]\n",
    "    \n",
    "    ordinal_encoder = OrdinalEncoder()\n",
    "    xtrain[cat_features] = ordinal_encoder.fit_transform(xtrain[cat_features])\n",
    "    xvalid[cat_features] = ordinal_encoder.transform(xvalid[cat_features])\n",
    "    xtest[cat_features] = ordinal_encoder.transform(xtest[cat_features])\n",
    "    \n",
    "    \n",
    "    model_rf = RandomForestRegressor(bootstrap=True, criterion='mse', max_depth=30,\n",
    "           max_features='sqrt', max_leaf_nodes=None,\n",
    "           min_impurity_decrease=0.0, min_impurity_split=None,\n",
    "           min_samples_leaf=2, min_samples_split=5,\n",
    "           min_weight_fraction_leaf=0.0, n_estimators=200, n_jobs=1,\n",
    "           oob_score=False, random_state=None, verbose=0, warm_start=False)\n",
    "    model_rf.fit(xtrain, ytrain)\n",
    "    preds_valid = model_rf.predict(xvalid)\n",
    "    test_preds = model_rf.predict(xtest)\n",
    "    final_test_predictions.append(test_preds)\n",
    "    final_valid_predictions.update(dict(zip(valid_ids, preds_valid)))\n",
    "    rmse = mean_squared_error(yvalid, preds_valid, squared=False)\n",
    "    print(fold, rmse)\n",
    "    scores.append(rmse)"
   ]
  },
  {
   "cell_type": "code",
   "execution_count": 49,
   "id": "77db94fb-4bf6-4949-9632-d6b672883c89",
   "metadata": {},
   "outputs": [
    {
     "name": "stdout",
     "output_type": "stream",
     "text": [
      "0.7325872741217136 0.0007241364454342191\n"
     ]
    }
   ],
   "source": [
    "print(np.mean(scores), np.std(scores))"
   ]
  },
  {
   "cell_type": "code",
   "execution_count": 50,
   "id": "5a254feb-ba5a-4cc0-9f58-84d350a312dc",
   "metadata": {},
   "outputs": [],
   "source": [
    "final_valid_predictions = pd.DataFrame.from_dict(final_valid_predictions, orient=\"index\").reset_index()"
   ]
  },
  {
   "cell_type": "code",
   "execution_count": 51,
   "id": "80fe5b39-190c-4cb5-81bb-4fcec089c97b",
   "metadata": {},
   "outputs": [],
   "source": [
    "final_valid_predictions.columns = [\"id\", \"pred_3\"]\n",
    "final_valid_predictions.to_csv(\"../data/process/train_pred_3.csv\", index=False)"
   ]
  },
  {
   "cell_type": "code",
   "execution_count": 52,
   "id": "a26f3b42-af75-430e-bad4-b783b0d57b40",
   "metadata": {},
   "outputs": [],
   "source": [
    "sample_submission.target = np.mean(np.column_stack(final_test_predictions), axis=1)\n",
    "sample_submission.columns = [\"id\", \"pred_3\"]\n",
    "sample_submission.to_csv(\"../data/process/test_pred_3.csv\", index=False)"
   ]
  },
  {
   "cell_type": "code",
   "execution_count": 53,
   "id": "9d57ee83-e7cf-4729-a97a-1f4db0c09ace",
   "metadata": {},
   "outputs": [],
   "source": [
    "df3 = pd.read_csv(\"../data/process/train_pred_3.csv\")"
   ]
  },
  {
   "cell_type": "code",
   "execution_count": 54,
   "id": "26af0cab-4223-4472-a99c-482c4df2e884",
   "metadata": {},
   "outputs": [],
   "source": [
    "df_test3 = pd.read_csv(\"../data/process/test_pred_3.csv\")"
   ]
  },
  {
   "cell_type": "code",
   "execution_count": 55,
   "id": "b655f672-679a-4f37-b540-c1a85db58743",
   "metadata": {},
   "outputs": [],
   "source": [
    "df = df.merge(df3, on=\"id\", how=\"left\")"
   ]
  },
  {
   "cell_type": "code",
   "execution_count": 58,
   "id": "774811b7-898c-43eb-b690-f83c26b1882c",
   "metadata": {},
   "outputs": [],
   "source": [
    "df_test = df_test.merge(df_test3, on=\"id\", how=\"left\")"
   ]
  },
  {
   "cell_type": "code",
   "execution_count": 59,
   "id": "05c1b1d1-646e-4cc6-b600-0440e4b300d0",
   "metadata": {},
   "outputs": [
    {
     "name": "stdout",
     "output_type": "stream",
     "text": [
      "0 0.716534881671988\n",
      "1 0.7216822067452666\n",
      "2 0.7178065957574278\n",
      "3 0.71883234545614\n",
      "4 0.7303175396343827\n",
      "0.7210347138530411 0.004941857225472209\n"
     ]
    }
   ],
   "source": [
    "useful_features = [\"pred_1\", \"pred_2\",\"pred_3\"]\n",
    "df_test = df_test[useful_features]\n",
    "\n",
    "final_predictions = []\n",
    "scores = []\n",
    "for fold in range(5):\n",
    "    xtrain =  df[df.kfold != fold].reset_index(drop=True)\n",
    "    xvalid = df[df.kfold == fold].reset_index(drop=True)\n",
    "    xtest = df_test.copy()\n",
    "\n",
    "    ytrain = xtrain.target\n",
    "    yvalid = xvalid.target\n",
    "    \n",
    "    xtrain = xtrain[useful_features]\n",
    "    xvalid = xvalid[useful_features]\n",
    "    \n",
    "    model = LinearSVR()\n",
    "    model.fit(xtrain, ytrain)\n",
    "    \n",
    "    preds_valid = model.predict(xvalid)\n",
    "    test_preds = model.predict(xtest)\n",
    "    final_predictions.append(test_preds)\n",
    "    rmse = mean_squared_error(yvalid, preds_valid, squared=False)\n",
    "    print(fold, rmse)\n",
    "    scores.append(rmse)\n",
    "\n",
    "print(np.mean(scores), np.std(scores))"
   ]
  },
  {
   "cell_type": "code",
   "execution_count": 60,
   "id": "54c5bd8e-129d-4d23-915a-c9746646a61b",
   "metadata": {},
   "outputs": [],
   "source": [
    "sample_submission.target = np.mean(np.column_stack(final_predictions), axis=1)\n",
    "sample_submission.to_csv(\"../data/submit/012_submission.csv\", index=False)"
   ]
  },
  {
   "cell_type": "code",
   "execution_count": 64,
   "id": "85b5d663-afe8-4871-b7cb-45802c1d3ac6",
   "metadata": {
    "tags": []
   },
   "outputs": [],
   "source": [
    "sample_submission = sample_submission.rename(columns={\"pred_3\":\"target\"})"
   ]
  },
  {
   "cell_type": "code",
   "execution_count": 65,
   "id": "7733bd80-4039-49f1-8b73-1446b6cfd46c",
   "metadata": {},
   "outputs": [],
   "source": [
    "sample_submission.to_csv(\"../data/submit/012_submission.csv\", index=False)"
   ]
  },
  {
   "cell_type": "code",
   "execution_count": null,
   "id": "9b12e2a6-6091-4a84-a564-cffb0cb1f385",
   "metadata": {},
   "outputs": [],
   "source": []
  }
 ],
 "metadata": {
  "kernelspec": {
   "display_name": "Python 3",
   "language": "python",
   "name": "python3"
  },
  "language_info": {
   "codemirror_mode": {
    "name": "ipython",
    "version": 3
   },
   "file_extension": ".py",
   "mimetype": "text/x-python",
   "name": "python",
   "nbconvert_exporter": "python",
   "pygments_lexer": "ipython3",
   "version": "3.8.8"
  }
 },
 "nbformat": 4,
 "nbformat_minor": 5
}
