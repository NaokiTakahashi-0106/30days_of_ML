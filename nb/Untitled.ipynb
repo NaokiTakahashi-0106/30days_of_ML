{
 "cells": [
  {
   "cell_type": "code",
   "execution_count": 14,
   "id": "8cfa87a8-6f46-44f0-9bcb-bae680045cc4",
   "metadata": {},
   "outputs": [],
   "source": [
    "import numpy as np\n",
    "import pandas as pd\n",
    "import scipy as sp\n",
    "\n",
    "import matplotlib\n",
    "import matplotlib.pyplot as plt\n",
    "import seaborn as sns\n",
    "\n",
    "from sklearn.preprocessing import OrdinalEncoder,StandardScaler\n",
    "from sklearn.model_selection import train_test_split\n",
    "from mlxtend.preprocessing import minmax_scaling\n",
    "\n",
    "from sklearn.linear_model import Ridge, Lasso, ElasticNet\n",
    "from sklearn.svm import SVR, NuSVR, LinearSVR\n",
    "from sklearn.neighbors import KNeighborsRegressor\n",
    "from sklearn.metrics import *\n",
    "\n",
    "from sklearn.ensemble import RandomForestRegressor\n",
    "from xgboost import XGBRegressor\n",
    "from lightgbm import LGBMRegressor\n",
    "from catboost import CatBoostRegressor\n",
    "\n",
    "\n",
    "import warnings\n",
    "\n",
    "pd.set_option('display.max_rows', None)\n",
    "pd.set_option('display.max_columns', None)\n",
    "warnings.filterwarnings('ignore')"
   ]
  },
  {
   "cell_type": "code",
   "execution_count": 2,
   "id": "a52052e5-2b9f-4d7e-b2f1-96c18143d1ed",
   "metadata": {},
   "outputs": [],
   "source": [
    "train = pd.read_csv(\"../data/process/train_folds.csv\")\n",
    "test = pd.read_csv(\"../data/original/test.csv\")\n",
    "sample_submission = pd.read_csv(\"../data/original/sample_submission.csv\")"
   ]
  },
  {
   "cell_type": "code",
   "execution_count": 3,
   "id": "da540a1c-f1b2-451a-b331-816ed9246ce1",
   "metadata": {},
   "outputs": [],
   "source": [
    "useful_features = [c for c in train.columns if c not in (\"id\", \"target\", \"kfold\")]\n",
    "cat_features = [\"cat\" + str(i) for i in range(10)]\n",
    "num_features = [\"cont\" + str(i) for i in range(14)]\n",
    "test = test[useful_features]"
   ]
  },
  {
   "cell_type": "code",
   "execution_count": 4,
   "id": "7a4a3780-4d9b-4024-b69d-bb9c0271b700",
   "metadata": {},
   "outputs": [],
   "source": [
    "scaler = StandardScaler()\n",
    "scaler.fit(train[num_features])\n",
    "train[num_features] = scaler.transform(train[num_features])\n",
    "test[num_features] = scaler.transform(test[num_features])"
   ]
  },
  {
   "cell_type": "code",
   "execution_count": 5,
   "id": "a04b1879-10e3-429b-9ac7-bd7697d4d189",
   "metadata": {},
   "outputs": [],
   "source": [
    "cat6_category = list(pd.DataFrame(train['cat6'].value_counts()/len(train['cat6'])*100)[:1].index)\n",
    "cat7_category = list(pd.DataFrame(train['cat7'].value_counts()/len(train['cat7'])*100)[:3].index)\n",
    "cat8_category = list(pd.DataFrame(train['cat8'].value_counts()/len(train['cat8'])*100)[:4].index)\n",
    "train['cat6'] = np.where(~train['cat6'].isin(cat6_category), 'Others', train['cat6'])\n",
    "train['cat7'] = np.where(~train['cat7'].isin(cat7_category), 'Others', train['cat7'])\n",
    "train['cat8'] = np.where(~train['cat8'].isin(cat8_category), 'Others', train['cat8'])"
   ]
  },
  {
   "cell_type": "code",
   "execution_count": 6,
   "id": "fd87244f-7fb9-4b5b-a115-6fc6fae6ece4",
   "metadata": {},
   "outputs": [],
   "source": [
    "cat6_category = list(pd.DataFrame(test['cat6'].value_counts()/len(test['cat6'])*100)[:1].index)\n",
    "cat7_category = list(pd.DataFrame(test['cat7'].value_counts()/len(test['cat7'])*100)[:3].index)\n",
    "cat8_category = list(pd.DataFrame(test['cat8'].value_counts()/len(test['cat8'])*100)[:4].index)\n",
    "test['cat6'] = np.where(~test['cat6'].isin(cat6_category), 'Others', test['cat6'])\n",
    "test['cat7'] = np.where(~test['cat7'].isin(cat7_category), 'Others', test['cat7'])\n",
    "test['cat8'] = np.where(~test['cat8'].isin(cat8_category), 'Others', test['cat8'])"
   ]
  },
  {
   "cell_type": "code",
   "execution_count": 7,
   "id": "a214a0aa-ac05-4b5d-8eb4-19b321ffc66c",
   "metadata": {},
   "outputs": [],
   "source": [
    "final_test_predictions = []\n",
    "final_valid_predictions = {}\n",
    "scores = []"
   ]
  },
  {
   "cell_type": "code",
   "execution_count": 8,
   "id": "7fd4a350-0435-47a2-882a-8bed6ccd51b8",
   "metadata": {},
   "outputs": [
    {
     "name": "stdout",
     "output_type": "stream",
     "text": [
      "0 0.7384515248967047\n",
      "1 0.7383857651709933\n",
      "2 0.7398499594105796\n",
      "3 0.7394150931801781\n",
      "4 0.7399600533657644\n"
     ]
    }
   ],
   "source": [
    "for fold in range(5):\n",
    "    xtrain =  train[train.kfold != fold].reset_index(drop=True)\n",
    "    xvalid = train[train.kfold == fold].reset_index(drop=True)\n",
    "    xtest = test.copy()\n",
    "    \n",
    "    valid_ids = xvalid.id.values.tolist()\n",
    "\n",
    "    ytrain = xtrain.target\n",
    "    yvalid = xvalid.target\n",
    "    \n",
    "    xtrain = xtrain[useful_features]\n",
    "    xvalid = xvalid[useful_features]\n",
    "    \n",
    "    ordinal_encoder = OrdinalEncoder()\n",
    "    xtrain[cat_features] = ordinal_encoder.fit_transform(xtrain[cat_features])\n",
    "    xvalid[cat_features] = ordinal_encoder.transform(xvalid[cat_features])\n",
    "    xtest[cat_features] = ordinal_encoder.transform(xtest[cat_features])\n",
    "    \n",
    "    \n",
    "    rg = Ridge(alpha=0.0001, random_state=fold)\n",
    "    rg.fit(xtrain, ytrain)\n",
    "    preds_valid = rg.predict(xvalid)\n",
    "    test_preds = rg.predict(xtest)\n",
    "    preds_valid = preds_valid.astype(float) \n",
    "    test_preds = test_preds.astype(float)\n",
    "    final_test_predictions.append(test_preds)\n",
    "    final_valid_predictions.update(dict(zip(valid_ids, preds_valid)))\n",
    "    rmse = mean_squared_error(yvalid, preds_valid, squared=False)\n",
    "    print(fold, rmse)\n",
    "    scores.append(rmse)"
   ]
  },
  {
   "cell_type": "code",
   "execution_count": 9,
   "id": "13e9af0c-fdef-451f-9d5c-065317a3f8af",
   "metadata": {},
   "outputs": [
    {
     "name": "stdout",
     "output_type": "stream",
     "text": [
      "0.739212479204844 0.000673618306553895\n"
     ]
    }
   ],
   "source": [
    "print(np.mean(scores), np.std(scores))"
   ]
  },
  {
   "cell_type": "code",
   "execution_count": 10,
   "id": "ae96ec42-44d6-40f3-be0c-969fc0bd1d9d",
   "metadata": {},
   "outputs": [],
   "source": [
    "final_valid_predictions = pd.DataFrame.from_dict(final_valid_predictions, orient=\"index\").reset_index()"
   ]
  },
  {
   "cell_type": "code",
   "execution_count": 11,
   "id": "f29be8e9-7fa3-4aac-87f5-5cfa4208bf80",
   "metadata": {},
   "outputs": [],
   "source": [
    "final_valid_predictions.columns = [\"id\", \"pred_02\"]\n",
    "final_valid_predictions.to_csv(\"../data/process/train_pred_02.csv\", index=False)"
   ]
  },
  {
   "cell_type": "code",
   "execution_count": 12,
   "id": "e25fcefe-1430-42e4-9e14-f793d1a25593",
   "metadata": {},
   "outputs": [],
   "source": [
    "sample_submission.target = np.mean(np.column_stack(final_test_predictions), axis=1)\n",
    "sample_submission.columns = [\"id\", \"pred_02\"]\n",
    "sample_submission.to_csv(\"../data/process/test_pred_02.csv\", index=False)"
   ]
  },
  {
   "cell_type": "code",
   "execution_count": 17,
   "id": "16d65174-7f48-48d5-a8a6-304ff46691d2",
   "metadata": {},
   "outputs": [],
   "source": [
    "final_test_predictions = []\n",
    "final_valid_predictions = {}\n",
    "scores = []"
   ]
  },
  {
   "cell_type": "code",
   "execution_count": 18,
   "id": "8731850c-aada-4b8d-aa56-f96ed877f64a",
   "metadata": {},
   "outputs": [
    {
     "name": "stdout",
     "output_type": "stream",
     "text": [
      "0:\tlearn: 0.7464892\ttotal: 36.4ms\tremaining: 58.3s\n",
      "200:\tlearn: 0.7309394\ttotal: 7.23s\tremaining: 50.3s\n",
      "400:\tlearn: 0.7260354\ttotal: 14.2s\tremaining: 42.6s\n",
      "600:\tlearn: 0.7213585\ttotal: 20.7s\tremaining: 34.4s\n",
      "800:\tlearn: 0.7155021\ttotal: 27s\tremaining: 26.9s\n",
      "1000:\tlearn: 0.7108009\ttotal: 33.4s\tremaining: 20s\n",
      "1200:\tlearn: 0.7068680\ttotal: 39.7s\tremaining: 13.2s\n",
      "1400:\tlearn: 0.7030872\ttotal: 46s\tremaining: 6.54s\n",
      "1599:\tlearn: 0.6996998\ttotal: 52.4s\tremaining: 0us\n",
      "0 0.7201144161227565\n",
      "0:\tlearn: 0.7464729\ttotal: 35.3ms\tremaining: 56.5s\n",
      "200:\tlearn: 0.7311171\ttotal: 6.84s\tremaining: 47.6s\n",
      "400:\tlearn: 0.7262839\ttotal: 13.5s\tremaining: 40.3s\n",
      "600:\tlearn: 0.7214819\ttotal: 20s\tremaining: 33.2s\n",
      "800:\tlearn: 0.7157106\ttotal: 26.4s\tremaining: 26.4s\n",
      "1000:\tlearn: 0.7109246\ttotal: 33.3s\tremaining: 19.9s\n",
      "1200:\tlearn: 0.7069347\ttotal: 40.6s\tremaining: 13.5s\n",
      "1400:\tlearn: 0.7032317\ttotal: 47.2s\tremaining: 6.7s\n",
      "1599:\tlearn: 0.6998708\ttotal: 53.5s\tremaining: 0us\n",
      "1 0.7199595211881428\n",
      "0:\tlearn: 0.7462026\ttotal: 36.9ms\tremaining: 59s\n",
      "200:\tlearn: 0.7304972\ttotal: 7.05s\tremaining: 49.1s\n",
      "400:\tlearn: 0.7256870\ttotal: 13.8s\tremaining: 41.2s\n",
      "600:\tlearn: 0.7209171\ttotal: 20.5s\tremaining: 34s\n",
      "800:\tlearn: 0.7152957\ttotal: 27.4s\tremaining: 27.3s\n",
      "1000:\tlearn: 0.7103799\ttotal: 34s\tremaining: 20.3s\n",
      "1200:\tlearn: 0.7062422\ttotal: 40.5s\tremaining: 13.5s\n",
      "1400:\tlearn: 0.7025932\ttotal: 46.9s\tremaining: 6.67s\n",
      "1599:\tlearn: 0.6992204\ttotal: 53.7s\tremaining: 0us\n",
      "2 0.7216609090483235\n",
      "0:\tlearn: 0.7461922\ttotal: 34.7ms\tremaining: 55.5s\n",
      "200:\tlearn: 0.7303885\ttotal: 7.49s\tremaining: 52.1s\n",
      "400:\tlearn: 0.7256076\ttotal: 14.6s\tremaining: 43.6s\n",
      "600:\tlearn: 0.7209311\ttotal: 21.7s\tremaining: 36s\n",
      "800:\tlearn: 0.7151474\ttotal: 28.5s\tremaining: 28.4s\n",
      "1000:\tlearn: 0.7103520\ttotal: 35.2s\tremaining: 21.1s\n",
      "1200:\tlearn: 0.7063265\ttotal: 41.9s\tremaining: 13.9s\n",
      "1400:\tlearn: 0.7027014\ttotal: 48.5s\tremaining: 6.89s\n",
      "1599:\tlearn: 0.6992969\ttotal: 55.1s\tremaining: 0us\n",
      "3 0.7216355296310472\n",
      "0:\tlearn: 0.7460066\ttotal: 39.3ms\tremaining: 1m 2s\n",
      "200:\tlearn: 0.7306015\ttotal: 7.24s\tremaining: 50.4s\n",
      "400:\tlearn: 0.7259548\ttotal: 14.2s\tremaining: 42.5s\n",
      "600:\tlearn: 0.7214385\ttotal: 21s\tremaining: 34.9s\n",
      "800:\tlearn: 0.7157354\ttotal: 27.7s\tremaining: 27.6s\n",
      "1000:\tlearn: 0.7109954\ttotal: 34.5s\tremaining: 20.6s\n",
      "1200:\tlearn: 0.7068915\ttotal: 41.2s\tremaining: 13.7s\n",
      "1400:\tlearn: 0.7031109\ttotal: 48s\tremaining: 6.82s\n",
      "1599:\tlearn: 0.6996783\ttotal: 54.7s\tremaining: 0us\n",
      "4 0.7204832188892428\n"
     ]
    }
   ],
   "source": [
    "for fold in range(5):\n",
    "    xtrain =  train[train.kfold != fold].reset_index(drop=True)\n",
    "    xvalid = train[train.kfold == fold].reset_index(drop=True)\n",
    "    xtest = test.copy()\n",
    "    \n",
    "    valid_ids = xvalid.id.values.tolist()\n",
    "\n",
    "    ytrain = xtrain.target\n",
    "    yvalid = xvalid.target\n",
    "    \n",
    "    xtrain = xtrain[useful_features]\n",
    "    xvalid = xvalid[useful_features]\n",
    "    \n",
    "    ordinal_encoder = OrdinalEncoder()\n",
    "    xtrain[cat_features] = ordinal_encoder.fit_transform(xtrain[cat_features])\n",
    "    xvalid[cat_features] = ordinal_encoder.transform(xvalid[cat_features])\n",
    "    xtest[cat_features] = ordinal_encoder.transform(xtest[cat_features])\n",
    "    \n",
    "    \n",
    "    cat_parameters = {    \n",
    "        'iterations':1600,\n",
    "        'learning_rate':0.024,\n",
    "        'l2_leaf_reg':20,\n",
    "        'random_strength':1.5,\n",
    "        'grow_policy':'Depthwise',\n",
    "        'leaf_estimation_method':'Newton', \n",
    "        'bootstrap_type':'Bernoulli',\n",
    "        'thread_count':4,\n",
    "        'verbose':False,\n",
    "        'loss_function':'RMSE',\n",
    "        'eval_metric':'RMSE',\n",
    "        'od_type':'Iter'\n",
    "    }\n",
    "    \n",
    "    cat_model = CatBoostRegressor(**cat_parameters)\n",
    "    cat_model.fit(xtrain, ytrain, verbose =200) \n",
    "    preds_valid = cat_model.predict(xvalid)\n",
    "    test_preds = cat_model.predict(xtest)\n",
    "    final_test_predictions.append(test_preds)\n",
    "    final_valid_predictions.update(dict(zip(valid_ids, preds_valid)))\n",
    "    rmse = mean_squared_error(yvalid, preds_valid, squared=False)\n",
    "    print(fold, rmse)\n",
    "    scores.append(rmse)"
   ]
  },
  {
   "cell_type": "code",
   "execution_count": 19,
   "id": "d4334394-d8fa-4e6d-8239-b1f267773e93",
   "metadata": {},
   "outputs": [
    {
     "name": "stdout",
     "output_type": "stream",
     "text": [
      "0.7207707189759025 0.0007364465248789974\n"
     ]
    }
   ],
   "source": [
    "print(np.mean(scores), np.std(scores))"
   ]
  },
  {
   "cell_type": "code",
   "execution_count": 20,
   "id": "eb095e89-481b-48a0-902d-886abf11ebc7",
   "metadata": {},
   "outputs": [],
   "source": [
    "final_valid_predictions = pd.DataFrame.from_dict(final_valid_predictions, orient=\"index\").reset_index()\n",
    "final_valid_predictions.columns = [\"id\", \"pred_05\"]\n",
    "final_valid_predictions.to_csv(\"../data/process/train_pred_05.csv\", index=False)"
   ]
  },
  {
   "cell_type": "code",
   "execution_count": 21,
   "id": "d4e0dac5-c06b-40e6-b78f-bda100628b90",
   "metadata": {},
   "outputs": [],
   "source": [
    "sample_submission.target = np.mean(np.column_stack(final_test_predictions), axis=1)\n",
    "sample_submission.columns = [\"id\", \"pred_05\"]\n",
    "sample_submission.to_csv(\"../data/process/test_pred_05.csv\", index=False)"
   ]
  },
  {
   "cell_type": "code",
   "execution_count": null,
   "id": "3bef5257-32c8-49f4-8f63-d757840ae562",
   "metadata": {},
   "outputs": [],
   "source": []
  }
 ],
 "metadata": {
  "kernelspec": {
   "display_name": "Python 3",
   "language": "python",
   "name": "python3"
  },
  "language_info": {
   "codemirror_mode": {
    "name": "ipython",
    "version": 3
   },
   "file_extension": ".py",
   "mimetype": "text/x-python",
   "name": "python",
   "nbconvert_exporter": "python",
   "pygments_lexer": "ipython3",
   "version": "3.8.8"
  }
 },
 "nbformat": 4,
 "nbformat_minor": 5
}
