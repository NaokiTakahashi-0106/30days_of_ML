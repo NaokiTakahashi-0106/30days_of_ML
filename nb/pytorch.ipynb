{
  "nbformat": 4,
  "nbformat_minor": 0,
  "metadata": {
    "colab": {
      "name": "pytorch.ipynb",
      "provenance": [],
      "collapsed_sections": []
    },
    "kernelspec": {
      "name": "python3",
      "display_name": "Python 3"
    },
    "language_info": {
      "name": "python"
    },
    "accelerator": "GPU"
  },
  "cells": [
    {
      "cell_type": "code",
      "metadata": {
        "id": "zgU-IqkQSOUL"
      },
      "source": [
        "import torch\n",
        "import torch.nn as nn\n",
        "import torch.nn.functional as F\n",
        "from torch.utils.data import Dataset, DataLoader\n",
        "import pandas as pd\n",
        "import numpy as np\n",
        "import matplotlib.pyplot as plt\n",
        "get_ipython().run_line_magic('matplotlib', 'inline')"
      ],
      "execution_count": null,
      "outputs": []
    },
    {
      "cell_type": "code",
      "metadata": {
        "id": "IugYo_dySXgt"
      },
      "source": [
        "path = \"drive/MyDrive/30_days_ML/data\""
      ],
      "execution_count": null,
      "outputs": []
    },
    {
      "cell_type": "code",
      "metadata": {
        "id": "KvKo0bnBSj0l"
      },
      "source": [
        "# Loading data \n",
        "X_train = pd.read_csv(path+\"/original/train.csv\")\n",
        "X_test = pd.read_csv(path+\"/original/train.csv\")"
      ],
      "execution_count": null,
      "outputs": []
    },
    {
      "cell_type": "code",
      "metadata": {
        "colab": {
          "base_uri": "https://localhost:8080/",
          "height": 224
        },
        "id": "h4fMIfZ16Jr4",
        "outputId": "d69edd23-39d3-48bf-e4fc-dadea1676bc5"
      },
      "source": [
        "X_train.head()"
      ],
      "execution_count": null,
      "outputs": [
        {
          "output_type": "execute_result",
          "data": {
            "text/html": [
              "<div>\n",
              "<style scoped>\n",
              "    .dataframe tbody tr th:only-of-type {\n",
              "        vertical-align: middle;\n",
              "    }\n",
              "\n",
              "    .dataframe tbody tr th {\n",
              "        vertical-align: top;\n",
              "    }\n",
              "\n",
              "    .dataframe thead th {\n",
              "        text-align: right;\n",
              "    }\n",
              "</style>\n",
              "<table border=\"1\" class=\"dataframe\">\n",
              "  <thead>\n",
              "    <tr style=\"text-align: right;\">\n",
              "      <th></th>\n",
              "      <th>id</th>\n",
              "      <th>cat0</th>\n",
              "      <th>cat1</th>\n",
              "      <th>cat2</th>\n",
              "      <th>cat3</th>\n",
              "      <th>cat4</th>\n",
              "      <th>cat5</th>\n",
              "      <th>cat6</th>\n",
              "      <th>cat7</th>\n",
              "      <th>cat8</th>\n",
              "      <th>cat9</th>\n",
              "      <th>cont0</th>\n",
              "      <th>cont1</th>\n",
              "      <th>cont2</th>\n",
              "      <th>cont3</th>\n",
              "      <th>cont4</th>\n",
              "      <th>cont5</th>\n",
              "      <th>cont6</th>\n",
              "      <th>cont7</th>\n",
              "      <th>cont8</th>\n",
              "      <th>cont9</th>\n",
              "      <th>cont10</th>\n",
              "      <th>cont11</th>\n",
              "      <th>cont12</th>\n",
              "      <th>cont13</th>\n",
              "      <th>target</th>\n",
              "    </tr>\n",
              "  </thead>\n",
              "  <tbody>\n",
              "    <tr>\n",
              "      <th>0</th>\n",
              "      <td>1</td>\n",
              "      <td>B</td>\n",
              "      <td>B</td>\n",
              "      <td>B</td>\n",
              "      <td>C</td>\n",
              "      <td>B</td>\n",
              "      <td>B</td>\n",
              "      <td>A</td>\n",
              "      <td>E</td>\n",
              "      <td>C</td>\n",
              "      <td>N</td>\n",
              "      <td>0.201470</td>\n",
              "      <td>-0.014822</td>\n",
              "      <td>0.669699</td>\n",
              "      <td>0.136278</td>\n",
              "      <td>0.610706</td>\n",
              "      <td>0.400361</td>\n",
              "      <td>0.160266</td>\n",
              "      <td>0.310921</td>\n",
              "      <td>0.389470</td>\n",
              "      <td>0.267559</td>\n",
              "      <td>0.237281</td>\n",
              "      <td>0.377873</td>\n",
              "      <td>0.322401</td>\n",
              "      <td>0.869850</td>\n",
              "      <td>8.113634</td>\n",
              "    </tr>\n",
              "    <tr>\n",
              "      <th>1</th>\n",
              "      <td>2</td>\n",
              "      <td>B</td>\n",
              "      <td>B</td>\n",
              "      <td>A</td>\n",
              "      <td>A</td>\n",
              "      <td>B</td>\n",
              "      <td>D</td>\n",
              "      <td>A</td>\n",
              "      <td>F</td>\n",
              "      <td>A</td>\n",
              "      <td>O</td>\n",
              "      <td>0.743068</td>\n",
              "      <td>0.367411</td>\n",
              "      <td>1.021605</td>\n",
              "      <td>0.365798</td>\n",
              "      <td>0.276853</td>\n",
              "      <td>0.533087</td>\n",
              "      <td>0.558922</td>\n",
              "      <td>0.516294</td>\n",
              "      <td>0.594928</td>\n",
              "      <td>0.341439</td>\n",
              "      <td>0.906013</td>\n",
              "      <td>0.921701</td>\n",
              "      <td>0.261975</td>\n",
              "      <td>0.465083</td>\n",
              "      <td>8.481233</td>\n",
              "    </tr>\n",
              "    <tr>\n",
              "      <th>2</th>\n",
              "      <td>3</td>\n",
              "      <td>A</td>\n",
              "      <td>A</td>\n",
              "      <td>A</td>\n",
              "      <td>C</td>\n",
              "      <td>B</td>\n",
              "      <td>D</td>\n",
              "      <td>A</td>\n",
              "      <td>D</td>\n",
              "      <td>A</td>\n",
              "      <td>F</td>\n",
              "      <td>0.742708</td>\n",
              "      <td>0.310383</td>\n",
              "      <td>-0.012673</td>\n",
              "      <td>0.576957</td>\n",
              "      <td>0.285074</td>\n",
              "      <td>0.650609</td>\n",
              "      <td>0.375348</td>\n",
              "      <td>0.902567</td>\n",
              "      <td>0.555205</td>\n",
              "      <td>0.843531</td>\n",
              "      <td>0.748809</td>\n",
              "      <td>0.620126</td>\n",
              "      <td>0.541474</td>\n",
              "      <td>0.763846</td>\n",
              "      <td>8.364351</td>\n",
              "    </tr>\n",
              "    <tr>\n",
              "      <th>3</th>\n",
              "      <td>4</td>\n",
              "      <td>B</td>\n",
              "      <td>B</td>\n",
              "      <td>A</td>\n",
              "      <td>C</td>\n",
              "      <td>B</td>\n",
              "      <td>D</td>\n",
              "      <td>A</td>\n",
              "      <td>E</td>\n",
              "      <td>C</td>\n",
              "      <td>K</td>\n",
              "      <td>0.429551</td>\n",
              "      <td>0.620998</td>\n",
              "      <td>0.577942</td>\n",
              "      <td>0.280610</td>\n",
              "      <td>0.284667</td>\n",
              "      <td>0.668980</td>\n",
              "      <td>0.239061</td>\n",
              "      <td>0.732948</td>\n",
              "      <td>0.679618</td>\n",
              "      <td>0.574844</td>\n",
              "      <td>0.346010</td>\n",
              "      <td>0.714610</td>\n",
              "      <td>0.540150</td>\n",
              "      <td>0.280682</td>\n",
              "      <td>8.049253</td>\n",
              "    </tr>\n",
              "    <tr>\n",
              "      <th>4</th>\n",
              "      <td>6</td>\n",
              "      <td>A</td>\n",
              "      <td>A</td>\n",
              "      <td>A</td>\n",
              "      <td>C</td>\n",
              "      <td>B</td>\n",
              "      <td>D</td>\n",
              "      <td>A</td>\n",
              "      <td>E</td>\n",
              "      <td>A</td>\n",
              "      <td>N</td>\n",
              "      <td>1.058291</td>\n",
              "      <td>0.367492</td>\n",
              "      <td>-0.052389</td>\n",
              "      <td>0.232407</td>\n",
              "      <td>0.287595</td>\n",
              "      <td>0.686964</td>\n",
              "      <td>0.420667</td>\n",
              "      <td>0.648182</td>\n",
              "      <td>0.684501</td>\n",
              "      <td>0.956692</td>\n",
              "      <td>1.000773</td>\n",
              "      <td>0.776742</td>\n",
              "      <td>0.625849</td>\n",
              "      <td>0.250823</td>\n",
              "      <td>7.972260</td>\n",
              "    </tr>\n",
              "  </tbody>\n",
              "</table>\n",
              "</div>"
            ],
            "text/plain": [
              "   id cat0 cat1 cat2 cat3  ...    cont10    cont11    cont12    cont13    target\n",
              "0   1    B    B    B    C  ...  0.237281  0.377873  0.322401  0.869850  8.113634\n",
              "1   2    B    B    A    A  ...  0.906013  0.921701  0.261975  0.465083  8.481233\n",
              "2   3    A    A    A    C  ...  0.748809  0.620126  0.541474  0.763846  8.364351\n",
              "3   4    B    B    A    C  ...  0.346010  0.714610  0.540150  0.280682  8.049253\n",
              "4   6    A    A    A    C  ...  1.000773  0.776742  0.625849  0.250823  7.972260\n",
              "\n",
              "[5 rows x 26 columns]"
            ]
          },
          "metadata": {},
          "execution_count": 4
        }
      ]
    },
    {
      "cell_type": "code",
      "metadata": {
        "id": "pVBc7YleSmCG"
      },
      "source": [
        "class CustomModel(nn.Module):\n",
        "  def __init__(self,emb_size,n_cont,p=0.5,h1=150,h2=100,h3=30,out_features = 1): \n",
        "    super().__init__()\n",
        "    self.embeds = nn.ModuleList([nn.Embedding(ni,nf) for ni,nf in emb_size])\n",
        "    self.dropout1 = nn.Dropout(p)\n",
        "    self.dropout2 = nn.Dropout(p)\n",
        "    self.dropout3 = nn.Dropout(p)\n",
        "\n",
        "    n_emb = sum((nf for ni,nf in emb_size))\n",
        "\n",
        "    self.bn_cont = nn.BatchNorm1d(n_cont)\n",
        "\n",
        "    self.fc1 = nn.Linear(n_cont + n_emb,h1)\n",
        "    self.bn1 = nn.BatchNorm1d(h1)\n",
        "    self.fc2 = nn.Linear(h1,h2)\n",
        "    self.bn2 = nn.BatchNorm1d(h2)\n",
        "    self.fc3 = nn.Linear(h2,h3)\n",
        "    self.bn3 = nn.BatchNorm1d(h3)\n",
        "    self.out = nn.Linear(h3,out_features)\n",
        "  \n",
        "  def forward(self,x_cat,x_cont):\n",
        "    embedding = []\n",
        "    for i,e in enumerate(self.embeds):\n",
        "      embedding.append(e(x_cat[:,i]))\n",
        "    x = torch.cat(embedding,1)\n",
        "\n",
        "    x_cont = self.bn_cont(x_cont)\n",
        "    x = torch.cat([x,x_cont],1)\n",
        "\n",
        "    x = F.relu(self.fc1(x))\n",
        "    x = self.bn1(x)\n",
        "    x = self.dropout1(x)\n",
        "\n",
        "    x = F.relu(self.fc2(x))\n",
        "    x = self.bn2(x)\n",
        "    x = self.dropout2(x)\n",
        "\n",
        "    x = F.relu(self.fc3(x))\n",
        "    x = self.bn3(x)\n",
        "    x = self.dropout3(x)\n",
        "\n",
        "    x = self.out(x)\n",
        "\n",
        "    return x\n",
        "    \n",
        "    "
      ],
      "execution_count": null,
      "outputs": []
    },
    {
      "cell_type": "code",
      "metadata": {
        "id": "AAoWuX8ZXAjX"
      },
      "source": [
        ""
      ],
      "execution_count": null,
      "outputs": []
    },
    {
      "cell_type": "code",
      "metadata": {
        "id": "zLFyc9_1U3Hu"
      },
      "source": [
        "class KaggleDataset(Dataset):\n",
        "  def __init__(self):\n",
        "    df = pd.read_csv(path+\"/original/train.csv\")\n",
        "\n",
        "    categoricals = [item for item in df.columns if 'cat' in item]\n",
        "    continuous = [item for item in df.columns if 'cont' in item]\n",
        "\n",
        "    for cat in categoricals:\n",
        "      df[cat] = df[cat].astype(\"category\")\n",
        "    \n",
        "    cat0 = df[\"cat0\"].cat.codes.values\n",
        "    cat1 = df[\"cat1\"].cat.codes.values\n",
        "    cat2 = df[\"cat2\"].cat.codes.values\n",
        "    cat3 = df[\"cat3\"].cat.codes.values\n",
        "    cat4 = df[\"cat4\"].cat.codes.values\n",
        "    cat5 = df[\"cat5\"].cat.codes.values\n",
        "    cat6 = df[\"cat6\"].cat.codes.values\n",
        "    cat7 = df[\"cat7\"].cat.codes.values\n",
        "    cat8 = df[\"cat8\"].cat.codes.values\n",
        "    cat9 = df[\"cat9\"].cat.codes.values\n",
        "\n",
        "    categs = np.stack([cat0,cat1,cat2,cat3,cat4,cat5,cat6,cat7,cat8,cat9],1)\n",
        "    self.categs = torch.tensor(categs, dtype = torch.int64)\n",
        "\n",
        "    contins = np.stack([df[col].values for col in continuous],1)\n",
        "    self.contins = torch.tensor(contins,dtype=torch.float)\n",
        "\n",
        "    y = torch.tensor(df[\"target\"].values,dtype=torch.float).reshape(-1,1)\n",
        "\n",
        "    cat_size = [df[col].cat.categories.size for col in categoricals]\n",
        "    self.emb_size = [(size,min(50,(size+1)//2)) for size in cat_size]\n",
        "\n",
        "    data_size = len(y)\n",
        "    valid_size = int(data_size * 0.2)\n",
        "\n",
        "    self.cat_train = self.categs[:data_size-valid_size]\n",
        "    self.cat_valid = self.categs[data_size-valid_size:]\n",
        "    self.con_train = self.contins[:data_size-valid_size]\n",
        "    self.con_valid = self.contins[data_size-valid_size:]\n",
        "    self.y_train = y[:data_size-valid_size]\n",
        "    self.y_valid = y[data_size-valid_size:]\n",
        "    \n",
        "    self.num = len(self.y_train)\n",
        "\n",
        "  def __getitem__(self,index):\n",
        "    return self.cat_train[index],self.con_train[index],self.y_train[index]\n",
        "\n",
        "  def __len__(self):\n",
        "    return self.num"
      ],
      "execution_count": null,
      "outputs": []
    },
    {
      "cell_type": "code",
      "metadata": {
        "id": "CClYFPG_Z08y",
        "colab": {
          "base_uri": "https://localhost:8080/"
        },
        "outputId": "015cea97-ed71-45ef-cc80-263d0939f56b"
      },
      "source": [
        "dataset = KaggleDataset()\n",
        "total_samples = len(dataset)\n",
        "print(total_samples)"
      ],
      "execution_count": null,
      "outputs": [
        {
          "output_type": "stream",
          "text": [
            "240000\n"
          ],
          "name": "stdout"
        }
      ]
    },
    {
      "cell_type": "code",
      "metadata": {
        "id": "WkwiRivm36tO"
      },
      "source": [
        "import math\n",
        "epochs = 10\n",
        "batchsize = 12000\n",
        "n_iterations = math.ceil(total_samples/batchsize)"
      ],
      "execution_count": null,
      "outputs": []
    },
    {
      "cell_type": "code",
      "metadata": {
        "id": "CncwnLqC5pzS"
      },
      "source": [
        "loss_list = []\n",
        "trainloader = DataLoader(dataset = dataset,batch_size=batchsize,shuffle=True)"
      ],
      "execution_count": null,
      "outputs": []
    },
    {
      "cell_type": "code",
      "metadata": {
        "colab": {
          "base_uri": "https://localhost:8080/"
        },
        "id": "g7Rs1Tap54Kg",
        "outputId": "3a18bf56-321a-4a74-f330-c664911a8d93"
      },
      "source": [
        "dataset.emb_size"
      ],
      "execution_count": null,
      "outputs": [
        {
          "output_type": "execute_result",
          "data": {
            "text/plain": [
              "[(2, 1),\n",
              " (2, 1),\n",
              " (2, 1),\n",
              " (4, 2),\n",
              " (4, 2),\n",
              " (4, 2),\n",
              " (8, 4),\n",
              " (8, 4),\n",
              " (7, 4),\n",
              " (15, 8)]"
            ]
          },
          "metadata": {},
          "execution_count": 136
        }
      ]
    },
    {
      "cell_type": "code",
      "metadata": {
        "id": "ax1AuWAR57tA"
      },
      "source": [
        "torch.manual_seed(3)\n",
        "model = CustomModel(dataset.emb_size,14,p=0.1,h1=300,h2=150,h3=50,out_features=1)"
      ],
      "execution_count": null,
      "outputs": []
    },
    {
      "cell_type": "markdown",
      "metadata": {
        "id": "VAIBDLxCKorT"
      },
      "source": [
        "torch.manual_seed(3)\n",
        "model = CustomModel(dataset.emb_size,14,p=0.1,h1=300,h2=150,h3=50,out_features=1)"
      ]
    },
    {
      "cell_type": "code",
      "metadata": {
        "id": "663FKvbV6UJw"
      },
      "source": [
        "criterion = nn.MSELoss()\n",
        "optimizer = torch.optim.Adam(model.parameters(),lr=0.01)"
      ],
      "execution_count": null,
      "outputs": []
    },
    {
      "cell_type": "code",
      "metadata": {
        "colab": {
          "base_uri": "https://localhost:8080/"
        },
        "id": "rc11k3q_64zj",
        "outputId": "6ec9a32b-28c5-4ca4-ef2f-939113bee595"
      },
      "source": [
        "for epoch in range(epochs):\n",
        "  for i, data in enumerate(trainloader):\n",
        "    cat_train,con_train,labels = data\n",
        "\n",
        "    y_pred = model(cat_train,con_train)\n",
        "    loss = torch.sqrt(criterion(y_pred,labels))\n",
        "    loss_list.append(loss.detach())\n",
        "\n",
        "    print(f'Epoch{epoch+1}/{epochs} Iteration {i+1}/{n_iterations},Category{cat_train.shape}\\\n",
        "    Continusous{con_train.shape} Loss{loss.item():.3f}')\n",
        "\n",
        "    optimizer.zero_grad()\n",
        "    loss.backward()\n",
        "    optimizer.step()"
      ],
      "execution_count": null,
      "outputs": [
        {
          "output_type": "stream",
          "text": [
            "Epoch1/10 Iteration 1/20,Categorytorch.Size([12000, 10])    Continusoustorch.Size([12000, 14]) Loss8.398\n",
            "Epoch1/10 Iteration 2/20,Categorytorch.Size([12000, 10])    Continusoustorch.Size([12000, 14]) Loss8.389\n",
            "Epoch1/10 Iteration 3/20,Categorytorch.Size([12000, 10])    Continusoustorch.Size([12000, 14]) Loss8.364\n",
            "Epoch1/10 Iteration 4/20,Categorytorch.Size([12000, 10])    Continusoustorch.Size([12000, 14]) Loss8.283\n",
            "Epoch1/10 Iteration 5/20,Categorytorch.Size([12000, 10])    Continusoustorch.Size([12000, 14]) Loss8.242\n",
            "Epoch1/10 Iteration 6/20,Categorytorch.Size([12000, 10])    Continusoustorch.Size([12000, 14]) Loss8.192\n",
            "Epoch1/10 Iteration 7/20,Categorytorch.Size([12000, 10])    Continusoustorch.Size([12000, 14]) Loss8.155\n",
            "Epoch1/10 Iteration 8/20,Categorytorch.Size([12000, 10])    Continusoustorch.Size([12000, 14]) Loss8.111\n",
            "Epoch1/10 Iteration 9/20,Categorytorch.Size([12000, 10])    Continusoustorch.Size([12000, 14]) Loss8.053\n",
            "Epoch1/10 Iteration 10/20,Categorytorch.Size([12000, 10])    Continusoustorch.Size([12000, 14]) Loss7.982\n",
            "Epoch1/10 Iteration 11/20,Categorytorch.Size([12000, 10])    Continusoustorch.Size([12000, 14]) Loss7.891\n",
            "Epoch1/10 Iteration 12/20,Categorytorch.Size([12000, 10])    Continusoustorch.Size([12000, 14]) Loss7.810\n",
            "Epoch1/10 Iteration 13/20,Categorytorch.Size([12000, 10])    Continusoustorch.Size([12000, 14]) Loss7.703\n",
            "Epoch1/10 Iteration 14/20,Categorytorch.Size([12000, 10])    Continusoustorch.Size([12000, 14]) Loss7.591\n",
            "Epoch1/10 Iteration 15/20,Categorytorch.Size([12000, 10])    Continusoustorch.Size([12000, 14]) Loss7.459\n",
            "Epoch1/10 Iteration 16/20,Categorytorch.Size([12000, 10])    Continusoustorch.Size([12000, 14]) Loss7.332\n",
            "Epoch1/10 Iteration 17/20,Categorytorch.Size([12000, 10])    Continusoustorch.Size([12000, 14]) Loss7.183\n",
            "Epoch1/10 Iteration 18/20,Categorytorch.Size([12000, 10])    Continusoustorch.Size([12000, 14]) Loss7.004\n",
            "Epoch1/10 Iteration 19/20,Categorytorch.Size([12000, 10])    Continusoustorch.Size([12000, 14]) Loss6.821\n",
            "Epoch1/10 Iteration 20/20,Categorytorch.Size([12000, 10])    Continusoustorch.Size([12000, 14]) Loss6.641\n",
            "Epoch2/10 Iteration 1/20,Categorytorch.Size([12000, 10])    Continusoustorch.Size([12000, 14]) Loss6.428\n",
            "Epoch2/10 Iteration 2/20,Categorytorch.Size([12000, 10])    Continusoustorch.Size([12000, 14]) Loss6.206\n",
            "Epoch2/10 Iteration 3/20,Categorytorch.Size([12000, 10])    Continusoustorch.Size([12000, 14]) Loss5.961\n",
            "Epoch2/10 Iteration 4/20,Categorytorch.Size([12000, 10])    Continusoustorch.Size([12000, 14]) Loss5.692\n",
            "Epoch2/10 Iteration 5/20,Categorytorch.Size([12000, 10])    Continusoustorch.Size([12000, 14]) Loss5.439\n",
            "Epoch2/10 Iteration 6/20,Categorytorch.Size([12000, 10])    Continusoustorch.Size([12000, 14]) Loss5.136\n",
            "Epoch2/10 Iteration 7/20,Categorytorch.Size([12000, 10])    Continusoustorch.Size([12000, 14]) Loss4.842\n",
            "Epoch2/10 Iteration 8/20,Categorytorch.Size([12000, 10])    Continusoustorch.Size([12000, 14]) Loss4.531\n",
            "Epoch2/10 Iteration 9/20,Categorytorch.Size([12000, 10])    Continusoustorch.Size([12000, 14]) Loss4.179\n",
            "Epoch2/10 Iteration 10/20,Categorytorch.Size([12000, 10])    Continusoustorch.Size([12000, 14]) Loss3.828\n",
            "Epoch2/10 Iteration 11/20,Categorytorch.Size([12000, 10])    Continusoustorch.Size([12000, 14]) Loss3.453\n",
            "Epoch2/10 Iteration 12/20,Categorytorch.Size([12000, 10])    Continusoustorch.Size([12000, 14]) Loss3.080\n",
            "Epoch2/10 Iteration 13/20,Categorytorch.Size([12000, 10])    Continusoustorch.Size([12000, 14]) Loss2.675\n",
            "Epoch2/10 Iteration 14/20,Categorytorch.Size([12000, 10])    Continusoustorch.Size([12000, 14]) Loss2.284\n",
            "Epoch2/10 Iteration 15/20,Categorytorch.Size([12000, 10])    Continusoustorch.Size([12000, 14]) Loss1.892\n",
            "Epoch2/10 Iteration 16/20,Categorytorch.Size([12000, 10])    Continusoustorch.Size([12000, 14]) Loss1.541\n",
            "Epoch2/10 Iteration 17/20,Categorytorch.Size([12000, 10])    Continusoustorch.Size([12000, 14]) Loss1.259\n",
            "Epoch2/10 Iteration 18/20,Categorytorch.Size([12000, 10])    Continusoustorch.Size([12000, 14]) Loss1.127\n",
            "Epoch2/10 Iteration 19/20,Categorytorch.Size([12000, 10])    Continusoustorch.Size([12000, 14]) Loss1.210\n",
            "Epoch2/10 Iteration 20/20,Categorytorch.Size([12000, 10])    Continusoustorch.Size([12000, 14]) Loss1.399\n",
            "Epoch3/10 Iteration 1/20,Categorytorch.Size([12000, 10])    Continusoustorch.Size([12000, 14]) Loss1.592\n",
            "Epoch3/10 Iteration 2/20,Categorytorch.Size([12000, 10])    Continusoustorch.Size([12000, 14]) Loss1.736\n",
            "Epoch3/10 Iteration 3/20,Categorytorch.Size([12000, 10])    Continusoustorch.Size([12000, 14]) Loss1.814\n",
            "Epoch3/10 Iteration 4/20,Categorytorch.Size([12000, 10])    Continusoustorch.Size([12000, 14]) Loss1.819\n",
            "Epoch3/10 Iteration 5/20,Categorytorch.Size([12000, 10])    Continusoustorch.Size([12000, 14]) Loss1.770\n",
            "Epoch3/10 Iteration 6/20,Categorytorch.Size([12000, 10])    Continusoustorch.Size([12000, 14]) Loss1.637\n",
            "Epoch3/10 Iteration 7/20,Categorytorch.Size([12000, 10])    Continusoustorch.Size([12000, 14]) Loss1.537\n",
            "Epoch3/10 Iteration 8/20,Categorytorch.Size([12000, 10])    Continusoustorch.Size([12000, 14]) Loss1.371\n",
            "Epoch3/10 Iteration 9/20,Categorytorch.Size([12000, 10])    Continusoustorch.Size([12000, 14]) Loss1.226\n",
            "Epoch3/10 Iteration 10/20,Categorytorch.Size([12000, 10])    Continusoustorch.Size([12000, 14]) Loss1.124\n",
            "Epoch3/10 Iteration 11/20,Categorytorch.Size([12000, 10])    Continusoustorch.Size([12000, 14]) Loss1.072\n",
            "Epoch3/10 Iteration 12/20,Categorytorch.Size([12000, 10])    Continusoustorch.Size([12000, 14]) Loss1.051\n",
            "Epoch3/10 Iteration 13/20,Categorytorch.Size([12000, 10])    Continusoustorch.Size([12000, 14]) Loss1.099\n",
            "Epoch3/10 Iteration 14/20,Categorytorch.Size([12000, 10])    Continusoustorch.Size([12000, 14]) Loss1.160\n",
            "Epoch3/10 Iteration 15/20,Categorytorch.Size([12000, 10])    Continusoustorch.Size([12000, 14]) Loss1.196\n",
            "Epoch3/10 Iteration 16/20,Categorytorch.Size([12000, 10])    Continusoustorch.Size([12000, 14]) Loss1.222\n",
            "Epoch3/10 Iteration 17/20,Categorytorch.Size([12000, 10])    Continusoustorch.Size([12000, 14]) Loss1.251\n",
            "Epoch3/10 Iteration 18/20,Categorytorch.Size([12000, 10])    Continusoustorch.Size([12000, 14]) Loss1.217\n",
            "Epoch3/10 Iteration 19/20,Categorytorch.Size([12000, 10])    Continusoustorch.Size([12000, 14]) Loss1.191\n",
            "Epoch3/10 Iteration 20/20,Categorytorch.Size([12000, 10])    Continusoustorch.Size([12000, 14]) Loss1.136\n",
            "Epoch4/10 Iteration 1/20,Categorytorch.Size([12000, 10])    Continusoustorch.Size([12000, 14]) Loss1.081\n",
            "Epoch4/10 Iteration 2/20,Categorytorch.Size([12000, 10])    Continusoustorch.Size([12000, 14]) Loss1.027\n",
            "Epoch4/10 Iteration 3/20,Categorytorch.Size([12000, 10])    Continusoustorch.Size([12000, 14]) Loss1.004\n",
            "Epoch4/10 Iteration 4/20,Categorytorch.Size([12000, 10])    Continusoustorch.Size([12000, 14]) Loss0.993\n",
            "Epoch4/10 Iteration 5/20,Categorytorch.Size([12000, 10])    Continusoustorch.Size([12000, 14]) Loss1.005\n",
            "Epoch4/10 Iteration 6/20,Categorytorch.Size([12000, 10])    Continusoustorch.Size([12000, 14]) Loss1.015\n",
            "Epoch4/10 Iteration 7/20,Categorytorch.Size([12000, 10])    Continusoustorch.Size([12000, 14]) Loss1.039\n",
            "Epoch4/10 Iteration 8/20,Categorytorch.Size([12000, 10])    Continusoustorch.Size([12000, 14]) Loss1.025\n",
            "Epoch4/10 Iteration 9/20,Categorytorch.Size([12000, 10])    Continusoustorch.Size([12000, 14]) Loss1.038\n",
            "Epoch4/10 Iteration 10/20,Categorytorch.Size([12000, 10])    Continusoustorch.Size([12000, 14]) Loss1.028\n",
            "Epoch4/10 Iteration 11/20,Categorytorch.Size([12000, 10])    Continusoustorch.Size([12000, 14]) Loss1.021\n",
            "Epoch4/10 Iteration 12/20,Categorytorch.Size([12000, 10])    Continusoustorch.Size([12000, 14]) Loss0.980\n",
            "Epoch4/10 Iteration 13/20,Categorytorch.Size([12000, 10])    Continusoustorch.Size([12000, 14]) Loss0.973\n",
            "Epoch4/10 Iteration 14/20,Categorytorch.Size([12000, 10])    Continusoustorch.Size([12000, 14]) Loss0.946\n",
            "Epoch4/10 Iteration 15/20,Categorytorch.Size([12000, 10])    Continusoustorch.Size([12000, 14]) Loss0.944\n",
            "Epoch4/10 Iteration 16/20,Categorytorch.Size([12000, 10])    Continusoustorch.Size([12000, 14]) Loss0.949\n",
            "Epoch4/10 Iteration 17/20,Categorytorch.Size([12000, 10])    Continusoustorch.Size([12000, 14]) Loss0.948\n",
            "Epoch4/10 Iteration 18/20,Categorytorch.Size([12000, 10])    Continusoustorch.Size([12000, 14]) Loss0.970\n",
            "Epoch4/10 Iteration 19/20,Categorytorch.Size([12000, 10])    Continusoustorch.Size([12000, 14]) Loss0.967\n",
            "Epoch4/10 Iteration 20/20,Categorytorch.Size([12000, 10])    Continusoustorch.Size([12000, 14]) Loss0.948\n",
            "Epoch5/10 Iteration 1/20,Categorytorch.Size([12000, 10])    Continusoustorch.Size([12000, 14]) Loss0.940\n",
            "Epoch5/10 Iteration 2/20,Categorytorch.Size([12000, 10])    Continusoustorch.Size([12000, 14]) Loss0.943\n",
            "Epoch5/10 Iteration 3/20,Categorytorch.Size([12000, 10])    Continusoustorch.Size([12000, 14]) Loss0.926\n",
            "Epoch5/10 Iteration 4/20,Categorytorch.Size([12000, 10])    Continusoustorch.Size([12000, 14]) Loss0.916\n",
            "Epoch5/10 Iteration 5/20,Categorytorch.Size([12000, 10])    Continusoustorch.Size([12000, 14]) Loss0.920\n",
            "Epoch5/10 Iteration 6/20,Categorytorch.Size([12000, 10])    Continusoustorch.Size([12000, 14]) Loss0.917\n",
            "Epoch5/10 Iteration 7/20,Categorytorch.Size([12000, 10])    Continusoustorch.Size([12000, 14]) Loss0.919\n",
            "Epoch5/10 Iteration 8/20,Categorytorch.Size([12000, 10])    Continusoustorch.Size([12000, 14]) Loss0.921\n",
            "Epoch5/10 Iteration 9/20,Categorytorch.Size([12000, 10])    Continusoustorch.Size([12000, 14]) Loss0.928\n",
            "Epoch5/10 Iteration 10/20,Categorytorch.Size([12000, 10])    Continusoustorch.Size([12000, 14]) Loss0.918\n",
            "Epoch5/10 Iteration 11/20,Categorytorch.Size([12000, 10])    Continusoustorch.Size([12000, 14]) Loss0.915\n",
            "Epoch5/10 Iteration 12/20,Categorytorch.Size([12000, 10])    Continusoustorch.Size([12000, 14]) Loss0.909\n",
            "Epoch5/10 Iteration 13/20,Categorytorch.Size([12000, 10])    Continusoustorch.Size([12000, 14]) Loss0.891\n",
            "Epoch5/10 Iteration 14/20,Categorytorch.Size([12000, 10])    Continusoustorch.Size([12000, 14]) Loss0.898\n",
            "Epoch5/10 Iteration 15/20,Categorytorch.Size([12000, 10])    Continusoustorch.Size([12000, 14]) Loss0.899\n",
            "Epoch5/10 Iteration 16/20,Categorytorch.Size([12000, 10])    Continusoustorch.Size([12000, 14]) Loss0.890\n",
            "Epoch5/10 Iteration 17/20,Categorytorch.Size([12000, 10])    Continusoustorch.Size([12000, 14]) Loss0.904\n",
            "Epoch5/10 Iteration 18/20,Categorytorch.Size([12000, 10])    Continusoustorch.Size([12000, 14]) Loss0.890\n",
            "Epoch5/10 Iteration 19/20,Categorytorch.Size([12000, 10])    Continusoustorch.Size([12000, 14]) Loss0.890\n",
            "Epoch5/10 Iteration 20/20,Categorytorch.Size([12000, 10])    Continusoustorch.Size([12000, 14]) Loss0.880\n",
            "Epoch6/10 Iteration 1/20,Categorytorch.Size([12000, 10])    Continusoustorch.Size([12000, 14]) Loss0.895\n",
            "Epoch6/10 Iteration 2/20,Categorytorch.Size([12000, 10])    Continusoustorch.Size([12000, 14]) Loss0.879\n",
            "Epoch6/10 Iteration 3/20,Categorytorch.Size([12000, 10])    Continusoustorch.Size([12000, 14]) Loss0.885\n",
            "Epoch6/10 Iteration 4/20,Categorytorch.Size([12000, 10])    Continusoustorch.Size([12000, 14]) Loss0.865\n",
            "Epoch6/10 Iteration 5/20,Categorytorch.Size([12000, 10])    Continusoustorch.Size([12000, 14]) Loss0.881\n",
            "Epoch6/10 Iteration 6/20,Categorytorch.Size([12000, 10])    Continusoustorch.Size([12000, 14]) Loss0.872\n",
            "Epoch6/10 Iteration 7/20,Categorytorch.Size([12000, 10])    Continusoustorch.Size([12000, 14]) Loss0.893\n",
            "Epoch6/10 Iteration 8/20,Categorytorch.Size([12000, 10])    Continusoustorch.Size([12000, 14]) Loss0.864\n",
            "Epoch6/10 Iteration 9/20,Categorytorch.Size([12000, 10])    Continusoustorch.Size([12000, 14]) Loss0.861\n",
            "Epoch6/10 Iteration 10/20,Categorytorch.Size([12000, 10])    Continusoustorch.Size([12000, 14]) Loss0.863\n",
            "Epoch6/10 Iteration 11/20,Categorytorch.Size([12000, 10])    Continusoustorch.Size([12000, 14]) Loss0.864\n",
            "Epoch6/10 Iteration 12/20,Categorytorch.Size([12000, 10])    Continusoustorch.Size([12000, 14]) Loss0.843\n",
            "Epoch6/10 Iteration 13/20,Categorytorch.Size([12000, 10])    Continusoustorch.Size([12000, 14]) Loss0.862\n",
            "Epoch6/10 Iteration 14/20,Categorytorch.Size([12000, 10])    Continusoustorch.Size([12000, 14]) Loss0.869\n",
            "Epoch6/10 Iteration 15/20,Categorytorch.Size([12000, 10])    Continusoustorch.Size([12000, 14]) Loss0.876\n",
            "Epoch6/10 Iteration 16/20,Categorytorch.Size([12000, 10])    Continusoustorch.Size([12000, 14]) Loss0.863\n",
            "Epoch6/10 Iteration 17/20,Categorytorch.Size([12000, 10])    Continusoustorch.Size([12000, 14]) Loss0.860\n",
            "Epoch6/10 Iteration 18/20,Categorytorch.Size([12000, 10])    Continusoustorch.Size([12000, 14]) Loss0.844\n",
            "Epoch6/10 Iteration 19/20,Categorytorch.Size([12000, 10])    Continusoustorch.Size([12000, 14]) Loss0.858\n",
            "Epoch6/10 Iteration 20/20,Categorytorch.Size([12000, 10])    Continusoustorch.Size([12000, 14]) Loss0.860\n",
            "Epoch7/10 Iteration 1/20,Categorytorch.Size([12000, 10])    Continusoustorch.Size([12000, 14]) Loss0.854\n",
            "Epoch7/10 Iteration 2/20,Categorytorch.Size([12000, 10])    Continusoustorch.Size([12000, 14]) Loss0.847\n",
            "Epoch7/10 Iteration 3/20,Categorytorch.Size([12000, 10])    Continusoustorch.Size([12000, 14]) Loss0.843\n",
            "Epoch7/10 Iteration 4/20,Categorytorch.Size([12000, 10])    Continusoustorch.Size([12000, 14]) Loss0.849\n",
            "Epoch7/10 Iteration 5/20,Categorytorch.Size([12000, 10])    Continusoustorch.Size([12000, 14]) Loss0.848\n",
            "Epoch7/10 Iteration 6/20,Categorytorch.Size([12000, 10])    Continusoustorch.Size([12000, 14]) Loss0.852\n",
            "Epoch7/10 Iteration 7/20,Categorytorch.Size([12000, 10])    Continusoustorch.Size([12000, 14]) Loss0.849\n",
            "Epoch7/10 Iteration 8/20,Categorytorch.Size([12000, 10])    Continusoustorch.Size([12000, 14]) Loss0.850\n",
            "Epoch7/10 Iteration 9/20,Categorytorch.Size([12000, 10])    Continusoustorch.Size([12000, 14]) Loss0.851\n",
            "Epoch7/10 Iteration 10/20,Categorytorch.Size([12000, 10])    Continusoustorch.Size([12000, 14]) Loss0.859\n",
            "Epoch7/10 Iteration 11/20,Categorytorch.Size([12000, 10])    Continusoustorch.Size([12000, 14]) Loss0.844\n",
            "Epoch7/10 Iteration 12/20,Categorytorch.Size([12000, 10])    Continusoustorch.Size([12000, 14]) Loss0.848\n",
            "Epoch7/10 Iteration 13/20,Categorytorch.Size([12000, 10])    Continusoustorch.Size([12000, 14]) Loss0.839\n",
            "Epoch7/10 Iteration 14/20,Categorytorch.Size([12000, 10])    Continusoustorch.Size([12000, 14]) Loss0.848\n",
            "Epoch7/10 Iteration 15/20,Categorytorch.Size([12000, 10])    Continusoustorch.Size([12000, 14]) Loss0.834\n",
            "Epoch7/10 Iteration 16/20,Categorytorch.Size([12000, 10])    Continusoustorch.Size([12000, 14]) Loss0.842\n",
            "Epoch7/10 Iteration 17/20,Categorytorch.Size([12000, 10])    Continusoustorch.Size([12000, 14]) Loss0.853\n",
            "Epoch7/10 Iteration 18/20,Categorytorch.Size([12000, 10])    Continusoustorch.Size([12000, 14]) Loss0.840\n",
            "Epoch7/10 Iteration 19/20,Categorytorch.Size([12000, 10])    Continusoustorch.Size([12000, 14]) Loss0.853\n",
            "Epoch7/10 Iteration 20/20,Categorytorch.Size([12000, 10])    Continusoustorch.Size([12000, 14]) Loss0.834\n",
            "Epoch8/10 Iteration 1/20,Categorytorch.Size([12000, 10])    Continusoustorch.Size([12000, 14]) Loss0.835\n",
            "Epoch8/10 Iteration 2/20,Categorytorch.Size([12000, 10])    Continusoustorch.Size([12000, 14]) Loss0.833\n",
            "Epoch8/10 Iteration 3/20,Categorytorch.Size([12000, 10])    Continusoustorch.Size([12000, 14]) Loss0.857\n",
            "Epoch8/10 Iteration 4/20,Categorytorch.Size([12000, 10])    Continusoustorch.Size([12000, 14]) Loss0.828\n",
            "Epoch8/10 Iteration 5/20,Categorytorch.Size([12000, 10])    Continusoustorch.Size([12000, 14]) Loss0.834\n",
            "Epoch8/10 Iteration 6/20,Categorytorch.Size([12000, 10])    Continusoustorch.Size([12000, 14]) Loss0.829\n",
            "Epoch8/10 Iteration 7/20,Categorytorch.Size([12000, 10])    Continusoustorch.Size([12000, 14]) Loss0.837\n",
            "Epoch8/10 Iteration 8/20,Categorytorch.Size([12000, 10])    Continusoustorch.Size([12000, 14]) Loss0.837\n",
            "Epoch8/10 Iteration 9/20,Categorytorch.Size([12000, 10])    Continusoustorch.Size([12000, 14]) Loss0.840\n",
            "Epoch8/10 Iteration 10/20,Categorytorch.Size([12000, 10])    Continusoustorch.Size([12000, 14]) Loss0.848\n",
            "Epoch8/10 Iteration 11/20,Categorytorch.Size([12000, 10])    Continusoustorch.Size([12000, 14]) Loss0.832\n",
            "Epoch8/10 Iteration 12/20,Categorytorch.Size([12000, 10])    Continusoustorch.Size([12000, 14]) Loss0.833\n",
            "Epoch8/10 Iteration 13/20,Categorytorch.Size([12000, 10])    Continusoustorch.Size([12000, 14]) Loss0.839\n",
            "Epoch8/10 Iteration 14/20,Categorytorch.Size([12000, 10])    Continusoustorch.Size([12000, 14]) Loss0.841\n",
            "Epoch8/10 Iteration 15/20,Categorytorch.Size([12000, 10])    Continusoustorch.Size([12000, 14]) Loss0.827\n",
            "Epoch8/10 Iteration 16/20,Categorytorch.Size([12000, 10])    Continusoustorch.Size([12000, 14]) Loss0.847\n",
            "Epoch8/10 Iteration 17/20,Categorytorch.Size([12000, 10])    Continusoustorch.Size([12000, 14]) Loss0.836\n",
            "Epoch8/10 Iteration 18/20,Categorytorch.Size([12000, 10])    Continusoustorch.Size([12000, 14]) Loss0.824\n",
            "Epoch8/10 Iteration 19/20,Categorytorch.Size([12000, 10])    Continusoustorch.Size([12000, 14]) Loss0.830\n",
            "Epoch8/10 Iteration 20/20,Categorytorch.Size([12000, 10])    Continusoustorch.Size([12000, 14]) Loss0.838\n",
            "Epoch9/10 Iteration 1/20,Categorytorch.Size([12000, 10])    Continusoustorch.Size([12000, 14]) Loss0.829\n",
            "Epoch9/10 Iteration 2/20,Categorytorch.Size([12000, 10])    Continusoustorch.Size([12000, 14]) Loss0.826\n",
            "Epoch9/10 Iteration 3/20,Categorytorch.Size([12000, 10])    Continusoustorch.Size([12000, 14]) Loss0.819\n",
            "Epoch9/10 Iteration 4/20,Categorytorch.Size([12000, 10])    Continusoustorch.Size([12000, 14]) Loss0.830\n",
            "Epoch9/10 Iteration 5/20,Categorytorch.Size([12000, 10])    Continusoustorch.Size([12000, 14]) Loss0.823\n",
            "Epoch9/10 Iteration 6/20,Categorytorch.Size([12000, 10])    Continusoustorch.Size([12000, 14]) Loss0.837\n",
            "Epoch9/10 Iteration 7/20,Categorytorch.Size([12000, 10])    Continusoustorch.Size([12000, 14]) Loss0.835\n",
            "Epoch9/10 Iteration 8/20,Categorytorch.Size([12000, 10])    Continusoustorch.Size([12000, 14]) Loss0.828\n",
            "Epoch9/10 Iteration 9/20,Categorytorch.Size([12000, 10])    Continusoustorch.Size([12000, 14]) Loss0.838\n",
            "Epoch9/10 Iteration 10/20,Categorytorch.Size([12000, 10])    Continusoustorch.Size([12000, 14]) Loss0.842\n",
            "Epoch9/10 Iteration 11/20,Categorytorch.Size([12000, 10])    Continusoustorch.Size([12000, 14]) Loss0.835\n",
            "Epoch9/10 Iteration 12/20,Categorytorch.Size([12000, 10])    Continusoustorch.Size([12000, 14]) Loss0.838\n",
            "Epoch9/10 Iteration 13/20,Categorytorch.Size([12000, 10])    Continusoustorch.Size([12000, 14]) Loss0.841\n",
            "Epoch9/10 Iteration 14/20,Categorytorch.Size([12000, 10])    Continusoustorch.Size([12000, 14]) Loss0.833\n",
            "Epoch9/10 Iteration 15/20,Categorytorch.Size([12000, 10])    Continusoustorch.Size([12000, 14]) Loss0.832\n",
            "Epoch9/10 Iteration 16/20,Categorytorch.Size([12000, 10])    Continusoustorch.Size([12000, 14]) Loss0.825\n",
            "Epoch9/10 Iteration 17/20,Categorytorch.Size([12000, 10])    Continusoustorch.Size([12000, 14]) Loss0.833\n",
            "Epoch9/10 Iteration 18/20,Categorytorch.Size([12000, 10])    Continusoustorch.Size([12000, 14]) Loss0.829\n",
            "Epoch9/10 Iteration 19/20,Categorytorch.Size([12000, 10])    Continusoustorch.Size([12000, 14]) Loss0.824\n",
            "Epoch9/10 Iteration 20/20,Categorytorch.Size([12000, 10])    Continusoustorch.Size([12000, 14]) Loss0.829\n",
            "Epoch10/10 Iteration 1/20,Categorytorch.Size([12000, 10])    Continusoustorch.Size([12000, 14]) Loss0.836\n",
            "Epoch10/10 Iteration 2/20,Categorytorch.Size([12000, 10])    Continusoustorch.Size([12000, 14]) Loss0.822\n",
            "Epoch10/10 Iteration 3/20,Categorytorch.Size([12000, 10])    Continusoustorch.Size([12000, 14]) Loss0.825\n",
            "Epoch10/10 Iteration 4/20,Categorytorch.Size([12000, 10])    Continusoustorch.Size([12000, 14]) Loss0.830\n",
            "Epoch10/10 Iteration 5/20,Categorytorch.Size([12000, 10])    Continusoustorch.Size([12000, 14]) Loss0.834\n",
            "Epoch10/10 Iteration 6/20,Categorytorch.Size([12000, 10])    Continusoustorch.Size([12000, 14]) Loss0.824\n",
            "Epoch10/10 Iteration 7/20,Categorytorch.Size([12000, 10])    Continusoustorch.Size([12000, 14]) Loss0.828\n",
            "Epoch10/10 Iteration 8/20,Categorytorch.Size([12000, 10])    Continusoustorch.Size([12000, 14]) Loss0.835\n",
            "Epoch10/10 Iteration 9/20,Categorytorch.Size([12000, 10])    Continusoustorch.Size([12000, 14]) Loss0.830\n",
            "Epoch10/10 Iteration 10/20,Categorytorch.Size([12000, 10])    Continusoustorch.Size([12000, 14]) Loss0.836\n",
            "Epoch10/10 Iteration 11/20,Categorytorch.Size([12000, 10])    Continusoustorch.Size([12000, 14]) Loss0.821\n",
            "Epoch10/10 Iteration 12/20,Categorytorch.Size([12000, 10])    Continusoustorch.Size([12000, 14]) Loss0.837\n",
            "Epoch10/10 Iteration 13/20,Categorytorch.Size([12000, 10])    Continusoustorch.Size([12000, 14]) Loss0.835\n",
            "Epoch10/10 Iteration 14/20,Categorytorch.Size([12000, 10])    Continusoustorch.Size([12000, 14]) Loss0.827\n",
            "Epoch10/10 Iteration 15/20,Categorytorch.Size([12000, 10])    Continusoustorch.Size([12000, 14]) Loss0.818\n",
            "Epoch10/10 Iteration 16/20,Categorytorch.Size([12000, 10])    Continusoustorch.Size([12000, 14]) Loss0.840\n",
            "Epoch10/10 Iteration 17/20,Categorytorch.Size([12000, 10])    Continusoustorch.Size([12000, 14]) Loss0.827\n",
            "Epoch10/10 Iteration 18/20,Categorytorch.Size([12000, 10])    Continusoustorch.Size([12000, 14]) Loss0.829\n",
            "Epoch10/10 Iteration 19/20,Categorytorch.Size([12000, 10])    Continusoustorch.Size([12000, 14]) Loss0.830\n",
            "Epoch10/10 Iteration 20/20,Categorytorch.Size([12000, 10])    Continusoustorch.Size([12000, 14]) Loss0.825\n"
          ],
          "name": "stdout"
        }
      ]
    },
    {
      "cell_type": "code",
      "metadata": {
        "colab": {
          "base_uri": "https://localhost:8080/",
          "height": 282
        },
        "id": "rHhk0Mbm8eyr",
        "outputId": "ed07be83-b552-43aa-ff15-3b6e47623a06"
      },
      "source": [
        "plt.plot(loss_list)"
      ],
      "execution_count": null,
      "outputs": [
        {
          "output_type": "execute_result",
          "data": {
            "text/plain": [
              "[<matplotlib.lines.Line2D at 0x7f9928e892d0>]"
            ]
          },
          "metadata": {},
          "execution_count": 184
        },
        {
          "output_type": "display_data",
          "data": {
            "image/png": "[encoded data removed]",
            "text/plain": [
              "<Figure size 432x288 with 1 Axes>"
            ]
          },
          "metadata": {
            "needs_background": "light"
          }
        }
      ]
    },
    {
      "cell_type": "code",
      "metadata": {
        "id": "Z2i8GZdN-CAQ"
      },
      "source": [
        "torch.save(model.state_dict(),\"drive/MyDrive/30_days_ML/pytorchModel.pt\")"
      ],
      "execution_count": null,
      "outputs": []
    },
    {
      "cell_type": "code",
      "metadata": {
        "colab": {
          "base_uri": "https://localhost:8080/"
        },
        "id": "TR7lMKJW-RdC",
        "outputId": "ef2d32d0-b271-47bb-bd8a-28c2baee893b"
      },
      "source": [
        "with torch.no_grad():\n",
        "  y_val = model(dataset.cat_valid,dataset.con_valid)\n",
        "  loss = torch.sqrt(criterion(y_val,dataset.y_valid))\n",
        "  print(f'{loss.item():.3f}')"
      ],
      "execution_count": null,
      "outputs": [
        {
          "output_type": "stream",
          "text": [
            "0.830\n"
          ],
          "name": "stdout"
        }
      ]
    },
    {
      "cell_type": "code",
      "metadata": {
        "colab": {
          "base_uri": "https://localhost:8080/"
        },
        "id": "YKdGbygx-5W1",
        "outputId": "c86d840d-71a8-4f3c-e76a-2ec13be109ae"
      },
      "source": [
        "print(f'Predicted_y True_t Error')\n",
        "for i in range(30):\n",
        "  error = np.abs(y_val[i].item()-dataset.y_valid[i].item())\n",
        "  print(f'{i+1}.  {y_val[i].item():.3f}     {dataset.y_valid[i].item():.3f}  {error:.3f}')"
      ],
      "execution_count": null,
      "outputs": [
        {
          "output_type": "stream",
          "text": [
            "Predicted_y True_t Error\n",
            "1.  8.627     7.061  1.566\n",
            "2.  7.939     7.224  0.715\n",
            "3.  8.452     7.153  1.300\n",
            "4.  8.546     7.365  1.180\n",
            "5.  8.630     8.111  0.518\n",
            "6.  7.930     9.116  1.186\n",
            "7.  8.639     8.068  0.571\n",
            "8.  8.504     8.026  0.478\n",
            "9.  8.396     8.062  0.335\n",
            "10.  8.572     7.541  1.031\n",
            "11.  8.500     9.398  0.898\n",
            "12.  8.111     8.614  0.503\n",
            "13.  8.592     8.025  0.567\n",
            "14.  7.875     8.075  0.200\n",
            "15.  8.037     7.040  0.997\n",
            "16.  8.439     8.292  0.147\n",
            "17.  8.333     7.601  0.732\n",
            "18.  8.642     7.355  1.287\n",
            "19.  8.511     7.370  1.142\n",
            "20.  8.251     8.268  0.017\n",
            "21.  7.956     7.730  0.225\n",
            "22.  7.102     8.341  1.240\n",
            "23.  7.851     6.968  0.883\n",
            "24.  8.596     7.022  1.573\n",
            "25.  8.405     8.081  0.325\n",
            "26.  8.061     7.852  0.209\n",
            "27.  7.518     6.996  0.522\n",
            "28.  8.196     8.474  0.278\n",
            "29.  8.328     8.071  0.257\n",
            "30.  8.157     8.092  0.065\n"
          ],
          "name": "stdout"
        }
      ]
    },
    {
      "cell_type": "code",
      "metadata": {
        "colab": {
          "base_uri": "https://localhost:8080/"
        },
        "id": "eUh1KyQr_Zo9",
        "outputId": "38d2c7a3-b3d7-4a03-fd45-7da65b8209ec"
      },
      "source": [
        "model.eval()\n"
      ],
      "execution_count": null,
      "outputs": [
        {
          "output_type": "execute_result",
          "data": {
            "text/plain": [
              "CustomModel(\n",
              "  (embeds): ModuleList(\n",
              "    (0): Embedding(2, 1)\n",
              "    (1): Embedding(2, 1)\n",
              "    (2): Embedding(2, 1)\n",
              "    (3): Embedding(4, 2)\n",
              "    (4): Embedding(4, 2)\n",
              "    (5): Embedding(4, 2)\n",
              "    (6): Embedding(8, 4)\n",
              "    (7): Embedding(8, 4)\n",
              "    (8): Embedding(7, 4)\n",
              "    (9): Embedding(15, 8)\n",
              "  )\n",
              "  (dropout1): Dropout(p=0.1, inplace=False)\n",
              "  (dropout2): Dropout(p=0.1, inplace=False)\n",
              "  (dropout3): Dropout(p=0.1, inplace=False)\n",
              "  (bn_cont): BatchNorm1d(14, eps=1e-05, momentum=0.1, affine=True, track_running_stats=True)\n",
              "  (fc1): Linear(in_features=43, out_features=300, bias=True)\n",
              "  (bn1): BatchNorm1d(300, eps=1e-05, momentum=0.1, affine=True, track_running_stats=True)\n",
              "  (fc2): Linear(in_features=300, out_features=150, bias=True)\n",
              "  (bn2): BatchNorm1d(150, eps=1e-05, momentum=0.1, affine=True, track_running_stats=True)\n",
              "  (fc3): Linear(in_features=150, out_features=50, bias=True)\n",
              "  (bn3): BatchNorm1d(50, eps=1e-05, momentum=0.1, affine=True, track_running_stats=True)\n",
              "  (out): Linear(in_features=50, out_features=1, bias=True)\n",
              ")"
            ]
          },
          "metadata": {},
          "execution_count": 188
        }
      ]
    },
    {
      "cell_type": "code",
      "metadata": {
        "id": "qf3iA-O2_2n7"
      },
      "source": [
        ""
      ],
      "execution_count": null,
      "outputs": []
    }
  ]
}