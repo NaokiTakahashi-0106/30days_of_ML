{
 "cells": [
  {
   "cell_type": "markdown",
   "id": "b67e8a8f-ca96-4a31-82c9-8023ceb2078a",
   "metadata": {},
   "source": [
    "# target_encoding"
   ]
  },
  {
   "cell_type": "code",
   "execution_count": 51,
   "id": "4c9c1561-bf6a-4788-971a-5b236214ca86",
   "metadata": {},
   "outputs": [
    {
     "name": "stdout",
     "output_type": "stream",
     "text": [
      "Collecting xgboost\n",
      "  Downloading xgboost-1.4.2-py3-none-macosx_10_14_x86_64.macosx_10_15_x86_64.macosx_11_0_x86_64.whl (1.2 MB)\n",
      "\u001b[K     |████████████████████████████████| 1.2 MB 953 kB/s eta 0:00:01\n",
      "\u001b[?25hRequirement already satisfied: scipy in /Users/naokitakahashi/opt/anaconda3/lib/python3.8/site-packages (from xgboost) (1.6.2)\n",
      "Requirement already satisfied: numpy in /Users/naokitakahashi/opt/anaconda3/lib/python3.8/site-packages (from xgboost) (1.19.2)\n",
      "Installing collected packages: xgboost\n",
      "Successfully installed xgboost-1.4.2\n"
     ]
    }
   ],
   "source": [
    "!pip install xgboost"
   ]
  },
  {
   "cell_type": "code",
   "execution_count": 52,
   "id": "b699b668-8884-4b2b-adc2-1f0446e6132d",
   "metadata": {},
   "outputs": [
    {
     "ename": "XGBoostError",
     "evalue": "XGBoost Library (libxgboost.dylib) could not be loaded.\nLikely causes:\n  * OpenMP runtime is not installed (vcomp140.dll or libgomp-1.dll for Windows, libomp.dylib for Mac OSX, libgomp.so for Linux and other UNIX-like OSes). Mac OSX users: Run `brew install libomp` to install OpenMP runtime.\n  * You are running 32-bit Python on a 64-bit OS\nError message(s): ['dlopen(/Users/naokitakahashi/opt/anaconda3/lib/python3.8/site-packages/xgboost/lib/libxgboost.dylib, 6): Library not loaded: /usr/local/opt/libomp/lib/libomp.dylib\\n  Referenced from: /Users/naokitakahashi/opt/anaconda3/lib/python3.8/site-packages/xgboost/lib/libxgboost.dylib\\n  Reason: image not found']\n",
     "output_type": "error",
     "traceback": [
      "\u001b[0;31m---------------------------------------------------------------------------\u001b[0m",
      "\u001b[0;31mXGBoostError\u001b[0m                              Traceback (most recent call last)",
      "\u001b[0;32m<ipython-input-52-8468694c0699>\u001b[0m in \u001b[0;36m<module>\u001b[0;34m\u001b[0m\n\u001b[1;32m     27\u001b[0m \u001b[0;32mimport\u001b[0m \u001b[0mcatboost\u001b[0m \u001b[0;32mas\u001b[0m \u001b[0mcb\u001b[0m\u001b[0;34m\u001b[0m\u001b[0;34m\u001b[0m\u001b[0m\n\u001b[1;32m     28\u001b[0m \u001b[0;34m\u001b[0m\u001b[0m\n\u001b[0;32m---> 29\u001b[0;31m \u001b[0;32mfrom\u001b[0m \u001b[0mxgboost\u001b[0m \u001b[0;32mimport\u001b[0m \u001b[0mXGBRegressor\u001b[0m\u001b[0;34m\u001b[0m\u001b[0;34m\u001b[0m\u001b[0m\n\u001b[0m\u001b[1;32m     30\u001b[0m \u001b[0;34m\u001b[0m\u001b[0m\n\u001b[1;32m     31\u001b[0m \u001b[0;34m\u001b[0m\u001b[0m\n",
      "\u001b[0;32m~/opt/anaconda3/lib/python3.8/site-packages/xgboost/__init__.py\u001b[0m in \u001b[0;36m<module>\u001b[0;34m\u001b[0m\n\u001b[1;32m      7\u001b[0m \u001b[0;32mimport\u001b[0m \u001b[0mos\u001b[0m\u001b[0;34m\u001b[0m\u001b[0;34m\u001b[0m\u001b[0m\n\u001b[1;32m      8\u001b[0m \u001b[0;34m\u001b[0m\u001b[0m\n\u001b[0;32m----> 9\u001b[0;31m \u001b[0;32mfrom\u001b[0m \u001b[0;34m.\u001b[0m\u001b[0mcore\u001b[0m \u001b[0;32mimport\u001b[0m \u001b[0mDMatrix\u001b[0m\u001b[0;34m,\u001b[0m \u001b[0mDeviceQuantileDMatrix\u001b[0m\u001b[0;34m,\u001b[0m \u001b[0mBooster\u001b[0m\u001b[0;34m\u001b[0m\u001b[0;34m\u001b[0m\u001b[0m\n\u001b[0m\u001b[1;32m     10\u001b[0m \u001b[0;32mfrom\u001b[0m \u001b[0;34m.\u001b[0m\u001b[0mtraining\u001b[0m \u001b[0;32mimport\u001b[0m \u001b[0mtrain\u001b[0m\u001b[0;34m,\u001b[0m \u001b[0mcv\u001b[0m\u001b[0;34m\u001b[0m\u001b[0;34m\u001b[0m\u001b[0m\n\u001b[1;32m     11\u001b[0m \u001b[0;32mfrom\u001b[0m \u001b[0;34m.\u001b[0m \u001b[0;32mimport\u001b[0m \u001b[0mrabit\u001b[0m  \u001b[0;31m# noqa\u001b[0m\u001b[0;34m\u001b[0m\u001b[0;34m\u001b[0m\u001b[0m\n",
      "\u001b[0;32m~/opt/anaconda3/lib/python3.8/site-packages/xgboost/core.py\u001b[0m in \u001b[0;36m<module>\u001b[0;34m\u001b[0m\n\u001b[1;32m    193\u001b[0m \u001b[0;34m\u001b[0m\u001b[0m\n\u001b[1;32m    194\u001b[0m \u001b[0;31m# load the XGBoost library globally\u001b[0m\u001b[0;34m\u001b[0m\u001b[0;34m\u001b[0m\u001b[0;34m\u001b[0m\u001b[0m\n\u001b[0;32m--> 195\u001b[0;31m \u001b[0m_LIB\u001b[0m \u001b[0;34m=\u001b[0m \u001b[0m_load_lib\u001b[0m\u001b[0;34m(\u001b[0m\u001b[0;34m)\u001b[0m\u001b[0;34m\u001b[0m\u001b[0;34m\u001b[0m\u001b[0m\n\u001b[0m\u001b[1;32m    196\u001b[0m \u001b[0;34m\u001b[0m\u001b[0m\n\u001b[1;32m    197\u001b[0m \u001b[0;34m\u001b[0m\u001b[0m\n",
      "\u001b[0;32m~/opt/anaconda3/lib/python3.8/site-packages/xgboost/core.py\u001b[0m in \u001b[0;36m_load_lib\u001b[0;34m()\u001b[0m\n\u001b[1;32m    176\u001b[0m     \u001b[0;32mif\u001b[0m \u001b[0;32mnot\u001b[0m \u001b[0mlib_success\u001b[0m\u001b[0;34m:\u001b[0m\u001b[0;34m\u001b[0m\u001b[0;34m\u001b[0m\u001b[0m\n\u001b[1;32m    177\u001b[0m         \u001b[0mlibname\u001b[0m \u001b[0;34m=\u001b[0m \u001b[0mos\u001b[0m\u001b[0;34m.\u001b[0m\u001b[0mpath\u001b[0m\u001b[0;34m.\u001b[0m\u001b[0mbasename\u001b[0m\u001b[0;34m(\u001b[0m\u001b[0mlib_paths\u001b[0m\u001b[0;34m[\u001b[0m\u001b[0;36m0\u001b[0m\u001b[0;34m]\u001b[0m\u001b[0;34m)\u001b[0m\u001b[0;34m\u001b[0m\u001b[0;34m\u001b[0m\u001b[0m\n\u001b[0;32m--> 178\u001b[0;31m         raise XGBoostError(\n\u001b[0m\u001b[1;32m    179\u001b[0m             \u001b[0;34m'XGBoost Library ({}) could not be loaded.\\n'\u001b[0m\u001b[0;34m.\u001b[0m\u001b[0mformat\u001b[0m\u001b[0;34m(\u001b[0m\u001b[0mlibname\u001b[0m\u001b[0;34m)\u001b[0m \u001b[0;34m+\u001b[0m\u001b[0;34m\u001b[0m\u001b[0;34m\u001b[0m\u001b[0m\n\u001b[1;32m    180\u001b[0m             \u001b[0;34m'Likely causes:\\n'\u001b[0m \u001b[0;34m+\u001b[0m\u001b[0;34m\u001b[0m\u001b[0;34m\u001b[0m\u001b[0m\n",
      "\u001b[0;31mXGBoostError\u001b[0m: XGBoost Library (libxgboost.dylib) could not be loaded.\nLikely causes:\n  * OpenMP runtime is not installed (vcomp140.dll or libgomp-1.dll for Windows, libomp.dylib for Mac OSX, libgomp.so for Linux and other UNIX-like OSes). Mac OSX users: Run `brew install libomp` to install OpenMP runtime.\n  * You are running 32-bit Python on a 64-bit OS\nError message(s): ['dlopen(/Users/naokitakahashi/opt/anaconda3/lib/python3.8/site-packages/xgboost/lib/libxgboost.dylib, 6): Library not loaded: /usr/local/opt/libomp/lib/libomp.dylib\\n  Referenced from: /Users/naokitakahashi/opt/anaconda3/lib/python3.8/site-packages/xgboost/lib/libxgboost.dylib\\n  Reason: image not found']\n"
     ]
    }
   ],
   "source": [
    "#適当にモジュールをインポート\n",
    "import numpy as np\n",
    "import pandas as pd\n",
    "import matplotlib.pyplot as plt\n",
    "import seaborn as sns\n",
    "%matplotlib inline \n",
    "\n",
    "from scipy import stats\n",
    "from scipy.stats import rankdata, norm\n",
    "\n",
    "from sklearn.preprocessing import LabelEncoder, OneHotEncoder, StandardScaler, MinMaxScaler, RobustScaler\n",
    "from sklearn.model_selection import train_test_split, KFold\n",
    "from sklearn.ensemble import RandomForestRegressor, ExtraTreesRegressor\n",
    "\n",
    "from sklearn.linear_model import Ridge, Lasso, ElasticNet\n",
    "from sklearn.svm import SVR, NuSVR, LinearSVR\n",
    "from sklearn.neighbors import KNeighborsRegressor\n",
    "from sklearn.metrics import *\n",
    "\n",
    "from sklearn.experimental import enable_iterative_imputer\n",
    "from sklearn.impute import SimpleImputer, IterativeImputer\n",
    "import time, os, warnings, random, string, re, gc, sys\n",
    "\n",
    "import category_encoders as ce\n",
    "\n",
    "import lightgbm as lgb\n",
    "import catboost as cb\n",
    "\n",
    "from xgboost import XGBRegressor\n",
    "\n",
    "\n",
    "pd.set_option('display.max_rows', None)\n",
    "pd.set_option('display.max_columns', None)"
   ]
  },
  {
   "cell_type": "code",
   "execution_count": 19,
   "id": "2dc12225-9ed0-402d-8177-4c3bda0efe02",
   "metadata": {},
   "outputs": [],
   "source": [
    "train_df = pd.read_csv('../data/original/train.csv')\n",
    "test_df = pd.read_csv('../data/original/test.csv')"
   ]
  },
  {
   "cell_type": "code",
   "execution_count": 3,
   "id": "7b26ee88-913f-4b21-969d-70850bf2dc8c",
   "metadata": {},
   "outputs": [],
   "source": [
    "# カテゴリ変数と数値変数を抜き出せるようにする\n",
    "cat_features = [\"cat\" + str(i) for i in range(10)]\n",
    "num_features = [\"cont\" + str(i) for i in range(14)]"
   ]
  },
  {
   "cell_type": "code",
   "execution_count": 59,
   "id": "421b354a-1c36-404e-990b-250bb9483121",
   "metadata": {},
   "outputs": [],
   "source": [
    "#コピーをとっておく\n",
    "tr_orig = train_df.copy()\n",
    "ts_orig = test_df.copy()"
   ]
  },
  {
   "cell_type": "code",
   "execution_count": 30,
   "id": "9af2bc62-d928-40d4-9122-9cb76f45202a",
   "metadata": {},
   "outputs": [],
   "source": [
    "to_drop = tr_orig[tr_orig[\"target\"] <= 6].index\n",
    "tr_orig = tr_orig.drop(to_drop)"
   ]
  },
  {
   "cell_type": "code",
   "execution_count": 7,
   "id": "d1d2cbe4-0a0e-4e69-a46f-172d347820fa",
   "metadata": {},
   "outputs": [],
   "source": [
    "train = tr_orig.copy()\n",
    "test = ts_orig.copy()\n",
    "target = train.pop('target')"
   ]
  },
  {
   "cell_type": "code",
   "execution_count": 10,
   "id": "4dd4af70-47e1-4293-8950-d8df38ee2c4b",
   "metadata": {},
   "outputs": [
    {
     "name": "stdout",
     "output_type": "stream",
     "text": [
      "<class 'pandas.core.frame.DataFrame'>\n",
      "Int64Index: 299628 entries, 0 to 299999\n",
      "Data columns (total 25 columns):\n",
      " #   Column  Non-Null Count   Dtype  \n",
      "---  ------  --------------   -----  \n",
      " 0   id      299628 non-null  int64  \n",
      " 1   cat0    299628 non-null  object \n",
      " 2   cat1    299628 non-null  object \n",
      " 3   cat2    299628 non-null  object \n",
      " 4   cat3    299628 non-null  object \n",
      " 5   cat4    299628 non-null  object \n",
      " 6   cat5    299628 non-null  object \n",
      " 7   cat6    299628 non-null  object \n",
      " 8   cat7    299628 non-null  object \n",
      " 9   cat8    299628 non-null  object \n",
      " 10  cat9    299628 non-null  object \n",
      " 11  cont0   299628 non-null  float64\n",
      " 12  cont1   299628 non-null  float64\n",
      " 13  cont2   299628 non-null  float64\n",
      " 14  cont3   299628 non-null  float64\n",
      " 15  cont4   299628 non-null  float64\n",
      " 16  cont5   299628 non-null  float64\n",
      " 17  cont6   299628 non-null  float64\n",
      " 18  cont7   299628 non-null  float64\n",
      " 19  cont8   299628 non-null  float64\n",
      " 20  cont9   299628 non-null  float64\n",
      " 21  cont10  299628 non-null  float64\n",
      " 22  cont11  299628 non-null  float64\n",
      " 23  cont12  299628 non-null  float64\n",
      " 24  cont13  299628 non-null  float64\n",
      "dtypes: float64(14), int64(1), object(10)\n",
      "memory usage: 59.4+ MB\n"
     ]
    }
   ],
   "source": [
    "train.info()"
   ]
  },
  {
   "cell_type": "markdown",
   "id": "41c62ea3-4712-4bd5-98f8-f0c9e0563b24",
   "metadata": {},
   "source": [
    "## target_encoding"
   ]
  },
  {
   "cell_type": "code",
   "execution_count": 40,
   "id": "5a87a42a-c9f6-4c1e-b6b9-83a7a31b5f00",
   "metadata": {},
   "outputs": [],
   "source": [
    "# とりあえず全てを学習データとする\n",
    "# 変数をループしてtarget encoding\n",
    "for c in cat_features:\n",
    "    # 学習データ全体で各カテゴリにおけるtargetの平均を計算\n",
    "    data_tmp = pd.DataFrame({c: tr_orig[c], 'target': tr_orig[\"target\"]})\n",
    "    target_mean = data_tmp.groupby(c)['target'].mean()\n",
    "    # テストデータのカテゴリを置換\n",
    "    ts_orig[c] = ts_orig[c].map(target_mean)\n",
    "\n",
    "    # 学習データの変換後の値を格納する配列を準備\n",
    "    tmp = np.repeat(np.nan, tr_orig.shape[0])\n",
    "\n",
    "    # 学習データを分割\n",
    "    kf = KFold(n_splits=4, shuffle=True, random_state=72)\n",
    "    for idx_1, idx_2 in kf.split(tr_orig):\n",
    "        # out-of-foldで各カテゴリにおける目的変数の平均を計算\n",
    "        target_mean = data_tmp.iloc[idx_1].groupby(c)['target'].mean()\n",
    "        # 変換後の値を一時配列に格納\n",
    "        tmp[idx_2] = tr_orig[c].iloc[idx_2].map(target_mean)\n",
    "\n",
    "    # 変換後のデータで元の変数を置換\n",
    "    tr_orig[c] = tmp"
   ]
  },
  {
   "cell_type": "code",
   "execution_count": 31,
   "id": "05c4d6d9-4f46-4658-9ae9-62fe2aa8e894",
   "metadata": {},
   "outputs": [],
   "source": [
    "data_tmp = pd.DataFrame({\"cat0\": tr_orig[\"cat0\"], 'target': tr_orig[\"target\"]})"
   ]
  },
  {
   "cell_type": "code",
   "execution_count": 32,
   "id": "ea6cb1eb-d80f-4d24-9177-631b3dee516a",
   "metadata": {},
   "outputs": [],
   "source": [
    "target_mean = data_tmp.groupby(\"cat0\")['target'].mean()"
   ]
  },
  {
   "cell_type": "code",
   "execution_count": 33,
   "id": "570e72a6-749d-4c7e-885f-b9f09a580299",
   "metadata": {},
   "outputs": [
    {
     "data": {
      "text/plain": [
       "cat0\n",
       "A    8.243577\n",
       "B    8.251040\n",
       "Name: target, dtype: float64"
      ]
     },
     "execution_count": 33,
     "metadata": {},
     "output_type": "execute_result"
    }
   ],
   "source": [
    "target_mean"
   ]
  },
  {
   "cell_type": "code",
   "execution_count": 34,
   "id": "d6376d08-dffc-4e7a-9471-74c308e4e7e6",
   "metadata": {},
   "outputs": [],
   "source": [
    "tmp = np.repeat(np.nan, tr_orig.shape[0])"
   ]
  },
  {
   "cell_type": "code",
   "execution_count": 35,
   "id": "c3cdac94-da48-4e40-9b39-6f84bb5980d9",
   "metadata": {},
   "outputs": [
    {
     "data": {
      "text/plain": [
       "299628"
      ]
     },
     "execution_count": 35,
     "metadata": {},
     "output_type": "execute_result"
    }
   ],
   "source": [
    "len(tmp)"
   ]
  },
  {
   "cell_type": "code",
   "execution_count": 36,
   "id": "f91efd32-6caf-480c-bb91-94e0fcb772c2",
   "metadata": {},
   "outputs": [],
   "source": [
    "kf = KFold(n_splits=4, shuffle=True, random_state=72)"
   ]
  },
  {
   "cell_type": "code",
   "execution_count": 39,
   "id": "8d264f40-9476-45a3-89a4-1d5b87df89d2",
   "metadata": {},
   "outputs": [
    {
     "name": "stdout",
     "output_type": "stream",
     "text": [
      "[     3      5      7 ... 299618 299621 299627]\n",
      "[    10     11     14 ... 299617 299619 299625]\n",
      "[     0      1      2 ... 299608 299613 299623]\n",
      "[     4      6      8 ... 299622 299624 299626]\n"
     ]
    }
   ],
   "source": [
    "for idx_1, idx_2 in kf.split(tr_orig):\n",
    "#     # out-of-foldで各カテゴリにおける目的変数の平均を計算\n",
    "#     target_mean = data_tmp.iloc[idx_1].groupby(c)['target'].mean()\n",
    "#     # 変換後の値を一時配列に格納\n",
    "#     tmp[idx_2] = tr_orig[c].iloc[idx_2].map(target_mean)"
   ]
  },
  {
   "cell_type": "code",
   "execution_count": 47,
   "id": "36882d4b-42be-4b3f-9b54-f08b659a92fb",
   "metadata": {},
   "outputs": [],
   "source": [
    "X = tr_orig.drop([\"id\", \"target\"], axis=1)\n",
    "X_test = ts_orig.drop([\"id\"], axis=1)\n",
    "y = tr_orig[\"target\"]"
   ]
  },
  {
   "cell_type": "code",
   "execution_count": 53,
   "id": "ab8f9d30-ee11-4e71-bd82-fabb176b8e23",
   "metadata": {},
   "outputs": [],
   "source": [
    "rg = Ridge(alpha=0.1, random_state=2021)"
   ]
  },
  {
   "cell_type": "code",
   "execution_count": 54,
   "id": "47e47967-fea1-49a9-b96a-e2d435f11675",
   "metadata": {},
   "outputs": [
    {
     "data": {
      "text/plain": [
       "Ridge(alpha=0.1, random_state=2021)"
      ]
     },
     "execution_count": 54,
     "metadata": {},
     "output_type": "execute_result"
    }
   ],
   "source": [
    "rg.fit(X, y)"
   ]
  },
  {
   "cell_type": "code",
   "execution_count": 55,
   "id": "a17b7134-0441-4e05-a4eb-f036331b7bc0",
   "metadata": {},
   "outputs": [],
   "source": [
    "y_test = rg.predict(X_test)"
   ]
  },
  {
   "cell_type": "code",
   "execution_count": 56,
   "id": "f8df4b43-2d20-439d-a425-f44c63a88a96",
   "metadata": {},
   "outputs": [
    {
     "data": {
      "text/plain": [
       "array([8.05828469, 8.28070063, 8.30691994, 8.16474993, 8.19180309])"
      ]
     },
     "execution_count": 56,
     "metadata": {},
     "output_type": "execute_result"
    }
   ],
   "source": [
    "y_test[:5]"
   ]
  },
  {
   "cell_type": "code",
   "execution_count": 57,
   "id": "0ce2b3f3-e4b1-4b9d-80a5-9f6a4137ff8f",
   "metadata": {},
   "outputs": [],
   "source": [
    "submission = pd.read_csv(\"../data/original/sample_submission.csv\")\n",
    "submission.target = y_test\n",
    "submission.to_csv(\"../data/submit/submission_4.csv\", index=False)"
   ]
  },
  {
   "cell_type": "code",
   "execution_count": 58,
   "id": "df084e9f-6f1a-4b80-8c41-c4f0489aca91",
   "metadata": {},
   "outputs": [
    {
     "data": {
      "text/html": [
       "<div>\n",
       "<style scoped>\n",
       "    .dataframe tbody tr th:only-of-type {\n",
       "        vertical-align: middle;\n",
       "    }\n",
       "\n",
       "    .dataframe tbody tr th {\n",
       "        vertical-align: top;\n",
       "    }\n",
       "\n",
       "    .dataframe thead th {\n",
       "        text-align: right;\n",
       "    }\n",
       "</style>\n",
       "<table border=\"1\" class=\"dataframe\">\n",
       "  <thead>\n",
       "    <tr style=\"text-align: right;\">\n",
       "      <th></th>\n",
       "      <th>id</th>\n",
       "      <th>target</th>\n",
       "    </tr>\n",
       "  </thead>\n",
       "  <tbody>\n",
       "    <tr>\n",
       "      <th>0</th>\n",
       "      <td>0</td>\n",
       "      <td>8.058285</td>\n",
       "    </tr>\n",
       "    <tr>\n",
       "      <th>1</th>\n",
       "      <td>5</td>\n",
       "      <td>8.280701</td>\n",
       "    </tr>\n",
       "    <tr>\n",
       "      <th>2</th>\n",
       "      <td>15</td>\n",
       "      <td>8.306920</td>\n",
       "    </tr>\n",
       "    <tr>\n",
       "      <th>3</th>\n",
       "      <td>16</td>\n",
       "      <td>8.164750</td>\n",
       "    </tr>\n",
       "    <tr>\n",
       "      <th>4</th>\n",
       "      <td>17</td>\n",
       "      <td>8.191803</td>\n",
       "    </tr>\n",
       "  </tbody>\n",
       "</table>\n",
       "</div>"
      ],
      "text/plain": [
       "   id    target\n",
       "0   0  8.058285\n",
       "1   5  8.280701\n",
       "2  15  8.306920\n",
       "3  16  8.164750\n",
       "4  17  8.191803"
      ]
     },
     "execution_count": 58,
     "metadata": {},
     "output_type": "execute_result"
    }
   ],
   "source": [
    "submission.head()"
   ]
  },
  {
   "cell_type": "markdown",
   "id": "8b90ac4f-45a7-4dc2-a4a9-15eeaab06eac",
   "metadata": {},
   "source": [
    "提出したところ、スコアは0.73984であった。\n",
    "手元でこのスコアに近いスコアが出せるかどうか交差検証してみる"
   ]
  },
  {
   "cell_type": "code",
   "execution_count": 61,
   "id": "b66e720d-1843-4746-ae73-4775d79b1aa5",
   "metadata": {},
   "outputs": [],
   "source": [
    "kf = KFold(n_splits=4, shuffle=True, random_state=71)\n",
    "for i, (tr_idx, va_idx) in enumerate(kf.split(tr_orig)):\n",
    "\n",
    "    # 学習データからバリデーションデータを分ける\n",
    "    tr_x, va_x = tr_orig.iloc[tr_idx].copy(), tr_orig.iloc[va_idx].copy()\n",
    "    tr_y, va_y = tr_orig[\"target\"].iloc[tr_idx], tr_orig[\"target\"].iloc[va_idx]\n",
    "\n",
    "    # 変数をループしてtarget encoding\n",
    "    for c in cat_features:\n",
    "        # 学習データ全体で各カテゴリにおけるtargetの平均を計算\n",
    "        data_tmp = pd.DataFrame({c: tr_x[c], 'target': tr_y})\n",
    "        target_mean = data_tmp.groupby(c)['target'].mean()\n",
    "        # バリデーションデータのカテゴリを置換\n",
    "        va_x.loc[:, c] = va_x[c].map(target_mean)\n",
    "\n",
    "        # 学習データの変換後の値を格納する配列を準備\n",
    "        tmp = np.repeat(np.nan, tr_x.shape[0])\n",
    "        kf_encoding = KFold(n_splits=4, shuffle=True, random_state=72)\n",
    "        for idx_1, idx_2 in kf_encoding.split(tr_x):\n",
    "            # out-of-foldで各カテゴリにおける目的変数の平均を計算\n",
    "            target_mean = data_tmp.iloc[idx_1].groupby(c)['target'].mean()\n",
    "            # 変換後の値を一時配列に格納\n",
    "            tmp[idx_2] = tr_x[c].iloc[idx_2].map(target_mean)\n",
    "\n",
    "        tr_x.loc[:, c] = tmp"
   ]
  },
  {
   "cell_type": "code",
   "execution_count": 63,
   "id": "7af47d81-5c94-447f-987a-ad71e77c3f16",
   "metadata": {},
   "outputs": [
    {
     "data": {
      "text/html": [
       "<div>\n",
       "<style scoped>\n",
       "    .dataframe tbody tr th:only-of-type {\n",
       "        vertical-align: middle;\n",
       "    }\n",
       "\n",
       "    .dataframe tbody tr th {\n",
       "        vertical-align: top;\n",
       "    }\n",
       "\n",
       "    .dataframe thead th {\n",
       "        text-align: right;\n",
       "    }\n",
       "</style>\n",
       "<table border=\"1\" class=\"dataframe\">\n",
       "  <thead>\n",
       "    <tr style=\"text-align: right;\">\n",
       "      <th></th>\n",
       "      <th>id</th>\n",
       "      <th>cat0</th>\n",
       "      <th>cat1</th>\n",
       "      <th>cat2</th>\n",
       "      <th>cat3</th>\n",
       "      <th>cat4</th>\n",
       "      <th>cat5</th>\n",
       "      <th>cat6</th>\n",
       "      <th>cat7</th>\n",
       "      <th>cat8</th>\n",
       "      <th>cat9</th>\n",
       "      <th>cont0</th>\n",
       "      <th>cont1</th>\n",
       "      <th>cont2</th>\n",
       "      <th>cont3</th>\n",
       "      <th>cont4</th>\n",
       "      <th>cont5</th>\n",
       "      <th>cont6</th>\n",
       "      <th>cont7</th>\n",
       "      <th>cont8</th>\n",
       "      <th>cont9</th>\n",
       "      <th>cont10</th>\n",
       "      <th>cont11</th>\n",
       "      <th>cont12</th>\n",
       "      <th>cont13</th>\n",
       "      <th>target</th>\n",
       "    </tr>\n",
       "  </thead>\n",
       "  <tbody>\n",
       "    <tr>\n",
       "      <th>0</th>\n",
       "      <td>1</td>\n",
       "      <td>8.248903</td>\n",
       "      <td>8.203964</td>\n",
       "      <td>8.224976</td>\n",
       "      <td>8.237502</td>\n",
       "      <td>8.241302</td>\n",
       "      <td>8.229732</td>\n",
       "      <td>8.241855</td>\n",
       "      <td>8.240892</td>\n",
       "      <td>8.283497</td>\n",
       "      <td>8.254729</td>\n",
       "      <td>0.201470</td>\n",
       "      <td>-0.014822</td>\n",
       "      <td>0.669699</td>\n",
       "      <td>0.136278</td>\n",
       "      <td>0.610706</td>\n",
       "      <td>0.400361</td>\n",
       "      <td>0.160266</td>\n",
       "      <td>0.310921</td>\n",
       "      <td>0.389470</td>\n",
       "      <td>0.267559</td>\n",
       "      <td>0.237281</td>\n",
       "      <td>0.377873</td>\n",
       "      <td>0.322401</td>\n",
       "      <td>0.869850</td>\n",
       "      <td>8.113634</td>\n",
       "    </tr>\n",
       "    <tr>\n",
       "      <th>3</th>\n",
       "      <td>4</td>\n",
       "      <td>8.248903</td>\n",
       "      <td>8.203964</td>\n",
       "      <td>8.245626</td>\n",
       "      <td>8.237502</td>\n",
       "      <td>8.241302</td>\n",
       "      <td>8.252869</td>\n",
       "      <td>8.241855</td>\n",
       "      <td>8.240892</td>\n",
       "      <td>8.283497</td>\n",
       "      <td>8.270896</td>\n",
       "      <td>0.429551</td>\n",
       "      <td>0.620998</td>\n",
       "      <td>0.577942</td>\n",
       "      <td>0.280610</td>\n",
       "      <td>0.284667</td>\n",
       "      <td>0.668980</td>\n",
       "      <td>0.239061</td>\n",
       "      <td>0.732948</td>\n",
       "      <td>0.679618</td>\n",
       "      <td>0.574844</td>\n",
       "      <td>0.346010</td>\n",
       "      <td>0.714610</td>\n",
       "      <td>0.540150</td>\n",
       "      <td>0.280682</td>\n",
       "      <td>8.049253</td>\n",
       "    </tr>\n",
       "    <tr>\n",
       "      <th>4</th>\n",
       "      <td>6</td>\n",
       "      <td>8.238862</td>\n",
       "      <td>8.278536</td>\n",
       "      <td>8.245626</td>\n",
       "      <td>8.237502</td>\n",
       "      <td>8.241302</td>\n",
       "      <td>8.252869</td>\n",
       "      <td>8.241855</td>\n",
       "      <td>8.240892</td>\n",
       "      <td>8.229450</td>\n",
       "      <td>8.254729</td>\n",
       "      <td>1.058291</td>\n",
       "      <td>0.367492</td>\n",
       "      <td>-0.052389</td>\n",
       "      <td>0.232407</td>\n",
       "      <td>0.287595</td>\n",
       "      <td>0.686964</td>\n",
       "      <td>0.420667</td>\n",
       "      <td>0.648182</td>\n",
       "      <td>0.684501</td>\n",
       "      <td>0.956692</td>\n",
       "      <td>1.000773</td>\n",
       "      <td>0.776742</td>\n",
       "      <td>0.625849</td>\n",
       "      <td>0.250823</td>\n",
       "      <td>7.972260</td>\n",
       "    </tr>\n",
       "    <tr>\n",
       "      <th>5</th>\n",
       "      <td>7</td>\n",
       "      <td>8.238862</td>\n",
       "      <td>8.203964</td>\n",
       "      <td>8.245626</td>\n",
       "      <td>8.237502</td>\n",
       "      <td>8.241302</td>\n",
       "      <td>8.252869</td>\n",
       "      <td>8.241855</td>\n",
       "      <td>8.240892</td>\n",
       "      <td>8.256872</td>\n",
       "      <td>8.261746</td>\n",
       "      <td>0.402056</td>\n",
       "      <td>0.837058</td>\n",
       "      <td>0.737991</td>\n",
       "      <td>0.778429</td>\n",
       "      <td>0.530250</td>\n",
       "      <td>0.392432</td>\n",
       "      <td>0.658169</td>\n",
       "      <td>0.997473</td>\n",
       "      <td>0.569874</td>\n",
       "      <td>0.960864</td>\n",
       "      <td>0.238050</td>\n",
       "      <td>0.316065</td>\n",
       "      <td>0.731729</td>\n",
       "      <td>0.694719</td>\n",
       "      <td>8.028558</td>\n",
       "    </tr>\n",
       "    <tr>\n",
       "      <th>10</th>\n",
       "      <td>12</td>\n",
       "      <td>8.248903</td>\n",
       "      <td>8.278536</td>\n",
       "      <td>8.245626</td>\n",
       "      <td>8.237502</td>\n",
       "      <td>8.241302</td>\n",
       "      <td>8.252869</td>\n",
       "      <td>8.241855</td>\n",
       "      <td>8.240892</td>\n",
       "      <td>8.229450</td>\n",
       "      <td>8.223311</td>\n",
       "      <td>0.797276</td>\n",
       "      <td>0.429131</td>\n",
       "      <td>0.285103</td>\n",
       "      <td>0.488405</td>\n",
       "      <td>0.287287</td>\n",
       "      <td>0.650796</td>\n",
       "      <td>0.706531</td>\n",
       "      <td>0.781168</td>\n",
       "      <td>0.828092</td>\n",
       "      <td>0.817323</td>\n",
       "      <td>0.495890</td>\n",
       "      <td>0.713362</td>\n",
       "      <td>0.743404</td>\n",
       "      <td>0.437057</td>\n",
       "      <td>8.078226</td>\n",
       "    </tr>\n",
       "  </tbody>\n",
       "</table>\n",
       "</div>"
      ],
      "text/plain": [
       "    id      cat0      cat1      cat2      cat3      cat4      cat5      cat6  \\\n",
       "0    1  8.248903  8.203964  8.224976  8.237502  8.241302  8.229732  8.241855   \n",
       "3    4  8.248903  8.203964  8.245626  8.237502  8.241302  8.252869  8.241855   \n",
       "4    6  8.238862  8.278536  8.245626  8.237502  8.241302  8.252869  8.241855   \n",
       "5    7  8.238862  8.203964  8.245626  8.237502  8.241302  8.252869  8.241855   \n",
       "10  12  8.248903  8.278536  8.245626  8.237502  8.241302  8.252869  8.241855   \n",
       "\n",
       "        cat7      cat8      cat9     cont0     cont1     cont2     cont3  \\\n",
       "0   8.240892  8.283497  8.254729  0.201470 -0.014822  0.669699  0.136278   \n",
       "3   8.240892  8.283497  8.270896  0.429551  0.620998  0.577942  0.280610   \n",
       "4   8.240892  8.229450  8.254729  1.058291  0.367492 -0.052389  0.232407   \n",
       "5   8.240892  8.256872  8.261746  0.402056  0.837058  0.737991  0.778429   \n",
       "10  8.240892  8.229450  8.223311  0.797276  0.429131  0.285103  0.488405   \n",
       "\n",
       "       cont4     cont5     cont6     cont7     cont8     cont9    cont10  \\\n",
       "0   0.610706  0.400361  0.160266  0.310921  0.389470  0.267559  0.237281   \n",
       "3   0.284667  0.668980  0.239061  0.732948  0.679618  0.574844  0.346010   \n",
       "4   0.287595  0.686964  0.420667  0.648182  0.684501  0.956692  1.000773   \n",
       "5   0.530250  0.392432  0.658169  0.997473  0.569874  0.960864  0.238050   \n",
       "10  0.287287  0.650796  0.706531  0.781168  0.828092  0.817323  0.495890   \n",
       "\n",
       "      cont11    cont12    cont13    target  \n",
       "0   0.377873  0.322401  0.869850  8.113634  \n",
       "3   0.714610  0.540150  0.280682  8.049253  \n",
       "4   0.776742  0.625849  0.250823  7.972260  \n",
       "5   0.316065  0.731729  0.694719  8.028558  \n",
       "10  0.713362  0.743404  0.437057  8.078226  "
      ]
     },
     "execution_count": 63,
     "metadata": {},
     "output_type": "execute_result"
    }
   ],
   "source": [
    "va_x.head()"
   ]
  },
  {
   "cell_type": "code",
   "execution_count": 65,
   "id": "532eac9b-250c-494f-9eff-65b4f5c94dcf",
   "metadata": {},
   "outputs": [],
   "source": [
    "X = tr_x.drop([\"id\", \"target\"], axis=1)\n",
    "# X_test = ts_orig.drop([\"id\"], axis=1)\n",
    "y = tr_y.copy()"
   ]
  },
  {
   "cell_type": "code",
   "execution_count": 66,
   "id": "8ec9dba4-4f3b-4b4d-80c6-24e1be802ab6",
   "metadata": {},
   "outputs": [
    {
     "data": {
      "text/plain": [
       "Ridge(alpha=0.1, random_state=2021)"
      ]
     },
     "execution_count": 66,
     "metadata": {},
     "output_type": "execute_result"
    }
   ],
   "source": [
    "rg.fit(X, y)"
   ]
  },
  {
   "cell_type": "code",
   "execution_count": 69,
   "id": "a9cf7556-e387-4a00-9255-c7f97e181b1b",
   "metadata": {},
   "outputs": [],
   "source": [
    "pr_y = rg.predict(va_x.drop([\"id\", \"target\"], axis=1))"
   ]
  },
  {
   "cell_type": "code",
   "execution_count": 70,
   "id": "ddfc3e13-f607-41d8-9305-c46f584c1c04",
   "metadata": {},
   "outputs": [],
   "source": [
    "y_pr = rg.predict(tr_x.drop([\"id\", \"target\"], axis=1))"
   ]
  },
  {
   "cell_type": "code",
   "execution_count": 71,
   "id": "aba6cb76-c0ac-4865-9751-4ea3e90e082b",
   "metadata": {},
   "outputs": [
    {
     "name": "stdout",
     "output_type": "stream",
     "text": [
      "train rmse: 0.7381813914833842 val rmse: 0.7389147654997751\n"
     ]
    }
   ],
   "source": [
    "print('train rmse:' , np.sqrt(mean_squared_error(y, y_pr)),'val rmse:' , np.sqrt(mean_squared_error(va_y, pr_y)))"
   ]
  },
  {
   "cell_type": "markdown",
   "id": "0d70c13c-0891-4ac0-b854-cadce04146ef",
   "metadata": {},
   "source": [
    "訓練データのRMSEと評価データのRMSEには大差はない\n",
    "ただし、提出データとは0.001のごさがあった（まあ、こんなものなのだろう）"
   ]
  },
  {
   "cell_type": "markdown",
   "id": "b07ba143-28d3-450f-9f8a-ab37ff2db1b3",
   "metadata": {},
   "source": [
    "## LightGBM\n",
    "どちらが良いか比較するためにLightGBMでもスコアを見てみる"
   ]
  },
  {
   "cell_type": "code",
   "execution_count": 72,
   "id": "727fbe45-1d3b-42a8-a3c0-4162b905f8f4",
   "metadata": {},
   "outputs": [],
   "source": [
    "SEED = 8970365"
   ]
  },
  {
   "cell_type": "code",
   "execution_count": 73,
   "id": "dabc27b9-2f44-4b66-bce0-a7550924728a",
   "metadata": {},
   "outputs": [],
   "source": [
    "params_lgb = {\n",
    "    \"boosting_type\": \"gbdt\",\n",
    "    \"objective\": \"regression\",\n",
    "    \"metric\": \"rmse\",\n",
    "    \"learning_rate\": 0.003899156646724397,\n",
    "    \"num_leaves\": 63,\n",
    "    \"max_depth\": 99,\n",
    "    \"feature_fraction\": 0.2256038826485174,\n",
    "    \"bagging_fraction\": 0.8805303688019942,\n",
    "    \"min_child_samples\": 290,\n",
    "    \"reg_alpha\": 9.562925363678952,\n",
    "    \"reg_lambda\": 9.355810045480153,\n",
    "    \"max_bin\": 882,\n",
    "    \"min_data_per_group\": 127,\n",
    "    \"bagging_freq\": 1,\n",
    "    \"cat_smooth\": 96,\n",
    "    \"cat_l2\": 19,\n",
    "    \"verbosity\": -1,\n",
    "    \"bagging_seed\": SEED,\n",
    "    \"feature_fraction_seed\": SEED,\n",
    "    \"seed\": SEED\n",
    "}"
   ]
  },
  {
   "cell_type": "code",
   "execution_count": null,
   "id": "2d6fc08c-14b1-4fb5-829b-7ae8500d17b7",
   "metadata": {},
   "outputs": [],
   "source": []
  },
  {
   "cell_type": "code",
   "execution_count": 74,
   "id": "01cb13d9-fa60-423f-81d9-7cb68d7cf10e",
   "metadata": {},
   "outputs": [],
   "source": [
    "lgb_train = lgb.Dataset(tr_x.drop([\"id\", \"target\"],axis=1), tr_y)\n",
    "lgb_val = lgb.Dataset(va_x.drop([\"id\", \"target\"],axis=1), va_y)"
   ]
  },
  {
   "cell_type": "code",
   "execution_count": 75,
   "id": "e6fce840-d028-4cdb-9458-67d78baea9be",
   "metadata": {},
   "outputs": [
    {
     "name": "stdout",
     "output_type": "stream",
     "text": [
      "Training until validation scores don't improve for 200 rounds\n",
      "[1000]\tvalid_0's rmse: 0.72975\n",
      "[2000]\tvalid_0's rmse: 0.7237\n",
      "[3000]\tvalid_0's rmse: 0.720942\n",
      "[4000]\tvalid_0's rmse: 0.719506\n",
      "[5000]\tvalid_0's rmse: 0.718711\n",
      "[6000]\tvalid_0's rmse: 0.718292\n",
      "[7000]\tvalid_0's rmse: 0.718059\n",
      "[8000]\tvalid_0's rmse: 0.717916\n",
      "[9000]\tvalid_0's rmse: 0.717848\n",
      "[10000]\tvalid_0's rmse: 0.717807\n",
      "Early stopping, best iteration is:\n",
      "[10266]\tvalid_0's rmse: 0.717796\n"
     ]
    }
   ],
   "source": [
    "model_lgb = lgb.train(params=params_lgb,\n",
    "                      train_set=lgb_train,\n",
    "                      valid_sets=lgb_val,\n",
    "                      num_boost_round=100000,\n",
    "                      early_stopping_rounds=200,\n",
    "                      verbose_eval=1000)"
   ]
  },
  {
   "cell_type": "markdown",
   "id": "b0a59ba7-5fb5-4f49-b44d-36f615ee261f",
   "metadata": {},
   "source": [
    "訓練データは見られないが、RMSEの値はリッジ回帰よりも良い。"
   ]
  },
  {
   "cell_type": "code",
   "execution_count": 76,
   "id": "61cf537f-17b2-4fd9-96a7-86e982fa3cd8",
   "metadata": {},
   "outputs": [],
   "source": [
    "pred_lgb = model_lgb.predict(X_test, num_iteration=model_lgb.best_iteration)"
   ]
  },
  {
   "cell_type": "code",
   "execution_count": 77,
   "id": "e6782440-207e-4307-9808-b66a8a7928b2",
   "metadata": {},
   "outputs": [
    {
     "data": {
      "text/plain": [
       "array([8.04691798, 8.33734582, 8.30845009, 8.49216924, 8.17268597])"
      ]
     },
     "execution_count": 77,
     "metadata": {},
     "output_type": "execute_result"
    }
   ],
   "source": [
    "pred_lgb[:5]"
   ]
  },
  {
   "cell_type": "code",
   "execution_count": 79,
   "id": "9f6a5a61-0f3f-4087-a005-bf966e41061b",
   "metadata": {},
   "outputs": [],
   "source": [
    "submission = pd.read_csv(\"../data/original/sample_submission.csv\")\n",
    "submission.target = y_test\n",
    "submission.to_csv(\"../data/submit/005_submission.csv\", index=False)"
   ]
  },
  {
   "cell_type": "markdown",
   "id": "e6faa860-cbfa-4d8f-8cd1-61d12d5d41e6",
   "metadata": {},
   "source": [
    "提出してみたところ、スコアは0.73984であった。\n",
    "何と前回と同じである。まるで意味がわからない。"
   ]
  },
  {
   "cell_type": "code",
   "execution_count": null,
   "id": "fac9ecb6-9b7a-42a1-9b9d-bf3a5962516a",
   "metadata": {},
   "outputs": [],
   "source": []
  }
 ],
 "metadata": {
  "kernelspec": {
   "display_name": "Python 3",
   "language": "python",
   "name": "python3"
  },
  "language_info": {
   "codemirror_mode": {
    "name": "ipython",
    "version": 3
   },
   "file_extension": ".py",
   "mimetype": "text/x-python",
   "name": "python",
   "nbconvert_exporter": "python",
   "pygments_lexer": "ipython3",
   "version": "3.8.8"
  }
 },
 "nbformat": 4,
 "nbformat_minor": 5
}
