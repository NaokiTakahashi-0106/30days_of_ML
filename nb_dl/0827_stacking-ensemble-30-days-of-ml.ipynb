{
 "cells": [
  {
   "cell_type": "markdown",
   "id": "ab7cedd6",
   "metadata": {
    "papermill": {
     "duration": 0.010251,
     "end_time": "2021-08-26T13:11:21.296132",
     "exception": false,
     "start_time": "2021-08-26T13:11:21.285881",
     "status": "completed"
    },
    "tags": []
   },
   "source": [
    "# Stacking Ensemble: 30 Days of ML\n",
    "**Importing libraries:**"
   ]
  },
  {
   "cell_type": "code",
   "execution_count": 1,
   "id": "ddf9064e",
   "metadata": {
    "execution": {
     "iopub.execute_input": "2021-08-26T13:11:21.319995Z",
     "iopub.status.busy": "2021-08-26T13:11:21.318884Z",
     "iopub.status.idle": "2021-08-26T13:11:21.323062Z",
     "shell.execute_reply": "2021-08-26T13:11:21.322412Z",
     "shell.execute_reply.started": "2021-08-26T12:03:01.983130Z"
    },
    "papermill": {
     "duration": 0.016465,
     "end_time": "2021-08-26T13:11:21.323231",
     "exception": false,
     "start_time": "2021-08-26T13:11:21.306766",
     "status": "completed"
    },
    "tags": []
   },
   "outputs": [],
   "source": [
    "#pip install scikit-learn==0.24"
   ]
  },
  {
   "cell_type": "code",
   "execution_count": 2,
   "id": "3af3adc6",
   "metadata": {
    "_cell_guid": "b1076dfc-b9ad-4769-8c92-a6c4dae69d19",
    "_uuid": "8f2839f25d086af736a60e9eeb907d3b93b6e0e5",
    "execution": {
     "iopub.execute_input": "2021-08-26T13:11:21.344079Z",
     "iopub.status.busy": "2021-08-26T13:11:21.343410Z",
     "iopub.status.idle": "2021-08-26T13:11:22.582470Z",
     "shell.execute_reply": "2021-08-26T13:11:22.581810Z",
     "shell.execute_reply.started": "2021-08-26T13:10:29.441611Z"
    },
    "papermill": {
     "duration": 1.25059,
     "end_time": "2021-08-26T13:11:22.582653",
     "exception": false,
     "start_time": "2021-08-26T13:11:21.332063",
     "status": "completed"
    },
    "tags": []
   },
   "outputs": [
    {
     "name": "stdout",
     "output_type": "stream",
     "text": [
      "scikit-learn==0.23.2\n",
      "pandas==1.2.4\n",
      "numpy==1.19.5\n"
     ]
    }
   ],
   "source": [
    "import pandas as pd\n",
    "import numpy as np\n",
    "from sklearn.metrics import mean_squared_error\n",
    "from sklearn.linear_model import LinearRegression\n",
    "from sklearn.linear_model import Lasso\n",
    "import pkg_resources\n",
    "import types\n",
    "def get_imports():\n",
    "    for name, val in globals().items():\n",
    "        if isinstance(val, types.ModuleType):\n",
    "            # Split ensures you get root package, \n",
    "            # not just imported function\n",
    "            name = val.__name__.split(\".\")[0]\n",
    "\n",
    "        elif isinstance(val, type):\n",
    "            name = val.__module__.split(\".\")[0]\n",
    "\n",
    "        # Some packages are weird and have different\n",
    "        # imported names vs. system names\n",
    "        if name == \"PIL\":\n",
    "            name = \"Pillow\"\n",
    "        elif name == \"sklearn\":\n",
    "            name = \"scikit-learn\"\n",
    "\n",
    "        yield name\n",
    "imports = list(set(get_imports()))\n",
    "\n",
    "requirements = []\n",
    "for m in pkg_resources.working_set:\n",
    "    if m.project_name in imports and m.project_name!=\"pip\":\n",
    "        requirements.append((m.project_name, m.version))\n",
    "\n",
    "for r in requirements:\n",
    "    print(\"{}=={}\".format(*r))\n"
   ]
  },
  {
   "cell_type": "markdown",
   "id": "2b4735c9",
   "metadata": {
    "papermill": {
     "duration": 0.008853,
     "end_time": "2021-08-26T13:11:22.601304",
     "exception": false,
     "start_time": "2021-08-26T13:11:22.592451",
     "status": "completed"
    },
    "tags": []
   },
   "source": [
    "**Getting Pretrained Base Learners:**\n",
    "> The base learners are XGBoost and LightGBM models optimized with Optuna."
   ]
  },
  {
   "cell_type": "code",
   "execution_count": 3,
   "id": "229eea2d",
   "metadata": {
    "execution": {
     "iopub.execute_input": "2021-08-26T13:11:22.630205Z",
     "iopub.status.busy": "2021-08-26T13:11:22.629296Z",
     "iopub.status.idle": "2021-08-26T13:11:29.044498Z",
     "shell.execute_reply": "2021-08-26T13:11:29.043924Z",
     "shell.execute_reply.started": "2021-08-26T13:10:30.517157Z"
    },
    "papermill": {
     "duration": 6.433916,
     "end_time": "2021-08-26T13:11:29.044679",
     "exception": false,
     "start_time": "2021-08-26T13:11:22.610763",
     "status": "completed"
    },
    "tags": []
   },
   "outputs": [],
   "source": [
    "df = pd.read_csv(\"../input/30days-folds/train_folds.csv\")\n",
    "df_test = pd.read_csv(\"../input/30-days-of-ml/test.csv\")\n",
    "sample_submission = pd.read_csv(\"../input/30-days-of-ml/sample_submission.csv\")\n",
    "\n",
    "df1 = pd.read_csv(\"../input/30dml-stacking-5cv/base_train_1.csv\")\n",
    "df2 = pd.read_csv(\"../input/30dml-stacking-5cv/base_train_2.csv\")\n",
    "df3 = pd.read_csv(\"../input/30dml-stacking-5cv/base_train_3.csv\")\n",
    "\n",
    "df_test1 = pd.read_csv(\"../input/30dml-stacking-5cv/base_test_1.csv\")\n",
    "df_test2 = pd.read_csv(\"../input/30dml-stacking-5cv/base_test_2.csv\")\n",
    "df_test3 = pd.read_csv(\"../input/30dml-stacking-5cv/base_test_3.csv\")\n",
    "\n",
    "df = df.merge(df1, on=\"id\", how=\"left\")\n",
    "df = df.merge(df2, on=\"id\", how=\"left\")\n",
    "df = df.merge(df3, on=\"id\", how=\"left\")\n",
    "\n",
    "df_test = df_test.merge(df_test1, on=\"id\", how=\"left\")\n",
    "df_test = df_test.merge(df_test2, on=\"id\", how=\"left\")\n",
    "df_test = df_test.merge(df_test3, on=\"id\", how=\"left\")"
   ]
  },
  {
   "cell_type": "markdown",
   "id": "4aaa1292",
   "metadata": {
    "papermill": {
     "duration": 0.008755,
     "end_time": "2021-08-26T13:11:29.063005",
     "exception": false,
     "start_time": "2021-08-26T13:11:29.054250",
     "status": "completed"
    },
    "tags": []
   },
   "source": [
    "**Training the Meta Linear Regression model:**"
   ]
  },
  {
   "cell_type": "code",
   "execution_count": 4,
   "id": "648df2b6",
   "metadata": {
    "execution": {
     "iopub.execute_input": "2021-08-26T13:11:29.092343Z",
     "iopub.status.busy": "2021-08-26T13:11:29.091625Z",
     "iopub.status.idle": "2021-08-26T13:11:30.239380Z",
     "shell.execute_reply": "2021-08-26T13:11:30.240303Z",
     "shell.execute_reply.started": "2021-08-26T13:10:36.002586Z"
    },
    "papermill": {
     "duration": 1.168647,
     "end_time": "2021-08-26T13:11:30.240621",
     "exception": false,
     "start_time": "2021-08-26T13:11:29.071974",
     "status": "completed"
    },
    "tags": []
   },
   "outputs": [
    {
     "name": "stdout",
     "output_type": "stream",
     "text": [
      "[0.9843047 0.025773  0.       ]\n",
      "0 0.7154442234330887\n",
      "[1.00461572 0.00341021 0.        ]\n",
      "1 0.715566707590499\n",
      "[0.99557115 0.01427209 0.        ]\n",
      "2 0.717505282118116\n",
      "[0.94744891 0.06450304 0.        ]\n",
      "3 0.7174257732110915\n",
      "[0.996319 0.       0.      ]\n",
      "4 0.715414742797615\n",
      "0.716271345830082 0.0009767002205870472\n"
     ]
    }
   ],
   "source": [
    "useful_features = [\"pred_1\", \"pred_2\", \"pred_3\"]\n",
    "df_test = df_test[useful_features]\n",
    "\n",
    "final_predictions = []\n",
    "scores = []\n",
    "for fold in range(5):\n",
    "    xtrain =  df[df.kfold != fold].reset_index(drop=True)\n",
    "    xvalid = df[df.kfold == fold].reset_index(drop=True)\n",
    "    xtest = df_test.copy()\n",
    "\n",
    "    ytrain = xtrain.target\n",
    "    yvalid = xvalid.target\n",
    "    \n",
    "    xtrain = xtrain[useful_features]\n",
    "    xvalid = xvalid[useful_features]\n",
    "    \n",
    "    #model = LinearRegression(fit_intercept=False)\n",
    "    model= Lasso(alpha=0.0001,precompute=True,max_iter=10000,\n",
    "            positive=True, random_state=999, fit_intercept=True)\n",
    "    model.fit(xtrain, ytrain)\n",
    "    \n",
    "    print(model.coef_)\n",
    "    preds_valid = model.predict(xvalid)\n",
    "    test_preds = model.predict(xtest)\n",
    "    final_predictions.append(test_preds)\n",
    "    rmse = mean_squared_error(yvalid, preds_valid, squared=False)\n",
    "    print(fold, rmse)\n",
    "    scores.append(rmse)\n",
    "\n",
    "print(np.mean(scores), np.std(scores))"
   ]
  },
  {
   "cell_type": "code",
   "execution_count": 5,
   "id": "1769fa3b",
   "metadata": {
    "execution": {
     "iopub.execute_input": "2021-08-26T13:11:30.284565Z",
     "iopub.status.busy": "2021-08-26T13:11:30.283515Z",
     "iopub.status.idle": "2021-08-26T13:11:30.286362Z",
     "shell.execute_reply": "2021-08-26T13:11:30.287156Z"
    },
    "papermill": {
     "duration": 0.028132,
     "end_time": "2021-08-26T13:11:30.287430",
     "exception": false,
     "start_time": "2021-08-26T13:11:30.259298",
     "status": "completed"
    },
    "tags": []
   },
   "outputs": [],
   "source": [
    "#0.7163095767796752"
   ]
  },
  {
   "cell_type": "markdown",
   "id": "dbe530b5",
   "metadata": {
    "papermill": {
     "duration": 0.017449,
     "end_time": "2021-08-26T13:11:30.323035",
     "exception": false,
     "start_time": "2021-08-26T13:11:30.305586",
     "status": "completed"
    },
    "tags": []
   },
   "source": [
    "**Submitting to the leaderboard:**"
   ]
  },
  {
   "cell_type": "code",
   "execution_count": 6,
   "id": "f47fa234",
   "metadata": {
    "execution": {
     "iopub.execute_input": "2021-08-26T13:11:30.362485Z",
     "iopub.status.busy": "2021-08-26T13:11:30.361823Z",
     "iopub.status.idle": "2021-08-26T13:11:31.107502Z",
     "shell.execute_reply": "2021-08-26T13:11:31.107983Z",
     "shell.execute_reply.started": "2021-08-26T13:10:50.328777Z"
    },
    "papermill": {
     "duration": 0.766619,
     "end_time": "2021-08-26T13:11:31.108167",
     "exception": false,
     "start_time": "2021-08-26T13:11:30.341548",
     "status": "completed"
    },
    "tags": []
   },
   "outputs": [],
   "source": [
    "sample_submission.target = np.mean(np.column_stack(final_predictions), axis=1)\n",
    "sample_submission.to_csv(\"submission.csv\", index=False)"
   ]
  },
  {
   "cell_type": "code",
   "execution_count": null,
   "id": "35bb6c6a",
   "metadata": {
    "papermill": {
     "duration": 0.010404,
     "end_time": "2021-08-26T13:11:31.128851",
     "exception": false,
     "start_time": "2021-08-26T13:11:31.118447",
     "status": "completed"
    },
    "tags": []
   },
   "outputs": [],
   "source": []
  }
 ],
 "metadata": {
  "kernelspec": {
   "display_name": "Python 3",
   "language": "python",
   "name": "python3"
  },
  "language_info": {
   "codemirror_mode": {
    "name": "ipython",
    "version": 3
   },
   "file_extension": ".py",
   "mimetype": "text/x-python",
   "name": "python",
   "nbconvert_exporter": "python",
   "pygments_lexer": "ipython3",
   "version": "3.7.10"
  },
  "papermill": {
   "default_parameters": {},
   "duration": 19.874971,
   "end_time": "2021-08-26T13:11:32.485956",
   "environment_variables": {},
   "exception": null,
   "input_path": "__notebook__.ipynb",
   "output_path": "__notebook__.ipynb",
   "parameters": {},
   "start_time": "2021-08-26T13:11:12.610985",
   "version": "2.3.3"
  }
 },
 "nbformat": 4,
 "nbformat_minor": 5
}
